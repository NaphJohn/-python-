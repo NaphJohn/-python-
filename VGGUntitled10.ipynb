{
  "nbformat": 4,
  "nbformat_minor": 0,
  "metadata": {
    "colab": {
      "name": "VGGUntitled2.ipynb",
      "provenance": [],
      "toc_visible": true,
      "include_colab_link": true
    },
    "kernelspec": {
      "display_name": "Python 3",
      "name": "python3"
    },
    "language_info": {
      "name": "python"
    },
    "accelerator": "GPU"
  },
  "cells": [
    {
      "cell_type": "markdown",
      "metadata": {
        "id": "view-in-github",
        "colab_type": "text"
      },
      "source": [
        "<a href=\"https://colab.research.google.com/github/whkaikai/-python-/blob/main/VGGUntitled10.ipynb\" target=\"_parent\"><img src=\"https://colab.research.google.com/assets/colab-badge.svg\" alt=\"Open In Colab\"/></a>"
      ]
    },
    {
      "cell_type": "code",
      "metadata": {
        "colab": {
          "base_uri": "https://localhost:8080/"
        },
        "id": "EWDNPTmxkgo_",
        "outputId": "743371a3-39b4-4774-d98b-db3f50668b22"
      },
      "source": [
        "#@title <b><font color=\"blue\" size=\"+2\">Install the all needed libraries { display-mode: \"form\" }\n",
        "%%time\n",
        "\n",
        "import pandas as pd\n",
        "import sys, os \n",
        "import cv2 \n",
        "import h5py\n",
        "import random\n",
        "import pathlib\n",
        "import numpy as np\n",
        "\n",
        "import tensorflow as tf\n",
        "import tensorflow.keras\n",
        "\n",
        "from tensorflow.keras.layers import Dense, Flatten, Input\n",
        "from tensorflow.keras.applications.vgg16 import VGG16 , preprocess_input\n",
        "from tensorflow.keras.optimizers import SGD, Adam\n",
        "from tensorflow.keras.models import Model\n",
        "from tensorflow.keras.preprocessing import image\n",
        "from tensorflow.keras.preprocessing.image import ImageDataGenerator\n",
        "\n",
        "import matplotlib.pyplot as plt\n",
        "from glob import glob\n",
        "from tensorflow.keras.applications.vgg16 import VGG16 , preprocess_input\n",
        "from keras.models import Model\n",
        "import matplotlib.pyplot as plt\n",
        "import matplotlib.image as mpimg\n",
        "import tensorflow.keras as keras\n",
        "from sklearn.manifold import TSNE\n",
        "from tensorflow.keras import datasets\n",
        "from tensorflow.keras.regularizers import l2\n",
        "from tensorflow.keras.optimizers import Adam\n",
        "from tensorflow.keras.utils import  plot_model\n",
        "from sklearn.model_selection import train_test_split\n",
        "from tensorflow.keras.optimizers import Adam, RMSprop\n",
        "from tensorflow.keras.applications.vgg16 import VGG16\n",
        "from tensorflow.keras.callbacks import ModelCheckpoint\n",
        "from tensorflow.keras.callbacks import ReduceLROnPlateau\n",
        "from tensorflow.keras.layers import Dense, Flatten, Dropout\n",
        "from tensorflow.keras.preprocessing.image import ImageDataGenerator, load_img\n",
        "from sklearn.metrics import classification_report, confusion_matrix, accuracy_score\n",
        "from tensorflow.keras.layers import Conv2D, MaxPooling2D, GlobalMaxPooling2D, Flatten, Dense, Dropout, Input, BatchNormalization\n",
        "from tensorflow.keras.preprocessing import image\n",
        "from tensorflow.keras.preprocessing.image import ImageDataGenerator"
      ],
      "execution_count": 38,
      "outputs": [
        {
          "output_type": "stream",
          "text": [
            "CPU times: user 82 µs, sys: 0 ns, total: 82 µs\n",
            "Wall time: 85.8 µs\n"
          ],
          "name": "stdout"
        }
      ]
    },
    {
      "cell_type": "code",
      "metadata": {
        "colab": {
          "base_uri": "https://localhost:8080/"
        },
        "id": "CHbwyfAS1a_l",
        "outputId": "69eef03e-eb95-4c84-9063-34d469a28c61"
      },
      "source": [
        "from google.colab import drive\n",
        "drive.mount('/content/drive')"
      ],
      "execution_count": 39,
      "outputs": [
        {
          "output_type": "stream",
          "text": [
            "Drive already mounted at /content/drive; to attempt to forcibly remount, call drive.mount(\"/content/drive\", force_remount=True).\n"
          ],
          "name": "stdout"
        }
      ]
    },
    {
      "cell_type": "code",
      "metadata": {
        "colab": {
          "base_uri": "https://localhost:8080/"
        },
        "id": "nb8zbxFMnTxK",
        "outputId": "1be53dec-9e54-4409-b43b-92c53d761099"
      },
      "source": [
        "from google.colab import drive\n",
        "drive.mount('/content/drive')"
      ],
      "execution_count": 40,
      "outputs": [
        {
          "output_type": "stream",
          "text": [
            "Drive already mounted at /content/drive; to attempt to forcibly remount, call drive.mount(\"/content/drive\", force_remount=True).\n"
          ],
          "name": "stdout"
        }
      ]
    },
    {
      "cell_type": "code",
      "metadata": {
        "colab": {
          "base_uri": "https://localhost:8080/"
        },
        "id": "raGuLGBA1pbe",
        "outputId": "cf21517d-2bad-4aa0-c619-bed6d330866b"
      },
      "source": [
        "%%bash\n",
        "pwd\n",
        "cd drive/MyDrive"
      ],
      "execution_count": 41,
      "outputs": [
        {
          "output_type": "stream",
          "text": [
            "/content\n"
          ],
          "name": "stdout"
        }
      ]
    },
    {
      "cell_type": "code",
      "metadata": {
        "colab": {
          "base_uri": "https://localhost:8080/"
        },
        "id": "xLIU94171tQI",
        "outputId": "bfb9ec1e-c25e-4e9f-dcfe-5ab47dd459fd"
      },
      "source": [
        "#@title <b><font color=\"gree\" size=\"+2\">Define the path for the image{display-mode: \"form\"}\n",
        "\n",
        "# Train_path = './Train'\n",
        "# Val_path = './Validation'\n",
        "\n",
        "Train_path = '/content/drive/MyDrive/5000:5000Train'\n",
        "Val_path = '/content/drive/MyDrive/500:500Validation '\n",
        "Test_path = '/content/drive/MyDrive/500:500Test '\n",
        "\n",
        "images=os.listdir(Train_path)\n",
        "val_images=os.listdir(Val_path)\n",
        "print(f\"the folder of images: {images}\")\n",
        "print(f\"the folder of images: {val_images}\")"
      ],
      "execution_count": 42,
      "outputs": [
        {
          "output_type": "stream",
          "text": [
            "the folder of images: ['.DS_Store', 'WithoutMask', 'WithMask']\n",
            "the folder of images: ['.DS_Store', 'WithoutMask', 'WithMask']\n"
          ],
          "name": "stdout"
        }
      ]
    },
    {
      "cell_type": "code",
      "metadata": {
        "id": "tlUMF3GR125s"
      },
      "source": [
        "IMAGE_SIZE = [32,32]"
      ],
      "execution_count": 43,
      "outputs": []
    },
    {
      "cell_type": "code",
      "metadata": {
        "id": "4k0-AdGj1744"
      },
      "source": [
        "# number of files\n",
        "train_image_files = glob(Train_path + '/*/*.png')\n",
        "valid_image_files = glob(Val_path + '/*/*.png')"
      ],
      "execution_count": 44,
      "outputs": []
    },
    {
      "cell_type": "code",
      "metadata": {
        "colab": {
          "base_uri": "https://localhost:8080/"
        },
        "id": "qoq4idPM2LIz",
        "outputId": "ddd401d7-6592-4542-ad51-2655c4836391"
      },
      "source": [
        "#@title <b><font color=\"red\" size=\"+2\"> Setup GPU Strategy {display-mode: \"form\"}\n",
        "# Note that it generally has a minimum of 8 cores, but if your GPU has\n",
        "# less, you need to set this. In this case one of my GPUs has 4 cores\n",
        "# os.environ[\"TF_MIN_GPU_MULTIPROCESSOR_COUNT\"] = \"4\"\n",
        "\n",
        "# If the list of devices is not specified in the\n",
        "# `tf.distribute.MirroredStrategy` constructor, it will be auto-detected.\n",
        "# If you have *different* GPUs in your system, you probably have to set up cross_device_ops like this\n",
        "strategy = tf.distribute.MirroredStrategy(cross_device_ops=tf.distribute.HierarchicalCopyAllReduce())\n",
        "\n",
        "# one_strategy = tf.distribute.OneDeviceStrategy(device=gpu_name)  # one-device-strategy\n",
        "print ('Number of devices: {}'.format(strategy.num_replicas_in_sync))"
      ],
      "execution_count": 45,
      "outputs": [
        {
          "output_type": "stream",
          "text": [
            "WARNING:tensorflow:Collective ops is not configured at program startup. Some performance features may not be enabled.\n",
            "INFO:tensorflow:Using MirroredStrategy with devices ('/job:localhost/replica:0/task:0/device:GPU:0',)\n",
            "Number of devices: 1\n"
          ],
          "name": "stdout"
        }
      ]
    },
    {
      "cell_type": "code",
      "metadata": {
        "id": "JFnDUFuPiCEu"
      },
      "source": [
        "#@title <b><font color=\"black\" size=\"+2\"> Setup TPU Strategy if use TPU {display-mode: \"form\"}\n",
        "# %tensorflow_version 2.x\n",
        "# import tensorflow as tf\n",
        "# print(\"Tensorflow version \" + tf.__version__)\n",
        "\n",
        "# try:\n",
        "#   tpu = tf.distribute.cluster_resolver.TPUClusterResolver()  # TPU detection\n",
        "#   print('Running on TPU ', tpu.cluster_spec().as_dict()['worker'])\n",
        "# except ValueError:\n",
        "#   raise BaseException('ERROR: Not connected to a TPU runtime; please see the previous cell in this notebook for instructions!')\n",
        "\n",
        "# tf.config.experimental_connect_to_cluster(tpu)\n",
        "# tf.tpu.experimental.initialize_tpu_system(tpu)\n",
        "# strategy = tf.distribute.experimental.TPUStrategy(tpu)"
      ],
      "execution_count": 46,
      "outputs": []
    },
    {
      "cell_type": "markdown",
      "metadata": {
        "id": "0A3wtFTciKpI"
      },
      "source": [
        "# Deal input data\n",
        "\n",
        "Our input data is stored on Google Cloud Storage. To more fully use the parallelism TPUs offer us, and to avoid bottlenecking on data transfer, is better to store our input data in TFRecord files. \n",
        "500 images for two classes, with or without mask.\n",
        "\n",
        "Below, we make heavy use of `tf.data.experimental.AUTOTUNE` to optimize different parts of input loading.\n",
        "\n",
        "All of these techniques are a bit overkill for our (small) dataset, but demonstrate best practices for using TPUs."
      ]
    },
    {
      "cell_type": "code",
      "metadata": {
        "colab": {
          "base_uri": "https://localhost:8080/"
        },
        "id": "jxMHFrZbiQ9R",
        "outputId": "5114aced-1411-43a4-9151-96e99baa8079"
      },
      "source": [
        "#@title <b><font color=\"blue\" size=\"+2\">  ImageDataGenerator{display-mode: \"form\"}\n",
        "# train_datagen = ImageDataGenerator(rescale = 1./255,\n",
        "#                                    shear_range = 0.2,\n",
        "#                                    zoom_range = 0.2,\n",
        "#                                    rotation_range=0.2)\n",
        "# fine tuned by using various parameters\n",
        "train_datagen = ImageDataGenerator(rescale = 1./255,\n",
        "                                   shear_range = 0.2,\n",
        "                                   zoom_range = 0.4,\n",
        "                                   width_shift_range=0.3,\n",
        "                                   height_shift_range=0.3,\n",
        "                                   horizontal_flip=True,\n",
        "                                   rotation_range=50,\n",
        "                                   fill_mode='nearest')\n",
        "val_datagen = ImageDataGenerator(rescale = 1./255,\n",
        "                                   shear_range = 0.2,\n",
        "                                   zoom_range = 0.2)\n",
        "\n",
        "training_set = train_datagen.flow_from_directory(Train_path,\n",
        "                                                 target_size = (32, 32),\n",
        "                                                 interpolation=\"nearest\",\n",
        "                                                 class_mode='binary',\n",
        "                                                 classes=[\"WithoutMask\",\"WithMask\"])\n",
        "\n",
        "validation_set = val_datagen.flow_from_directory(Val_path,\n",
        "                                                 target_size=(32, 32),\n",
        "                                                 interpolation=\"nearest\",\n",
        "                                                 class_mode='binary',\n",
        "                                                 classes=[\"WithoutMask\",\"WithMask\"])"
      ],
      "execution_count": 47,
      "outputs": [
        {
          "output_type": "stream",
          "text": [
            "Found 10000 images belonging to 2 classes.\n",
            "Found 1000 images belonging to 2 classes.\n"
          ],
          "name": "stdout"
        }
      ]
    },
    {
      "cell_type": "markdown",
      "metadata": {
        "id": "tX1bcHwVivnh"
      },
      "source": [
        "trainX: WithMask; trainY: WithoutMask;\n",
        "\n",
        "---\n",
        "\n",
        "valX: WithMask; valY: WithoutMask;"
      ]
    },
    {
      "cell_type": "code",
      "metadata": {
        "colab": {
          "base_uri": "https://localhost:8080/"
        },
        "id": "_R-xHSfJ2SdF",
        "outputId": "3eff6659-f3ed-48ed-b361-a9be5b668214"
      },
      "source": [
        "# number of classes\n",
        "folders = glob(Train_path + '/*')\n",
        "folders"
      ],
      "execution_count": 48,
      "outputs": [
        {
          "output_type": "execute_result",
          "data": {
            "text/plain": [
              "['/content/drive/MyDrive/5000:5000Train/WithoutMask',\n",
              " '/content/drive/MyDrive/5000:5000Train/WithMask']"
            ]
          },
          "metadata": {
            "tags": []
          },
          "execution_count": 48
        }
      ]
    },
    {
      "cell_type": "markdown",
      "metadata": {
        "id": "4vqN1cKKiy_v"
      },
      "source": [
        "# Picture preprocessing"
      ]
    },
    {
      "cell_type": "code",
      "metadata": {
        "colab": {
          "base_uri": "https://localhost:8080/"
        },
        "id": "82lhOgOOi454",
        "outputId": "f81daa50-9492-4dd1-a1c9-688bc580c9f7"
      },
      "source": [
        "#@title <b><font color=\"blue\" size=\"+2\">  Define XY variable /Shape{display-mode: \"form\"}\n",
        "def GetXY(gen):\n",
        "    listX = []\n",
        "    listY = []\n",
        "    for i in range(gen.__len__()):\n",
        "        gennext = gen.next()\n",
        "        listX.append(gennext[0])\n",
        "        listY.append(gennext[1])\n",
        "    x=np.concatenate(listX)\n",
        "    y=np.concatenate(listY)\n",
        "    return (x,y)\n",
        "\n",
        "with strategy.scope():  # use the GPU strategy, if no GPU, will continue use CPU, no need to change code so it is convenient\n",
        "  trainX,trainY = GetXY(training_set)  # now the size of train is equal to the size of validation\n",
        "  valX,valY = GetXY(validation_set)\n",
        "\n",
        "print(f\"the shape of train X is: {trainX.shape}\")\n",
        "print(f\"the shape of train Y is: {trainY.shape}\")\n",
        "print(f\"the shape of val X is: {valX.shape}\")\n",
        "print(f\"the shape of val Y is: {valY.shape}\")\n",
        "\n",
        "ImageTrainXNumber = trainX.shape[0]\n",
        "ImageTrainYNumber = trainY.shape[0]\n",
        "\n",
        "ImageValXNumber = valX.shape[0]\n",
        "ImageValYNumber = valY.shape[0]"
      ],
      "execution_count": 49,
      "outputs": [
        {
          "output_type": "stream",
          "text": [
            "the shape of train X is: (10000, 32, 32, 3)\n",
            "the shape of train Y is: (10000,)\n",
            "the shape of val X is: (1000, 32, 32, 3)\n",
            "the shape of val Y is: (1000,)\n"
          ],
          "name": "stdout"
        }
      ]
    },
    {
      "cell_type": "markdown",
      "metadata": {
        "id": "BcyDcvP1jA6G"
      },
      "source": [
        "# Use VGG-16 model\n",
        "\n",
        "---\n",
        "\n",
        "VGG-16 has 16 layers, and we use only upper 13 layers in our model. \n",
        "\n"
      ]
    },
    {
      "cell_type": "code",
      "metadata": {
        "colab": {
          "base_uri": "https://localhost:8080/"
        },
        "id": "FvSj3lRIjB1h",
        "outputId": "4b6a1235-6d3b-4086-d89d-7f80065790e9"
      },
      "source": [
        "with strategy.scope():  # use the GPU strategy\n",
        "  model_vgg = VGG16(include_top=False, weights='imagenet', input_shape=(32,32, 3)) # implement VGG16 pretrained model\n",
        "  for layers in model_vgg.layers:\n",
        "      layers.trainable = False\n",
        "\n",
        "  trainX1, valX1 = model_vgg.predict(trainX), model_vgg.predict(valX)\n",
        "\n",
        "  # tsne=TSNE()\n",
        "  # t= tsne.fit_transform(trainX1.reshape(trainX1_size,-1) ) \n",
        "  # print(f\"the shape of t is {t.shape}\")\n",
        "\n",
        "print(f\"\\nthe shape of trainX1 (trained with train X) is {trainX1.shape}\\nOriginal train X shape is {trainX.shape}\")\n",
        "print(f\"\\nthe shape of valX1 (trained with val X) is {valX1.shape}\\nOriginal val X shape is {valX.shape}\")\n",
        "\n",
        "trainX1_size = trainX1.shape[0] * trainX1.shape[-1]"
      ],
      "execution_count": 50,
      "outputs": [
        {
          "output_type": "stream",
          "text": [
            "\n",
            "the shape of trainX1 (trained with train X) is (10000, 1, 1, 512)\n",
            "Original train X shape is (10000, 32, 32, 3)\n",
            "\n",
            "the shape of valX1 (trained with val X) is (1000, 1, 1, 512)\n",
            "Original val X shape is (1000, 32, 32, 3)\n"
          ],
          "name": "stdout"
        }
      ]
    },
    {
      "cell_type": "code",
      "metadata": {
        "id": "TRZCEiFejI7j"
      },
      "source": [
        "# model_vgg.summary()"
      ],
      "execution_count": 51,
      "outputs": []
    },
    {
      "cell_type": "code",
      "metadata": {
        "id": "qzbmoUGojXRN"
      },
      "source": [
        "with strategy.scope():\n",
        "  valX1=valX1.reshape(valX1.shape[-1], -1)  # (800,-1)\n",
        "  trainX1=trainX1.reshape(ImageTrainXNumber, -1)  # (10000,-1)\n",
        "  valY=valY.reshape(valX1.shape[-1], 1)  # 800, 1\n",
        "  trainY=trainY.reshape(ImageTrainYNumber, 1)  # 10000, 1"
      ],
      "execution_count": 52,
      "outputs": []
    },
    {
      "cell_type": "code",
      "metadata": {
        "colab": {
          "base_uri": "https://localhost:8080/",
          "height": 34
        },
        "id": "IzFKrQtqkPnb",
        "outputId": "ffd7cb6c-4ffa-450d-c2c9-dddbdad5da93"
      },
      "source": [
        "import matplotlib.pyplot as plt\n",
        "from pylab import *\n",
        "\n",
        "plt.rcParams['figure.dpi'] = 100 #分辨率\n",
        "fig = plt.figure(figsize=[15,6])\n",
        "\n",
        "plt.show()"
      ],
      "execution_count": 53,
      "outputs": [
        {
          "output_type": "display_data",
          "data": {
            "text/plain": [
              "<Figure size 1500x600 with 0 Axes>"
            ]
          },
          "metadata": {
            "tags": []
          }
        }
      ]
    },
    {
      "cell_type": "markdown",
      "metadata": {
        "id": "k9M5gyrnlhYf"
      },
      "source": [
        "# Get matlabdata.mat/Export features"
      ]
    },
    {
      "cell_type": "code",
      "metadata": {
        "id": "y6qgMRrJlVWF"
      },
      "source": [
        "# import scipy.io as scio\n",
        "\n",
        "# scio.savemat('./matlabdata.mat', dict([('valX1', valX1),\n",
        "#                                        ('trainX1', trainX1),\n",
        "#                                       ('valY',valY),\n",
        "#                                        ('trainY', trainY)])) "
      ],
      "execution_count": 54,
      "outputs": []
    },
    {
      "cell_type": "code",
      "metadata": {
        "colab": {
          "base_uri": "https://localhost:8080/",
          "height": 384
        },
        "id": "Vp89sWaQ2a78",
        "outputId": "d5db0c3f-0e6c-4ede-8020-6e65633fd505"
      },
      "source": [
        "# random image\n",
        "plt.imshow(image.load_img(np.random.choice(train_image_files)))"
      ],
      "execution_count": 55,
      "outputs": [
        {
          "output_type": "execute_result",
          "data": {
            "text/plain": [
              "<matplotlib.image.AxesImage at 0x7f1d3d526c90>"
            ]
          },
          "metadata": {
            "tags": []
          },
          "execution_count": 55
        },
        {
          "output_type": "display_data",
          "data": {
            "image/png": "[encoded data removed]",
            "text/plain": [
              "<Figure size 600x400 with 1 Axes>"
            ]
          },
          "metadata": {
            "tags": [],
            "needs_background": "light"
          }
        }
      ]
    },
    {
      "cell_type": "code",
      "metadata": {
        "id": "M4c7_m7u2fGP"
      },
      "source": [
        "ptm = VGG16(\n",
        "    input_shape = IMAGE_SIZE + [3],\n",
        "    weights = 'imagenet',\n",
        "    include_top = False\n",
        ")"
      ],
      "execution_count": 56,
      "outputs": []
    },
    {
      "cell_type": "code",
      "metadata": {
        "id": "nKClsw1A2i3C"
      },
      "source": [
        "# freezing VGG16 Model weights\n",
        "ptm.trainable = False"
      ],
      "execution_count": 57,
      "outputs": []
    },
    {
      "cell_type": "code",
      "metadata": {
        "id": "kTfdqNcZ2lc_"
      },
      "source": [
        "# map data into feature vectors\n",
        "\n",
        "K = len(folders) # no. of classes\n",
        "x = Flatten()(ptm.output)\n",
        "x = Dense(K, activation='softmax')(x)"
      ],
      "execution_count": 58,
      "outputs": []
    },
    {
      "cell_type": "code",
      "metadata": {
        "id": "Qr80EvLZ2rbq"
      },
      "source": [
        "model = Model(inputs=ptm.input, outputs=x)"
      ],
      "execution_count": 59,
      "outputs": []
    },
    {
      "cell_type": "markdown",
      "metadata": {
        "id": "mS5mqKO4x9e8"
      },
      "source": [
        "# Change of picture pixels in each layer"
      ]
    },
    {
      "cell_type": "code",
      "metadata": {
        "id": "-YwFQ_k2KDAd",
        "colab": {
          "base_uri": "https://localhost:8080/"
        },
        "outputId": "6acabd8a-e0fd-4ba9-edbf-090289c87085"
      },
      "source": [
        "model.summary() "
      ],
      "execution_count": 60,
      "outputs": [
        {
          "output_type": "stream",
          "text": [
            "Model: \"model_1\"\n",
            "_________________________________________________________________\n",
            "Layer (type)                 Output Shape              Param #   \n",
            "=================================================================\n",
            "Total params: 14,715,714\n",
            "Trainable params: 1,026\n",
            "Non-trainable params: 14,714,688\n",
            "_________________________________________________________________\n"
          ],
          "name": "stdout"
        }
      ]
    },
    {
      "cell_type": "code",
      "metadata": {
        "id": "QgS4ARnd2ufS"
      },
      "source": [
        "# ImageDataGenerator\n",
        "# gen = ImageDataGenerator(\n",
        "#     rotation_range=20,\n",
        "#     width_shift_range=0.1,\n",
        "#     height_shift_range=0.1,\n",
        "#     shear_range=0.1,\n",
        "#     zoom_range=0.2,\n",
        "#     horizontal_flip=True,\n",
        "#     preprocessing_function=preprocess_input\n",
        "# )"
      ],
      "execution_count": 61,
      "outputs": []
    },
    {
      "cell_type": "code",
      "metadata": {
        "colab": {
          "base_uri": "https://localhost:8080/"
        },
        "id": "QnrN5JZK2xIx",
        "outputId": "8b773346-84ae-4ea8-d858-5f49ce5cafd8"
      },
      "source": [
        "# Generator\n",
        "\n",
        "batch_size = 300\n",
        "\n",
        "train_generator = gen.flow_from_directory(\n",
        "    Train_path,\n",
        "    shuffle=True,\n",
        "    target_size=IMAGE_SIZE,\n",
        "    batch_size=batch_size\n",
        ")\n",
        "\n",
        "valid_generator = gen.flow_from_directory(\n",
        "    Val_path,\n",
        "    shuffle=False,\n",
        "    target_size=IMAGE_SIZE,\n",
        "    batch_size=batch_size\n",
        ")"
      ],
      "execution_count": 62,
      "outputs": [
        {
          "output_type": "stream",
          "text": [
            "Found 10000 images belonging to 2 classes.\n",
            "Found 1000 images belonging to 2 classes.\n"
          ],
          "name": "stdout"
        }
      ]
    },
    {
      "cell_type": "code",
      "metadata": {
        "id": "Y4K7RBp33EbP"
      },
      "source": [
        "model.compile(\n",
        "    loss='categorical_crossentropy',  # as generator yields one-hit encoded results\n",
        "    optimizer='adam',\n",
        "    metrics=['accuracy']\n",
        ")"
      ],
      "execution_count": 63,
      "outputs": []
    },
    {
      "cell_type": "code",
      "metadata": {
        "id": "LdK7S7ib3ISV",
        "colab": {
          "base_uri": "https://localhost:8080/"
        },
        "outputId": "23bedbb8-af31-49c3-88d0-22608f04ca91"
      },
      "source": [
        "history = model.fit(\n",
        "    train_generator,\n",
        "    validation_data=valid_generator,\n",
        "    epochs = 10,\n",
        "    steps_per_epoch=10,\n",
        "    validation_steps=4\n",
        "    # steps_per_epoch=int(np.ceil(len(train_image_files)/batch_size)),\n",
        "    # validation_steps=int(np.ceil(len(valid_image_files)/batch_size))\n",
        ")"
      ],
      "execution_count": 64,
      "outputs": [
        {
          "output_type": "stream",
          "text": [
            "Epoch 1/10\n",
            "10/10 [==============================] - 11s 1s/step - loss: 14.7614 - accuracy: 0.3737 - val_loss: 6.7778 - val_accuracy: 0.5200\n",
            "Epoch 2/10\n",
            "10/10 [==============================] - 10s 1s/step - loss: 4.6250 - accuracy: 0.6270 - val_loss: 2.4088 - val_accuracy: 0.8080\n",
            "Epoch 3/10\n",
            "10/10 [==============================] - 10s 1s/step - loss: 2.0122 - accuracy: 0.8169 - val_loss: 2.0858 - val_accuracy: 0.8710\n",
            "Epoch 4/10\n",
            "10/10 [==============================] - 9s 961ms/step - loss: 1.9732 - accuracy: 0.8740 - val_loss: 1.5300 - val_accuracy: 0.8950\n",
            "Epoch 5/10\n",
            "10/10 [==============================] - 10s 1s/step - loss: 1.1723 - accuracy: 0.9074 - val_loss: 1.4833 - val_accuracy: 0.8890\n",
            "Epoch 6/10\n",
            "10/10 [==============================] - 10s 1s/step - loss: 1.1775 - accuracy: 0.9150 - val_loss: 1.3360 - val_accuracy: 0.9080\n",
            "Epoch 7/10\n",
            "10/10 [==============================] - 9s 1s/step - loss: 1.1941 - accuracy: 0.9201 - val_loss: 1.1480 - val_accuracy: 0.9010\n",
            "Epoch 8/10\n",
            "10/10 [==============================] - 9s 1s/step - loss: 0.9509 - accuracy: 0.9182 - val_loss: 1.0684 - val_accuracy: 0.9200\n",
            "Epoch 9/10\n",
            "10/10 [==============================] - 10s 1s/step - loss: 0.8839 - accuracy: 0.9265 - val_loss: 0.8776 - val_accuracy: 0.9280\n",
            "Epoch 10/10\n",
            "10/10 [==============================] - 10s 1s/step - loss: 0.9888 - accuracy: 0.9261 - val_loss: 0.8571 - val_accuracy: 0.9320\n"
          ],
          "name": "stdout"
        }
      ]
    },
    {
      "cell_type": "code",
      "metadata": {
        "id": "DOj4FUj_3M2e",
        "colab": {
          "base_uri": "https://localhost:8080/",
          "height": 379
        },
        "outputId": "02e2bab4-e6a0-42b0-ea77-c3cacad6c969"
      },
      "source": [
        "plt.plot(history.history['loss'], label='train loss')\n",
        "plt.plot(history.history['val_loss'], label='valid loss')\n",
        "plt.legend()"
      ],
      "execution_count": 65,
      "outputs": [
        {
          "output_type": "execute_result",
          "data": {
            "text/plain": [
              "<matplotlib.legend.Legend at 0x7f1d2c3dca10>"
            ]
          },
          "metadata": {
            "tags": []
          },
          "execution_count": 65
        },
        {
          "output_type": "display_data",
          "data": {
            "image/png": "[encoded data removed]",
            "text/plain": [
              "<Figure size 600x400 with 1 Axes>"
            ]
          },
          "metadata": {
            "tags": [],
            "needs_background": "light"
          }
        }
      ]
    },
    {
      "cell_type": "code",
      "metadata": {
        "id": "FGjSUOry3Pj2",
        "colab": {
          "base_uri": "https://localhost:8080/",
          "height": 379
        },
        "outputId": "6c1c7ef7-a352-40f7-93a0-6c9ee534cca3"
      },
      "source": [
        "plt.plot(history.history['accuracy'], label='train accuracy')\n",
        "plt.plot(history.history['val_accuracy'], label='valid accuracy')\n",
        "plt.legend()"
      ],
      "execution_count": 66,
      "outputs": [
        {
          "output_type": "execute_result",
          "data": {
            "text/plain": [
              "<matplotlib.legend.Legend at 0x7f1d2c36cc10>"
            ]
          },
          "metadata": {
            "tags": []
          },
          "execution_count": 66
        },
        {
          "output_type": "display_data",
          "data": {
            "image/png": "[encoded data removed]",
            "text/plain": [
              "<Figure size 600x400 with 1 Axes>"
            ]
          },
          "metadata": {
            "tags": [],
            "needs_background": "light"
          }
        }
      ]
    },
    {
      "cell_type": "markdown",
      "metadata": {
        "id": "y4PtHwAqxCP4"
      },
      "source": [
        "# **Use tsne**\n",
        "\n",
        "---\n",
        "\n",
        "t-Distributed Stochastic Neighbor Embedding (t-SNE) is one tool which used for dimensionality Reduction and plot our results."
      ]
    },
    {
      "cell_type": "code",
      "metadata": {
        "id": "JseH1ymYxEm9"
      },
      "source": [
        "# with strategy.scope():\n",
        "#   tsne=TSNE()  # tsne is one small tool used to plot\n",
        "#   t= tsne.fit_transform(trainX1.reshape(trainX1_size,-1) ) \n",
        "#   print(f\"the shape of t is {t.shape}\")"
      ],
      "execution_count": 67,
      "outputs": []
    },
    {
      "cell_type": "code",
      "metadata": {
        "id": "c1DWEc6TxHWl"
      },
      "source": [
        "# for i in range(ImageTrainYNumber):       #10000\n",
        "#     if(trainY[i]==0):\n",
        "#         s0 = plt.scatter(t[i,0],t[i,1],s=20,marker='o',c='',edgecolors='b')\n",
        "#     if(trainY[i]==1):\n",
        "#         s1 = plt.scatter(t[i,0],t[i,1],s=20,marker='o',c='',edgecolors='c')\n",
        "# plt.show()"
      ],
      "execution_count": 68,
      "outputs": []
    },
    {
      "cell_type": "markdown",
      "metadata": {
        "id": "JVlzKLAbwF7y"
      },
      "source": [
        "## License\n",
        "\n",
        "---\n",
        "\n",
        "Copyright 2021 Hangkai Wang & Chidchanok Lursinsap\n",
        "\n",
        "Licensed under the Apache License, Version 2.0 (the \"License\");\n",
        "you may not use this file except in compliance with the License.\n",
        "You may obtain a copy of the License at\n",
        "\n",
        "    http://www.apache.org/licenses/LICENSE-2.0\n",
        "\n"
      ]
    },
    {
      "cell_type": "markdown",
      "metadata": {
        "id": "Z5sm0TQovRIy"
      },
      "source": [
        "# Reference:\n",
        "\n",
        "1. [TPUs in Colab](https://colab.research.google.com/notebooks/tpu.ipynb#scrollTo=hJl3vNtJOB-x)\n",
        "2. [20210528Homework1-4.ipynb](https://colab.research.google.com/drive/142-fnFghV8tAfu-T4Ce7KhHGMBTBG6JP#scrollTo=UhzVQeE-5HeT&uniqifier=1)\n",
        "3. [Introduction to t-SNE](https://www.datacamp.com/community/tutorials/introduction-t-sne)\n",
        "4. [How to build a VGG16 network using Keras and Python](https://setscholars.net/how-to-build-a-vgg16-network-using-keras-and-python/)\n",
        "5. [Step by step VGG16 implementation in Keras for beginners](https://towardsdatascience.com/step-by-step-vgg16-implementation-in-keras-for-beginners-a833c686ae6c)\n",
        "6. [开源人脸口罩检测数据+模型+代码+在线网页体验](https://zhuanlan.zhihu.com/p/107719641)\n",
        "7. [AIZOOTech/FaceMaskDetection](https://github.com/AIZOOTech/FaceMaskDetection)\n",
        "8. [Vgg-16](https://blog.csdn.net/weixin_42216109/article/details/93195479)\n",
        "9. [github VGG model](https://github.com/CristianCristanchoT/TRANSFER-LEARNING-VGG16/blob/master/TF2%20TRANSFER%20LEARNING%20PT2.ipynb)\n",
        "10. [Use VGG16 network module for migration learning, practical operation](https://blog.csdn.net/weixin_42216109/article/details/93195479）"
      ]
    }
  ]
}