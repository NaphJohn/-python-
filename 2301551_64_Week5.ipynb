{
  "nbformat": 4,
  "nbformat_minor": 0,
  "metadata": {
    "colab": {
      "name": "2301551-64-Week5.ipynb",
      "provenance": [],
      "collapsed_sections": [],
      "include_colab_link": true
    },
    "kernelspec": {
      "name": "python3",
      "display_name": "Python 3"
    }
  },
  "cells": [
    {
      "cell_type": "markdown",
      "metadata": {
        "id": "view-in-github",
        "colab_type": "text"
      },
      "source": [
        "<a href=\"https://colab.research.google.com/github/whkaikai/-python-/blob/main/2301551_64_Week5.ipynb\" target=\"_parent\"><img src=\"https://colab.research.google.com/assets/colab-badge.svg\" alt=\"Open In Colab\"/></a>"
      ]
    },
    {
      "cell_type": "markdown",
      "metadata": {
        "id": "Z1g734F-l5l9"
      },
      "source": [
        "# Object-oriented Programming in Python\n"
      ]
    },
    {
      "cell_type": "markdown",
      "metadata": {
        "id": "jfkKmmKYJMNL"
      },
      "source": [
        "**Object-oriented programming** is a programming concept based on objects, which are associated to  values called *attruibutes* and operations called *functions* or *methods*. It provides structures for abstraction that makes programs easier to understand and maintain.\n",
        "\n",
        "In object-oriented programming, data in a program are objects.  An object belongs to a *class*, and a class is a template of objects in that class. It specifies the attributes of the objects and the methods that can be used for the objects. Objects are sometimes called *instances*. \n",
        "\n",
        "A subclass can be defined under a class, and the subclass can *inherit* attributes and methods from the class."
      ]
    },
    {
      "cell_type": "markdown",
      "metadata": {
        "id": "ALag5XzdLMSh"
      },
      "source": [
        "## Class Definition\n"
      ]
    },
    {
      "cell_type": "markdown",
      "metadata": {
        "id": "4NR5QP-aZ2je"
      },
      "source": [
        "In Python, a class can be defines as follows:\n",
        "\n",
        "\n",
        "```\n",
        "class <class name> :\n",
        "   <class attr1> = <value1>  # class attribute shared by all objects in the class\n",
        "   ...\n",
        "      \n",
        "   def <method name> (<parameter list>) :\n",
        "       <block of code>\n",
        "   ...    \n",
        "   \n",
        "```"
      ]
    },
    {
      "cell_type": "markdown",
      "metadata": {
        "id": "fqP8sJJYbp4P"
      },
      "source": [
        "In Python, the method `__init__` is the constructor which is called to create a new object. Thus, we need to specify the the method `__init__` for each class. In a method, `self` refers to the object to which the method is applied (like `this` in Java). When an object is created, an attribute of the object can be initialized with reference to `self` , `self.<attributeName>`. \n",
        "\n",
        "An object in a class `cName` is created with `cName(...)`, as shown below."
      ]
    },
    {
      "cell_type": "code",
      "metadata": {
        "id": "2dB_-7qUcLkz"
      },
      "source": [
        "class course :\n",
        "    def __init__(self, num):\n",
        "        self.number = num   # set the value of the attribute number\n",
        "\n",
        "c1=course(2301170)          # create an object from the class course\n",
        "c2=course(2301172)          # create another object from the class course"
      ],
      "execution_count": null,
      "outputs": []
    },
    {
      "cell_type": "markdown",
      "metadata": {
        "id": "OBVojHXvn5mf"
      },
      "source": [
        "`<object>.<attributeName>` refers to the attribute `<attributeName>` of the object `<object>`. "
      ]
    },
    {
      "cell_type": "code",
      "metadata": {
        "id": "Sxkw-PGQnow1",
        "colab": {
          "base_uri": "https://localhost:8080/"
        },
        "outputId": "12d246a6-8f8e-4feb-87ec-da152d7831de"
      },
      "source": [
        "class course :\n",
        "    def __init__(self, num):\n",
        "        self.number = num   # set the value of the attribute number\n",
        "\n",
        "c1=course(2301170)          # create an object from the class course\n",
        "c2=course(2301172)          # create another object from the class course\n",
        "\n",
        "print(c1.number, c2.number, 'are in the class course.')\n",
        "print(c1, c2)"
      ],
      "execution_count": null,
      "outputs": [
        {
          "output_type": "stream",
          "text": [
            "2301170 2301172 are in the class course.\n",
            "<__main__.course object at 0x7fbd2bc1d780> <__main__.course object at 0x7fbd2bc1d710>\n"
          ],
          "name": "stdout"
        }
      ]
    },
    {
      "cell_type": "markdown",
      "metadata": {
        "id": "ha4JTODocMNO"
      },
      "source": [
        "It is also possible not to set the values of attributes in `__init__`, but do it later, as shown below."
      ]
    },
    {
      "cell_type": "code",
      "metadata": {
        "id": "eOBGtl6egYHB",
        "colab": {
          "base_uri": "https://localhost:8080/"
        },
        "outputId": "85f3baf1-f137-44c0-af01-89e12e7247c9"
      },
      "source": [
        "class course :\n",
        "    def __init__(self):\n",
        "        return\n",
        "        \n",
        "c = course()\n",
        "c.number = 2301551\n",
        "c.name = 'PROG LANG'\n",
        "print(c.number, 'is',c.name)"
      ],
      "execution_count": null,
      "outputs": [
        {
          "output_type": "stream",
          "text": [
            "2301551 is PROG LANG\n"
          ],
          "name": "stdout"
        }
      ]
    },
    {
      "cell_type": "markdown",
      "metadata": {
        "id": "pmcYuKH3kN40"
      },
      "source": [
        "If no `__init__` function is defined, it is the same as including an empty ```__init__``` as shown below.\n",
        "\n",
        "```\n",
        "def __init__(self):\n",
        "    return\n",
        "```\n",
        "\n"
      ]
    },
    {
      "cell_type": "code",
      "metadata": {
        "id": "ZzyN4Ta2j6sz",
        "colab": {
          "base_uri": "https://localhost:8080/",
          "height": 34
        },
        "outputId": "87502bc1-fc47-48d2-f85c-1c77785f8fc5"
      },
      "source": [
        "class course :  # no __init__ for this class\n",
        "    def setName(self, cname):  # this method sets the course name\n",
        "        self.name = cname  \n",
        "        \n",
        "c = course()\n",
        "c.number = 2301551\n",
        "c.setName('PROG LANG')\n",
        "print(c.number, 'is', c.name)"
      ],
      "execution_count": null,
      "outputs": [
        {
          "output_type": "stream",
          "text": [
            "2301551 is PROG LANG\n"
          ],
          "name": "stdout"
        }
      ]
    },
    {
      "cell_type": "markdown",
      "metadata": {
        "id": "TN7RFjm-6flq"
      },
      "source": [
        "Default values and keywords can also be used for parameters of functions for a class as shown below."
      ]
    },
    {
      "cell_type": "code",
      "metadata": {
        "id": "QuTKzrZAKose",
        "colab": {
          "base_uri": "https://localhost:8080/"
        },
        "outputId": "59a0c12c-ce6e-45fd-c019-dc1273005565"
      },
      "source": [
        "class course:\n",
        "    def __init__(self, num, name='', crdt=3):\n",
        "        self.cid = num\n",
        "        self.cname = name\n",
        "        self.credit = crdt\n",
        "\n",
        "c1 = course(2301172, 'COMP PROG LAB',1)\n",
        "print(c1.cid, c1.cname, c1.credit)\n",
        "c2 = course(2301170, 'COMP PROG')\n",
        "print(c2.cid, c2.cname, c2.credit)\n",
        "c3 = course(2301100)\n",
        "print(c3.cid, c3.cname, c3.credit)\n",
        "c4 = course(2301101, crdt=2)\n",
        "print(c4.cid, c4.cname, c4.credit)"
      ],
      "execution_count": null,
      "outputs": [
        {
          "output_type": "stream",
          "text": [
            "2301172 COMP PROG LAB 1\n",
            "2301170 COMP PROG 3\n",
            "2301100  3\n",
            "2301101  2\n"
          ],
          "name": "stdout"
        }
      ]
    },
    {
      "cell_type": "markdown",
      "metadata": {
        "id": "4j1-C1cGrwI2"
      },
      "source": [
        "A *class attribute* is an attribute that is associated to *the class, not to each object*. A class attribute is defined in the class definition, but outside methods of the class. The class attribute is associated to all objects in the class.  Thus, the class attribute can be refered to by `<className>.<classAttrName>` and `<object>.<classAttrName>`, e.g. `course.numCourse` and `c1.numCourse` in the program below.  \n",
        "\n",
        "However, we must be careful when assigning a value to a class attribute. `c1.numCourse = 0` creates an attribute `numCourse` for the object `c1`, and does not refer to the class attribute.\n",
        "\n",
        "\n"
      ]
    },
    {
      "cell_type": "code",
      "metadata": {
        "id": "JqSRrJh6myp4",
        "colab": {
          "base_uri": "https://localhost:8080/"
        },
        "outputId": "18ebcc66-9dff-488e-c837-ea593c0c295d"
      },
      "source": [
        "class course :\n",
        "    numCourse = 0   # class attribute\n",
        "    \n",
        "    def __init__(self, num):\n",
        "        self.number = num   # set the value of the attribute number\n",
        "        course.numCourse = course.numCourse+1   # increment the class attribute\n",
        "        \n",
        "    def setName(self, cname):  # this method sets the course name\n",
        "        self.name = cname  \n",
        "c1=course(2301170)\n",
        "c2=course(2301172)\n",
        "print('There are',course.numCourse,'courses:')\n",
        "print(c1.number, c2.number)"
      ],
      "execution_count": null,
      "outputs": [
        {
          "output_type": "stream",
          "text": [
            "There are 2 courses:\n",
            "2301170 2301172\n"
          ],
          "name": "stdout"
        }
      ]
    },
    {
      "cell_type": "markdown",
      "metadata": {
        "id": "-NnxtLBvivO9"
      },
      "source": [
        "## Methods"
      ]
    },
    {
      "cell_type": "markdown",
      "metadata": {
        "id": "YSs4m1XHzsYY"
      },
      "source": [
        "A method is a function that is applicable for a specific class, and it must be defined within the block of that class.  ```self``` must be one of the parameter of a method, and it refers to the object to which the method is applied.\n",
        "\n",
        "The following example shows a class of transcript and a class of course information.\n",
        "\n"
      ]
    },
    {
      "cell_type": "code",
      "metadata": {
        "id": "uffsj_9rFzLk",
        "colab": {
          "base_uri": "https://localhost:8080/"
        },
        "outputId": "e3b9fdcb-fd4a-4d18-bbf5-b81ff8408384"
      },
      "source": [
        "class transcript:\n",
        "\n",
        "    def __init__(self, sid, crsList=[],gpx='not computed'):\n",
        "        self.student = sid\n",
        "        self.courses = crsList\n",
        "        self.gpax = self.calGrd()\n",
        "\n",
        "    def addGrd(self, cID, grd):\n",
        "        self.courses.append([cID, grd])\n",
        "        self.calGrd()\n",
        "\n",
        "    def calGrd(self):\n",
        "        tCrdt = 0\n",
        "        cmWghtGrd = 0\n",
        "        for c in self.courses:\n",
        "            cid = c[0]\n",
        "            grd = c[1]\n",
        "            crs = courses.courseList[cid]\n",
        "            tCrdt += crs.credit\n",
        "            cmWghtGrd += crs.credit*grd\n",
        "        self.gpax = cmWghtGrd/tCrdt\n",
        "\n",
        "    def printTr(self):\n",
        "        print(self.student)\n",
        "        for c in self.courses:\n",
        "            course = c[0]\n",
        "            grade = c[1]\n",
        "            cObj = getCourseObj(course)\n",
        "            cName = cObj.Name\n",
        "            crdt = cObj.credit\n",
        "            print(course, cName, crdt, grade)\n",
        "        print('GPAX :',self.gpax)\n",
        "\n",
        "\n",
        "class courses:\n",
        "    courseList = {}\n",
        "\n",
        "    def __init__(self, cID, cName='', crdt=3):\n",
        "        if cID not in self.courseList:\n",
        "            self.cNumber = cID\n",
        "            self.Name = cName\n",
        "            self.credit = crdt\n",
        "            self.courseList[cID] = self\n",
        "        else:\n",
        "            print(cID,'already exists.')\n",
        "\n",
        "def printCourses():\n",
        "        for c in courses.courseList:\n",
        "            crs = courses.courseList[c]\n",
        "            print(crs.cNumber, crs.Name,'\\t', crs.credit, 'credits')\n",
        "\n",
        "def getCourseObj(cID):\n",
        "    return courses.courseList[cID]\n",
        "\n",
        "courses(2301170, 'COMP PROG')\n",
        "courses(2301172, 'COMP PROG LAB', 1)\n",
        "courses(2301117, 'CAL I', 4)\n",
        "print(courses.courseList)\n",
        "printCourses()\n",
        "print('----------------------------')\n",
        "\n",
        "s = transcript(6213414523,[[2301170,3.5],[2301172,4.0]])\n",
        "s.addGrd(2301117,3.0)\n",
        "\n",
        "s.printTr()"
      ],
      "execution_count": null,
      "outputs": [
        {
          "output_type": "stream",
          "text": [
            "{2301170: <__main__.courses object at 0x7fbd2bc2b908>, 2301172: <__main__.courses object at 0x7fbd2bc2b898>, 2301117: <__main__.courses object at 0x7fbd2bc2b940>}\n",
            "2301170 COMP PROG \t 3 credits\n",
            "2301172 COMP PROG LAB \t 1 credits\n",
            "2301117 CAL I \t 4 credits\n",
            "----------------------------\n",
            "6213414523\n",
            "2301170 COMP PROG 3 3.5\n",
            "2301172 COMP PROG LAB 1 4.0\n",
            "2301117 CAL I 4 3.0\n",
            "GPAX : 3.3125\n"
          ],
          "name": "stdout"
        }
      ]
    },
    {
      "cell_type": "markdown",
      "metadata": {
        "id": "s_GwIMoAbkUD"
      },
      "source": [
        "write a program for a class number that has an attribute num, and a method add that takes another object in the clkass number, and returns the sum of the two numbers."
      ]
    },
    {
      "cell_type": "code",
      "metadata": {
        "colab": {
          "base_uri": "https://localhost:8080/"
        },
        "id": "gaMWQ3Czb_S6",
        "outputId": "b44fce2f-9b9d-4dc7-ba97-6d997464fcba"
      },
      "source": [
        "class number:\n",
        "    def __init__(self, v):\n",
        "        self.num = v\n",
        "          \n",
        "    def add(self,v):\n",
        "        return number(self.num+v.num)\n",
        "\n",
        "a = number(2433)\n",
        "b = number(-89)\n",
        "c = a.add(b)\n",
        "print(c.num)  # should get 2344"
      ],
      "execution_count": null,
      "outputs": [
        {
          "output_type": "stream",
          "text": [
            "2344\n"
          ],
          "name": "stdout"
        }
      ]
    },
    {
      "cell_type": "markdown",
      "metadata": {
        "id": "7xdBkiByjMoz"
      },
      "source": [
        "### Subclasses"
      ]
    },
    {
      "cell_type": "markdown",
      "metadata": {
        "id": "Gz5NvxPX5VFq"
      },
      "source": [
        "A subclass can be created as a specialization of a class. A subclass inherits attributes and methods from its parent class. A suclass can be created using the keyword `class` and its parent class is specified in the parentheses as shown below.\n"
      ]
    },
    {
      "cell_type": "code",
      "metadata": {
        "id": "se0XsXNn5xDJ",
        "colab": {
          "base_uri": "https://localhost:8080/"
        },
        "outputId": "666e4c31-87c2-4ab3-d1a9-42a47fea90a1"
      },
      "source": [
        "class person:\n",
        "\n",
        "    def __init__(self, fname, lname, age=0):\n",
        "        self.firstName = fname\n",
        "        self.lastName = lname\n",
        "        self.age = age\n",
        "    \n",
        "    def printInfo(self):\n",
        "        print(self.firstName, self.lastName, self.age)\n",
        "\n",
        "class student(person):  # The class student is a subclass of person\n",
        "\n",
        "    def setStudentID(self, sid):\n",
        "        self.studentID = sid\n",
        "    \n",
        "    def printInfo(self):\n",
        "        print(self.firstName, self.lastName, self.studentID, self.age)\n",
        "\n",
        "s = student('tom', 'tana', 20)\n",
        "s.setStudentID(62134315323)\n",
        "s.printInfo()"
      ],
      "execution_count": null,
      "outputs": [
        {
          "output_type": "stream",
          "text": [
            "tom tana 62134315323 20\n"
          ],
          "name": "stdout"
        }
      ]
    },
    {
      "cell_type": "markdown",
      "metadata": {
        "id": "0PEYSW538lXS"
      },
      "source": [
        "A subclass inherits attributes and functions from its parent class. In the program shown above, the class `student` is a subclass of the class `person`.  Therefore, the class `student` has attributes `firstName`, `lastName`, and `age` inherited from the class `person`.  Furthermore, it also inherits the function `__init__` from the parent class.\n",
        "\n",
        "However, a function in the parent class is overridden if the function of the same name is defined in the subclass.  In the example shown above, the function `printInfo` is defined in both the parent class `person` and the subclass `student`. Therefore, the function `printInfo` defined in the class `student` is applicable for objects in the class `student`.  The function `printInfo` defined in the class `person` is applicable for objects in the class `person` which is not in the class `student`.\n"
      ]
    },
    {
      "cell_type": "markdown",
      "metadata": {
        "id": "ku8TZybQy6mh"
      },
      "source": [
        "# Exercises"
      ]
    },
    {
      "cell_type": "markdown",
      "metadata": {
        "id": "AlArl7w-zAUz"
      },
      "source": [
        "Design a class hierarchy for 2-d and 3-d geometric shapes, which are:\n",
        "\n",
        "*   triangles (2-d), which can be right triangles, equilateral triangles, or isoscles triangles.\n",
        "*   quadrilaterals (2-d) , which can be squares, rectangles, or parallelograms. \n",
        "*   circles (2-d)\n",
        "*   cuboid (3-d), which can be also be a cube.\n",
        "*   cyclinder (3-d)\n",
        "*   sphere (3-d)\n",
        "\n",
        "What are the attributes required for each class?\n",
        "\n",
        "Also, write methods for each class.\n",
        "\n",
        "For 2-d shapes, the method `area` finds the area of the shape and the method `volume` returns 0.  For 3-d shapes, the method `area` finds the surface area of the shapeand the method `volume` returns the volume of the shape."
      ]
    },
    {
      "cell_type": "code",
      "metadata": {
        "id": "CvGk73FSuZEn",
        "outputId": "d120badd-818a-4eda-a8e8-2537436fbbae",
        "colab": {
          "base_uri": "https://localhost:8080/"
        }
      },
      "source": [
        "import math\n",
        "class Geoshapes:\n",
        "  def triangles(self,a,b,c):\n",
        "    \"\"\"a, b and c are the three sides of a triangle.\"\"\"\n",
        "    if a + b > c and a + c > b and b + c > a:\n",
        "      s = (a + b + c) / 2\n",
        "      area = (s * (s - a) * (s - b) * (s - c)) ** 0.5\n",
        "      print('The volume of the triangle is 0 and the area of the triangle is %0.2f' % area)\n",
        "    else:\n",
        "      print(\"Triangle is illegal.\")\n",
        "\n",
        "  def quadrilaterals(self,a,h):\n",
        "    \"\"\"a is the base of the quadrangle and h is the height of the quadrangle.\"\"\"\n",
        "    area = a*h\n",
        "    print('The volume of the quadrilateral is 0 and the area of the quadrilateral is %0.2f' % area)\n",
        "  \n",
        "  def circle(self,r):\n",
        "    \"\"\"r is the radius of a circle\"\"\"\n",
        "    area=math.pi * r**2\n",
        "    print('The volume of the circle is 0 and the area of the circle is %0.6f' % area)\n",
        "\n",
        "  def cuboid(self,a,b,h):\n",
        "    \"\"\"a,b,h=map(float,input('The length, width and height of cuboids are (blank space to separate input, press Enter to end):').split())\"\"\"\n",
        "    v=a*b*h\n",
        "    s=(a*b+a*h*+b*h)*2\n",
        "    print ('the volume of this cuboid is: ',v)\n",
        "    print ('the area of this cuboid is: ',s)\n",
        "  \n",
        "\n",
        "  def cylinder(self,r,h):\n",
        "    \"\"\" r=float(input(\"the base radius of the cylinder: \"))\n",
        "    h=float(input(\"the height of the cylinder: \"))\"\"\"\n",
        "    volume = math.pi*r*r*h\n",
        "    area = 2*math.pi*(r*r+r*h)\n",
        "    print(\"The surface area of the cylinder is:%.1f\\nThe volume of the cylinder is:%.1f\"%(area,volume))\n",
        "\n",
        "  def sphere(self,r):\n",
        "    \"\"\"r is the radius of a sphere\"\"\"\n",
        "    volume = 4/3 * math.pi * r**3\n",
        "    area = 4 * math.pi * r**2\n",
        "    print(\"The surface area of the sphere is:%.1f\\nThe volume of the sphere is:%.1f\"%(area,volume))\n",
        "\n",
        "a = Geoshapes()\n",
        "a.cylinder(r=4,h=5)\n",
        "a.cylinder(r=5,h=9)\n",
        "# print(f\"{a.cylinder(r=4,h=5)}\")"
      ],
      "execution_count": 1,
      "outputs": [
        {
          "output_type": "stream",
          "name": "stdout",
          "text": [
            "The surface area of the cylinder is:226.2\n",
            "The volume of the cylinder is:251.3\n",
            "The surface area of the cylinder is:439.8\n",
            "The volume of the cylinder is:706.9\n"
          ]
        }
      ]
    },
    {
      "cell_type": "markdown",
      "metadata": {
        "id": "9dN9hwGpKFLe"
      },
      "source": [
        "Design a class hierarchy for students, faculties and staffs in a university.  \n",
        "\n",
        "We need to store name, birthday and gender for everyone in the univeristy. \n",
        "\n",
        "For students, we need to also store gpax and program of study. \n",
        "\n",
        "For both faculties and staffs, we need to store the employment date and the current monthly salary. \n",
        "\n",
        "For faculties, we also need to store the academic position. \n",
        "\n",
        "Write the following methods:\n",
        "\n",
        "*   the method `age` that returns the age of anyone in the univeristy.\n",
        "*   the method `retire` that returns the year of retirement for a faculty or staff.\n",
        "*   the method `estTax` that estimates tax, which is 15% of 12-month salary for staff and 15% of 12-month salary + bonus for faculties. (30,000 for assistant professor, 50,000 for associate professor and 70,000 for professor)\n",
        "\n"
      ]
    },
    {
      "cell_type": "code",
      "metadata": {
        "id": "3hkLISyRORcb",
        "outputId": "2e617158-6e7b-428e-f8b8-39c79f2071c7",
        "colab": {
          "base_uri": "https://localhost:8080/"
        }
      },
      "source": [
        "class university:\n",
        "  def __init__(self):\n",
        "    return\n",
        "\n",
        "class student(university):\n",
        "  def __init__(self, name, bd, gender, gpax, program):\n",
        "    self.name = name\n",
        "    self.bd = bd\n",
        "    self.gender = gender\n",
        "    self.gpax = gpax\n",
        "    self.program = program\n",
        "    super().__init__()\n",
        "        \n",
        "  def age(self):\n",
        "    self.today, self.month, self.year = self.bd.split(\"/\")\n",
        "    return (2021 - int(self.year))\n",
        "\n",
        "\n",
        "class staffs(university):\n",
        "\n",
        "  def __init__(self, name, bd, gender, ed, salary):\n",
        "    self.name = name\n",
        "    self.bd = bd\n",
        "    self.gender = gender\n",
        "    self.ed = ed\n",
        "    self.salary = int(salary)\n",
        "    super().__init__()\n",
        "\n",
        "  def retire(self):\n",
        "    self.today, self.month, self.year = self.ed.split(\"/\")\n",
        "    return (int(self.year) + 30)\n",
        "\n",
        "  def estTax(self):\n",
        "    return (self.salary * 12 * 0.15)\n",
        "  def age(self):\n",
        "    self.today, self.month, self.year = self.bd.split(\"/\")\n",
        "    return (2021 - int(self.year))\n",
        "\n",
        "class faculties(university):\n",
        "\n",
        "  def __init__(self, name, bd, gender, ed, salary, acaPosition):\n",
        "    self.name = name\n",
        "    self.bd = bd\n",
        "    self.gender = gender\n",
        "    self.ed = ed\n",
        "    self.salary = int(salary)\n",
        "    self.acaPosition = acaPosition\n",
        "    super().__init__()\n",
        "\n",
        "  def retire(self):\n",
        "    self.today, self.month, self.year = self.ed.split(\"/\")\n",
        "    return (int(self.year) + 30)\n",
        "\n",
        "  def estTax(self):\n",
        "    if self.acaPosition == \"assistant professor\":\n",
        "      return (self.salary *12 * 0.15 + 30000)\n",
        "    elif self.acaposition == \"associate professor\":\n",
        "      return (self.salary *12 * 0.15 + 50000)\n",
        "    else:\n",
        "      return (self.salary *12 * 0.15 + 70000)\n",
        "  def age(self):\n",
        "    self.today, self.month, self.year = self.bd.split(\"/\")\n",
        "    return (2021 - self.year)\n",
        "\n",
        "stu = student('Smith', '05/10/1973', \"M\", \"3.8\", \"Science\")\n",
        "sta = staffs('John', '27/08/1987', \"M\", '27/08/2000', \"25000\")\n",
        "fac = faculties('Frank', '22/09/1993', \"F\", '22/09/2003', \"25000\", \"assistant professor\")\n",
        "print(stu.age(), sta.estTax(), fac.retire())"
      ],
      "execution_count": 5,
      "outputs": [
        {
          "output_type": "stream",
          "name": "stdout",
          "text": [
            "48 45000.0 2033\n"
          ]
        }
      ]
    }
  ]
}