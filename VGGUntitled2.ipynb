{
  "nbformat": 4,
  "nbformat_minor": 0,
  "metadata": {
    "accelerator": "GPU",
    "colab": {
      "name": "VGGUntitled2.ipynb",
      "provenance": [],
      "authorship_tag": "ABX9TyO4ShoU/HA82eoM05rZaQVH",
      "include_colab_link": true
    },
    "kernelspec": {
      "display_name": "Python 3",
      "name": "python3"
    },
    "language_info": {
      "name": "python"
    }
  },
  "cells": [
    {
      "cell_type": "markdown",
      "metadata": {
        "id": "view-in-github",
        "colab_type": "text"
      },
      "source": [
        "<a href=\"https://colab.research.google.com/github/whkaikai/-python-/blob/main/VGGUntitled2.ipynb\" target=\"_parent\"><img src=\"https://colab.research.google.com/assets/colab-badge.svg\" alt=\"Open In Colab\"/></a>"
      ]
    },
    {
      "cell_type": "code",
      "metadata": {
        "colab": {
          "base_uri": "https://localhost:8080/"
        },
        "id": "EWDNPTmxkgo_",
        "outputId": "594dfba9-4f56-459d-efc2-e84e61d5b860"
      },
      "source": [
        "#@title <b><font color=\"blue\" size=\"+2\">Install the all needed libraries { display-mode: \"form\" }\n",
        "%%time\n",
        "\n",
        "import pandas as pd\n",
        "import os \n",
        "import cv2 \n",
        "import h5py\n",
        "import random\n",
        "import pathlib\n",
        "import numpy as np\n",
        "\n",
        "import tensorflow as tf\n",
        "import tensorflow.keras\n",
        "\n",
        "from tensorflow.keras.layers import Dense, Flatten, Input\n",
        "from tensorflow.keras.applications.vgg16 import VGG16 , preprocess_input\n",
        "from tensorflow.keras.optimizers import SGD, Adam\n",
        "from tensorflow.keras.models import Model\n",
        "from tensorflow.keras.preprocessing import image\n",
        "from tensorflow.keras.preprocessing.image import ImageDataGenerator\n",
        "import numpy as np\n",
        "\n",
        "import matplotlib.pyplot as plt\n",
        "import sys, os\n",
        "\n",
        "from glob import glob\n",
        "from tensorflow.keras.applications.vgg16 import VGG16 , preprocess_input\n",
        "from keras.models import Model\n",
        "import matplotlib.pyplot as plt\n",
        "import matplotlib.image as mpimg\n",
        "import tensorflow.keras as keras\n",
        "from sklearn.manifold import TSNE\n",
        "from tensorflow.keras import datasets\n",
        "from tensorflow.keras.regularizers import l2\n",
        "from tensorflow.keras.optimizers import Adam\n",
        "from tensorflow.keras.utils import  plot_model\n",
        "from sklearn.model_selection import train_test_split\n",
        "from tensorflow.keras.optimizers import Adam, RMSprop\n",
        "from tensorflow.keras.applications.vgg16 import VGG16\n",
        "from tensorflow.keras.callbacks import ModelCheckpoint\n",
        "from tensorflow.keras.callbacks import ReduceLROnPlateau\n",
        "from tensorflow.keras.layers import Dense, Flatten, Dropout\n",
        "from tensorflow.keras.preprocessing.image import ImageDataGenerator, load_img\n",
        "from sklearn.metrics import classification_report, confusion_matrix, accuracy_score\n",
        "from tensorflow.keras.layers import Conv2D, MaxPooling2D, GlobalMaxPooling2D, Flatten, Dense, Dropout, Input, BatchNormalization\n",
        "from tensorflow.keras.preprocessing import image\n",
        "from tensorflow.keras.preprocessing.image import ImageDataGenerator"
      ],
      "execution_count": 32,
      "outputs": [
        {
          "output_type": "stream",
          "text": [
            "CPU times: user 110 µs, sys: 0 ns, total: 110 µs\n",
            "Wall time: 116 µs\n"
          ],
          "name": "stdout"
        }
      ]
    },
    {
      "cell_type": "code",
      "metadata": {
        "colab": {
          "base_uri": "https://localhost:8080/"
        },
        "id": "CHbwyfAS1a_l",
        "outputId": "f7a639f6-0982-4419-bd54-9749088e3855"
      },
      "source": [
        "from google.colab import drive\n",
        "drive.mount('/content/drive')"
      ],
      "execution_count": 33,
      "outputs": [
        {
          "output_type": "stream",
          "text": [
            "Drive already mounted at /content/drive; to attempt to forcibly remount, call drive.mount(\"/content/drive\", force_remount=True).\n"
          ],
          "name": "stdout"
        }
      ]
    },
    {
      "cell_type": "code",
      "metadata": {
        "colab": {
          "base_uri": "https://localhost:8080/"
        },
        "id": "raGuLGBA1pbe",
        "outputId": "ddcd15a6-d3fc-49b3-c147-7cf837421dea"
      },
      "source": [
        "%%bash\n",
        "pwd\n",
        "cd drive/MyDrive"
      ],
      "execution_count": 34,
      "outputs": [
        {
          "output_type": "stream",
          "text": [
            "/content\n"
          ],
          "name": "stdout"
        }
      ]
    },
    {
      "cell_type": "code",
      "metadata": {
        "colab": {
          "base_uri": "https://localhost:8080/"
        },
        "id": "xLIU94171tQI",
        "outputId": "5fa90732-67e4-4a8c-8a5d-bf740899dceb"
      },
      "source": [
        "#@title <b><font color=\"gree\" size=\"+2\">Define the path for the image{display-mode: \"form\"}\n",
        "\n",
        "# Train_path = './Train'\n",
        "# Val_path = './Validation'\n",
        "\n",
        "Train_path = '/content/drive/MyDrive/Train'\n",
        "Val_path = '/content/drive/MyDrive/Validation'\n",
        "\n",
        "images=os.listdir(Train_path)\n",
        "val_images=os.listdir(Val_path)\n",
        "print(f\"the folder of images: {images}\")\n",
        "print(f\"the folder of images: {val_images}\")"
      ],
      "execution_count": 35,
      "outputs": [
        {
          "output_type": "stream",
          "text": [
            "the folder of images: ['.DS_Store', 'WithMask', 'WithoutMask']\n",
            "the folder of images: ['.DS_Store', 'WithMask', 'WithoutMask']\n"
          ],
          "name": "stdout"
        }
      ]
    },
    {
      "cell_type": "code",
      "metadata": {
        "id": "tlUMF3GR125s"
      },
      "source": [
        "IMAGE_SIZE = [100,100]"
      ],
      "execution_count": 36,
      "outputs": []
    },
    {
      "cell_type": "code",
      "metadata": {
        "id": "4k0-AdGj1744"
      },
      "source": [
        "# number of files\n",
        "train_image_files = glob(Train_path + '/*/*.png')\n",
        "valid_image_files = glob(Val_path + '/*/*.png')"
      ],
      "execution_count": 37,
      "outputs": []
    },
    {
      "cell_type": "code",
      "metadata": {
        "colab": {
          "base_uri": "https://localhost:8080/"
        },
        "id": "qoq4idPM2LIz",
        "outputId": "a0b1f6cd-5276-4370-dfcc-79ff3891c0d0"
      },
      "source": [
        "#@title <b><font color=\"red\" size=\"+2\"> Setup GPU Strategy {display-mode: \"form\"}\n",
        "# Note that it generally has a minimum of 8 cores, but if your GPU has\n",
        "# less, you need to set this. In this case one of my GPUs has 4 cores\n",
        "# os.environ[\"TF_MIN_GPU_MULTIPROCESSOR_COUNT\"] = \"4\"\n",
        "\n",
        "# If the list of devices is not specified in the\n",
        "# `tf.distribute.MirroredStrategy` constructor, it will be auto-detected.\n",
        "# If you have *different* GPUs in your system, you probably have to set up cross_device_ops like this\n",
        "strategy = tf.distribute.MirroredStrategy(cross_device_ops=tf.distribute.HierarchicalCopyAllReduce())\n",
        "\n",
        "# one_strategy = tf.distribute.OneDeviceStrategy(device=gpu_name)  # one-device-strategy\n",
        "print ('Number of devices: {}'.format(strategy.num_replicas_in_sync))"
      ],
      "execution_count": 38,
      "outputs": [
        {
          "output_type": "stream",
          "text": [
            "WARNING:tensorflow:Collective ops is not configured at program startup. Some performance features may not be enabled.\n",
            "INFO:tensorflow:Using MirroredStrategy with devices ('/job:localhost/replica:0/task:0/device:GPU:0',)\n",
            "Number of devices: 1\n"
          ],
          "name": "stdout"
        }
      ]
    },
    {
      "cell_type": "code",
      "metadata": {
        "id": "JFnDUFuPiCEu"
      },
      "source": [
        "#@title <b><font color=\"black\" size=\"+2\"> Setup TPU Strategy if use TPU {display-mode: \"form\"}\n",
        "# %tensorflow_version 2.x\n",
        "# import tensorflow as tf\n",
        "# print(\"Tensorflow version \" + tf.__version__)\n",
        "\n",
        "# try:\n",
        "#   tpu = tf.distribute.cluster_resolver.TPUClusterResolver()  # TPU detection\n",
        "#   print('Running on TPU ', tpu.cluster_spec().as_dict()['worker'])\n",
        "# except ValueError:\n",
        "#   raise BaseException('ERROR: Not connected to a TPU runtime; please see the previous cell in this notebook for instructions!')\n",
        "\n",
        "# tf.config.experimental_connect_to_cluster(tpu)\n",
        "# tf.tpu.experimental.initialize_tpu_system(tpu)\n",
        "# strategy = tf.distribute.experimental.TPUStrategy(tpu)"
      ],
      "execution_count": 39,
      "outputs": []
    },
    {
      "cell_type": "markdown",
      "metadata": {
        "id": "0A3wtFTciKpI"
      },
      "source": [
        "# Deal input data\n",
        "\n",
        "Our input data is stored on Google Cloud Storage. To more fully use the parallelism TPUs offer us, and to avoid bottlenecking on data transfer, is better to store our input data in TFRecord files. \n",
        "500 images for two classes, with or without mask.\n",
        "\n",
        "Below, we make heavy use of `tf.data.experimental.AUTOTUNE` to optimize different parts of input loading.\n",
        "\n",
        "All of these techniques are a bit overkill for our (small) dataset, but demonstrate best practices for using TPUs."
      ]
    },
    {
      "cell_type": "code",
      "metadata": {
        "colab": {
          "base_uri": "https://localhost:8080/"
        },
        "id": "jxMHFrZbiQ9R",
        "outputId": "bac0718e-b32f-4f8c-8d89-c28ae98ae3ee"
      },
      "source": [
        "#@title <b><font color=\"blue\" size=\"+2\">  ImageDataGenerator{display-mode: \"form\"}\n",
        "train_datagen = ImageDataGenerator(rescale = 1./255,\n",
        "                                   shear_range = 0.2,\n",
        "                                   zoom_range = 0.2,\n",
        "                                   rotation_range=0.2)\n",
        "\n",
        "val_datagen = ImageDataGenerator(rescale = 1./255,\n",
        "                                   shear_range = 0.2,\n",
        "                                   zoom_range = 0.2)\n",
        "\n",
        "training_set = train_datagen.flow_from_directory(Train_path,\n",
        "                                                 target_size = (32, 32),\n",
        "                                                 interpolation=\"nearest\",\n",
        "                                                 class_mode='binary',\n",
        "                                                 classes=[\"WithoutMask\",\"WithMask\"])\n",
        "\n",
        "validation_set = val_datagen.flow_from_directory(Val_path,\n",
        "                                                 target_size=(32, 32),\n",
        "                                                 interpolation=\"nearest\",\n",
        "                                                 class_mode='binary',\n",
        "                                                 classes=[\"WithoutMask\",\"WithMask\"])"
      ],
      "execution_count": 40,
      "outputs": [
        {
          "output_type": "stream",
          "text": [
            "Found 57 images belonging to 2 classes.\n",
            "Found 28 images belonging to 2 classes.\n"
          ],
          "name": "stdout"
        }
      ]
    },
    {
      "cell_type": "markdown",
      "metadata": {
        "id": "tX1bcHwVivnh"
      },
      "source": [
        "trainX: WithMask; trainY: WithoutMask;\n",
        "\n",
        "---\n",
        "\n",
        "valX: WithMask; valY: WithoutMask;"
      ]
    },
    {
      "cell_type": "code",
      "metadata": {
        "colab": {
          "base_uri": "https://localhost:8080/"
        },
        "id": "_R-xHSfJ2SdF",
        "outputId": "90ddff31-16be-4381-ef92-4d2fb0465a71"
      },
      "source": [
        "# number of classes\n",
        "folders = glob(Train_path + '/*')\n",
        "folders"
      ],
      "execution_count": 41,
      "outputs": [
        {
          "output_type": "execute_result",
          "data": {
            "text/plain": [
              "['/content/drive/MyDrive/Train/WithMask',\n",
              " '/content/drive/MyDrive/Train/WithoutMask']"
            ]
          },
          "metadata": {
            "tags": []
          },
          "execution_count": 41
        }
      ]
    },
    {
      "cell_type": "markdown",
      "metadata": {
        "id": "4vqN1cKKiy_v"
      },
      "source": [
        "# Get Features(XY variable)"
      ]
    },
    {
      "cell_type": "code",
      "metadata": {
        "colab": {
          "base_uri": "https://localhost:8080/"
        },
        "id": "82lhOgOOi454",
        "outputId": "e5c527ba-0f19-4182-802b-94a6303ebaff"
      },
      "source": [
        "def GetXY(gen):\n",
        "    listX = []\n",
        "    listY = []\n",
        "    for i in range(gen.__len__()):\n",
        "        gennext = gen.next()\n",
        "        listX.append(gennext[0])\n",
        "        listY.append(gennext[1])\n",
        "    x=np.concatenate(listX)\n",
        "    y=np.concatenate(listY)\n",
        "    return (x,y)\n",
        "\n",
        "with strategy.scope():  # use the GPU strategy, if no GPU, will continue use CPU, no need to change code so it is convenient\n",
        "  trainX,trainY = GetXY(training_set)  # now the size of train is equal to the size of validation\n",
        "  valX,valY = GetXY(validation_set)\n",
        "\n",
        "print(f\"the shape of train X is: {trainX.shape}\")\n",
        "print(f\"the shape of train Y is: {trainY.shape}\")\n",
        "print(f\"the shape of val X is: {valX.shape}\")\n",
        "print(f\"the shape of val Y is: {valY.shape}\")\n",
        "\n",
        "ImageTrainXNumber = trainX.shape[0]\n",
        "ImageTrainYNumber = trainY.shape[0]\n",
        "\n",
        "ImageValXNumber = valX.shape[0]\n",
        "ImageValYNumber = valY.shape[0]"
      ],
      "execution_count": 42,
      "outputs": [
        {
          "output_type": "stream",
          "text": [
            "the shape of train X is: (57, 32, 32, 3)\n",
            "the shape of train Y is: (57,)\n",
            "the shape of val X is: (28, 32, 32, 3)\n",
            "the shape of val Y is: (28,)\n"
          ],
          "name": "stdout"
        }
      ]
    },
    {
      "cell_type": "markdown",
      "metadata": {
        "id": "BcyDcvP1jA6G"
      },
      "source": [
        "# Use VGG-16 model\n",
        "\n",
        "---\n",
        "\n",
        "VGG-16 has 16 layers, and we use only upper 13 layers in our model. \n",
        "\n"
      ]
    },
    {
      "cell_type": "code",
      "metadata": {
        "colab": {
          "base_uri": "https://localhost:8080/"
        },
        "id": "FvSj3lRIjB1h",
        "outputId": "4929f3cc-b6bf-49ad-b1d7-a6d0f265abec"
      },
      "source": [
        "with strategy.scope():  # use the GPU strategy\n",
        "  model_vgg = VGG16(include_top=False, weights='imagenet', input_shape=(32,32, 3))\n",
        "  for layers in model_vgg.layers:\n",
        "      layers.trainable = False\n",
        "\n",
        "  trainX1, valX1 = model_vgg.predict(trainX), model_vgg.predict(valX)\n",
        "\n",
        "  # tsne=TSNE()\n",
        "  # t= tsne.fit_transform(trainX1.reshape(trainX1_size,-1) ) \n",
        "  # print(f\"the shape of t is {t.shape}\")\n",
        "\n",
        "print(f\"\\nthe shape of trainX1 (trained with train X) is {trainX1.shape}\\nOriginal train X shape is {trainX.shape}\")\n",
        "print(f\"\\nthe shape of valX1 (trained with val X) is {valX1.shape}\\nOriginal val X shape is {valX.shape}\")\n",
        "\n",
        "trainX1_size = trainX1.shape[0] * trainX1.shape[-1]"
      ],
      "execution_count": 43,
      "outputs": [
        {
          "output_type": "stream",
          "text": [
            "\n",
            "the shape of trainX1 (trained with train X) is (57, 1, 1, 512)\n",
            "Original train X shape is (57, 32, 32, 3)\n",
            "\n",
            "the shape of valX1 (trained with val X) is (28, 1, 1, 512)\n",
            "Original val X shape is (28, 32, 32, 3)\n"
          ],
          "name": "stdout"
        }
      ]
    },
    {
      "cell_type": "code",
      "metadata": {
        "id": "TRZCEiFejI7j"
      },
      "source": [
        "# model_vgg.summary()"
      ],
      "execution_count": 44,
      "outputs": []
    },
    {
      "cell_type": "code",
      "metadata": {
        "id": "qzbmoUGojXRN"
      },
      "source": [
        "with strategy.scope():\n",
        "  valX1=valX1.reshape(valX1.shape[-1], -1)  # (800,-1)\n",
        "  trainX1=trainX1.reshape(ImageTrainXNumber, -1)  # (10000,-1)\n",
        "  valY=valY.reshape(valX1.shape[-1], 1)  # 800, 1\n",
        "  trainY=trainY.reshape(ImageTrainYNumber, 1)  # 10000, 1"
      ],
      "execution_count": 45,
      "outputs": []
    },
    {
      "cell_type": "code",
      "metadata": {
        "colab": {
          "base_uri": "https://localhost:8080/",
          "height": 34
        },
        "id": "IzFKrQtqkPnb",
        "outputId": "fdd358ed-a227-4a67-828c-3d94654490e2"
      },
      "source": [
        "import matplotlib.pyplot as plt\n",
        "from pylab import *\n",
        "\n",
        "plt.rcParams['figure.dpi'] = 100 #分辨率\n",
        "fig = plt.figure(figsize=[15,6])\n",
        "\n",
        "plt.show()"
      ],
      "execution_count": 46,
      "outputs": [
        {
          "output_type": "display_data",
          "data": {
            "text/plain": [
              "<Figure size 1500x600 with 0 Axes>"
            ]
          },
          "metadata": {
            "tags": []
          }
        }
      ]
    },
    {
      "cell_type": "markdown",
      "metadata": {
        "id": "k9M5gyrnlhYf"
      },
      "source": [
        "# Get matlabdata.mat"
      ]
    },
    {
      "cell_type": "code",
      "metadata": {
        "id": "y6qgMRrJlVWF"
      },
      "source": [
        "import scipy.io as scio\n",
        "\n",
        "scio.savemat('./matlabdata.mat', dict([('valX1', valX1),\n",
        "                                       ('trainX1', trainX1),\n",
        "                                      ('valY',valY),\n",
        "                                       ('trainY', trainY)])) "
      ],
      "execution_count": 47,
      "outputs": []
    },
    {
      "cell_type": "code",
      "metadata": {
        "colab": {
          "base_uri": "https://localhost:8080/",
          "height": 383
        },
        "id": "Vp89sWaQ2a78",
        "outputId": "b06eac00-e0e2-48e8-a95f-6cf866ff7576"
      },
      "source": [
        "# random image\n",
        "plt.imshow(image.load_img(np.random.choice(train_image_files)))"
      ],
      "execution_count": 48,
      "outputs": [
        {
          "output_type": "execute_result",
          "data": {
            "text/plain": [
              "<matplotlib.image.AxesImage at 0x7f5da5829690>"
            ]
          },
          "metadata": {
            "tags": []
          },
          "execution_count": 48
        },
        {
          "output_type": "display_data",
          "data": {
            "image/png": "[encoded data removed]",
            "text/plain": [
              "<Figure size 600x400 with 1 Axes>"
            ]
          },
          "metadata": {
            "tags": [],
            "needs_background": "light"
          }
        }
      ]
    },
    {
      "cell_type": "code",
      "metadata": {
        "id": "M4c7_m7u2fGP"
      },
      "source": [
        "ptm = VGG16(\n",
        "    input_shape = IMAGE_SIZE + [3],\n",
        "    weights = 'imagenet',\n",
        "    include_top = False\n",
        ")"
      ],
      "execution_count": 49,
      "outputs": []
    },
    {
      "cell_type": "code",
      "metadata": {
        "id": "nKClsw1A2i3C"
      },
      "source": [
        "# freezing VGG16 Model weights\n",
        "ptm.trainable = False"
      ],
      "execution_count": 50,
      "outputs": []
    },
    {
      "cell_type": "code",
      "metadata": {
        "id": "kTfdqNcZ2lc_"
      },
      "source": [
        "# map data into feature vectors\n",
        "\n",
        "K = len(folders) # no. of classes\n",
        "x = Flatten()(ptm.output)\n",
        "x = Dense(K, activation='softmax')(x)"
      ],
      "execution_count": 51,
      "outputs": []
    },
    {
      "cell_type": "code",
      "metadata": {
        "id": "Qr80EvLZ2rbq"
      },
      "source": [
        "model = Model(inputs=ptm.input, outputs=x)"
      ],
      "execution_count": 52,
      "outputs": []
    },
    {
      "cell_type": "code",
      "metadata": {
        "id": "-YwFQ_k2KDAd"
      },
      "source": [
        "#model.summary()"
      ],
      "execution_count": 53,
      "outputs": []
    },
    {
      "cell_type": "code",
      "metadata": {
        "id": "QgS4ARnd2ufS"
      },
      "source": [
        "# ImageDataGenerator\n",
        "gen = ImageDataGenerator(\n",
        "    rotation_range=20,\n",
        "    width_shift_range=0.1,\n",
        "    height_shift_range=0.1,\n",
        "    shear_range=0.1,\n",
        "    zoom_range=0.2,\n",
        "    horizontal_flip=True,\n",
        "    preprocessing_function=preprocess_input\n",
        ")"
      ],
      "execution_count": 54,
      "outputs": []
    },
    {
      "cell_type": "code",
      "metadata": {
        "colab": {
          "base_uri": "https://localhost:8080/"
        },
        "id": "QnrN5JZK2xIx",
        "outputId": "edd0302b-ac45-4faf-9855-391c217f3906"
      },
      "source": [
        "# Generator\n",
        "\n",
        "batch_size = 128\n",
        "\n",
        "train_generator = gen.flow_from_directory(\n",
        "    Train_path,\n",
        "    shuffle=True,\n",
        "    target_size=IMAGE_SIZE,\n",
        "    batch_size=batch_size\n",
        ")\n",
        "\n",
        "valid_generator = gen.flow_from_directory(\n",
        "    Val_path,\n",
        "    shuffle=False,\n",
        "    target_size=IMAGE_SIZE,\n",
        "    batch_size=batch_size\n",
        ")"
      ],
      "execution_count": 55,
      "outputs": [
        {
          "output_type": "stream",
          "text": [
            "Found 57 images belonging to 2 classes.\n",
            "Found 28 images belonging to 2 classes.\n"
          ],
          "name": "stdout"
        }
      ]
    },
    {
      "cell_type": "code",
      "metadata": {
        "id": "Y4K7RBp33EbP"
      },
      "source": [
        "model.compile(\n",
        "    loss='categorical_crossentropy',  # as generator yields one-hit encoded results\n",
        "    optimizer='adam',\n",
        "    metrics=['accuracy']\n",
        ")"
      ],
      "execution_count": 56,
      "outputs": []
    },
    {
      "cell_type": "code",
      "metadata": {
        "colab": {
          "base_uri": "https://localhost:8080/"
        },
        "id": "LdK7S7ib3ISV",
        "outputId": "73c723ad-4243-486b-ca8d-2a4760625783"
      },
      "source": [
        "history = model.fit(\n",
        "    train_generator,\n",
        "    validation_data=valid_generator,\n",
        "    epochs=10,\n",
        "    steps_per_epoch=int(np.ceil(len(train_image_files)/batch_size)),\n",
        "    validation_steps=int(np.ceil(len(valid_image_files)/batch_size))\n",
        ")"
      ],
      "execution_count": 57,
      "outputs": [
        {
          "output_type": "stream",
          "text": [
            "Epoch 1/10\n",
            "1/1 [==============================] - 2s 2s/step - loss: 12.4690 - accuracy: 0.4561 - val_loss: 8.2432 - val_accuracy: 0.5000\n",
            "Epoch 2/10\n",
            "1/1 [==============================] - 1s 596ms/step - loss: 6.6020 - accuracy: 0.5439 - val_loss: 7.0800 - val_accuracy: 0.6429\n",
            "Epoch 3/10\n",
            "1/1 [==============================] - 1s 566ms/step - loss: 4.2850 - accuracy: 0.6316 - val_loss: 2.2204 - val_accuracy: 0.7500\n",
            "Epoch 4/10\n",
            "1/1 [==============================] - 1s 575ms/step - loss: 1.3398 - accuracy: 0.8070 - val_loss: 4.3857 - val_accuracy: 0.6786\n",
            "Epoch 5/10\n",
            "1/1 [==============================] - 1s 572ms/step - loss: 1.2819 - accuracy: 0.8246 - val_loss: 0.9041 - val_accuracy: 0.9286\n",
            "Epoch 6/10\n",
            "1/1 [==============================] - 1s 583ms/step - loss: 0.6673 - accuracy: 0.9298 - val_loss: 1.4174 - val_accuracy: 0.8571\n",
            "Epoch 7/10\n",
            "1/1 [==============================] - 1s 576ms/step - loss: 0.2728 - accuracy: 0.9649 - val_loss: 0.4271 - val_accuracy: 0.8571\n",
            "Epoch 8/10\n",
            "1/1 [==============================] - 1s 587ms/step - loss: 0.0082 - accuracy: 1.0000 - val_loss: 0.9155 - val_accuracy: 0.8929\n",
            "Epoch 9/10\n",
            "1/1 [==============================] - 1s 580ms/step - loss: 3.7039e-05 - accuracy: 1.0000 - val_loss: 0.6540 - val_accuracy: 0.9286\n",
            "Epoch 10/10\n",
            "1/1 [==============================] - 1s 576ms/step - loss: 0.0999 - accuracy: 0.9825 - val_loss: 0.5375 - val_accuracy: 0.9643\n"
          ],
          "name": "stdout"
        }
      ]
    },
    {
      "cell_type": "code",
      "metadata": {
        "colab": {
          "base_uri": "https://localhost:8080/",
          "height": 379
        },
        "id": "DOj4FUj_3M2e",
        "outputId": "4c189640-d96b-4168-e99f-dd08bf5a4569"
      },
      "source": [
        "plt.plot(history.history['loss'], label='train loss')\n",
        "plt.plot(history.history['val_loss'], label='valid loss')\n",
        "plt.legend()"
      ],
      "execution_count": 58,
      "outputs": [
        {
          "output_type": "execute_result",
          "data": {
            "text/plain": [
              "<matplotlib.legend.Legend at 0x7f5da54c9fd0>"
            ]
          },
          "metadata": {
            "tags": []
          },
          "execution_count": 58
        },
        {
          "output_type": "display_data",
          "data": {
            "image/png": "[encoded data removed]",
            "text/plain": [
              "<Figure size 600x400 with 1 Axes>"
            ]
          },
          "metadata": {
            "tags": [],
            "needs_background": "light"
          }
        }
      ]
    },
    {
      "cell_type": "code",
      "metadata": {
        "colab": {
          "base_uri": "https://localhost:8080/",
          "height": 379
        },
        "id": "FGjSUOry3Pj2",
        "outputId": "f7bb4719-05dd-497c-a1b5-2541e284bed1"
      },
      "source": [
        "plt.plot(history.history['accuracy'], label='train accuracy')\n",
        "plt.plot(history.history['val_accuracy'], label='valid accuracy')\n",
        "plt.legend()"
      ],
      "execution_count": 59,
      "outputs": [
        {
          "output_type": "execute_result",
          "data": {
            "text/plain": [
              "<matplotlib.legend.Legend at 0x7f5da56e7cd0>"
            ]
          },
          "metadata": {
            "tags": []
          },
          "execution_count": 59
        },
        {
          "output_type": "display_data",
          "data": {
            "image/png": "[encoded data removed]",
            "text/plain": [
              "<Figure size 600x400 with 1 Axes>"
            ]
          },
          "metadata": {
            "tags": [],
            "needs_background": "light"
          }
        }
      ]
    }
  ]
}