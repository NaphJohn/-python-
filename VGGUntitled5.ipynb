{
  "nbformat": 4,
  "nbformat_minor": 0,
  "metadata": {
    "colab": {
      "name": "VGGUntitled2.ipynb",
      "provenance": [],
      "toc_visible": true,
      "include_colab_link": true
    },
    "kernelspec": {
      "display_name": "Python 3",
      "name": "python3"
    },
    "language_info": {
      "name": "python"
    },
    "accelerator": "GPU"
  },
  "cells": [
    {
      "cell_type": "markdown",
      "metadata": {
        "id": "view-in-github",
        "colab_type": "text"
      },
      "source": [
        "<a href=\"https://colab.research.google.com/github/whkaikai/-python-/blob/main/VGGUntitled5.ipynb\" target=\"_parent\"><img src=\"https://colab.research.google.com/assets/colab-badge.svg\" alt=\"Open In Colab\"/></a>"
      ]
    },
    {
      "cell_type": "code",
      "metadata": {
        "colab": {
          "base_uri": "https://localhost:8080/"
        },
        "id": "EWDNPTmxkgo_",
        "outputId": "33a852f8-c65a-41ba-d47b-d1c622ad1896"
      },
      "source": [
        "#@title <b><font color=\"blue\" size=\"+2\">Install the all needed libraries { display-mode: \"form\" }\n",
        "%%time\n",
        "\n",
        "import pandas as pd\n",
        "import os \n",
        "import cv2 \n",
        "import h5py\n",
        "import random\n",
        "import pathlib\n",
        "import numpy as np\n",
        "\n",
        "import tensorflow as tf\n",
        "import tensorflow.keras\n",
        "\n",
        "from tensorflow.keras.layers import Dense, Flatten, Input\n",
        "from tensorflow.keras.applications.vgg16 import VGG16 , preprocess_input\n",
        "from tensorflow.keras.optimizers import SGD, Adam\n",
        "from tensorflow.keras.models import Model\n",
        "from tensorflow.keras.preprocessing import image\n",
        "from tensorflow.keras.preprocessing.image import ImageDataGenerator\n",
        "import numpy as np\n",
        "\n",
        "import matplotlib.pyplot as plt\n",
        "import sys, os\n",
        "\n",
        "from glob import glob\n",
        "from tensorflow.keras.applications.vgg16 import VGG16 , preprocess_input\n",
        "from keras.models import Model\n",
        "import matplotlib.pyplot as plt\n",
        "import matplotlib.image as mpimg\n",
        "import tensorflow.keras as keras\n",
        "from sklearn.manifold import TSNE\n",
        "from tensorflow.keras import datasets\n",
        "from tensorflow.keras.regularizers import l2\n",
        "from tensorflow.keras.optimizers import Adam\n",
        "from tensorflow.keras.utils import  plot_model\n",
        "from sklearn.model_selection import train_test_split\n",
        "from tensorflow.keras.optimizers import Adam, RMSprop\n",
        "from tensorflow.keras.applications.vgg16 import VGG16\n",
        "from tensorflow.keras.callbacks import ModelCheckpoint\n",
        "from tensorflow.keras.callbacks import ReduceLROnPlateau\n",
        "from tensorflow.keras.layers import Dense, Flatten, Dropout\n",
        "from tensorflow.keras.preprocessing.image import ImageDataGenerator, load_img\n",
        "from sklearn.metrics import classification_report, confusion_matrix, accuracy_score\n",
        "from tensorflow.keras.layers import Conv2D, MaxPooling2D, GlobalMaxPooling2D, Flatten, Dense, Dropout, Input, BatchNormalization\n",
        "from tensorflow.keras.preprocessing import image\n",
        "from tensorflow.keras.preprocessing.image import ImageDataGenerator"
      ],
      "execution_count": 6,
      "outputs": [
        {
          "output_type": "stream",
          "text": [
            "CPU times: user 120 µs, sys: 0 ns, total: 120 µs\n",
            "Wall time: 124 µs\n"
          ],
          "name": "stdout"
        }
      ]
    },
    {
      "cell_type": "code",
      "metadata": {
        "colab": {
          "base_uri": "https://localhost:8080/"
        },
        "id": "CHbwyfAS1a_l",
        "outputId": "5af6a884-00da-45ec-a808-c4da8d2a162b"
      },
      "source": [
        "from google.colab import drive\n",
        "drive.mount('/content/drive')"
      ],
      "execution_count": 7,
      "outputs": [
        {
          "output_type": "stream",
          "text": [
            "Drive already mounted at /content/drive; to attempt to forcibly remount, call drive.mount(\"/content/drive\", force_remount=True).\n"
          ],
          "name": "stdout"
        }
      ]
    },
    {
      "cell_type": "code",
      "metadata": {
        "colab": {
          "base_uri": "https://localhost:8080/"
        },
        "id": "raGuLGBA1pbe",
        "outputId": "70f8c449-4b1d-441f-c4d3-45e4f72209b3"
      },
      "source": [
        "%%bash\n",
        "pwd\n",
        "cd drive/MyDrive"
      ],
      "execution_count": 8,
      "outputs": [
        {
          "output_type": "stream",
          "text": [
            "/content\n"
          ],
          "name": "stdout"
        }
      ]
    },
    {
      "cell_type": "code",
      "metadata": {
        "colab": {
          "base_uri": "https://localhost:8080/"
        },
        "id": "xLIU94171tQI",
        "outputId": "bc00667d-2628-4b65-cad8-29fed8d0f3d0"
      },
      "source": [
        "#@title <b><font color=\"gree\" size=\"+2\">Define the path for the image{display-mode: \"form\"}\n",
        "\n",
        "# Train_path = './Train'\n",
        "# Val_path = './Validation'\n",
        "\n",
        "Train_path = '/content/drive/MyDrive/5000:5000Train'\n",
        "Val_path = '/content/drive/MyDrive/500:500Validation'\n",
        "\n",
        "images=os.listdir(Train_path)\n",
        "val_images=os.listdir(Val_path)\n",
        "print(f\"the folder of images: {images}\")\n",
        "print(f\"the folder of images: {val_images}\")"
      ],
      "execution_count": 9,
      "outputs": [
        {
          "output_type": "stream",
          "text": [
            "the folder of images: ['.DS_Store', 'WithoutMask', 'WithMask']\n",
            "the folder of images: ['.DS_Store', 'WithoutMask', 'WithMask']\n"
          ],
          "name": "stdout"
        }
      ]
    },
    {
      "cell_type": "code",
      "metadata": {
        "id": "tlUMF3GR125s"
      },
      "source": [
        "IMAGE_SIZE = [32,32]"
      ],
      "execution_count": 10,
      "outputs": []
    },
    {
      "cell_type": "code",
      "metadata": {
        "id": "4k0-AdGj1744"
      },
      "source": [
        "# number of files\n",
        "train_image_files = glob(Train_path + '/*/*.png')\n",
        "valid_image_files = glob(Val_path + '/*/*.png')"
      ],
      "execution_count": 11,
      "outputs": []
    },
    {
      "cell_type": "code",
      "metadata": {
        "colab": {
          "base_uri": "https://localhost:8080/"
        },
        "id": "qoq4idPM2LIz",
        "outputId": "ed39593d-fcdd-457f-e256-19cefcdfd647"
      },
      "source": [
        "#@title <b><font color=\"red\" size=\"+2\"> Setup GPU Strategy {display-mode: \"form\"}\n",
        "# Note that it generally has a minimum of 8 cores, but if your GPU has\n",
        "# less, you need to set this. In this case one of my GPUs has 4 cores\n",
        "# os.environ[\"TF_MIN_GPU_MULTIPROCESSOR_COUNT\"] = \"4\"\n",
        "\n",
        "# If the list of devices is not specified in the\n",
        "# `tf.distribute.MirroredStrategy` constructor, it will be auto-detected.\n",
        "# If you have *different* GPUs in your system, you probably have to set up cross_device_ops like this\n",
        "strategy = tf.distribute.MirroredStrategy(cross_device_ops=tf.distribute.HierarchicalCopyAllReduce())\n",
        "\n",
        "# one_strategy = tf.distribute.OneDeviceStrategy(device=gpu_name)  # one-device-strategy\n",
        "print ('Number of devices: {}'.format(strategy.num_replicas_in_sync))"
      ],
      "execution_count": 12,
      "outputs": [
        {
          "output_type": "stream",
          "text": [
            "WARNING:tensorflow:Collective ops is not configured at program startup. Some performance features may not be enabled.\n",
            "INFO:tensorflow:Using MirroredStrategy with devices ('/job:localhost/replica:0/task:0/device:GPU:0',)\n",
            "Number of devices: 1\n"
          ],
          "name": "stdout"
        }
      ]
    },
    {
      "cell_type": "code",
      "metadata": {
        "id": "JFnDUFuPiCEu"
      },
      "source": [
        "#@title <b><font color=\"black\" size=\"+2\"> Setup TPU Strategy if use TPU {display-mode: \"form\"}\n",
        "# %tensorflow_version 2.x\n",
        "# import tensorflow as tf\n",
        "# print(\"Tensorflow version \" + tf.__version__)\n",
        "\n",
        "# try:\n",
        "#   tpu = tf.distribute.cluster_resolver.TPUClusterResolver()  # TPU detection\n",
        "#   print('Running on TPU ', tpu.cluster_spec().as_dict()['worker'])\n",
        "# except ValueError:\n",
        "#   raise BaseException('ERROR: Not connected to a TPU runtime; please see the previous cell in this notebook for instructions!')\n",
        "\n",
        "# tf.config.experimental_connect_to_cluster(tpu)\n",
        "# tf.tpu.experimental.initialize_tpu_system(tpu)\n",
        "# strategy = tf.distribute.experimental.TPUStrategy(tpu)"
      ],
      "execution_count": 13,
      "outputs": []
    },
    {
      "cell_type": "markdown",
      "metadata": {
        "id": "0A3wtFTciKpI"
      },
      "source": [
        "# Deal input data\n",
        "\n",
        "Our input data is stored on Google Cloud Storage. To more fully use the parallelism TPUs offer us, and to avoid bottlenecking on data transfer, is better to store our input data in TFRecord files. \n",
        "500 images for two classes, with or without mask.\n",
        "\n",
        "Below, we make heavy use of `tf.data.experimental.AUTOTUNE` to optimize different parts of input loading.\n",
        "\n",
        "All of these techniques are a bit overkill for our (small) dataset, but demonstrate best practices for using TPUs."
      ]
    },
    {
      "cell_type": "code",
      "metadata": {
        "colab": {
          "base_uri": "https://localhost:8080/"
        },
        "id": "jxMHFrZbiQ9R",
        "outputId": "7dc9d6d5-8569-4044-8931-84cb1c1af5d0"
      },
      "source": [
        "#@title <b><font color=\"blue\" size=\"+2\">  ImageDataGenerator{display-mode: \"form\"}\n",
        "train_datagen = ImageDataGenerator(rescale = 1./255,\n",
        "                                   shear_range = 0.2,\n",
        "                                   zoom_range = 0.2,\n",
        "                                   rotation_range=0.2)\n",
        "\n",
        "val_datagen = ImageDataGenerator(rescale = 1./255,\n",
        "                                   shear_range = 0.2,\n",
        "                                   zoom_range = 0.2)\n",
        "\n",
        "training_set = train_datagen.flow_from_directory(Train_path,\n",
        "                                                 target_size = (32, 32),\n",
        "                                                 interpolation=\"nearest\",\n",
        "                                                 class_mode='binary',\n",
        "                                                 classes=[\"WithoutMask\",\"WithMask\"])\n",
        "\n",
        "validation_set = val_datagen.flow_from_directory(Val_path,\n",
        "                                                 target_size=(32, 32),\n",
        "                                                 interpolation=\"nearest\",\n",
        "                                                 class_mode='binary',\n",
        "                                                 classes=[\"WithoutMask\",\"WithMask\"])"
      ],
      "execution_count": 14,
      "outputs": [
        {
          "output_type": "stream",
          "text": [
            "Found 10000 images belonging to 2 classes.\n",
            "Found 1000 images belonging to 2 classes.\n"
          ],
          "name": "stdout"
        }
      ]
    },
    {
      "cell_type": "markdown",
      "metadata": {
        "id": "tX1bcHwVivnh"
      },
      "source": [
        "trainX: WithMask; trainY: WithoutMask;\n",
        "\n",
        "---\n",
        "\n",
        "valX: WithMask; valY: WithoutMask;"
      ]
    },
    {
      "cell_type": "code",
      "metadata": {
        "colab": {
          "base_uri": "https://localhost:8080/"
        },
        "id": "_R-xHSfJ2SdF",
        "outputId": "2ad88093-3ba0-479f-cde7-3fdda59a9d5b"
      },
      "source": [
        "# number of classes\n",
        "folders = glob(Train_path + '/*')\n",
        "folders"
      ],
      "execution_count": 15,
      "outputs": [
        {
          "output_type": "execute_result",
          "data": {
            "text/plain": [
              "['/content/drive/MyDrive/5000:5000Train/WithoutMask',\n",
              " '/content/drive/MyDrive/5000:5000Train/WithMask']"
            ]
          },
          "metadata": {
            "tags": []
          },
          "execution_count": 15
        }
      ]
    },
    {
      "cell_type": "markdown",
      "metadata": {
        "id": "4vqN1cKKiy_v"
      },
      "source": [
        "# Get Features(XY variable)"
      ]
    },
    {
      "cell_type": "code",
      "metadata": {
        "colab": {
          "base_uri": "https://localhost:8080/"
        },
        "id": "82lhOgOOi454",
        "outputId": "8347c32d-f1c5-4284-8d57-be5706f3b7de"
      },
      "source": [
        "#@title <b><font color=\"blue\" size=\"+2\">  Define XY variable /Shape{display-mode: \"form\"}\n",
        "def GetXY(gen):\n",
        "    listX = []\n",
        "    listY = []\n",
        "    for i in range(gen.__len__()):\n",
        "        gennext = gen.next()\n",
        "        listX.append(gennext[0])\n",
        "        listY.append(gennext[1])\n",
        "    x=np.concatenate(listX)\n",
        "    y=np.concatenate(listY)\n",
        "    return (x,y)\n",
        "\n",
        "with strategy.scope():  # use the GPU strategy, if no GPU, will continue use CPU, no need to change code so it is convenient\n",
        "  trainX,trainY = GetXY(training_set)  # now the size of train is equal to the size of validation\n",
        "  valX,valY = GetXY(validation_set)\n",
        "\n",
        "print(f\"the shape of train X is: {trainX.shape}\")\n",
        "print(f\"the shape of train Y is: {trainY.shape}\")\n",
        "print(f\"the shape of val X is: {valX.shape}\")\n",
        "print(f\"the shape of val Y is: {valY.shape}\")\n",
        "\n",
        "ImageTrainXNumber = trainX.shape[0]\n",
        "ImageTrainYNumber = trainY.shape[0]\n",
        "\n",
        "ImageValXNumber = valX.shape[0]\n",
        "ImageValYNumber = valY.shape[0]"
      ],
      "execution_count": 16,
      "outputs": [
        {
          "output_type": "stream",
          "text": [
            "the shape of train X is: (10000, 32, 32, 3)\n",
            "the shape of train Y is: (10000,)\n",
            "the shape of val X is: (1000, 32, 32, 3)\n",
            "the shape of val Y is: (1000,)\n"
          ],
          "name": "stdout"
        }
      ]
    },
    {
      "cell_type": "markdown",
      "metadata": {
        "id": "BcyDcvP1jA6G"
      },
      "source": [
        "# Use VGG-16 model\n",
        "\n",
        "---\n",
        "\n",
        "VGG-16 has 16 layers, and we use only upper 13 layers in our model. \n",
        "\n"
      ]
    },
    {
      "cell_type": "code",
      "metadata": {
        "colab": {
          "base_uri": "https://localhost:8080/"
        },
        "id": "FvSj3lRIjB1h",
        "outputId": "89cf7cb7-fb94-4973-9411-078ca7988715"
      },
      "source": [
        "with strategy.scope():  # use the GPU strategy\n",
        "  model_vgg = VGG16(include_top=False, weights='imagenet', input_shape=(32,32, 3))\n",
        "  for layers in model_vgg.layers:\n",
        "      layers.trainable = False\n",
        "\n",
        "  trainX1, valX1 = model_vgg.predict(trainX), model_vgg.predict(valX)\n",
        "\n",
        "  # tsne=TSNE()\n",
        "  # t= tsne.fit_transform(trainX1.reshape(trainX1_size,-1) ) \n",
        "  # print(f\"the shape of t is {t.shape}\")\n",
        "\n",
        "print(f\"\\nthe shape of trainX1 (trained with train X) is {trainX1.shape}\\nOriginal train X shape is {trainX.shape}\")\n",
        "print(f\"\\nthe shape of valX1 (trained with val X) is {valX1.shape}\\nOriginal val X shape is {valX.shape}\")\n",
        "\n",
        "trainX1_size = trainX1.shape[0] * trainX1.shape[-1]"
      ],
      "execution_count": 17,
      "outputs": [
        {
          "output_type": "stream",
          "text": [
            "Downloading data from https://storage.googleapis.com/tensorflow/keras-applications/vgg16/vgg16_weights_tf_dim_ordering_tf_kernels_notop.h5\n",
            "58892288/58889256 [==============================] - 0s 0us/step\n",
            "\n",
            "the shape of trainX1 (trained with train X) is (10000, 1, 1, 512)\n",
            "Original train X shape is (10000, 32, 32, 3)\n",
            "\n",
            "the shape of valX1 (trained with val X) is (1000, 1, 1, 512)\n",
            "Original val X shape is (1000, 32, 32, 3)\n"
          ],
          "name": "stdout"
        }
      ]
    },
    {
      "cell_type": "code",
      "metadata": {
        "id": "TRZCEiFejI7j",
        "outputId": "7c3c98f1-2387-47a3-afb7-754d1ce4c832",
        "colab": {
          "base_uri": "https://localhost:8080/"
        }
      },
      "source": [
        "model_vgg.summary()"
      ],
      "execution_count": 18,
      "outputs": [
        {
          "output_type": "stream",
          "text": [
            "Model: \"vgg16\"\n",
            "_________________________________________________________________\n",
            "Layer (type)                 Output Shape              Param #   \n",
            "=================================================================\n",
            "input_1 (InputLayer)         [(None, 32, 32, 3)]       0         \n",
            "_________________________________________________________________\n",
            "block1_conv1 (Conv2D)        (None, 32, 32, 64)        1792      \n",
            "_________________________________________________________________\n",
            "block1_conv2 (Conv2D)        (None, 32, 32, 64)        36928     \n",
            "_________________________________________________________________\n",
            "block1_pool (MaxPooling2D)   (None, 16, 16, 64)        0         \n",
            "_________________________________________________________________\n",
            "block2_conv1 (Conv2D)        (None, 16, 16, 128)       73856     \n",
            "_________________________________________________________________\n",
            "block2_conv2 (Conv2D)        (None, 16, 16, 128)       147584    \n",
            "_________________________________________________________________\n",
            "block2_pool (MaxPooling2D)   (None, 8, 8, 128)         0         \n",
            "_________________________________________________________________\n",
            "block3_conv1 (Conv2D)        (None, 8, 8, 256)         295168    \n",
            "_________________________________________________________________\n",
            "block3_conv2 (Conv2D)        (None, 8, 8, 256)         590080    \n",
            "_________________________________________________________________\n",
            "block3_conv3 (Conv2D)        (None, 8, 8, 256)         590080    \n",
            "_________________________________________________________________\n",
            "block3_pool (MaxPooling2D)   (None, 4, 4, 256)         0         \n",
            "_________________________________________________________________\n",
            "block4_conv1 (Conv2D)        (None, 4, 4, 512)         1180160   \n",
            "_________________________________________________________________\n",
            "block4_conv2 (Conv2D)        (None, 4, 4, 512)         2359808   \n",
            "_________________________________________________________________\n",
            "block4_conv3 (Conv2D)        (None, 4, 4, 512)         2359808   \n",
            "_________________________________________________________________\n",
            "block4_pool (MaxPooling2D)   (None, 2, 2, 512)         0         \n",
            "_________________________________________________________________\n",
            "block5_conv1 (Conv2D)        (None, 2, 2, 512)         2359808   \n",
            "_________________________________________________________________\n",
            "block5_conv2 (Conv2D)        (None, 2, 2, 512)         2359808   \n",
            "_________________________________________________________________\n",
            "block5_conv3 (Conv2D)        (None, 2, 2, 512)         2359808   \n",
            "_________________________________________________________________\n",
            "block5_pool (MaxPooling2D)   (None, 1, 1, 512)         0         \n",
            "=================================================================\n",
            "Total params: 14,714,688\n",
            "Trainable params: 0\n",
            "Non-trainable params: 14,714,688\n",
            "_________________________________________________________________\n"
          ],
          "name": "stdout"
        }
      ]
    },
    {
      "cell_type": "code",
      "metadata": {
        "id": "qzbmoUGojXRN"
      },
      "source": [
        "with strategy.scope():\n",
        "  valX1=valX1.reshape(valX1.shape[-1], -1)  # (800,-1)\n",
        "  trainX1=trainX1.reshape(ImageTrainXNumber, -1)  # (10000,-1)\n",
        "  valY=valY.reshape(valX1.shape[-1], 1)  # 800, 1\n",
        "  trainY=trainY.reshape(ImageTrainYNumber, 1)  # 10000, 1"
      ],
      "execution_count": 19,
      "outputs": []
    },
    {
      "cell_type": "code",
      "metadata": {
        "colab": {
          "base_uri": "https://localhost:8080/",
          "height": 34
        },
        "id": "IzFKrQtqkPnb",
        "outputId": "3e841688-84c5-418f-8d07-555528c0bbd2"
      },
      "source": [
        "import matplotlib.pyplot as plt\n",
        "from pylab import *\n",
        "\n",
        "plt.rcParams['figure.dpi'] = 100 #分辨率\n",
        "fig = plt.figure(figsize=[15,6])\n",
        "\n",
        "plt.show()"
      ],
      "execution_count": 20,
      "outputs": [
        {
          "output_type": "display_data",
          "data": {
            "text/plain": [
              "<Figure size 1500x600 with 0 Axes>"
            ]
          },
          "metadata": {
            "tags": []
          }
        }
      ]
    },
    {
      "cell_type": "markdown",
      "metadata": {
        "id": "k9M5gyrnlhYf"
      },
      "source": [
        "# Get matlabdata.mat/Export features"
      ]
    },
    {
      "cell_type": "code",
      "metadata": {
        "id": "y6qgMRrJlVWF"
      },
      "source": [
        "# import scipy.io as scio\n",
        "\n",
        "# scio.savemat('./matlabdata.mat', dict([('valX1', valX1),\n",
        "#                                        ('trainX1', trainX1),\n",
        "#                                       ('valY',valY),\n",
        "#                                        ('trainY', trainY)])) "
      ],
      "execution_count": 21,
      "outputs": []
    },
    {
      "cell_type": "code",
      "metadata": {
        "colab": {
          "base_uri": "https://localhost:8080/",
          "height": 383
        },
        "id": "Vp89sWaQ2a78",
        "outputId": "661a19a3-e714-4d7d-c5f5-1e5d0d59922e"
      },
      "source": [
        "# random image\n",
        "plt.imshow(image.load_img(np.random.choice(train_image_files)))"
      ],
      "execution_count": 22,
      "outputs": [
        {
          "output_type": "execute_result",
          "data": {
            "text/plain": [
              "<matplotlib.image.AxesImage at 0x7eff087db750>"
            ]
          },
          "metadata": {
            "tags": []
          },
          "execution_count": 22
        },
        {
          "output_type": "display_data",
          "data": {
            "image/png": "[encoded data removed]",
            "text/plain": [
              "<Figure size 600x400 with 1 Axes>"
            ]
          },
          "metadata": {
            "tags": [],
            "needs_background": "light"
          }
        }
      ]
    },
    {
      "cell_type": "code",
      "metadata": {
        "id": "M4c7_m7u2fGP"
      },
      "source": [
        "ptm = VGG16(\n",
        "    input_shape = IMAGE_SIZE + [3],\n",
        "    weights = 'imagenet',\n",
        "    include_top = False\n",
        ")"
      ],
      "execution_count": 23,
      "outputs": []
    },
    {
      "cell_type": "code",
      "metadata": {
        "id": "nKClsw1A2i3C"
      },
      "source": [
        "# freezing VGG16 Model weights\n",
        "ptm.trainable = False"
      ],
      "execution_count": 24,
      "outputs": []
    },
    {
      "cell_type": "code",
      "metadata": {
        "id": "kTfdqNcZ2lc_"
      },
      "source": [
        "# map data into feature vectors\n",
        "\n",
        "K = len(folders) # no. of classes\n",
        "x = Flatten()(ptm.output)\n",
        "x = Dense(K, activation='softmax')(x)"
      ],
      "execution_count": 25,
      "outputs": []
    },
    {
      "cell_type": "code",
      "metadata": {
        "id": "Qr80EvLZ2rbq"
      },
      "source": [
        "model = Model(inputs=ptm.input, outputs=x)"
      ],
      "execution_count": 26,
      "outputs": []
    },
    {
      "cell_type": "markdown",
      "metadata": {
        "id": "mS5mqKO4x9e8"
      },
      "source": [
        "# Change of picture pixels in each layer"
      ]
    },
    {
      "cell_type": "code",
      "metadata": {
        "id": "-YwFQ_k2KDAd",
        "outputId": "336c9042-033d-4fd2-bd56-d713bca006a2",
        "colab": {
          "base_uri": "https://localhost:8080/"
        }
      },
      "source": [
        "model.summary() "
      ],
      "execution_count": 27,
      "outputs": [
        {
          "output_type": "stream",
          "text": [
            "Model: \"model\"\n",
            "_________________________________________________________________\n",
            "Layer (type)                 Output Shape              Param #   \n",
            "=================================================================\n",
            "Total params: 14,715,714\n",
            "Trainable params: 1,026\n",
            "Non-trainable params: 14,714,688\n",
            "_________________________________________________________________\n"
          ],
          "name": "stdout"
        }
      ]
    },
    {
      "cell_type": "code",
      "metadata": {
        "id": "QgS4ARnd2ufS"
      },
      "source": [
        "# ImageDataGenerator\n",
        "gen = ImageDataGenerator(\n",
        "    rotation_range=20,\n",
        "    width_shift_range=0.1,\n",
        "    height_shift_range=0.1,\n",
        "    shear_range=0.1,\n",
        "    zoom_range=0.2,\n",
        "    horizontal_flip=True,\n",
        "    preprocessing_function=preprocess_input\n",
        ")"
      ],
      "execution_count": 28,
      "outputs": []
    },
    {
      "cell_type": "code",
      "metadata": {
        "colab": {
          "base_uri": "https://localhost:8080/"
        },
        "id": "QnrN5JZK2xIx",
        "outputId": "0473b0e3-492c-469f-ebd2-aaeebfcc1b99"
      },
      "source": [
        "# Generator\n",
        "\n",
        "batch_size = 128\n",
        "\n",
        "train_generator = gen.flow_from_directory(\n",
        "    Train_path,\n",
        "    shuffle=True,\n",
        "    target_size=IMAGE_SIZE,\n",
        "    batch_size=batch_size\n",
        ")\n",
        "\n",
        "valid_generator = gen.flow_from_directory(\n",
        "    Val_path,\n",
        "    shuffle=False,\n",
        "    target_size=IMAGE_SIZE,\n",
        "    batch_size=batch_size\n",
        ")"
      ],
      "execution_count": 29,
      "outputs": [
        {
          "output_type": "stream",
          "text": [
            "Found 10000 images belonging to 2 classes.\n",
            "Found 1000 images belonging to 2 classes.\n"
          ],
          "name": "stdout"
        }
      ]
    },
    {
      "cell_type": "code",
      "metadata": {
        "id": "Y4K7RBp33EbP"
      },
      "source": [
        "model.compile(\n",
        "    loss='categorical_crossentropy',  # as generator yields one-hit encoded results\n",
        "    optimizer='adam',\n",
        "    metrics=['accuracy']\n",
        ")"
      ],
      "execution_count": 30,
      "outputs": []
    },
    {
      "cell_type": "code",
      "metadata": {
        "colab": {
          "base_uri": "https://localhost:8080/"
        },
        "id": "LdK7S7ib3ISV",
        "outputId": "26f9c79f-d9fb-4908-a9f4-61fe726762f0"
      },
      "source": [
        "history = model.fit(\n",
        "    train_generator,\n",
        "    validation_data=valid_generator,\n",
        "    epochs=2,\n",
        "    steps_per_epoch=int(np.ceil(len(train_image_files)/batch_size)),\n",
        "    validation_steps=int(np.ceil(len(valid_image_files)/batch_size))\n",
        ")"
      ],
      "execution_count": 31,
      "outputs": [
        {
          "output_type": "stream",
          "text": [
            "Epoch 1/2\n",
            "79/79 [==============================] - 37s 346ms/step - loss: 5.8264 - accuracy: 0.6831 - val_loss: 1.2552 - val_accuracy: 0.9150\n",
            "Epoch 2/2\n",
            "79/79 [==============================] - 26s 336ms/step - loss: 0.9752 - accuracy: 0.9228 - val_loss: 0.7534 - val_accuracy: 0.9270\n"
          ],
          "name": "stdout"
        }
      ]
    },
    {
      "cell_type": "code",
      "metadata": {
        "id": "DOj4FUj_3M2e"
      },
      "source": [
        "# plt.plot(history.history['loss'], label='train loss')\n",
        "# plt.plot(history.history['val_loss'], label='valid loss')\n",
        "# plt.legend()"
      ],
      "execution_count": 32,
      "outputs": []
    },
    {
      "cell_type": "code",
      "metadata": {
        "id": "FGjSUOry3Pj2"
      },
      "source": [
        "# plt.plot(history.history['accuracy'], label='train accuracy')\n",
        "# plt.plot(history.history['val_accuracy'], label='valid accuracy')\n",
        "# plt.legend()"
      ],
      "execution_count": 33,
      "outputs": []
    },
    {
      "cell_type": "markdown",
      "metadata": {
        "id": "y4PtHwAqxCP4"
      },
      "source": [
        "# **Use tsne**\n",
        "\n",
        "---\n",
        "\n",
        "t-Distributed Stochastic Neighbor Embedding (t-SNE) is one tool which used for dimensionality Reduction and plot our results."
      ]
    },
    {
      "cell_type": "code",
      "metadata": {
        "id": "JseH1ymYxEm9"
      },
      "source": [
        "# with strategy.scope():\n",
        "#   tsne=TSNE()  # tsne is one small tool used to plot\n",
        "#   t= tsne.fit_transform(trainX1.reshape(trainX1_size,-1) ) \n",
        "#   print(f\"the shape of t is {t.shape}\")"
      ],
      "execution_count": 34,
      "outputs": []
    },
    {
      "cell_type": "code",
      "metadata": {
        "id": "c1DWEc6TxHWl"
      },
      "source": [
        "# for i in range(ImageTrainYNumber):       #10000\n",
        "#     if(trainY[i]==0):\n",
        "#         s0 = plt.scatter(t[i,0],t[i,1],s=20,marker='o',c='',edgecolors='b')\n",
        "#     if(trainY[i]==1):\n",
        "#         s1 = plt.scatter(t[i,0],t[i,1],s=20,marker='o',c='',edgecolors='c')\n",
        "# plt.show()"
      ],
      "execution_count": 35,
      "outputs": []
    },
    {
      "cell_type": "markdown",
      "metadata": {
        "id": "JVlzKLAbwF7y"
      },
      "source": [
        "## License\n",
        "\n",
        "---\n",
        "\n",
        "Copyright 2021 Hangkai Wang & Chidchanok Lursinsap\n",
        "\n",
        "Licensed under the Apache License, Version 2.0 (the \"License\");\n",
        "you may not use this file except in compliance with the License.\n",
        "You may obtain a copy of the License at\n",
        "\n",
        "    http://www.apache.org/licenses/LICENSE-2.0\n",
        "\n"
      ]
    },
    {
      "cell_type": "markdown",
      "metadata": {
        "id": "Z5sm0TQovRIy"
      },
      "source": [
        "# Reference:\n",
        "\n",
        "1. [TPUs in Colab](https://colab.research.google.com/notebooks/tpu.ipynb#scrollTo=hJl3vNtJOB-x)\n",
        "2. [20210528Homework1-4.ipynb](https://colab.research.google.com/drive/142-fnFghV8tAfu-T4Ce7KhHGMBTBG6JP#scrollTo=UhzVQeE-5HeT&uniqifier=1)\n",
        "3. [Introduction to t-SNE](https://www.datacamp.com/community/tutorials/introduction-t-sne)\n",
        "4. [How to build a VGG16 network using Keras and Python](https://setscholars.net/how-to-build-a-vgg16-network-using-keras-and-python/)\n",
        "5. [Step by step VGG16 implementation in Keras for beginners](https://towardsdatascience.com/step-by-step-vgg16-implementation-in-keras-for-beginners-a833c686ae6c)\n",
        "6. [开源人脸口罩检测数据+模型+代码+在线网页体验](https://zhuanlan.zhihu.com/p/107719641)\n",
        "7. [AIZOOTech/FaceMaskDetection](https://github.com/AIZOOTech/FaceMaskDetection)\n",
        "8. [Vgg-16](https://blog.csdn.net/weixin_42216109/article/details/93195479)\n",
        "9. [github VGG model](https://github.com/CristianCristanchoT/TRANSFER-LEARNING-VGG16/blob/master/TF2%20TRANSFER%20LEARNING%20PT2.ipynb)\n",
        "10. [Use VGG16 network module for migration learning, practical operation](https://blog.csdn.net/weixin_42216109/article/details/93195479）"
      ]
    }
  ]
}