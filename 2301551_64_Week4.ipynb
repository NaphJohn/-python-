{
  "nbformat": 4,
  "nbformat_minor": 0,
  "metadata": {
    "colab": {
      "name": "2301551-64-Week4.ipynb",
      "provenance": [],
      "collapsed_sections": [],
      "include_colab_link": true
    },
    "kernelspec": {
      "name": "python3",
      "display_name": "Python 3"
    }
  },
  "cells": [
    {
      "cell_type": "markdown",
      "metadata": {
        "id": "view-in-github",
        "colab_type": "text"
      },
      "source": [
        "<a href=\"https://colab.research.google.com/github/whkaikai/-python-/blob/main/2301551_64_Week4.ipynb\" target=\"_parent\"><img src=\"https://colab.research.google.com/assets/colab-badge.svg\" alt=\"Open In Colab\"/></a>"
      ]
    },
    {
      "cell_type": "markdown",
      "metadata": {
        "id": "o0QjnlXuO9fD"
      },
      "source": [
        "# Functions"
      ]
    },
    {
      "cell_type": "markdown",
      "metadata": {
        "id": "6VlTN0D4O9fA"
      },
      "source": [
        "## Function Definition"
      ]
    },
    {
      "cell_type": "markdown",
      "metadata": {
        "id": "ntDUcftgO9fA"
      },
      "source": [
        "In Python, a function can be defined as follow:\n",
        "\n",
        "\n",
        "```\n",
        "def <function_name> ( <parameter_list> ) :  # function header\n",
        "    <block_of_code>                         # function body\n",
        "```\n",
        "\n",
        "See the following examples.\n"
      ]
    },
    {
      "cell_type": "code",
      "metadata": {
        "id": "GYTtcAPAO9e9"
      },
      "source": [
        "# The function distance computes Euclidean distance between 2 points in any number of dimension.\n",
        "def distance ( p1, p2 ) :        # function name: distance\n",
        "                                 # parameters: p1, p2\n",
        "    if len(p1)==len(p2): \n",
        "        return 'size incompatible'\n",
        "    d = 0\n",
        "    for i in range(len(p1)):\n",
        "        d = d + (p1[i] - p2[i]) ** 2\n",
        "    return d**0.5"
      ],
      "execution_count": null,
      "outputs": []
    },
    {
      "cell_type": "code",
      "metadata": {
        "id": "WSAz5aHtO9e8"
      },
      "source": [
        "This function computes discrete log.\n",
        "def dlog(base, n):\n",
        "    x = 0\n",
        "    while n//base >= 1:\n",
        "        x = x+1\n",
        "        n = n // base\n",
        "    return x"
      ],
      "execution_count": null,
      "outputs": []
    },
    {
      "cell_type": "markdown",
      "metadata": {
        "id": "miWNPygNO9e7"
      },
      "source": [
        "## Function Execution"
      ]
    },
    {
      "cell_type": "markdown",
      "metadata": {
        "id": "A-hLaD2KO9e7"
      },
      "source": [
        "When a function call occurs, \n",
        "* the execution of the current function is suspended,\n",
        "* values are passes to the function through parameters, and \n",
        "* the exceution of the block of code of the function starts.\n",
        "\n",
        "The block of code of the function is executed until it reaches a ```return``` statement or the last statement of the function.\n",
        "\n",
        "If a ```return``` statement is reached, a value is passed back to the caller.\n",
        "\n",
        "\n",
        "When the statement ```return X``` is reached,\n",
        "* the value of X is passed back to the caller, and \n",
        "* the execution of the caller is resumed.\n",
        "\n",
        "\n",
        "\n",
        "\n"
      ]
    },
    {
      "cell_type": "code",
      "metadata": {
        "id": "myh9ydVRO9e5",
        "colab": {
          "base_uri": "https://localhost:8080/"
        },
        "outputId": "243e062d-559a-4472-9c3d-282c4bac9535"
      },
      "source": [
        "def distance(p1, p2):\n",
        "    print(p1,p2)\n",
        "    if len(p1)!= len(p2):\n",
        "        return 'size incompatible'   # if this line is reached, this string is sent back to the caller.\n",
        "                                     # Then, it goes back to executes the caller. And, \n",
        "                                     # the rest of the function is not executed.\n",
        "    d = 0\n",
        "    for i in range(len(p1)):\n",
        "        d = d + (p1[i]-p2[i])**2\n",
        "    return d**0.5                     # it returns sqroot of d to the caller, and\n",
        "                                      # goes back to the suspended execution of the caller.\n",
        "\n",
        "x = (3, 4.5)\n",
        "y = (-2.1, -2)\n",
        "print('X =',x)\n",
        "print('Y =',y)\n",
        "dxy = distance(x,y)     # x and y are passed to the parameters p1 p2, respectively.  \n",
        "print('distance between', x,'and', y, 'is', dxy)  \n"
      ],
      "execution_count": null,
      "outputs": [
        {
          "output_type": "stream",
          "text": [
            "X = (3, 4.5)\n",
            "Y = (-2.1, -2)\n",
            "(3, 4.5, 1) (-2.1, -2, 2)\n",
            "distance between (3, 4.5) and (-2.1, -2) is 8.322259308625272\n"
          ],
          "name": "stdout"
        }
      ]
    },
    {
      "cell_type": "markdown",
      "metadata": {
        "id": "WiwYkE19O9e5"
      },
      "source": [
        "In the program shown above, the order of execution of the statements is as follows:\n",
        "\n",
        "**12  13  14  15  16**  2  6  7  8  7  8  9  **16  17**"
      ]
    },
    {
      "cell_type": "code",
      "metadata": {
        "id": "ge2s2NVzO9e3",
        "colab": {
          "base_uri": "https://localhost:8080/"
        },
        "outputId": "e6df6193-c9f2-4d7c-bfcd-67fd3b30694f"
      },
      "source": [
        "# This function prints n lines.  There is no return statement in this function.\n",
        "def printline(n):\n",
        "    for i in range(n):\n",
        "        print('-------------------------------') # After this line is executed for the last iteration,\n",
        "                                                 # it goes back to the caller.\n",
        "print(printline(3))\n",
        "print('end')"
      ],
      "execution_count": null,
      "outputs": [
        {
          "output_type": "stream",
          "text": [
            "-------------------------------\n",
            "-------------------------------\n",
            "-------------------------------\n",
            "None\n",
            "end\n"
          ],
          "name": "stdout"
        }
      ]
    },
    {
      "cell_type": "markdown",
      "metadata": {
        "id": "qKS7Zx1-O9e2"
      },
      "source": [
        "In the program shown above, the order of execution of the statements is as follows:\n",
        "\n",
        "**6** 3 4 3 4 3 4 **7**\n",
        "\n",
        "It works as if there is a return statement in line 5.\n",
        "\n",
        "\n",
        "\n",
        "```return``` works exactly the same as ```return None```\n",
        "\n",
        "\n",
        "\n"
      ]
    },
    {
      "cell_type": "markdown",
      "metadata": {
        "id": "F7KkOFphejaO"
      },
      "source": [
        "##Exercises\n"
      ]
    },
    {
      "cell_type": "markdown",
      "metadata": {
        "id": "XxJcm_f_QxgG"
      },
      "source": [
        "Write a function `common` that takes two list as input parameters and returns a list that contains all elements in the both list.\n",
        "\n",
        "For example, \n",
        "`common([1,2,7,3,4,5,3],[2,9,4,1,3])` returns `[1, 2, 3, 4, 3]`"
      ]
    },
    {
      "cell_type": "code",
      "metadata": {
        "id": "_N6Z1AzSVPlb",
        "colab": {
          "base_uri": "https://localhost:8080/"
        },
        "outputId": "8f06dff6-a875-45c4-c706-dc2b5586b29a"
      },
      "source": [
        "def common(list_1,list_2):\n",
        "  list_3 = [i for i in list_1 if i in list_2]\n",
        "  return list_3\n",
        "\n",
        "print(common([1,2,7,3,4,5,3],[2,9,4,1,3]))"
      ],
      "execution_count": null,
      "outputs": [
        {
          "output_type": "stream",
          "name": "stdout",
          "text": [
            "[1, 2, 3, 4, 3]\n"
          ]
        }
      ]
    },
    {
      "cell_type": "markdown",
      "metadata": {
        "id": "_ZKivqBJexrw"
      },
      "source": [
        "Write a function `removeDup` that takes a list as input parameter and returns a list with no duplicate elements.\n",
        "\n",
        "For example, \n",
        "`removeDup([1,2,7,3,4,7,3])` returns `[1, 2, 4, 7, 3]`"
      ]
    },
    {
      "cell_type": "code",
      "metadata": {
        "id": "iuA2K3iRem7b",
        "colab": {
          "base_uri": "https://localhost:8080/"
        },
        "outputId": "a7780980-1fcd-4ed4-d826-8048e7162b33"
      },
      "source": [
        "def removeDup(self):\n",
        "  return_list = list(set(self))\n",
        "  return return_list\n",
        "\n",
        "self = input(\"List: \")\n",
        "print(removeDup(self))"
      ],
      "execution_count": null,
      "outputs": [
        {
          "output_type": "stream",
          "name": "stdout",
          "text": [
            "List: [1,2,7,3,4,7,3]\n",
            "[1, 2, 3, 4, 7]\n"
          ]
        }
      ]
    },
    {
      "cell_type": "markdown",
      "metadata": {
        "id": "HPVDMN29hid3"
      },
      "source": [
        "Write a function `lineCount` that takes a file name as an input parameter, and returns the number of lines in that file."
      ]
    },
    {
      "cell_type": "code",
      "metadata": {
        "id": "60fBZE1xh2D8",
        "colab": {
          "base_uri": "https://localhost:8080/"
        },
        "outputId": "41bc2d72-77b1-4d6b-f0b9-5759a29d477e"
      },
      "source": [
        "def lineCount(file_name):\n",
        "    with open(file_name, \"r\") as f:\n",
        "      line_count = 0\n",
        "      for line in f:\n",
        "        if line != \"\\n\":\n",
        "            line_count += 1  \n",
        "      return line_count\n",
        "\n",
        "file_name = input(\"File name: \")\n",
        "print(lineCount(file_name))\n"
      ],
      "execution_count": null,
      "outputs": [
        {
          "output_type": "stream",
          "name": "stdout",
          "text": [
            "File name: test.txt\n",
            "4\n"
          ]
        }
      ]
    },
    {
      "cell_type": "markdown",
      "metadata": {
        "id": "MyXw1CjdO9e2"
      },
      "source": [
        "## Parameters"
      ]
    },
    {
      "cell_type": "markdown",
      "metadata": {
        "id": "-RPvuClSO9e1"
      },
      "source": [
        "Python allows parameters to be both *positional parameters* and *keyword parameters*.\n",
        "\n",
        "When values are passed to the parameters of a function, the pairing of values and parameters can be specified by:\n",
        "\n",
        "\n",
        "*   the positions of the values and the parameters\n",
        "*   the name of the parameters.\n",
        "\n",
        "The first method is called *positional parameters*, and the second is called *keyword parameters* or *named parameters*.\n"
      ]
    },
    {
      "cell_type": "markdown",
      "metadata": {
        "id": "E43-TxsqO9e1"
      },
      "source": [
        "For **positional parameters**, a value specified in the function call is passed to the parameter in the same position. That is, the first value specified in the call is passed to the first parameter in the function header, and the second value is passed to the second parameter, as shown in the example below.\n"
      ]
    },
    {
      "cell_type": "code",
      "metadata": {
        "id": "mTBsFqkGO9ey",
        "colab": {
          "base_uri": "https://localhost:8080/",
          "height": 35
        },
        "outputId": "25e1429f-b075-4cf4-a049-2b9ecd64926f"
      },
      "source": [
        "def fnTest( a, b ):\n",
        "    print('a =',a, 'b =',b)\n",
        "\n",
        "fnTest(1, 2)"
      ],
      "execution_count": null,
      "outputs": [
        {
          "output_type": "stream",
          "text": [
            "a = 1 b = 2\n"
          ],
          "name": "stdout"
        }
      ]
    },
    {
      "cell_type": "markdown",
      "metadata": {
        "id": "_uUGKFbdO9ev"
      },
      "source": [
        "Parameters in Python usually refer to *position-or-keyword parameters*. That is, a value for the parameter can be specified in a function call either by position or by keyword or name. For **keyword parameters**, the name of the paremeter that takes a value is specified in the function call. This means programmers need to know the names of parameters. The example below shows how to use keyword parameters.\n"
      ]
    },
    {
      "cell_type": "code",
      "metadata": {
        "id": "FBrKl_srO9eu",
        "colab": {
          "base_uri": "https://localhost:8080/"
        },
        "outputId": "3131d598-f991-4abb-ede3-9f5b6caa1d78"
      },
      "source": [
        "def fnTest( a, b ):\n",
        "    print('a =',a, 'b =',b)\n",
        "\n",
        "fnTest(b=3, a=4)"
      ],
      "execution_count": null,
      "outputs": [
        {
          "output_type": "stream",
          "text": [
            "a = 4 b = 3\n"
          ],
          "name": "stdout"
        }
      ]
    },
    {
      "cell_type": "markdown",
      "metadata": {
        "id": "tbUObEPJO9et"
      },
      "source": [
        "**Default parameter values** can be specified in function definition.  If the default value of a parameter is specified and the parameter does not get a value in the function call, the default value is used for the parameter."
      ]
    },
    {
      "cell_type": "code",
      "metadata": {
        "id": "BTkDZZZ5O9es",
        "colab": {
          "base_uri": "https://localhost:8080/"
        },
        "outputId": "e5076c74-2123-4d88-a0bc-6da87c7b1ac2"
      },
      "source": [
        "def fnTest( a, b=0 ):\n",
        "    print('a =',a, 'b =',b)\n",
        "\n",
        "fnTest(3)"
      ],
      "execution_count": null,
      "outputs": [
        {
          "output_type": "stream",
          "text": [
            "a = 3 b = 0\n"
          ],
          "name": "stdout"
        }
      ]
    },
    {
      "cell_type": "markdown",
      "metadata": {
        "id": "-fJ71_-iO9er"
      },
      "source": [
        "Python allows programmers to require, at the function call, the values of some parameters to be specified by keywords only. This type of parameters is called *keyword-only parameter*.  Keyword-only parameters must be placed at  the end of parameter list after * as shown in the example below.  "
      ]
    },
    {
      "cell_type": "code",
      "metadata": {
        "id": "fLnQR3V0O9eq",
        "colab": {
          "base_uri": "https://localhost:8080/"
        },
        "outputId": "e3b131d3-e899-41ec-963b-8bddac2ad222"
      },
      "source": [
        "def fnTest( a=1, b=3, *,c ):\n",
        "    print('a =',a, 'b =',b, 'c =',c)\n",
        "\n",
        "fnTest(c=4)\n",
        "fnTest(2,c=4)\n",
        "fnTest(b=9,c=4)\n",
        "fnTest(a=9,c=4)\n",
        "fnTest(2,9,10)  # See error here"
      ],
      "execution_count": null,
      "outputs": [
        {
          "output_type": "stream",
          "text": [
            "a = 1 b = 3 c = 4\n",
            "a = 2 b = 3 c = 4\n",
            "a = 1 b = 9 c = 4\n",
            "a = 9 b = 3 c = 4\n",
            "a = 2 b = 9 c = 10\n"
          ],
          "name": "stdout"
        }
      ]
    },
    {
      "cell_type": "markdown",
      "metadata": {
        "id": "kh5bEmsTBf4_"
      },
      "source": [
        "##Exercises\n"
      ]
    },
    {
      "cell_type": "markdown",
      "metadata": {
        "id": "_BcBhdzTB0kT"
      },
      "source": [
        "Write a function `slice` that takes 4 keyword parameters\n",
        "\n",
        "*   data, which is a list and its default value is []\n",
        "*   start, which is the start position of data to be taken from the list and its default value is 0\n",
        "*   stop, which is the end position of data  to be taken from the list\n",
        "*   step, which is the number of elements that will be skipped and the default value is 1\n",
        "\n",
        "and returns a list that contains the element at the position a, a+s, a+2s, ..., a+ks, where a+ks<b.\n",
        "\n",
        "For example, `slice([1,2,3,4,5,6], stop=4)` returns `[1,2,3,4]`.\n"
      ]
    },
    {
      "cell_type": "code",
      "metadata": {
        "id": "SZtiTG7JrBsJ",
        "colab": {
          "base_uri": "https://localhost:8080/"
        },
        "outputId": "a9d8fa66-1fa0-4870-a96c-4dd38ffb4fd2"
      },
      "source": [
        "\n",
        "def slice(Data=[], start=0, *, stop=4, step=1):\n",
        "  stop = 4\n",
        "  return Data[start: stop: step]\n",
        "\n",
        "\n",
        "print(slice([1, 2, 3, 4, 5, 6, 7]))"
      ],
      "execution_count": null,
      "outputs": [
        {
          "output_type": "stream",
          "name": "stdout",
          "text": [
            "[1, 2, 3, 4]\n"
          ]
        }
      ]
    },
    {
      "cell_type": "markdown",
      "metadata": {
        "id": "ZKT_IV78O9ep"
      },
      "source": [
        "## Recursive Functions"
      ]
    },
    {
      "cell_type": "markdown",
      "metadata": {
        "id": "xN_jJDZ-O9eo"
      },
      "source": [
        "A function that calls itself is called a **recursive function**. The concept of recursive functions lends itself naturally to some problem-solving techniques such as divide-and-conquer and recurrence. \n",
        "\n",
        "The following example shows two functions computing fibonacci numbers. fibonacciR uses recursion while fibonacciI uses iteration."
      ]
    },
    {
      "cell_type": "code",
      "metadata": {
        "colab": {
          "base_uri": "https://localhost:8080/"
        },
        "id": "B-taGgygZcGa",
        "outputId": "5ab7dd37-4109-4cac-f7ed-bc531abbe84a"
      },
      "source": [
        "# n! = n * (n-1)!  if n>0\n",
        "# n! = 1           if n=0\n",
        "\n",
        "def fct(n):\n",
        "    if n<=0:\n",
        "        return 1\n",
        "    return n*fct(n-1)\n",
        "\n",
        "i = int(input('Enter i:'))\n",
        "print( fct(i))"
      ],
      "execution_count": null,
      "outputs": [
        {
          "output_type": "stream",
          "name": "stdout",
          "text": [
            "Enter i:6\n",
            "720\n"
          ]
        }
      ]
    },
    {
      "cell_type": "markdown",
      "metadata": {
        "id": "15Rgg2_-AIis"
      },
      "source": [
        "The following program show two functions that calculate fibonacci number. The function `fibonacciR` is a recursive function. The function `fibonacciI` uses loop or iterations.\n",
        "\n"
      ]
    },
    {
      "cell_type": "code",
      "metadata": {
        "id": "JhUK15FPO9en"
      },
      "source": [
        "# fib(n) = fib(n-1)+fib(n-2)  if n>=2\n",
        "# fib(n) = n                  if n=0 or n=1\n",
        "\n",
        "def fibonacciR(n):\n",
        "    if n==0 or n==1: return n\n",
        "    return fibonacciR(n-1)+fibonacciR(n-2)\n",
        "\n",
        "def fibonacciI(n):\n",
        "    if n==0 or n==1: return n\n",
        "    fn   = 1\n",
        "    fn_1 = 0\n",
        "    i = 1\n",
        "    for i in range(2, n+1):\n",
        "        fnext = fn + fn_1\n",
        "        fn_1  = fn\n",
        "        fn    = fnext\n",
        "    return fn\n",
        "\n",
        "x = int(input('Enter x:'))\n",
        "print(fibonacciR(x))\n",
        "# print(fibonacciI(x)) "
      ],
      "execution_count": null,
      "outputs": []
    },
    {
      "cell_type": "markdown",
      "metadata": {
        "id": "YoKhayuXBClP"
      },
      "source": [
        "The following function is a recursive function that finds the maximum value in the given list of numbers."
      ]
    },
    {
      "cell_type": "code",
      "metadata": {
        "id": "TN4lDrRdO9el",
        "colab": {
          "base_uri": "https://localhost:8080/"
        },
        "outputId": "8c445336-37fc-4b31-d89f-c311027e4ca7"
      },
      "source": [
        "def maxRec(x):\n",
        "    print(x)\n",
        "    n = len(x)\n",
        "    if n==1:\n",
        "        return x[0]\n",
        "    else:\n",
        "        h = n//2\n",
        "        m1 = maxRec(x[:h])\n",
        "        m2 = maxRec(x[h:])\n",
        "        if m1>m2:\n",
        "            return m1\n",
        "        else:\n",
        "            return m2\n",
        "        \n",
        "v = input('Enter numbers:').split()\n",
        "print(maxRec([float(i) for i in v]))"
      ],
      "execution_count": null,
      "outputs": [
        {
          "output_type": "stream",
          "text": [
            "Enter numbers:98 54 12 77 96 45 -8 33\n",
            "[98.0, 54.0, 12.0, 77.0, 96.0, 45.0, -8.0, 33.0]\n",
            "[98.0, 54.0, 12.0, 77.0]\n",
            "[98.0, 54.0]\n",
            "[98.0]\n",
            "[54.0]\n",
            "[12.0, 77.0]\n",
            "[12.0]\n",
            "[77.0]\n",
            "[96.0, 45.0, -8.0, 33.0]\n",
            "[96.0, 45.0]\n",
            "[96.0]\n",
            "[45.0]\n",
            "[-8.0, 33.0]\n",
            "[-8.0]\n",
            "[33.0]\n",
            "98.0\n"
          ],
          "name": "stdout"
        }
      ]
    },
    {
      "cell_type": "markdown",
      "metadata": {
        "id": "eq7_RgFiQtKQ"
      },
      "source": [
        "##Exercieses\n"
      ]
    },
    {
      "cell_type": "markdown",
      "metadata": {
        "id": "KRPZUD6jSlda"
      },
      "source": [
        "Write a **recursive** function `power` that takes two integers a and b and returns a^b.\n",
        "\n",
        "**Hint** a^10 = (a^5)^2 = ((a^2)^2 * a)^2 "
      ]
    },
    {
      "cell_type": "code",
      "metadata": {
        "id": "ngJBFQP0cXr0",
        "colab": {
          "base_uri": "https://localhost:8080/"
        },
        "outputId": "2dcd0afe-0bdb-4a1d-8052-a68a0bb387ac"
      },
      "source": [
        "def power(a, b):\n",
        "    result = 1\n",
        "\n",
        "    while b > 0:\n",
        "\n",
        "        result *= a\n",
        "        b -= 1\n",
        "    return result\n",
        "\n",
        "a, b = input(\"Enter a,b: \").split()\n",
        "a, b = int(a), int(b)\n",
        "print(power(a, b))"
      ],
      "execution_count": null,
      "outputs": [
        {
          "output_type": "stream",
          "name": "stdout",
          "text": [
            "Enter a,b: 2 3\n",
            "8\n"
          ]
        }
      ]
    },
    {
      "cell_type": "markdown",
      "metadata": {
        "id": "EmvdSoEoWuQs"
      },
      "source": [
        "Write a recursive function `count` that takes a list whose element can be\n",
        "\n",
        "*   integers\n",
        "*   lists of integers\n",
        "*   lists of lists of integers\n",
        "*   ...\n",
        "\n",
        "and an integer, and it returns the number of occurrences of the integer in the list (does not matter that it appears in which level of the list).\n",
        "\n",
        "For example, `count([1,[2],[[1],2], [1, [2]], [[[1,2,3]],[1,2],1]], 1)` returns `6`.\n",
        "\n",
        "\n",
        "\n",
        "\n"
      ]
    },
    {
      "cell_type": "code",
      "metadata": {
        "id": "AojV0RwbY6aK",
        "colab": {
          "base_uri": "https://localhost:8080/"
        },
        "outputId": "7a69bcdf-5b3c-46e2-9743-533f246b1c75"
      },
      "source": [
        "def count(list):\n",
        "    count = 0\n",
        "    for element in list_e:\n",
        "        if isinstance(element ,int):\n",
        "            count += 1\n",
        "        else:\n",
        "            count += len(element)\n",
        "    return count\n",
        "\n",
        "list_e = [3,[4],[[3],4], [3, [4]], [[[3,4,3]],[3,4],3]]\n",
        "print(f\"The number of occurrences of the integer in the list: {count(list_e)}\")"
      ],
      "execution_count": null,
      "outputs": [
        {
          "output_type": "stream",
          "name": "stdout",
          "text": [
            "The number of occurrences of the integer in the list: 9\n"
          ]
        }
      ]
    },
    {
      "cell_type": "markdown",
      "metadata": {
        "id": "mwIF6G6JaMM6"
      },
      "source": [
        "Write a recursive function flatten that takes a list whose element can be\n",
        "\n",
        "integers\n",
        "lists of integers\n",
        "lists of lists of integers\n",
        "...\n",
        "and returns a list that contains all integers that appears in any level of the list parameter.\n",
        "\n",
        "For example, `flatten([1,[2],[[1],2], [1, [2]], [[[1,2,3]],[1,2],1]])` returns `[1,2,1,2,1,2,1,2,3,1,2,1]`."
      ]
    },
    {
      "cell_type": "code",
      "metadata": {
        "colab": {
          "base_uri": "https://localhost:8080/"
        },
        "id": "h8K00K4lduQ_",
        "outputId": "35472a4d-1791-4b07-ee21-85aa30a02c41"
      },
      "source": [
        "#Lists Recursively\n",
        "def flatten(list_A):\n",
        "    if len(list_A) == 0:\n",
        "        return list_A\n",
        "    if isinstance(list_A[0], list):\n",
        "        return flatten(list_A[0]) + flatten(list_A[1:])\n",
        "    return list_A[:1] + flatten(list_A[1:])\n",
        "\n",
        "print(flatten([[1, 2, 4, 8], [6, 7], [3, 8, 9, 11], 10]))"
      ],
      "execution_count": null,
      "outputs": [
        {
          "output_type": "stream",
          "name": "stdout",
          "text": [
            "[1, 2, 4, 8, 6, 7, 3, 8, 9, 11, 10]\n"
          ]
        }
      ]
    },
    {
      "cell_type": "code",
      "metadata": {
        "colab": {
          "base_uri": "https://localhost:8080/"
        },
        "id": "GkhDYl4WbqrK",
        "outputId": "dfedd3ec-20a2-4f5b-8393-57383b06a868"
      },
      "source": [
        "#Using a List Comprehension\n",
        "from functools import reduce\n",
        "def flatten(reg_list):\n",
        "  flat_list = [item for sublist in reg_list for item in sublist]\n",
        "  return flat_list\n",
        "\n",
        "reg_list = [[1, 2, 3, 4], [5, 6, 7], [8, 9]]\n",
        "print(flatten([[1, 2, 3, 4], [5, 6, 7], [8, 9]]))"
      ],
      "execution_count": null,
      "outputs": [
        {
          "output_type": "stream",
          "name": "stdout",
          "text": [
            "[1, 2, 3, 4, 5, 6, 7, 8, 9]\n"
          ]
        }
      ]
    },
    {
      "cell_type": "markdown",
      "metadata": {
        "id": "LudxVc5IO9el"
      },
      "source": [
        "## Global variales and local variables"
      ]
    },
    {
      "cell_type": "markdown",
      "metadata": {
        "id": "4MwAXJsfO9ek"
      },
      "source": [
        "A **local variable** is a variable which is defined, i.e. assigned a value for the first time, in a function. \n",
        "\n",
        "A **global variable** is a variable which is defined, i.e. assigned a value for the first time, in the main program.\n",
        "\n",
        "A global variable can also be used in a function unless it is hidden by a local variable of the same name."
      ]
    },
    {
      "cell_type": "code",
      "metadata": {
        "id": "DWQcv_G0O9ei",
        "colab": {
          "base_uri": "https://localhost:8080/"
        },
        "outputId": "65fbc495-8b3a-413e-fff0-21ca59b16d43"
      },
      "source": [
        "def testGlobal():\n",
        "    a = b*2  # a is a local variable because it is defined in this function\n",
        "             # b is a global variable because it is not defined in this function\n",
        "    print('a  in the function :',a)  \n",
        "    print('b  in the function :',b)  \n",
        "\n",
        "a = 3        # This variable is a global variable\n",
        "b = 1\n",
        "testGlobal()\n",
        "print()\n",
        "print('a in main program:',a)\n",
        "print('b in main program:',b)"
      ],
      "execution_count": null,
      "outputs": [
        {
          "output_type": "stream",
          "text": [
            "a  in the function : 2\n",
            "b  in the function : 1\n",
            "\n",
            "a in main program: 3\n",
            "b in main program: 1\n"
          ],
          "name": "stdout"
        }
      ]
    },
    {
      "cell_type": "markdown",
      "metadata": {
        "id": "IgOQP9I3O9eg"
      },
      "source": [
        "If you want to change the value of a global variable in a function, it is not possible just to use = to assign the value because it would mean defining a local variable for that function, and the global variable will be hidden by that local variable.  In order to allow changing the value of a global variable in a function, you must first indicate that the variable is a global variable, using a **```global``` statement** as shown below.\n",
        "\n"
      ]
    },
    {
      "cell_type": "code",
      "metadata": {
        "id": "5RQ8cOz6O9ee",
        "colab": {
          "base_uri": "https://localhost:8080/"
        },
        "outputId": "d4764edc-b1ab-44ef-972f-cb230159c42e"
      },
      "source": [
        "# Reset all Runtime Environment before running the program\n",
        "\n",
        "def testGlobal():\n",
        "    global a # indicating that a is a global variable\n",
        "    a = b*2  # assignment here refering the global variable a \n",
        "    print('a  in the function :',a)  \n",
        "    print('b  in the function :',b)  \n",
        "\n",
        "a = 3\n",
        "b = 1\n",
        "print('a in main program:',a)\n",
        "print('b in main program:',b)\n",
        "print()\n",
        "testGlobal()\n",
        "print()\n",
        "print('a in main program:',a)\n",
        "print('b in main program:',b)"
      ],
      "execution_count": null,
      "outputs": [
        {
          "output_type": "stream",
          "text": [
            "a in main program: 3\n",
            "b in main program: 1\n",
            "\n",
            "a  in the function : 2\n",
            "b  in the function : 1\n",
            "\n",
            "a in main program: 2\n",
            "b in main program: 1\n"
          ],
          "name": "stdout"
        }
      ]
    },
    {
      "cell_type": "markdown",
      "metadata": {
        "id": "gOTh-qpuO9ed"
      },
      "source": [
        "The following example uses a global variable to count how many time the recursive function `maxRec` is called."
      ]
    },
    {
      "cell_type": "code",
      "metadata": {
        "id": "Ba2JrpNvO9ec",
        "colab": {
          "base_uri": "https://localhost:8080/"
        },
        "outputId": "5c0094e1-343a-4ddd-c14d-e0bda136ceb3"
      },
      "source": [
        "def maxRec(x):\n",
        "    global callNum\n",
        "    callNum = callNum+1\n",
        "    n = len(x)\n",
        "    if n==1:\n",
        "        return x[0]\n",
        "    else:\n",
        "        h = n//2\n",
        "        m1 = maxRec(x[:h])\n",
        "        m2 = maxRec(x[h:])\n",
        "        if m1>m2:\n",
        "            return m1\n",
        "        else:\n",
        "            return m2\n",
        "        \n",
        "v = input('Enter numbers:').split()\n",
        "callNum = 0\n",
        "print(maxRec([float(i) for i in v]))\n",
        "print('maxRec is called',callNum, 'times.')"
      ],
      "execution_count": null,
      "outputs": [
        {
          "output_type": "stream",
          "text": [
            "Enter numbers:9 4 7 5 \n",
            "9.0\n",
            "maxRec is called 7 times.\n"
          ],
          "name": "stdout"
        }
      ]
    },
    {
      "cell_type": "markdown",
      "metadata": {
        "id": "RXr2VZaFO9eb"
      },
      "source": [
        "A local variable defined in a function cannot be seen outside that function."
      ]
    },
    {
      "cell_type": "code",
      "metadata": {
        "id": "-jnrI--QO9ea",
        "colab": {
          "base_uri": "https://localhost:8080/",
          "height": 238
        },
        "outputId": "1b2b7a6a-a14c-49d5-e56a-ba07f165ab46"
      },
      "source": [
        "# Reset all Runtime Environment before running the program\n",
        "def testLocal():\n",
        "    a = 1\n",
        "    print('a in function:',a)\n",
        "    \n",
        "b = 2\n",
        "testLocal()\n",
        "print('b in main:',b)\n",
        "print('a in main:',a)   # cannot see the local variable a in testLocal"
      ],
      "execution_count": null,
      "outputs": [
        {
          "output_type": "stream",
          "text": [
            "a in function: 1\n",
            "b in main: 2\n"
          ],
          "name": "stdout"
        },
        {
          "output_type": "error",
          "ename": "NameError",
          "evalue": "ignored",
          "traceback": [
            "\u001b[0;31m---------------------------------------------------------------------------\u001b[0m",
            "\u001b[0;31mNameError\u001b[0m                                 Traceback (most recent call last)",
            "\u001b[0;32m<ipython-input-1-40be3d5d0566>\u001b[0m in \u001b[0;36m<module>\u001b[0;34m()\u001b[0m\n\u001b[1;32m      7\u001b[0m \u001b[0mtestLocal\u001b[0m\u001b[0;34m(\u001b[0m\u001b[0;34m)\u001b[0m\u001b[0;34m\u001b[0m\u001b[0;34m\u001b[0m\u001b[0m\n\u001b[1;32m      8\u001b[0m \u001b[0mprint\u001b[0m\u001b[0;34m(\u001b[0m\u001b[0;34m'b in main:'\u001b[0m\u001b[0;34m,\u001b[0m\u001b[0mb\u001b[0m\u001b[0;34m)\u001b[0m\u001b[0;34m\u001b[0m\u001b[0;34m\u001b[0m\u001b[0m\n\u001b[0;32m----> 9\u001b[0;31m \u001b[0mprint\u001b[0m\u001b[0;34m(\u001b[0m\u001b[0;34m'a in main:'\u001b[0m\u001b[0;34m,\u001b[0m\u001b[0ma\u001b[0m\u001b[0;34m)\u001b[0m   \u001b[0;31m# cannot see the local variable a in testLocal\u001b[0m\u001b[0;34m\u001b[0m\u001b[0;34m\u001b[0m\u001b[0m\n\u001b[0m",
            "\u001b[0;31mNameError\u001b[0m: name 'a' is not defined"
          ]
        }
      ]
    },
    {
      "cell_type": "code",
      "metadata": {
        "colab": {
          "base_uri": "https://localhost:8080/"
        },
        "id": "GH_nH1PYoJme",
        "outputId": "6821e4dc-4290-4ea0-b5ff-0694a4336a0e"
      },
      "source": [
        "# def fibonacciR(n):\n",
        "#     if n==0 or n==1: return n\n",
        "#     return fibonacciR(n-1)+fibonacciR(n-2)\n",
        "\n",
        "fibTable = {0:0, 1:1}\n",
        "\n",
        "def fibonacciR(n):\n",
        "    global fibTable\n",
        "    if n not in fibTable: \n",
        "        fibTable[n] = fibonacciR(n-1)+fibonacciR(n-2)\n",
        "    return fibTable[n]\n",
        "\n",
        "print(fibonacciR(10))"
      ],
      "execution_count": null,
      "outputs": [
        {
          "output_type": "stream",
          "text": [
            "55\n"
          ],
          "name": "stdout"
        }
      ]
    },
    {
      "cell_type": "markdown",
      "metadata": {
        "id": "0TojC4yHO9eZ"
      },
      "source": [
        "## Local functions"
      ]
    },
    {
      "cell_type": "markdown",
      "metadata": {
        "id": "PnU8zUTJO9eY"
      },
      "source": [
        "Python allows programmers to define a function which is local in another function, as shown in the example below.  If a function is defined within another function, it cannot be seen outside that function.  \n",
        "\n",
        "We can create two functions with the same name which are local to two different functions."
      ]
    },
    {
      "cell_type": "code",
      "metadata": {
        "id": "_cjBtT0tO9eW",
        "colab": {
          "base_uri": "https://localhost:8080/",
          "height": 290
        },
        "outputId": "d1849df7-ac90-4329-df25-fc8893c5630d"
      },
      "source": [
        "def f1():\n",
        "    \n",
        "    def g(x):  # g is a local function for f1; cannot be seen outside f1\n",
        "        print('>>>>By g in f1',x)\n",
        "        \n",
        "    print('>>By f1')\n",
        "    g(1)      # call the local g, NOT g which is in f2\n",
        "    \n",
        "def f2():\n",
        "    \n",
        "    def g(): # g is a local function for f1; cannot be seen outside f2\n",
        "        print('>>>>By g in f2')\n",
        "        \n",
        "    print('>>By f2')\n",
        "    g()      # call the local g, NOT g which is in f1\n",
        "\n",
        "f1()\n",
        "f2()\n",
        "# if call g here, error occurs because both functions g are seen only in, but not outside, f1 and f2.\n",
        "   "
      ],
      "execution_count": null,
      "outputs": [
        {
          "output_type": "stream",
          "text": [
            ">>By f1\n",
            ">>>>By g in f1 1\n",
            ">>By f2\n",
            ">>>>By g in f2\n"
          ],
          "name": "stdout"
        },
        {
          "output_type": "error",
          "ename": "NameError",
          "evalue": "ignored",
          "traceback": [
            "\u001b[0;31m---------------------------------------------------------------------------\u001b[0m",
            "\u001b[0;31mNameError\u001b[0m                                 Traceback (most recent call last)",
            "\u001b[0;32m<ipython-input-7-c7719156b7ef>\u001b[0m in \u001b[0;36m<module>\u001b[0;34m()\u001b[0m\n\u001b[1;32m     18\u001b[0m \u001b[0mf2\u001b[0m\u001b[0;34m(\u001b[0m\u001b[0;34m)\u001b[0m\u001b[0;34m\u001b[0m\u001b[0;34m\u001b[0m\u001b[0m\n\u001b[1;32m     19\u001b[0m \u001b[0;31m# if call g here, error occurs because both functions g are seen only in, but not outside, f1 and f2.\u001b[0m\u001b[0;34m\u001b[0m\u001b[0;34m\u001b[0m\u001b[0;34m\u001b[0m\u001b[0m\n\u001b[0;32m---> 20\u001b[0;31m \u001b[0mg\u001b[0m\u001b[0;34m(\u001b[0m\u001b[0;34m)\u001b[0m\u001b[0;34m\u001b[0m\u001b[0;34m\u001b[0m\u001b[0m\n\u001b[0m",
            "\u001b[0;31mNameError\u001b[0m: name 'g' is not defined"
          ]
        }
      ]
    },
    {
      "cell_type": "markdown",
      "metadata": {
        "id": "_Fa3lD4VO9eT"
      },
      "source": [
        "## Lambda Functions"
      ]
    },
    {
      "cell_type": "markdown",
      "metadata": {
        "id": "wklEHgVmO9eT"
      },
      "source": [
        "A `lambda` function is an anonymous function.  \n",
        "  \n",
        "Normally, programmers use lambda to create small functions which are used only once.\n",
        "\n",
        "\n"
      ]
    },
    {
      "cell_type": "code",
      "metadata": {
        "id": "Z4yjiisJO9eM",
        "colab": {
          "base_uri": "https://localhost:8080/"
        },
        "outputId": "ee68187a-63d0-45b4-8519-06dfeee47404"
      },
      "source": [
        "expense = [['January','31000'],['February','21000'],['March','24000'],['May', '19000']]\n",
        "expense.sort(key=lambda x : float(x[1]))\n",
        "print(expense)"
      ],
      "execution_count": null,
      "outputs": [
        {
          "output_type": "stream",
          "text": [
            "[['May', '19000'], ['February', '21000'], ['March', '24000'], ['January', '31000']]\n"
          ],
          "name": "stdout"
        }
      ]
    },
    {
      "cell_type": "markdown",
      "metadata": {
        "id": "yyrTWM_xO9eK"
      },
      "source": [
        "`lambda x : float(x[1])` defines an anonymous function that is the same as the function `get2nd` shown below."
      ]
    },
    {
      "cell_type": "code",
      "metadata": {
        "id": "WueC8jCqO9eF",
        "colab": {
          "base_uri": "https://localhost:8080/"
        },
        "outputId": "9cc73f2f-198e-4297-9d42-3315bcd8531f"
      },
      "source": [
        "def get2nd(x):\n",
        "    return float(x[1])\n",
        "\n",
        "expense = [['January','31000'],['February','21000'],['March','24000'],['May', '19000']]\n",
        "expense.sort(key=get2nd)\n",
        "print(expense)"
      ],
      "execution_count": null,
      "outputs": [
        {
          "output_type": "stream",
          "text": [
            "[['May', '19000'], ['February', '21000'], ['March', '24000'], ['January', '31000']]\n"
          ],
          "name": "stdout"
        }
      ]
    },
    {
      "cell_type": "markdown",
      "metadata": {
        "id": "Dje0imnXO9eF"
      },
      "source": [
        "We can also assign an anonymous function to a name.  This is the same as defining a function using `def`."
      ]
    },
    {
      "cell_type": "code",
      "metadata": {
        "id": "nsQPS-PoO9eA",
        "colab": {
          "base_uri": "https://localhost:8080/",
          "height": 34
        },
        "outputId": "18641644-3840-486b-934d-d17f7b50a625"
      },
      "source": [
        "get2nd = lambda x : float(x[1])  # same as def get2nd(x): return float(x[1])\n",
        "\n",
        "expense = [['January','31000'],['February','21000'],['March','24000'],['May', '19000']]\n",
        "expense.sort(key=get2nd)\n",
        "print(expense)"
      ],
      "execution_count": null,
      "outputs": [
        {
          "output_type": "stream",
          "text": [
            "[['May', '19000'], ['February', '21000'], ['March', '24000'], ['January', '31000']]\n"
          ],
          "name": "stdout"
        }
      ]
    },
    {
      "cell_type": "markdown",
      "metadata": {
        "id": "iZ4nkIp2O9d-"
      },
      "source": [
        "Furthermore, we can use `lambda` to create different functions.\n",
        "\n",
        "\n"
      ]
    },
    {
      "cell_type": "code",
      "metadata": {
        "id": "pWoQCJyeO9d5",
        "colab": {
          "base_uri": "https://localhost:8080/"
        },
        "outputId": "865f190f-5973-48b1-f522-23ad2442f484"
      },
      "source": [
        "def erase(x):\n",
        "  return lambda a : [item for item in a if item!=x]\n",
        "\n",
        "erase1 = erase(1)   # erase1 is a function\n",
        "erase0 = erase(0)   # erase0 is a function\n",
        "\n",
        "print(erase0([3,0,2,1,3,0,1]))\n",
        "print(erase1([3,0,2,1,3,0,1]))"
      ],
      "execution_count": null,
      "outputs": [
        {
          "output_type": "stream",
          "text": [
            "[3, 2, 1, 3, 1]\n",
            "[3, 0, 2, 3, 0]\n"
          ],
          "name": "stdout"
        }
      ]
    },
    {
      "cell_type": "markdown",
      "metadata": {
        "id": "717jwfoYO9d3"
      },
      "source": [
        "**Higher order function**\n",
        "A function can also be passed as a parameter for another function."
      ]
    },
    {
      "cell_type": "code",
      "metadata": {
        "id": "ZMav0VSRO9dx",
        "colab": {
          "base_uri": "https://localhost:8080/"
        },
        "outputId": "d0e3f53b-2da6-4a39-f443-bbe785c9ca7e"
      },
      "source": [
        "import math\n",
        "\n",
        "def integrate(f,a,b,s):\n",
        "    total = 0\n",
        "    for x in range(a,b,s):\n",
        "        total = total+f(x)*s\n",
        "    return total\n",
        "\n",
        "#print(integrate(lambda x: x*x, 1, 50, 2))\n",
        "\n",
        "print(integrate(math.sin,0, 40, 1))"
      ],
      "execution_count": null,
      "outputs": [
        {
          "output_type": "stream",
          "text": [
            "1.1530982471151352\n"
          ],
          "name": "stdout"
        }
      ]
    },
    {
      "cell_type": "markdown",
      "metadata": {
        "id": "2mPwQM2DTnQ3"
      },
      "source": [
        "# Exercises "
      ]
    },
    {
      "cell_type": "markdown",
      "metadata": {
        "id": "T1hQKeDJVUL2"
      },
      "source": [
        "Problem 1:\n",
        "\n",
        "Write a function `listNum` that takes a list as input and returns the list that contains only numbers, i.e. integers and floats.\n",
        "\n",
        "If the input is not a list, then returns an empty list.\n",
        "\n",
        "Examples: \n",
        "\n",
        "`listNum([1, 'Bangkok', [1,2], 2.6, {}, 0])` returns `[1, 2.6, 0]`\n",
        "\n",
        "`listNum({2:9, 3:6})` returns `[]`"
      ]
    },
    {
      "cell_type": "code",
      "metadata": {
        "id": "ad7oMv9PYFm3",
        "colab": {
          "base_uri": "https://localhost:8080/"
        },
        "outputId": "9211eef1-def9-487a-a15a-259deabca9e4"
      },
      "source": [
        "def listNum(list_a):\n",
        "  return_list = []\n",
        "  for item in list_a:\n",
        "    if isinstance(item,int) or isinstance(item,float):\n",
        "      return_list.append(item)\n",
        "  return return_list\n",
        "list_a = input(\"Enter: \")\n",
        "print(listNum([1, 'Bangkok', [1,2], 2.6, {}, 0]))"
      ],
      "execution_count": null,
      "outputs": [
        {
          "output_type": "stream",
          "name": "stdout",
          "text": [
            "Enter: [1, 'Bangkok', [1,2], 2.6, {}, 0]\n",
            "[1, 2.6, 0]\n"
          ]
        }
      ]
    },
    {
      "cell_type": "markdown",
      "metadata": {
        "id": "ojWduJCTTtm1"
      },
      "source": [
        "2. Write a function stDev that takes a list of numbers as input, and returns the standard deviation of values in the list. \n",
        "\n",
        "(See definition of standard deviation at https://www.statisticshowto.com/probability-and-statistics/standard-deviation/#SDD )\n",
        "\n",
        "\n"
      ]
    },
    {
      "cell_type": "code",
      "metadata": {
        "id": "UhbHzeTmVTEz",
        "colab": {
          "base_uri": "https://localhost:8080/"
        },
        "outputId": "5a10f807-9572-4a9b-8c9a-42f8a4418bd5"
      },
      "source": [
        "def stDev(w):\n",
        "  sum=0\n",
        "  res = 0\n",
        "  for item in nums:\n",
        "    sum += item\n",
        "  avg = sum/len(nums)\n",
        "  for item in nums:\n",
        "    res += (item-avg)**2\n",
        "  return (res/(len(nums)-1))**0.5\n",
        "nums=[30,56,78,24,57,89,167,34,28,45,29]\n",
        "print(stDev(nums))"
      ],
      "execution_count": null,
      "outputs": [
        {
          "output_type": "stream",
          "name": "stdout",
          "text": [
            "42.03915923387275\n"
          ]
        }
      ]
    },
    {
      "cell_type": "markdown",
      "metadata": {
        "id": "tkYx9K9nb2Mf"
      },
      "source": [
        "Problem 3\n",
        "\n",
        "Body mass index (BMI) is w**2/h, where w is weight in kg. in h is height in m.\n",
        "\n",
        "Write a function `bmi` that takes weight, height and their units as 4 input parameters, and returns BMI.\n",
        "*   The function `bmi` takes at least two parameters - weight and height.\n",
        "* All parameters can be specified by keyword. `w` for weight, `h` for height, `wUnit` for the unit of weight, which can be kg or lbs, and `hUnit` for the unit of height, which can be cm, m, or ft.\n",
        "*   The unit of weight or height can be omitted, and it is assumed that the weight is in kg. and the height is in m.\n",
        "\n",
        "* If the parameters are not specified by keyword, the first parameter is weight, the second is height, the third is the unit of weight, and the last is the unit of height.\n",
        "\n",
        "\n",
        " "
      ]
    },
    {
      "cell_type": "code",
      "metadata": {
        "id": "sUssfZqogKza",
        "colab": {
          "base_uri": "https://localhost:8080/"
        },
        "outputId": "f42a6a36-c4ab-4acf-a3ba-79674d920748"
      },
      "source": [
        "w,h=input(\"Please enter your weight and height: \").split()\n",
        "wUnit,hUnit = input(\"Please enter the weight unit and height unit: \").split()\n",
        "def bmi(w,h,wUnit=\"kg\",hUnit=\"m\"):\n",
        "  w=float(w)\n",
        "  h=float(h)\n",
        "  if wUnit==\"lbs\":\n",
        "    w = w*0.453592\n",
        "  if hUnit==\"cm\":\n",
        "    h=h/100\n",
        "  elif hUnit == \"ft\":\n",
        "    h=h*0.3048\n",
        "  return w/h**2\n",
        "print(bmi(w,h,wUnit,hUnit))"
      ],
      "execution_count": null,
      "outputs": [
        {
          "output_type": "stream",
          "name": "stdout",
          "text": [
            "Please enter your weight and height: 55 170\n",
            "Please enter the weight unit and height unit: kg cm\n",
            "19.031141868512112\n"
          ]
        }
      ]
    },
    {
      "cell_type": "markdown",
      "metadata": {
        "id": "KLRhHMNijpL3"
      },
      "source": [
        "Problem 4\n",
        "\n",
        "Given the function `wait(n)`, which loops `n` times without doing anything in the loop. \n",
        "\n",
        "\n",
        "\n",
        "```\n",
        "def wait(n):\n",
        "    for i in range(n): pass\n",
        "```\n",
        "\n",
        "Modify this function so that we can count how many of these useless loops this function performed by all call in our program."
      ]
    },
    {
      "cell_type": "code",
      "metadata": {
        "id": "lxzYlIdeXpW6",
        "colab": {
          "base_uri": "https://localhost:8080/"
        },
        "outputId": "25c7171a-f6fc-450f-fde7-b79c6edd768f"
      },
      "source": [
        "def wait(n):\n",
        "  count = 0\n",
        "  for i in range(n):\n",
        "    count += 1\n",
        "    pass\n",
        "  return count\n",
        "print(wait(390))"
      ],
      "execution_count": null,
      "outputs": [
        {
          "output_type": "stream",
          "name": "stdout",
          "text": [
            "390\n"
          ]
        }
      ]
    },
    {
      "cell_type": "code",
      "metadata": {
        "id": "cHIgs9lbkvI8",
        "colab": {
          "base_uri": "https://localhost:8080/"
        },
        "outputId": "dc179362-a192-48ee-899b-f00d72b025d4"
      },
      "source": [
        "def wait(n):\n",
        "    for i in range(n): pass"
      ],
      "execution_count": null,
      "outputs": [
        {
          "output_type": "stream",
          "text": [
            "0\n",
            "100000\n",
            "112345\n"
          ],
          "name": "stdout"
        }
      ]
    },
    {
      "cell_type": "markdown",
      "metadata": {
        "id": "b0-Eq1iTnwFk"
      },
      "source": [
        "Problem 5:\n",
        "\n",
        "Write a program that reads the student score from a file whose name is specified by the user input from keyboard, and loops to read instructions from the user. There are five  instructions:\n",
        "\n",
        "\n",
        "1.   `A sid sc` is to add `sc` as the score of student `sid`.\n",
        "2.   `D sid` is to delete the record of student `sid`.\n",
        "3.   `C sid sc` is to change the score of student `sid` to `sc` (if there is no previous score of that student, show error message but do not add the new record).\n",
        "4.   `S sid` is to show the score of student `sid`, if there is the data, and shows error message otherwise.\n",
        "5. `X` is to stop the program.\n",
        "\n",
        "\n",
        "The program contains:\n",
        "* a function that reads the student score from a file whose name is specified as the parameter, and creates a dictionary so that we can easily search a student score from his/her name. (The file is a CSV file that contains student ID and his/her exam score.),\n",
        "* a function that finds a student score to the dictionary,\n",
        "* a function that deletes a student record from the dictionary,\n",
        "* a function that adds a student score to the dictionary,\n",
        "* a function that changes a student score to the dictionary.\n"
      ]
    },
    {
      "cell_type": "code",
      "metadata": {
        "id": "4-JuLGnIt0ce"
      },
      "source": [
        "class Solution(name): \n",
        "  while name != x:\n",
        "    with open(\"test.csv\",\"r\") as f:\n",
        "      w = {}\n",
        "      types = [int, str, int]\n",
        "    \n",
        "    def read(name):\n",
        "      for line in f:\n",
        "        studentID, name, grade = [f(x) for (f, x) in zip(types, line.split(' '))]\n",
        "        if name in w:\n",
        "          w[name] = grade\n",
        "        else:\n",
        "          print(\"Error. No this student.\")\n",
        "      return w\n",
        "  \n",
        "    def delete(name):\n",
        "      w.pop(name)\n",
        "      return w\n",
        "  \n",
        "    def add(name):\n",
        "      w[name] = score\n",
        "      return w\n",
        "\n",
        "    def change(name):\n",
        "      w[name] = score\n",
        "      return w\n",
        "\n",
        "name = input(\"The student name is : \")"
      ],
      "execution_count": null,
      "outputs": []
    }
  ]
}