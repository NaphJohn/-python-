{
  "nbformat": 4,
  "nbformat_minor": 0,
  "metadata": {
    "colab": {
      "name": "MLP-smilesVAEversion0.ipynb",
      "provenance": [],
      "toc_visible": true,
      "authorship_tag": "ABX9TyMisveAuYn3SIO0xv6NmJrr",
      "include_colab_link": true
    },
    "kernelspec": {
      "name": "python3",
      "display_name": "Python 3"
    },
    "language_info": {
      "name": "python"
    }
  },
  "cells": [
    {
      "cell_type": "markdown",
      "metadata": {
        "id": "view-in-github",
        "colab_type": "text"
      },
      "source": [
        "<a href=\"https://colab.research.google.com/github/whkaikai/-python-/blob/main/MLP_smilesVAEversion0.ipynb\" target=\"_parent\"><img src=\"https://colab.research.google.com/assets/colab-badge.svg\" alt=\"Open In Colab\"/></a>"
      ]
    },
    {
      "cell_type": "code",
      "execution_count": 3,
      "metadata": {
        "id": "D2phdi2KWhXe"
      },
      "outputs": [],
      "source": [
        "import torch\n",
        "import pandas as pd\n",
        "\n",
        "\n",
        "device = torch.device('cuda' if torch.cuda.is_available() else 'cpu')\n",
        "SMILES_COL = \"Open Babel SMILES\"\n",
        "TARGET_COL = 'HOMO-LUMO gap'\n",
        "SMILES_MAXLEN = 50\n",
        "BATCH_SIZE = 10"
      ]
    },
    {
      "cell_type": "code",
      "source": [
        "df_reg= pd.read_csv('/content/MLPsmiles0.csv')"
      ],
      "metadata": {
        "id": "aU5gO1wCW7oN"
      },
      "execution_count": 6,
      "outputs": []
    },
    {
      "cell_type": "code",
      "source": [
        "df_reg[[\"Open Babel SMILES\", \"HOMO-LUMO gap\"]]"
      ],
      "metadata": {
        "colab": {
          "base_uri": "https://localhost:8080/",
          "height": 363
        },
        "id": "Xslet_DAXToE",
        "outputId": "316cdc5b-da9f-459b-b1ba-d36a5c2a8b37"
      },
      "execution_count": 7,
      "outputs": [
        {
          "output_type": "execute_result",
          "data": {
            "text/plain": [
              "                     Open Babel SMILES  HOMO-LUMO gap\n",
              "0  CN(CCCN1C(=CC(=C[C@@H](C1=O)C)C)C)C          5.064\n",
              "1                    OCc1c(C)cc(cc1C)C          6.041\n",
              "2                   OCc1cc(C)cc(c1O)CO          5.576\n",
              "3                  Oc1ccc(c(c1)C)C(C)C          5.837\n",
              "4   C/C/1=C\\CC(C)(C)/C=C/C/C(=C\\CC1)/C          6.229\n",
              "5                  Oc1cc(O)c(c(c1O)C)O          5.124\n",
              "6                    OCc1occ(c(=O)c1)O          5.154\n",
              "7                   Cc1cc2[nH]cnc2cc1C          5.625\n",
              "8                    CC(c1cccc(c1O)C)C          5.984\n",
              "9               Cc1cc(N)cc(c1N(=O)=O)C          4.250"
            ],
            "text/html": [
              "\n",
              "  <div id=\"df-d450e7ea-d0ee-4611-9f98-253e729702e0\">\n",
              "    <div class=\"colab-df-container\">\n",
              "      <div>\n",
              "<style scoped>\n",
              "    .dataframe tbody tr th:only-of-type {\n",
              "        vertical-align: middle;\n",
              "    }\n",
              "\n",
              "    .dataframe tbody tr th {\n",
              "        vertical-align: top;\n",
              "    }\n",
              "\n",
              "    .dataframe thead th {\n",
              "        text-align: right;\n",
              "    }\n",
              "</style>\n",
              "<table border=\"1\" class=\"dataframe\">\n",
              "  <thead>\n",
              "    <tr style=\"text-align: right;\">\n",
              "      <th></th>\n",
              "      <th>Open Babel SMILES</th>\n",
              "      <th>HOMO-LUMO gap</th>\n",
              "    </tr>\n",
              "  </thead>\n",
              "  <tbody>\n",
              "    <tr>\n",
              "      <th>0</th>\n",
              "      <td>CN(CCCN1C(=CC(=C[C@@H](C1=O)C)C)C)C</td>\n",
              "      <td>5.064</td>\n",
              "    </tr>\n",
              "    <tr>\n",
              "      <th>1</th>\n",
              "      <td>OCc1c(C)cc(cc1C)C</td>\n",
              "      <td>6.041</td>\n",
              "    </tr>\n",
              "    <tr>\n",
              "      <th>2</th>\n",
              "      <td>OCc1cc(C)cc(c1O)CO</td>\n",
              "      <td>5.576</td>\n",
              "    </tr>\n",
              "    <tr>\n",
              "      <th>3</th>\n",
              "      <td>Oc1ccc(c(c1)C)C(C)C</td>\n",
              "      <td>5.837</td>\n",
              "    </tr>\n",
              "    <tr>\n",
              "      <th>4</th>\n",
              "      <td>C/C/1=C\\CC(C)(C)/C=C/C/C(=C\\CC1)/C</td>\n",
              "      <td>6.229</td>\n",
              "    </tr>\n",
              "    <tr>\n",
              "      <th>5</th>\n",
              "      <td>Oc1cc(O)c(c(c1O)C)O</td>\n",
              "      <td>5.124</td>\n",
              "    </tr>\n",
              "    <tr>\n",
              "      <th>6</th>\n",
              "      <td>OCc1occ(c(=O)c1)O</td>\n",
              "      <td>5.154</td>\n",
              "    </tr>\n",
              "    <tr>\n",
              "      <th>7</th>\n",
              "      <td>Cc1cc2[nH]cnc2cc1C</td>\n",
              "      <td>5.625</td>\n",
              "    </tr>\n",
              "    <tr>\n",
              "      <th>8</th>\n",
              "      <td>CC(c1cccc(c1O)C)C</td>\n",
              "      <td>5.984</td>\n",
              "    </tr>\n",
              "    <tr>\n",
              "      <th>9</th>\n",
              "      <td>Cc1cc(N)cc(c1N(=O)=O)C</td>\n",
              "      <td>4.250</td>\n",
              "    </tr>\n",
              "  </tbody>\n",
              "</table>\n",
              "</div>\n",
              "      <button class=\"colab-df-convert\" onclick=\"convertToInteractive('df-d450e7ea-d0ee-4611-9f98-253e729702e0')\"\n",
              "              title=\"Convert this dataframe to an interactive table.\"\n",
              "              style=\"display:none;\">\n",
              "        \n",
              "  <svg xmlns=\"http://www.w3.org/2000/svg\" height=\"24px\"viewBox=\"0 0 24 24\"\n",
              "       width=\"24px\">\n",
              "    <path d=\"M0 0h24v24H0V0z\" fill=\"none\"/>\n",
              "    <path d=\"M18.56 5.44l.94 2.06.94-2.06 2.06-.94-2.06-.94-.94-2.06-.94 2.06-2.06.94zm-11 1L8.5 8.5l.94-2.06 2.06-.94-2.06-.94L8.5 2.5l-.94 2.06-2.06.94zm10 10l.94 2.06.94-2.06 2.06-.94-2.06-.94-.94-2.06-.94 2.06-2.06.94z\"/><path d=\"M17.41 7.96l-1.37-1.37c-.4-.4-.92-.59-1.43-.59-.52 0-1.04.2-1.43.59L10.3 9.45l-7.72 7.72c-.78.78-.78 2.05 0 2.83L4 21.41c.39.39.9.59 1.41.59.51 0 1.02-.2 1.41-.59l7.78-7.78 2.81-2.81c.8-.78.8-2.07 0-2.86zM5.41 20L4 18.59l7.72-7.72 1.47 1.35L5.41 20z\"/>\n",
              "  </svg>\n",
              "      </button>\n",
              "      \n",
              "  <style>\n",
              "    .colab-df-container {\n",
              "      display:flex;\n",
              "      flex-wrap:wrap;\n",
              "      gap: 12px;\n",
              "    }\n",
              "\n",
              "    .colab-df-convert {\n",
              "      background-color: #E8F0FE;\n",
              "      border: none;\n",
              "      border-radius: 50%;\n",
              "      cursor: pointer;\n",
              "      display: none;\n",
              "      fill: #1967D2;\n",
              "      height: 32px;\n",
              "      padding: 0 0 0 0;\n",
              "      width: 32px;\n",
              "    }\n",
              "\n",
              "    .colab-df-convert:hover {\n",
              "      background-color: #E2EBFA;\n",
              "      box-shadow: 0px 1px 2px rgba(60, 64, 67, 0.3), 0px 1px 3px 1px rgba(60, 64, 67, 0.15);\n",
              "      fill: #174EA6;\n",
              "    }\n",
              "\n",
              "    [theme=dark] .colab-df-convert {\n",
              "      background-color: #3B4455;\n",
              "      fill: #D2E3FC;\n",
              "    }\n",
              "\n",
              "    [theme=dark] .colab-df-convert:hover {\n",
              "      background-color: #434B5C;\n",
              "      box-shadow: 0px 1px 3px 1px rgba(0, 0, 0, 0.15);\n",
              "      filter: drop-shadow(0px 1px 2px rgba(0, 0, 0, 0.3));\n",
              "      fill: #FFFFFF;\n",
              "    }\n",
              "  </style>\n",
              "\n",
              "      <script>\n",
              "        const buttonEl =\n",
              "          document.querySelector('#df-d450e7ea-d0ee-4611-9f98-253e729702e0 button.colab-df-convert');\n",
              "        buttonEl.style.display =\n",
              "          google.colab.kernel.accessAllowed ? 'block' : 'none';\n",
              "\n",
              "        async function convertToInteractive(key) {\n",
              "          const element = document.querySelector('#df-d450e7ea-d0ee-4611-9f98-253e729702e0');\n",
              "          const dataTable =\n",
              "            await google.colab.kernel.invokeFunction('convertToInteractive',\n",
              "                                                     [key], {});\n",
              "          if (!dataTable) return;\n",
              "\n",
              "          const docLinkHtml = 'Like what you see? Visit the ' +\n",
              "            '<a target=\"_blank\" href=https://colab.research.google.com/notebooks/data_table.ipynb>data table notebook</a>'\n",
              "            + ' to learn more about interactive tables.';\n",
              "          element.innerHTML = '';\n",
              "          dataTable['output_type'] = 'display_data';\n",
              "          await google.colab.output.renderOutput(dataTable, element);\n",
              "          const docLink = document.createElement('div');\n",
              "          docLink.innerHTML = docLinkHtml;\n",
              "          element.appendChild(docLink);\n",
              "        }\n",
              "      </script>\n",
              "    </div>\n",
              "  </div>\n",
              "  "
            ]
          },
          "metadata": {},
          "execution_count": 7
        }
      ]
    },
    {
      "cell_type": "markdown",
      "source": [
        "# Vocab\n"
      ],
      "metadata": {
        "id": "y9ZI1GwBXuNN"
      }
    },
    {
      "cell_type": "code",
      "source": [
        "vocab_freq =  {}\n",
        "word_length_dist = []\n",
        "for smile in df_reg[SMILES_COL]:\n",
        "    for s in smile:\n",
        "        if s not in vocab_freq.keys():\n",
        "            vocab_freq[s] = 0\n",
        "        vocab_freq[s] += 1\n",
        "    word_length_dist.append(len(smile))\n",
        "\n",
        "vocab = list(vocab_freq.keys())"
      ],
      "metadata": {
        "id": "sZobQ6tYWoiR"
      },
      "execution_count": 8,
      "outputs": []
    },
    {
      "cell_type": "code",
      "source": [
        "import matplotlib.pyplot as plt\n",
        "\n",
        "plt.hist(word_length_dist)\n",
        "plt.show()"
      ],
      "metadata": {
        "colab": {
          "base_uri": "https://localhost:8080/",
          "height": 265
        },
        "id": "gbF4__6HXm5m",
        "outputId": "ef16797c-bdd7-4bdc-b2fd-db8cf70510cb"
      },
      "execution_count": 9,
      "outputs": [
        {
          "output_type": "display_data",
          "data": {
            "text/plain": [
              "<Figure size 432x288 with 1 Axes>"
            ],
            "image/png": "[encoded data removed]"
          },
          "metadata": {
            "needs_background": "light"
          }
        }
      ]
    },
    {
      "cell_type": "markdown",
      "source": [
        "# One-hot vector"
      ],
      "metadata": {
        "id": "UEg4W6AnXsBS"
      }
    },
    {
      "cell_type": "code",
      "source": [
        "import numpy as np\n",
        "\n",
        "def smile2vec(vocab, vecsize, smile):\n",
        "    vec = []\n",
        "    for i in range(vecsize):\n",
        "        v = [0 for _ in range(len(vocab))]\n",
        "        if i < len(smile):\n",
        "            v[vocab.index(smile[i])] = 1\n",
        "        vec += v\n",
        "    return vec"
      ],
      "metadata": {
        "id": "Acq68QI3X0E5"
      },
      "execution_count": 10,
      "outputs": []
    },
    {
      "cell_type": "code",
      "source": [
        "X = []\n",
        "for smile in list(df_reg[SMILES_COL]):\n",
        "    X.append(smile2vec(vocab, SMILES_MAXLEN, smile))\n",
        "\n",
        "X = np.array(X)"
      ],
      "metadata": {
        "id": "KxCwpKeRYyUf"
      },
      "execution_count": 11,
      "outputs": []
    },
    {
      "cell_type": "code",
      "source": [
        "T = list(df_reg[TARGET_COL])\n",
        "T = np.array(T).reshape(len(T),1)"
      ],
      "metadata": {
        "id": "Gdci5AkPY6Id"
      },
      "execution_count": 12,
      "outputs": []
    },
    {
      "cell_type": "markdown",
      "source": [
        "# 数据拆分"
      ],
      "metadata": {
        "id": "bjLFMO9IZBRI"
      }
    },
    {
      "cell_type": "code",
      "source": [
        "# 奇数番目のデータを教師データ、偶数番目のデータをテストデータとします。\n",
        "index = np.arange(T.size)\n",
        "X_train = X[index[index % 2 != 0], :] # 説明変数（教師データ）\n",
        "X_test = X[index[index % 2 == 0], :] # 説明変数（テストデータ）\n",
        "T_train = T[index[index % 2 != 0], :] # 目的変数（教師データ）\n",
        "T_test = T[index[index % 2 == 0], :] # 目的変数（テストデータ）"
      ],
      "metadata": {
        "id": "MHJ4pStAZEO9"
      },
      "execution_count": 13,
      "outputs": []
    },
    {
      "cell_type": "code",
      "source": [
        "X_train_tensor = torch.from_numpy(X_train).float()\n",
        "X_test_tensor = torch.from_numpy(X_test).float()\n",
        "\n",
        "T_train_tensor = torch.from_numpy(T_train).float()\n",
        "T_test_tensor = torch.from_numpy(T_test).float()"
      ],
      "metadata": {
        "id": "2ti9bCoBZF3X"
      },
      "execution_count": 14,
      "outputs": []
    },
    {
      "cell_type": "code",
      "source": [
        "from torch.utils.data import TensorDataset\n",
        "\n",
        "train = TensorDataset(X_train_tensor, T_train_tensor)\n",
        "test = TensorDataset(X_test_tensor, T_test_tensor)"
      ],
      "metadata": {
        "id": "uSPfDoawZRof"
      },
      "execution_count": 15,
      "outputs": []
    },
    {
      "cell_type": "code",
      "source": [
        "#将批处理数据转换为数据加载器以便于检索\n",
        "from torch.utils.data import DataLoader\n",
        "\n",
        "train_loader = DataLoader(train, batch_size=BATCH_SIZE, shuffle=True)\n",
        "test_loader = DataLoader(test, batch_size=BATCH_SIZE, shuffle=True)"
      ],
      "metadata": {
        "id": "S8OlE0h5ZUue"
      },
      "execution_count": 17,
      "outputs": []
    },
    {
      "cell_type": "markdown",
      "source": [
        "# MLP model\n"
      ],
      "metadata": {
        "id": "Gs3XalpgZmVw"
      }
    },
    {
      "cell_type": "code",
      "source": [
        "import torch\n",
        "\n",
        "class MLPR(torch.nn.Module):\n",
        "    def __init__(self, n_input, n_hidden, n_output):\n",
        "        super(MLPR, self).__init__()\n",
        "        self.l1 = torch.nn.Linear(n_input, n_hidden)\n",
        "        self.l2 = torch.nn.Linear(n_hidden, n_hidden)\n",
        "        self.l3 = torch.nn.Linear(n_hidden, n_output)\n",
        "\n",
        "    def forward(self, x):\n",
        "        x = torch.sigmoid(self.l1(x))\n",
        "        x = torch.sigmoid(self.l2(x))\n",
        "        return self.l3(x)"
      ],
      "metadata": {
        "id": "9xZh5g5LZqmd"
      },
      "execution_count": 18,
      "outputs": []
    },
    {
      "cell_type": "code",
      "source": [
        "model = MLPR(len(vocab)*SMILES_MAXLEN, 10, 1)\n",
        "criterion = torch.nn.MSELoss()\n",
        "optimizer = torch.optim.SGD(model.parameters(), lr=0.01)"
      ],
      "metadata": {
        "id": "S1GE2K00Zuwi"
      },
      "execution_count": 19,
      "outputs": []
    },
    {
      "cell_type": "markdown",
      "source": [
        "# 学习"
      ],
      "metadata": {
        "id": "Ect_2ImSZzXb"
      }
    },
    {
      "cell_type": "code",
      "source": [
        "losses_train = []\n",
        "losses_test = []\n",
        "for epoch in range(500):\n",
        "    total_loss = 0\n",
        "    for x_train, y_train in train_loader:\n",
        "        x_train = torch.autograd.Variable(x_train)\n",
        "        y_train = torch.autograd.Variable(y_train)\n",
        "        optimizer.zero_grad()\n",
        "        y_pred = model(x_train)\n",
        "        loss = criterion(y_pred, y_train)\n",
        "        loss.backward()\n",
        "        optimizer.step()\n",
        "        total_loss += loss.item()\n",
        "\n",
        "    total_loss_test = 0\n",
        "    for x_test, y_test in test_loader:\n",
        "        x_test = torch.autograd.Variable(x_test)\n",
        "        y_test = torch.autograd.Variable(y_test)\n",
        "        optimizer.zero_grad()\n",
        "        y_pred = model(x_test)\n",
        "        loss = criterion(y_pred, y_test)\n",
        "        total_loss_test += loss.item()\n",
        "\n",
        "    losses_train.append(total_loss)\n",
        "    losses_test.append(total_loss_test)\n",
        "    if (epoch +1) % 100 == 0:\n",
        "        print(\"Epoch: {}, Loss (train): {}, Loss (test): {}\".format(epoch + 1, total_loss, total_loss_test))"
      ],
      "metadata": {
        "colab": {
          "base_uri": "https://localhost:8080/"
        },
        "id": "NmaxRuZVZ42y",
        "outputId": "d391528e-4cb6-4fbe-d168-f3f13746dd5c"
      },
      "execution_count": 20,
      "outputs": [
        {
          "output_type": "stream",
          "name": "stdout",
          "text": [
            "Epoch: 100, Loss (train): 0.37211284041404724, Loss (test): 0.2528666853904724\n",
            "Epoch: 200, Loss (train): 0.32410821318626404, Loss (test): 0.24216890335083008\n",
            "Epoch: 300, Loss (train): 0.2742481827735901, Loss (test): 0.23229868710041046\n",
            "Epoch: 400, Loss (train): 0.2243535816669464, Loss (test): 0.22393126785755157\n",
            "Epoch: 500, Loss (train): 0.17682969570159912, Loss (test): 0.21749453246593475\n"
          ]
        }
      ]
    },
    {
      "cell_type": "markdown",
      "source": [
        "# 学习曲线"
      ],
      "metadata": {
        "id": "QXdXXmd9Z_Dm"
      }
    },
    {
      "cell_type": "code",
      "source": [
        "%matplotlib inline\n",
        "import matplotlib.pyplot as plt\n",
        "plt.plot(losses_train, label=\"train\")\n",
        "plt.plot(losses_test, label=\"test\")\n",
        "plt.xlabel(\"epoch\")\n",
        "plt.ylabel(\"loss\")\n",
        "plt.legend()\n",
        "plt.grid()\n",
        "plt.show()"
      ],
      "metadata": {
        "colab": {
          "base_uri": "https://localhost:8080/",
          "height": 279
        },
        "id": "RQcXZTB5aUnT",
        "outputId": "351e0c81-6618-428d-fdb2-f5da75f9c131"
      },
      "execution_count": 21,
      "outputs": [
        {
          "output_type": "display_data",
          "data": {
            "text/plain": [
              "<Figure size 432x288 with 1 Axes>"
            ],
            "image/png": "[encoded data removed]"
          },
          "metadata": {
            "needs_background": "light"
          }
        }
      ]
    },
    {
      "cell_type": "code",
      "source": [
        "%matplotlib inline\n",
        "import matplotlib.pyplot as plt\n",
        "plt.figure(figsize=(6,6))\n",
        "plt.scatter(T_train, model.forward(X_train_tensor).data.flatten(), alpha=0.5, label=\"train\")\n",
        "plt.scatter(T_test, model.forward(X_test_tensor).data.flatten(), alpha=0.5, label=\"test\")\n",
        "plt.plot([min(T), max(T)], [min(T), max(T)])\n",
        "plt.grid()\n",
        "plt.legend()\n",
        "plt.xlabel('Observed')\n",
        "plt.ylabel('Predicted')\n",
        "plt.show()"
      ],
      "metadata": {
        "colab": {
          "base_uri": "https://localhost:8080/",
          "height": 388
        },
        "id": "FI6CXQc-azvV",
        "outputId": "63a74032-45e6-4d24-8b5c-ac0262c4bcf1"
      },
      "execution_count": 22,
      "outputs": [
        {
          "output_type": "display_data",
          "data": {
            "text/plain": [
              "<Figure size 432x432 with 1 Axes>"
            ],
            "image/png": "[encoded data removed]"
          },
          "metadata": {
            "needs_background": "light"
          }
        }
      ]
    },
    {
      "cell_type": "markdown",
      "source": [
        "# Rdkit"
      ],
      "metadata": {
        "id": "kcLZFwbwa5Do"
      }
    },
    {
      "cell_type": "code",
      "source": [
        "%%time \n",
        "!pip install git+https://github.com/maskot1977/rdkit_installer.git\n",
        "from rdkit_installer import install\n",
        "install.from_miniconda(rdkit_version=\"2020.09.1\")"
      ],
      "metadata": {
        "colab": {
          "base_uri": "https://localhost:8080/"
        },
        "id": "8iEyEgwwa7b-",
        "outputId": "68a754b1-7e68-438e-ffac-1f57f94385b2"
      },
      "execution_count": 23,
      "outputs": [
        {
          "output_type": "stream",
          "name": "stdout",
          "text": [
            "Looking in indexes: https://pypi.org/simple, https://us-python.pkg.dev/colab-wheels/public/simple/\n",
            "Collecting git+https://github.com/maskot1977/rdkit_installer.git\n",
            "  Cloning https://github.com/maskot1977/rdkit_installer.git to /tmp/pip-req-build-9xh_h4ax\n",
            "  Running command git clone -q https://github.com/maskot1977/rdkit_installer.git /tmp/pip-req-build-9xh_h4ax\n",
            "Building wheels for collected packages: rdkit-installer\n",
            "  Building wheel for rdkit-installer (setup.py) ... \u001b[?25l\u001b[?25hdone\n",
            "  Created wheel for rdkit-installer: filename=rdkit_installer-0.2.0-py3-none-any.whl size=7986 sha256=da950f18b503d6c5d8b11156ad903c751325c8ad6957acd620ae8aa6a1335a56\n",
            "  Stored in directory: /tmp/pip-ephem-wheel-cache-jm3lbld1/wheels/e6/72/a5/218f5f909a3a87c1ec1ccec03ac61298947fb5f1efa517eefa\n",
            "Successfully built rdkit-installer\n",
            "Installing collected packages: rdkit-installer\n",
            "Successfully installed rdkit-installer-0.2.0\n"
          ]
        },
        {
          "output_type": "stream",
          "name": "stderr",
          "text": [
            "add /root/miniconda/lib/python3.7/site-packages to PYTHONPATH\n",
            "INFO:rdkit_installer.install:add /root/miniconda/lib/python3.7/site-packages to PYTHONPATH\n",
            "python version: 3.7.13\n",
            "INFO:rdkit_installer.install:python version: 3.7.13\n",
            "fetching installer from https://repo.continuum.io/miniconda/Miniconda3-4.7.12-Linux-x86_64.sh\n",
            "INFO:rdkit_installer.install:fetching installer from https://repo.continuum.io/miniconda/Miniconda3-4.7.12-Linux-x86_64.sh\n",
            "done\n",
            "INFO:rdkit_installer.install:done\n",
            "installing miniconda to /root/miniconda\n",
            "INFO:rdkit_installer.install:installing miniconda to /root/miniconda\n",
            "done\n",
            "INFO:rdkit_installer.install:done\n",
            "installing rdkit\n",
            "INFO:rdkit_installer.install:installing rdkit\n",
            "done\n",
            "INFO:rdkit_installer.install:done\n",
            "rdkit-2020.09.1 installation finished!\n",
            "INFO:rdkit_installer.install:rdkit-2020.09.1 installation finished!\n"
          ]
        },
        {
          "output_type": "stream",
          "name": "stdout",
          "text": [
            "CPU times: user 868 ms, sys: 321 ms, total: 1.19 s\n",
            "Wall time: 49.6 s\n"
          ]
        }
      ]
    },
    {
      "cell_type": "markdown",
      "source": [
        "# MLP-VAE"
      ],
      "metadata": {
        "id": "5lgzQ1DZbjBC"
      }
    },
    {
      "cell_type": "code",
      "source": [
        "device = torch.device('cuda' if torch.cuda.is_available() else 'cpu')\n",
        "\n",
        "LEARNING_RATE = 1e-3\n",
        "NUM_EPOCHS = 500\n",
        "BATCH_SIZE = 64\n",
        "N_INPUT = len(vocab)*SMILES_MAXLEN\n",
        "N_HIDDEN = 400\n",
        "N_Z = 20"
      ],
      "metadata": {
        "id": "crkA8GbkbDP0"
      },
      "execution_count": 24,
      "outputs": []
    },
    {
      "cell_type": "code",
      "source": [
        "import torch\n",
        "from torch.utils.data import TensorDataset, DataLoader\n",
        "\n",
        "X_tensor = torch.from_numpy(X).float()\n",
        "T_tensor = torch.from_numpy(T).float()\n",
        "\n",
        "dataset = TensorDataset(X_tensor, T_tensor)\n",
        "data_loader = DataLoader(dataset, batch_size=BATCH_SIZE, shuffle=True)"
      ],
      "metadata": {
        "id": "w3WZqC3McBeX"
      },
      "execution_count": 25,
      "outputs": []
    },
    {
      "cell_type": "code",
      "source": [
        "class VAE(torch.nn.Module):\n",
        "    def __init__(self, n_input=784, n_hidden=400, n_z=20):\n",
        "        super(VAE, self).__init__()\n",
        "        self.fc1 = torch.nn.Linear(n_input, n_hidden)\n",
        "        self.fc2 = torch.nn.Linear(n_hidden, n_z)\n",
        "        self.fc3 = torch.nn.Linear(n_hidden, n_z)\n",
        "        self.fc4 = torch.nn.Linear(n_z, n_hidden)\n",
        "        self.fc5 = torch.nn.Linear(n_hidden, n_input)\n",
        "        \n",
        "    def encode(self, x):\n",
        "        h = torch.nn.functional.relu(self.fc1(x))\n",
        "        return self.fc2(h), self.fc3(h)\n",
        "    \n",
        "    def reparameterize(self, mu, log_var):\n",
        "        std = torch.exp(log_var/2)\n",
        "        eps = torch.randn_like(std)\n",
        "        return mu + eps * std\n",
        "\n",
        "    def decode(self, z):\n",
        "        h = torch.nn.functional.relu(self.fc4(z))\n",
        "        return torch.sigmoid(self.fc5(h))\n",
        "    \n",
        "    def forward(self, x):\n",
        "        mu, log_var = self.encode(x)\n",
        "        z = self.reparameterize(mu, log_var)\n",
        "        x_reconst = self.decode(z)\n",
        "        return x_reconst, mu, log_var"
      ],
      "metadata": {
        "id": "SePHr_bPcIlm"
      },
      "execution_count": 26,
      "outputs": []
    },
    {
      "cell_type": "code",
      "source": [
        "from rdkit import Chem\n",
        "\n",
        "def get_best_smile(out_tensor):\n",
        "    best_smile = \"\"\n",
        "    for vec in out_tensor:\n",
        "        vec = vec.reshape(SMILES_MAXLEN, len(vocab))\n",
        "        smile = \"\".join([vocab[torch.argmax(v).item()] for v in vec])\n",
        "        mol = Chem.MolFromSmiles(smile)\n",
        "        while not mol:\n",
        "            if len(smile) == 0: break\n",
        "            smile = smile[:-1]\n",
        "            mol = Chem.MolFromSmiles(smile)\n",
        "        \n",
        "        if len(best_smile) < len(smile):\n",
        "            best_smile = smile\n",
        "\n",
        "    return best_smile"
      ],
      "metadata": {
        "id": "NMpBLpZzcMSO"
      },
      "execution_count": 27,
      "outputs": []
    },
    {
      "cell_type": "code",
      "source": [
        "model = VAE(n_input=N_INPUT, n_hidden=N_HIDDEN, n_z=N_Z).to(device)\n",
        "optimizer = torch.optim.Adam(model.parameters(), lr=LEARNING_RATE)"
      ],
      "metadata": {
        "id": "y9lCor9vcUpH"
      },
      "execution_count": 28,
      "outputs": []
    },
    {
      "cell_type": "code",
      "source": [
        "losses = []\n",
        "reconst_losses = []\n",
        "kl_divs = []\n",
        "for epoch in range(NUM_EPOCHS):\n",
        "    for i, (x, _) in enumerate(data_loader):\n",
        "        x = x.to(device).view(-1, N_INPUT)\n",
        "        x_reconst, mu, log_var = model(x)\n",
        "        \n",
        "        reconst_loss = torch.nn.functional.binary_cross_entropy(x_reconst, x, reduction='sum')\n",
        "        kl_div = - 0.5 * torch.sum(1 + log_var - mu.pow(2) - log_var.exp())\n",
        "        \n",
        "        loss = reconst_loss + kl_div\n",
        "        optimizer.zero_grad()\n",
        "        loss.backward()\n",
        "        optimizer.step()\n",
        "        losses.append(loss.item())\n",
        "        reconst_losses.append(reconst_loss.item())\n",
        "        kl_divs.append(kl_div.item())\n",
        "        \n",
        "        if (i+1) % 100 == 0:\n",
        "            print (\"Epoch[{}/{}], Step [{}/{}], Reconst Loss: {:.4f}, KL Div: {:.4f}\" \n",
        "                   .format(epoch+1, NUM_EPOCHS, i+1, len(data_loader), reconst_loss.item(), kl_div.item()))\n",
        "    \n",
        "    with torch.no_grad():\n",
        "        z = torch.randn(BATCH_SIZE, N_Z).to(device)\n",
        "        out = model.decode(z)\n",
        "        print(\"Epoch[{}/{}], Generated SMILES: {}\".format(epoch+1, NUM_EPOCHS, get_best_smile(out)))\n",
        "\n",
        "        # out, _, _ = model(x)\n",
        "        # print(\"Epoch[{}/{}], Reconstructed SMILES: {}\".format(epoch+1, NUM_EPOCHS, get_best_smile(out)))"
      ],
      "metadata": {
        "colab": {
          "base_uri": "https://localhost:8080/"
        },
        "id": "P80PPJ7FcdoQ",
        "outputId": "1fedc907-5086-4333-ce48-d78329577741"
      },
      "execution_count": 29,
      "outputs": [
        {
          "output_type": "stream",
          "name": "stdout",
          "text": [
            "Epoch[1/500], Generated SMILES: NC\n",
            "Epoch[2/500], Generated SMILES: NC\n",
            "Epoch[3/500], Generated SMILES: CC\n",
            "Epoch[4/500], Generated SMILES: NC\n",
            "Epoch[5/500], Generated SMILES: CC\n",
            "Epoch[6/500], Generated SMILES: CC\n",
            "Epoch[7/500], Generated SMILES: OCN\n",
            "Epoch[8/500], Generated SMILES: Cc1ccc\\OcOcc1\n",
            "Epoch[9/500], Generated SMILES: OCN\n",
            "Epoch[10/500], Generated SMILES: OCO\n",
            "Epoch[11/500], Generated SMILES: Oc1ccc\\nc(cOc1C)C/N\n",
            "Epoch[12/500], Generated SMILES: Oc1cccnnc=c(c1C)CC\n",
            "Epoch[13/500], Generated SMILES: OCc1cccncc(Cc1C)CC\n",
            "Epoch[14/500], Generated SMILES: Oc1ccc\\nc(c(c1C)C)N\n",
            "Epoch[15/500], Generated SMILES: Oc1ccccnc(OOc1C)CC\n",
            "Epoch[16/500], Generated SMILES: Oc1cc(C)c(cOc1C)CC\n",
            "Epoch[17/500], Generated SMILES: Cc1ccc\\cc(c(c1C)C)\n",
            "Epoch[18/500], Generated SMILES: Oc1ccc\\cc(c(c1C)C)\n",
            "Epoch[19/500], Generated SMILES: Oc1cc(C)ccccc1C\n",
            "Epoch[20/500], Generated SMILES: Oc1cc(Ncc(ccc1C)CC)C\n",
            "Epoch[21/500], Generated SMILES: Oc1cc(C)c(cCc1C)CC=O\n",
            "Epoch[22/500], Generated SMILES: OCc1ccNcc(ccc1C)CCO\n",
            "Epoch[23/500], Generated SMILES: OCc1ccNcc(ccc1C)CCO\n",
            "Epoch[24/500], Generated SMILES: Oc1cccCcccccc1C\n",
            "Epoch[25/500], Generated SMILES: OCc1ccccc(cCc1C)CC\n",
            "Epoch[26/500], Generated SMILES: Oc1cccNcccccc1C\n",
            "Epoch[27/500], Generated SMILES: CCc1ccNccc(cc1C)CC=O\n",
            "Epoch[28/500], Generated SMILES: OC\n",
            "Epoch[29/500], Generated SMILES: Oc1cc(Ccc(ccc1C)CC=O)C/C\n",
            "Epoch[30/500], Generated SMILES: OCc1ccCcccc(c1C)CC=C/C/C\n",
            "Epoch[31/500], Generated SMILES: Cc1cc(C)c(cCc1C)CC=O\n",
            "Epoch[32/500], Generated SMILES: Oc1ccc(cccccc1C)CC=C/C/C(=C)C\n",
            "Epoch[33/500], Generated SMILES: Oc1cc(Nccc(cc1C)CC=C)C/C1=C\\CC1\n",
            "Epoch[34/500], Generated SMILES: Oc1cccCccccCc(C)CC=C/C/C1=C\\CC\n",
            "Epoch[35/500], Generated SMILES: Oc1cccNcc(c(c1C)CC=C)C(C1=O)CC1\n",
            "Epoch[36/500], Generated SMILES: OCc1cc(cc(ccc1O)C)C\n",
            "Epoch[37/500], Generated SMILES: Oc1cccCcc(c(c1C)CC=C)C/C1=C\\CC1\n",
            "Epoch[38/500], Generated SMILES: Oc1cccccccc(c1O)CC=C\n",
            "Epoch[39/500], Generated SMILES: Oc1cccCcccccc(C)CC=C/C/C1=C\\CC\n",
            "Epoch[40/500], Generated SMILES: OCc1ccCcccc(c1O)CC=C/C/C\n",
            "Epoch[41/500], Generated SMILES: Oc1cccccccc(c1O)CC\n",
            "Epoch[42/500], Generated SMILES: Oc1cccccccc(c1C)CCC\n",
            "Epoch[43/500], Generated SMILES: Cc1cccNcc(c(c1O)CC=C/C/C1=O)CC1\n",
            "Epoch[44/500], Generated SMILES: Oc1cccccccc(c(C)CC=C/C/C1=C)CC\n",
            "Epoch[45/500], Generated SMILES: Oc1cccOcc(c(c1C)CCCO)C\n",
            "Epoch[46/500], Generated SMILES: Oc1ccc(cccc(c1C)C)=C/C/C\n",
            "Epoch[47/500], Generated SMILES: Oc1cccccc(cnc1O)CCCO\n",
            "Epoch[48/500], Generated SMILES: Oc1cc(Ccccc(c1C)CCOC/C/C1=C\\CC1)/CCC\n",
            "Epoch[49/500], Generated SMILES: OC1cccccc(c(c1C)CCOC)C\n",
            "Epoch[50/500], Generated SMILES: OCc1ccCcccc(c1C)CC=C/C/C(=C)CC\n",
            "Epoch[51/500], Generated SMILES: Cc1ccc(cccccc1C)CC=O\n",
            "Epoch[52/500], Generated SMILES: Cc1cc(O)c(c(c1O)C)OC\n",
            "Epoch[53/500], Generated SMILES: Cc1cccNcc(c(c1O)C)\n",
            "Epoch[54/500], Generated SMILES: Oc1ccc(cc(cCc1C)CC=C/C/C1=C)CC1\n",
            "Epoch[55/500], Generated SMILES: Oc1cccccc(cnc1C)CCO\n",
            "Epoch[56/500], Generated SMILES: Oc1ccc(ccc(cc1C)C)=C/C/C(=C)CC\n",
            "Epoch[57/500], Generated SMILES: CC1cccccc(c(c1C)C)O\n",
            "Epoch[58/500], Generated SMILES: Oc1cccOcc(c(c1C)C)C\n",
            "Epoch[59/500], Generated SMILES: Cc1cccNccccc1(C)CC=O\n",
            "Epoch[60/500], Generated SMILES: Cc1cccNnc(c(c(C)CC=C/C/C(=C\\CC1)/CC))\n",
            "Epoch[61/500], Generated SMILES: Oc1cccNcc(c(c1O)CC=O)C\n",
            "Epoch[62/500], Generated SMILES: Oc1cccccc(ccc1C)CC=C\n",
            "Epoch[63/500], Generated SMILES: Cc1ccc(cccccc1C)C\n",
            "Epoch[64/500], Generated SMILES: Cc1cc(C)cc(Cc1C)CCCC/C/C\n",
            "Epoch[65/500], Generated SMILES: Cc1cc(C)c(cCc1C)CC=C\n",
            "Epoch[66/500], Generated SMILES: Cc1cccCccccnc(C)CC=C/C/C(=C\\CC1)/CCC\n",
            "Epoch[67/500], Generated SMILES: Oc1ccc(cc(cCc1C)CC=C/C/C1=C\\CC1)/CC\n",
            "Epoch[68/500], Generated SMILES: Cc1cc(C)c(cCc1C)CC=C/C\n",
            "Epoch[69/500], Generated SMILES: Cc1cc(C)cc(Cc1C)CC=C/C/C(=C)CC\n",
            "Epoch[70/500], Generated SMILES: Cc1cccccc(cnc1C)CC=O\n",
            "Epoch[71/500], Generated SMILES: Oc1cccccc(cnc1C)CC=C/C/C\n",
            "Epoch[72/500], Generated SMILES: Cc1cc(C)cc(C)(C)CC=C/C/C(=C\\CC1)/CC(\\N)\n",
            "Epoch[73/500], Generated SMILES: Oc1cc(N)cc(Cc1C)CC=C/C/C\n",
            "Epoch[74/500], Generated SMILES: CC1cc(C)c(ccc1C)CC=C\n",
            "Epoch[75/500], Generated SMILES: Cc1CccNcC(=CC(C)[C@@H](C1=O)C)C\n",
            "Epoch[76/500], Generated SMILES: Oc1cccccc(cCc(C)OC=C/C/C(=C)CC1)/CC\n",
            "Epoch[77/500], Generated SMILES: CCc1c=CnCc(Cc(C)CC=C/C/C1=C)CC\n",
            "Epoch[78/500], Generated SMILES: OCc1c(C)ccc(c1C)CCCC\n",
            "Epoch[79/500], Generated SMILES: Cc1cccCcccccc(C)CC=C/C/C(=C\\CC1)/CC\n",
            "Epoch[80/500], Generated SMILES: Cc1cccCccc(C)(C)CC=C/C/C(=C\\CC1)/CC\n",
            "Epoch[81/500], Generated SMILES: Oc1cccCccc(C)(C)CC=C/C/C(=C\\CC1)/CCCC\n",
            "Epoch[82/500], Generated SMILES: Cc1cccCccccnc(C)CC=C/C/C(=C\\C)1\n",
            "Epoch[83/500], Generated SMILES: Cc1cccccc(ccc1C)C\n",
            "Epoch[84/500], Generated SMILES: Cc1cccCcCccCc(C)CC=C/C(C1=O)C\n",
            "Epoch[85/500], Generated SMILES: Cc1cccNcc(=CC1C)\n",
            "Epoch[86/500], Generated SMILES: Cc1cccCccccCC(C)CC=C/C/C(=C\\CC1)/CC\n",
            "Epoch[87/500], Generated SMILES: Cc1cccNcC(cCC(C)CC=C/C/C1=O)C\n",
            "Epoch[88/500], Generated SMILES: Cc1cccCccccnc(C)CC=C/C/C(=C\\CC1)/CC\n",
            "Epoch[89/500], Generated SMILES: Cc1cccNcC(=CC(C)CC=C/C/C(=O)CC1)CCCC\n",
            "Epoch[90/500], Generated SMILES: Cc1cccCnCcccc(C)CC=C/C/C(=C\\CC1)/CC\n",
            "Epoch[91/500], Generated SMILES: C/1/c=N\\C(cCc(C)/C=C/C/C(=C)CC1)/CC\n",
            "Epoch[92/500], Generated SMILES: Cc1cccCcCc(C)(C)CC=C/C/C(=C\\CC1)/CC/N\n",
            "Epoch[93/500], Generated SMILES: Oc1ccc(cc(cCc1C)C)C\n",
            "Epoch[94/500], Generated SMILES: Cc1cccCccc(C)(C)OC=C/C/C(=C\\CC1)/CC\n",
            "Epoch[95/500], Generated SMILES: CN(CCCN1C(=CC(=C[C@@H](C1=O)C)C)C)CC\n",
            "Epoch[96/500], Generated SMILES: C/C/1cC\\CC(C)(C)/C=C/C/C(=C\\CC1)/CC\n",
            "Epoch[97/500], Generated SMILES: CN(CCCN1C(=CC(=C[C@@H](C1=O)C)C)C)CC\n",
            "Epoch[98/500], Generated SMILES: CN(CCCN1C(=CC(=C[C@@H](C1=O)C)C)C)CC\n",
            "Epoch[99/500], Generated SMILES: Cc1ccc(ccccCC(C)CC=C/C/C(=C\\CC1)/CCC)\n",
            "Epoch[100/500], Generated SMILES: CN(CCCN1C(=CC(=C[C@@H](C1=O)C)C)C)CC\n",
            "Epoch[101/500], Generated SMILES: C/Cc1cC\\cC(C)(C)CC=C/C/C(=C\\CC1)/CC\n",
            "Epoch[102/500], Generated SMILES: CN(CCCN1C(=CC(=C[C@@H](C1=O)C)C)C)CC\n",
            "Epoch[103/500], Generated SMILES: CN(CCCN1C(=CC(=C[C@@H](C1=O)C)C)C)CCN\n",
            "Epoch[104/500], Generated SMILES: CN(CCCN1C(=CC(=C[C@@H](C1=O)C)C)C)CC\n",
            "Epoch[105/500], Generated SMILES: Cc1cccCcCCcCC(C)/C=C/C/C(=C\\CC1)/CC1=CCO1\n",
            "Epoch[106/500], Generated SMILES: Cc1ccccnc(cnc2C)CC=C/C/C(=C\\CC1)/CC2N\n",
            "Epoch[107/500], Generated SMILES: Cc1cccC\\cc(nc2C)CC=C/C/C(=C\\CC1)/CC2\n",
            "Epoch[108/500], Generated SMILES: C/1cc=C\\CCcCc(C)/C=C/C/C(=C\\CC1)/CC\n",
            "Epoch[109/500], Generated SMILES: Cc1cccCcCc(C)(C)/C=C/C/C(=C\\CC1)/CC/C\n",
            "Epoch[110/500], Generated SMILES: CN(CCCN1C(=CC(=C[C@@H](C1=O)C)C)C)CC\n",
            "Epoch[111/500], Generated SMILES: C/Cc1cC\\CC(C)(C)/C=C/C/C(=C\\CC1)/CCCNC\n",
            "Epoch[112/500], Generated SMILES: CN(CCCN1C(=CC(=C[C@@H](C1=O)C)C)C)CC\n",
            "Epoch[113/500], Generated SMILES: Cc1cccN\\Cc(C)(C)/C=C/C/C(=C\\CC1)/CC\n",
            "Epoch[114/500], Generated SMILES: CN(CCCN1C(=CC(=C[C@@H](C1=O)C)C)C)CC\n",
            "Epoch[115/500], Generated SMILES: CN(CCCN1C(=CC(=C[C@@H](C1=O)C)C)C)C\n",
            "Epoch[116/500], Generated SMILES: CN(CCCN1C(=CC(=C[C@@H](C1=O)C)C)C)CC\n",
            "Epoch[117/500], Generated SMILES: C/C/1=C\\CC(C)(C)/C=C/C/C(=C\\CC1)/CC\n",
            "Epoch[118/500], Generated SMILES: C/C/1=C\\CC(C)(C)/C=C/C/C(=C\\CC1)/CCC\n",
            "Epoch[119/500], Generated SMILES: CN(CCCN1C(=CC(=C[C@@H](C1=O)C)C)C)CC=C\n",
            "Epoch[120/500], Generated SMILES: CN(CCCN1C(=CC(=C[C@@H](C1=O)C)C)C)C/O\n",
            "Epoch[121/500], Generated SMILES: CN(CCCN1C(=CC(=C[C@@H](C1=O)C)C)C)CC\n",
            "Epoch[122/500], Generated SMILES: Cc1ccc(cc(cnC2C)CCCC)C/C(=C\\CC1)/CC\\2C\n",
            "Epoch[123/500], Generated SMILES: C/C/1=C\\CC(C)(C)/C=C/C/C(=C\\CC1)/CC\n",
            "Epoch[124/500], Generated SMILES: CN(CCCN1C(=CC(=C[C@@H](C1=O)C)C)C)CCN\n",
            "Epoch[125/500], Generated SMILES: CN(CCCN1C(=CC(=C[C@@H](C1=O)C)C)C)C\n",
            "Epoch[126/500], Generated SMILES: CN(CCCN1C(=CC(=C[C@@H](C1=O)C)C)C)CC\n",
            "Epoch[127/500], Generated SMILES: CN(CCCN1C(=CC(=C[C@@H](C1=O)C)C)C)CN\n",
            "Epoch[128/500], Generated SMILES: CN(CCCN1C(=CC(=C[C@@H](C1=O)C)C)C)CCN\n",
            "Epoch[129/500], Generated SMILES: CN(CCCN1C(=CC(=C[C@@H](C1=O)C)C)C)CC\n",
            "Epoch[130/500], Generated SMILES: CN(CCCN1C(=CC(=C[C@@H](C1=O)C)C)C)CC\n",
            "Epoch[131/500], Generated SMILES: CN(CCCN1C(=CC(=C[C@@H](C1=O)C)C)C)C/N\n",
            "Epoch[132/500], Generated SMILES: CN(CCCN1C(=CC(=C[C@@H](C1=O)C)C)C)CC\n",
            "Epoch[133/500], Generated SMILES: CN(CCCN1C(=CC(=C[C@@H](C1=O)C)C)C)CC\n",
            "Epoch[134/500], Generated SMILES: C/C/1=C\\CC(C)(C)/C=C/C/C(=C\\CC1)/CC\n",
            "Epoch[135/500], Generated SMILES: C/C/1=C\\CC(C)(C)/C=C/C/C(=C\\CC1)/CCC\n",
            "Epoch[136/500], Generated SMILES: Cc1cccC\\Cc(C)(C)/C=C/C/C(=C\\CC1)/CCN\n",
            "Epoch[137/500], Generated SMILES: CN(CCCN1C(=CC(=C[C@@H](C1=O)C)C)C)CCN\n",
            "Epoch[138/500], Generated SMILES: CN(CCCN1C(=CC(=C[C@@H](C1=O)C)C)C)CCNN\n",
            "Epoch[139/500], Generated SMILES: CN(CCCN1C(=CC(=C[C@@H](C1=O)C)C)C)CC\n",
            "Epoch[140/500], Generated SMILES: Cc1cc2NnCc(CC(Cc1C=O)C/C(=C\\CC1)/CC21)\n",
            "Epoch[141/500], Generated SMILES: CN(CCCN1C(=CC(=C[C@@H](C1=O)C)C)C)CC\n",
            "Epoch[142/500], Generated SMILES: CN(CCCN1C(=CC(=C[C@@H](C1=O)C)C)C)CN\n",
            "Epoch[143/500], Generated SMILES: CN(CCCN1C(=CC(=C[C@@H](C1=O)C)C)C)CC\n",
            "Epoch[144/500], Generated SMILES: CN(CCCN1C(=CC(=C[C@@H](C1=O)C)C)C)CC\n",
            "Epoch[145/500], Generated SMILES: CN(CCCN1C(=CC(=C[C@@H](C1=O)C)C)C)CC\n",
            "Epoch[146/500], Generated SMILES: CN(CCCN1C(=CC(=C[C@@H](C1=O)C)C)C)CC\n",
            "Epoch[147/500], Generated SMILES: CN(CCCN1C(=CC(=C[C@@H](C1=O)C)C)C)CC\n",
            "Epoch[148/500], Generated SMILES: CN(CCCN1C(=CC(=C[C@@H](C1=O)C)C)C)CCN\n",
            "Epoch[149/500], Generated SMILES: Cc1cccCcCc(Cc(C)CC=C/C/C(=C\\CC1)/CC\\C)\n",
            "Epoch[150/500], Generated SMILES: CN(CCCN1C(=CC(=C[C@@H](C1=O)C)C)C)C/NC\n",
            "Epoch[151/500], Generated SMILES: CN(CCCN1C(=CC(=C[C@@H](C1=O)C)C)C)CC\n",
            "Epoch[152/500], Generated SMILES: CN(CCCN1C(=CC(=C[C@@H](C1=O)C)C)C)CC\n",
            "Epoch[153/500], Generated SMILES: CN(CCCN1C(=CC(=C[C@@H](C1=O)C)C)C)CC\n",
            "Epoch[154/500], Generated SMILES: CN(CCCN1C(=CC(=C[C@@H](C1=O)C)C)C)CCN\n",
            "Epoch[155/500], Generated SMILES: C/C/1=C\\CC(C)(C)/C=C/C/C(=C\\CC1)/CC/C\n",
            "Epoch[156/500], Generated SMILES: CN(CCCN1C(=CC(=C[C@@H](C1=O)C)C)C)CC\n",
            "Epoch[157/500], Generated SMILES: CN(CCCN1C(=CC(=C[C@@H](C1=O)C)C)C)C/N\n",
            "Epoch[158/500], Generated SMILES: C/C/1=C\\CC(C)(C)/C=C/C/C(=C\\CC1)/CC(NN)/C\n",
            "Epoch[159/500], Generated SMILES: CN(CCCN1C(=CC(=C[C@@H](C1=O)C)C)C)CO\n",
            "Epoch[160/500], Generated SMILES: CC1cc(C)cc(cc1C)CC=C/C/C(=C\\CC1)/CC/1\n",
            "Epoch[161/500], Generated SMILES: CN(CCCN1C(=CC(=C[C@@H](C1=O)C)C)C)CC\n",
            "Epoch[162/500], Generated SMILES: CN(CCCN1C(=CC(=C[C@@H](C1=O)C)C)C)CC\n",
            "Epoch[163/500], Generated SMILES: CN(CCCN1C(=CC(=C[C@@H](C1=O)C)C)C)CC\n",
            "Epoch[164/500], Generated SMILES: CN(CCCN1C(=CC(=C[C@@H](C1=O)C)C)C)CCN\n",
            "Epoch[165/500], Generated SMILES: CN(CCCN1C(=CC(=C[C@@H](C1=O)C)C)C)CC\n",
            "Epoch[166/500], Generated SMILES: CN(CCCN1C(=CC(=C[C@@H](C1=O)C)C)C)CCN\n",
            "Epoch[167/500], Generated SMILES: CN(CCCN1C(=CC(=C[C@@H](C1=O)C)C)C)CCN\n",
            "Epoch[168/500], Generated SMILES: C/C/1=C\\CC(CC(C)/C=C/C/C(=C\\CC1)/CCOCC)N\n",
            "Epoch[169/500], Generated SMILES: CN(CCCN1C(=CC(=C[C@@H](C1=O)C)C)C)CCN\n",
            "Epoch[170/500], Generated SMILES: CN(CCCN1C(=CC(=C[C@@H](C1=O)C)C)C)CC\n",
            "Epoch[171/500], Generated SMILES: CN(CCCN1C(=CC(=C[C@@H](C1=O)C)C)C)CCN\n",
            "Epoch[172/500], Generated SMILES: CN(CCCN1C(=CC(=C[C@@H](C1=O)C)C)C)CC\n",
            "Epoch[173/500], Generated SMILES: CN(CCCN1C(=CC(=C[C@@H](C1=O)C)C)C)CC\n",
            "Epoch[174/500], Generated SMILES: CN(CCCN1C(=CC(=C[C@@H](C1=O)C)C)C)C\n",
            "Epoch[175/500], Generated SMILES: CN(CCCN1C(=CC(=C[C@@H](C1=O)C)C)C)C/N\n",
            "Epoch[176/500], Generated SMILES: CC1cc(Cncc(cc2C)1C=C)C/C(=C\\CC1)/CN21\n",
            "Epoch[177/500], Generated SMILES: CN(CCCN1C(=CC(=C[C@@H](C1=O)C)C)C)CC\n",
            "Epoch[178/500], Generated SMILES: CN(CCCN1C(=CC(=C[C@@H](C1=O)C)C)C)CCN\n",
            "Epoch[179/500], Generated SMILES: CN(CCCN1C(=CC(=C[C@@H](C1=O)C)C)C)CC\n",
            "Epoch[180/500], Generated SMILES: CN(CCCN1C(=CC(=C[C@@H](C1=O)C)C)C)C/N\n",
            "Epoch[181/500], Generated SMILES: CN(CCCN1C(=CC(=C[C@@H](C1=O)C)C)C)CCN\n",
            "Epoch[182/500], Generated SMILES: C/C/1=C\\CC(C)(C)/C=C/C/C(=C\\CC1)/CCC\n",
            "Epoch[183/500], Generated SMILES: CN(CCCN1C(=CC(=C[C@@H](C1=O)C)C)C)CC\n",
            "Epoch[184/500], Generated SMILES: CN(CCCN1C(=CC(=C[C@@H](C1=O)C)C)C)CC\n",
            "Epoch[185/500], Generated SMILES: CN(CCCN1C(=CC(=C[C@@H](C1=O)C)C)C)CC\n",
            "Epoch[186/500], Generated SMILES: C/Cc1=C\\CC(C)(C)/C=C/C/C(=C\\CC1)/CCC\n",
            "Epoch[187/500], Generated SMILES: CN(CCCN1C(=CC(=C[C@@H](C1=O)C)C)C)C\n",
            "Epoch[188/500], Generated SMILES: CN(CCCN1C(=CC(=C[C@@H](C1=O)C)C)C)CCCC\n",
            "Epoch[189/500], Generated SMILES: CN(CCCN1C(=CC(=C[C@@H](C1=O)C)C)C)CC\n",
            "Epoch[190/500], Generated SMILES: CN(CCCN1C(=CC(=C[C@@H](C1=O)C)C)C)CC\n",
            "Epoch[191/500], Generated SMILES: C/c/1cC\\cC(C)(C)OC=C/C/C(=C\\CC1)/CC(\\N)\n",
            "Epoch[192/500], Generated SMILES: CN(CCCN1C(=CC(=C[C@@H](C1=O)C)C)C)CC\n",
            "Epoch[193/500], Generated SMILES: CN(CCCN1C(=CC(=C[C@@H](C1=O)C)C)C)CCNO\n",
            "Epoch[194/500], Generated SMILES: C/C/1=C\\CC(C)(C)/C=C/C/C(=C\\CC1)/CCC\n",
            "Epoch[195/500], Generated SMILES: CN(CCCN1C(=CC(CC[C@@H](C1=O)C)C)C)CCC\n",
            "Epoch[196/500], Generated SMILES: CN(CCCN1C(=CC(=C[C@@H](C1=O)C)C)C)CC\n",
            "Epoch[197/500], Generated SMILES: CN(CCCN1C(=Cc(=C[C@@H](C1=O)C)C)C)CC\n",
            "Epoch[198/500], Generated SMILES: CN(CCCN1C(=CC(=C[C@@H](C1=O)C)C)C)CC\n",
            "Epoch[199/500], Generated SMILES: CN(CCCN1C(=CC(=C[C@@H](C1=O)C)C)C)CC\n",
            "Epoch[200/500], Generated SMILES: CN(CCCN1C(=CC(=C[C@@H](C1=O)C)C)C)CC\n",
            "Epoch[201/500], Generated SMILES: CN(CCCN1C(=CC(=C[C@@H](C1=O)C)C)C)CCNN\n",
            "Epoch[202/500], Generated SMILES: CN(CCCN1C(=CC(=C[C@@H](C1=O)C)C)C)CC\n",
            "Epoch[203/500], Generated SMILES: CN(CCCN1C(=CC(=C[C@@H](C1=O)C)C)C)CC\n",
            "Epoch[204/500], Generated SMILES: CN(CCCN1C(=CC(=C[C@@H](C1=O)C)C)C)CCN\n",
            "Epoch[205/500], Generated SMILES: CN(CCCN1C(=CC(=C[C@@H](C1=O)C)C)C)CO\n",
            "Epoch[206/500], Generated SMILES: CN(CCCN1C(=CC(CC[C@@H](C1=O)C)C)C)CC\n",
            "Epoch[207/500], Generated SMILES: CN(CCCN1C(=CC(=C[C@@H](C1=O)C)C)C)CC\n",
            "Epoch[208/500], Generated SMILES: CN(CCCN1C(=CC(=C[C@@H](C1=O)C)C)C)CC\n",
            "Epoch[209/500], Generated SMILES: CN(CCCN1C(=CC(=C[C@@H](C1=O)C)C)C)C\n",
            "Epoch[210/500], Generated SMILES: CN(CCCN1C(=CC(=C[C@@H](C1=O)C)C)C)CCN\n",
            "Epoch[211/500], Generated SMILES: C/C/1=C\\CC(C)(C)/C=C/C/C(=C\\CC1)/CC\n",
            "Epoch[212/500], Generated SMILES: C/C/1=C\\CC(C)(C)/C=C/C/C(=C\\CC1)/CCOO\n",
            "Epoch[213/500], Generated SMILES: CN(CCCN1C(=CC(=C[C@@H](C1=O)C)C)C)CCO\n",
            "Epoch[214/500], Generated SMILES: CN(CCCN1C(=CC(=C[C@@H](C1=O)C)C)C)C/NN\n",
            "Epoch[215/500], Generated SMILES: CN(CCCN1C(cCC(=C[C@@H](C1=O)C)C)C)CC\n",
            "Epoch[216/500], Generated SMILES: CCc/1=C\\CC(C)(C)CC=C/C/C(=C\\CC1)/CCCN\n",
            "Epoch[217/500], Generated SMILES: CN(CCCN1C(=CC(=C[C@@H](C1=O)C)C)C)CCN\n",
            "Epoch[218/500], Generated SMILES: CN(CCCN1C(=CC(=C[C@@H](C1=O)C)C)C)CC\n",
            "Epoch[219/500], Generated SMILES: CN(CCCN1C(=CC(=C[C@@H](C1=O)C)C)C)CO\n",
            "Epoch[220/500], Generated SMILES: C/C/1cC\\CC(C)(C)/C=C/C/C(=C\\CC1)/CC\n",
            "Epoch[221/500], Generated SMILES: CN(CCCN1C(=CC(=C[C@@H](C1=O)C)C)C)CC\n",
            "Epoch[222/500], Generated SMILES: CN(CCCN1C(=CC(=C[C@@H](C1=O)C)C)C)CC\n",
            "Epoch[223/500], Generated SMILES: CN(CCCN1C(=CC(=C[C@@H](C1=O)C)C)C)CCNC\n",
            "Epoch[224/500], Generated SMILES: CN(CCCN1C(=CC(=C[C@@H](C1=O)C)C)C)CCC\n",
            "Epoch[225/500], Generated SMILES: CN(CCCN1C(=CC(=C[C@@H](C1=O)C)C)C)CC\n",
            "Epoch[226/500], Generated SMILES: CN(CCCN1C(=CC(=C[C@@H](C1=O)C)C)C)C/N\n",
            "Epoch[227/500], Generated SMILES: CN(CCCc1C(=CC(=C[C@@H](C1=O)C)C)C)CC\n",
            "Epoch[228/500], Generated SMILES: C/C/1=N\\CC(C)(C)/C=C/C/C(=C\\CC1)/CCC\n",
            "Epoch[229/500], Generated SMILES: CN(CCCN1C(=CC(=C[C@@H](C1=O)C)C)C)CC\n",
            "Epoch[230/500], Generated SMILES: C/C/1=C\\CC(C)(C)/C=C/C/C(=C\\CC1)/CC/N\n",
            "Epoch[231/500], Generated SMILES: C/C/1=C\\CC(C)(C)/C=C/C/C(=C\\CC1)/CCC\\N\n",
            "Epoch[232/500], Generated SMILES: CN(CCCN1C(=CC(=C[C@@H](C1=O)C)C)C)CC\n",
            "Epoch[233/500], Generated SMILES: CN(CCCN1C(=CC(=C[C@@H](C1=O)C)C)C)C\n",
            "Epoch[234/500], Generated SMILES: CN(CCCN1C(=CC(=C[C@@H](C1=O)C)C)C)CC\n",
            "Epoch[235/500], Generated SMILES: CN(CCCN1C(=CC(=C[C@@H](C1=O)C)C)C)CC\n",
            "Epoch[236/500], Generated SMILES: CN(CCCN1C(=CC(=C[C@@H](C1=O)C)C)C)CCCC\n",
            "Epoch[237/500], Generated SMILES: C/1cc=C\\CC(C)(C)/C=C/C/C(=C\\CC1)/C/C\\CO\n",
            "Epoch[238/500], Generated SMILES: CN(CCCN1C(cCC(=C[C@@H](C1=O)C)C)C)CC\n",
            "Epoch[239/500], Generated SMILES: CN(CCCN1C(=CC(=C[C@@H](C1=O)C)C)C)C\n",
            "Epoch[240/500], Generated SMILES: CN(CCCN1C(=CC(=C[C@@H](C1=O)C)C)C)CC\n",
            "Epoch[241/500], Generated SMILES: C/C/1=C\\CC(C)(C)/C=C/C/C(=C\\CC1)/CC\n",
            "Epoch[242/500], Generated SMILES: C/C/1=C\\CCcCc(C)/C=C/C/C(=C\\CC1)/CCO\n",
            "Epoch[243/500], Generated SMILES: CN(CCCN1C(=CC(=C[C@@H](C1=O)C)C)C)CC\n",
            "Epoch[244/500], Generated SMILES: CN(CCCN1C(=CC(=C[C@@H](C1=O)C)C)C)C/N\n",
            "Epoch[245/500], Generated SMILES: CN(CCCN1C(=CC(=C[C@@H](C1=O)C)C)C)CC\n",
            "Epoch[246/500], Generated SMILES: CN(CCCN1C(=CC(=C[C@@H](C1=O)C)C)C)CC\n",
            "Epoch[247/500], Generated SMILES: CN(CCCN1C(=CC(=C[C@@H](C1=O)C)C)C)CC\n",
            "Epoch[248/500], Generated SMILES: C/C/1=C\\CC(C)(C)/C=C/C/C(=C\\CC1)/CCC\n",
            "Epoch[249/500], Generated SMILES: C/C/1cC\\CC(C)(C)/C=C/C/C(=C\\CC1)/CCO\n",
            "Epoch[250/500], Generated SMILES: C/C/1=C\\CC(C)(C)/C=C/C/C(=C\\CC1)/CC(\\N)N\n",
            "Epoch[251/500], Generated SMILES: CN(CCCN1C(=CC(=C[C@@H](C1=O)C)C)C)CNO\n",
            "Epoch[252/500], Generated SMILES: CN(CCCN1C(=CC(=C[C@@H](C1=O)C)C)C)CC\n",
            "Epoch[253/500], Generated SMILES: CN(CCCc1C(=CC(=C[C@@H](C1=O)C)C)C)CC\n",
            "Epoch[254/500], Generated SMILES: CN(CCCN1C(=CC(=C[C@@H](C1=O)C)C)C)CC\n",
            "Epoch[255/500], Generated SMILES: CN(CCCN1C(=CC(=C[C@@H](C1=O)C)C)C)CC\n",
            "Epoch[256/500], Generated SMILES: CN(CCCN1C(=CC(=C[C@@H](C1=O)C)C)C)CC\n",
            "Epoch[257/500], Generated SMILES: CN(CCCN1C(=CC(=C[C@@H](C1=O)C)C)C)CC\n",
            "Epoch[258/500], Generated SMILES: CN(CCCN1C(=CC(=C[C@@H](C1=O)C)C)C)CC\n",
            "Epoch[259/500], Generated SMILES: CN(CCCN1C(=CC(=C[C@@H](C1=O)C)C)C)CC\n",
            "Epoch[260/500], Generated SMILES: CN(CCCN1C(=CC(=C[C@@H](C1=O)C)C)C)CC\n",
            "Epoch[261/500], Generated SMILES: CN(CCCc1C(=CC(=C[C@@H](C1=O)C)C)C)CC\n",
            "Epoch[262/500], Generated SMILES: CN(CCCN1C(=CC(=C[C@@H](C1=O)C)C)C)CCN\n",
            "Epoch[263/500], Generated SMILES: CN(CCCN1C(=CC(=C[C@@H](C1=O)C)C)C)C/N\n",
            "Epoch[264/500], Generated SMILES: CN(CCCN1C(=CC(=C[C@@H](C1=O)C)C)C)CC\n",
            "Epoch[265/500], Generated SMILES: CN(CCCN1C(=CC(=C[C@@H](C1=O)C)C)C)CCN\n",
            "Epoch[266/500], Generated SMILES: CN(CCCN1C(=CC(=C[C@@H](C1=O)C)C)C)CC\n",
            "Epoch[267/500], Generated SMILES: C/C/1=C\\CC(C)(C)/C=C/C/C(=C\\CC1)/CCC\n",
            "Epoch[268/500], Generated SMILES: CN(CCCN1C(=CC(=C[C@@H](C1=O)C)C)C)CCO\n",
            "Epoch[269/500], Generated SMILES: CN(CCCN1C(=CC(=C[C@@H](C1=O)C)C)C)CC\n",
            "Epoch[270/500], Generated SMILES: CN(CCCN1C(=CC(=C[C@@H](C1=O)C)C)C)CCNC\n",
            "Epoch[271/500], Generated SMILES: CN(CCCN1C(=CC(=C[C@@H](C1=O)C)C)C)CC\n",
            "Epoch[272/500], Generated SMILES: C/C/1=C\\CC(C)(C)/C=C/C/C(=C\\CC1)/CN\n",
            "Epoch[273/500], Generated SMILES: CC(c1cccc(c1O)C)CC=C/C/C(=C\\CC1)/CC1C\n",
            "Epoch[274/500], Generated SMILES: CN(CCCN1C(=CC(=C[C@@H](C1=O)C)C)C)C\n",
            "Epoch[275/500], Generated SMILES: C/Cc1=N\\CC(C)(C)/C=C/C/C(=C\\CC1)/CC/NC\n",
            "Epoch[276/500], Generated SMILES: CCC/1=C\\cC(C)(C)/C=C/C/C(=C\\CC1)/CC\n",
            "Epoch[277/500], Generated SMILES: C/C/1=C\\CC(C)(C)/C=C/C/C(=C\\CC1)/CC\n",
            "Epoch[278/500], Generated SMILES: C/C/1=N\\CC(C)(C)/C=C/C/C(=C\\CC1)/CC\n",
            "Epoch[279/500], Generated SMILES: CN(CCCN1C(=CC(=C[C@@H](C1=O)C)C)C)CC\n",
            "Epoch[280/500], Generated SMILES: C/C/1=C\\CC(C)(C)/C=C/C/C(=C\\CC1)/CCCNN\n",
            "Epoch[281/500], Generated SMILES: C/C/1=C\\CC(C)(C)/C=C/C/C(=C\\CC1)/CC/N\n",
            "Epoch[282/500], Generated SMILES: CN(CCCN1C(=CC(=C[C@@H](C1=O)C)C)C)CCO\n",
            "Epoch[283/500], Generated SMILES: CN(CCCN1C(=CC(=C[C@@H](C1=O)C)C)C)CC\n",
            "Epoch[284/500], Generated SMILES: CN(CCCN1C(=CC(=C[C@@H](C1=O)C)C)C)CCN\n",
            "Epoch[285/500], Generated SMILES: CN(C1CN1C(cCC(CC[C@@H](C1=O)C)C)C)CCC1\n",
            "Epoch[286/500], Generated SMILES: CN(CCCN1C(=CC(=C[C@@H](C1=O)C)C)C)CC\n",
            "Epoch[287/500], Generated SMILES: CN(CCCN1C(=CC(=C[C@@H](C1=O)C)C)C)CC\n",
            "Epoch[288/500], Generated SMILES: CN(CCCN1C(cCC(=C[C@@H](C1=O)C)C)C)CCO\n",
            "Epoch[289/500], Generated SMILES: C/Cc1=C\\CC(C)(C)/C=C/C/C(=C\\CC1)/CCON\n",
            "Epoch[290/500], Generated SMILES: C/c1c=C\\CC(C)(C)/C=C/C/C(=C\\CC1)/CCC\n",
            "Epoch[291/500], Generated SMILES: CN(CCCN1C(=CC(=C[C@@H](C1=O)C)C)C)CC\n",
            "Epoch[292/500], Generated SMILES: CN(CCCN1C(cCC(=C[C@@H](C1=O)C)C)C)CCN\n",
            "Epoch[293/500], Generated SMILES: CN(CCCN1C(cCC(=C[C@@H](C1=O)C)C)C)C\n",
            "Epoch[294/500], Generated SMILES: C/C/1=C\\CC(C)(C)/C=C/C/C(=C\\CC1)/CC\n",
            "Epoch[295/500], Generated SMILES: CN(CCCN1C(=CC(=C[C@@H](C1=O)C)C)C)CC\n",
            "Epoch[296/500], Generated SMILES: CN(CCCN1C(=CC(=C[C@@H](C1=O)C)C)C)CC\n",
            "Epoch[297/500], Generated SMILES: CN(CCCN1C(=CC(=C[C@@H](C1=O)C)C)C)C\n",
            "Epoch[298/500], Generated SMILES: CN(CCCN1C(=CC(=C[C@@H](C1=O)C)C)C)CC\n",
            "Epoch[299/500], Generated SMILES: CN(CCCN1C(=CC(=C[C@@H](C1=O)C)C)C)CC\n",
            "Epoch[300/500], Generated SMILES: C/C/1=C\\CC(C)(C)/C=C/C/C(=C\\CC1)/CC\n",
            "Epoch[301/500], Generated SMILES: CN(CCCN1C(=CC(=C[C@@H](C1=O)C)C)C)CCNO\n",
            "Epoch[302/500], Generated SMILES: CN(CCCN1C(=CC(=C[C@@H](C1=O)C)C)C)CC\n",
            "Epoch[303/500], Generated SMILES: CN(CCCN1C(=CC(=C[C@@H](C1=O)C)C)C)CC\n",
            "Epoch[304/500], Generated SMILES: CN(C1CN1C(=CC(=C[C@@H](C1=O)C)C)C)CC1C\n",
            "Epoch[305/500], Generated SMILES: CN(CCCN1C(=CC(=C[C@@H](C1=O)C)C)C)CC\n",
            "Epoch[306/500], Generated SMILES: CN(CCCN1C(=CC(=C[C@@H](C1=O)C)C)C)CC\n",
            "Epoch[307/500], Generated SMILES: CN(CCCN1C(=CC(=C[C@@H](C1=O)C)C)C)CC\n",
            "Epoch[308/500], Generated SMILES: C/Cc1=C\\CC(C)(C)/C=C/C/C(=C\\CC1)/CC=N\n",
            "Epoch[309/500], Generated SMILES: CN(CCCN1C(=CC(CC[C@@H](C1=O)C)C)C)CC\n",
            "Epoch[310/500], Generated SMILES: CN(CCCN1C(=CC(=C[C@@H](C1=O)C)C)C)CC\n",
            "Epoch[311/500], Generated SMILES: CN(CCCN1C(=CC(=C[C@@H](C1=O)C)C)C)CC\n",
            "Epoch[312/500], Generated SMILES: C/C/1=C\\CC(C)(C)/C=C/C/C(=C\\CC1)/CC\n",
            "Epoch[313/500], Generated SMILES: CN(CCCN1C(=CC(=C[C@@H](C1=O)C)C)C)CC\n",
            "Epoch[314/500], Generated SMILES: CN(CCCN1C(=CC(=C[C@@H](C1=O)C)C)C)CCN\n",
            "Epoch[315/500], Generated SMILES: CN(CCCN1C(=CC(=C[C@@H](C1=O)C)C)C)CC\n",
            "Epoch[316/500], Generated SMILES: CN(CCCN1C(=CC(=C[C@@H](C1=O)C)C)C)C\n",
            "Epoch[317/500], Generated SMILES: CN(CCCN1C(=CC(=C[C@@H](C1=O)C)C)C)CC\n",
            "Epoch[318/500], Generated SMILES: OC(ccc(cc(c1O)C)C)CC/C/C(=C\\CC1)/CNN\n",
            "Epoch[319/500], Generated SMILES: CN(CCCN1C(=CC(=C[C@@H](C1=O)C)C)C)CC\n",
            "Epoch[320/500], Generated SMILES: OCc1c(C)cc(cc1C)CC=C/C/C(=C\\CC1)/C=CO1\n",
            "Epoch[321/500], Generated SMILES: C/Cc1cC\\CC1CC(C)/CCC/C/C(=C\\CC1)/CCC1C\n",
            "Epoch[322/500], Generated SMILES: Cc1cc2[nH]cnc2cc1CCC/C/C(=C\\CC1)/CC1\\O\n",
            "Epoch[323/500], Generated SMILES: CN(CCCN1C(=CC(=C[C@@H](C1=O)C)C)C)C\n",
            "Epoch[324/500], Generated SMILES: C/C/1=C\\CC(C)(C)/C=C/C/C(=C\\CC1)/CC/N\n",
            "Epoch[325/500], Generated SMILES: CN(CCCN1C(=CC(=C[C@@H](C1=O)C)C)C)CC\n",
            "Epoch[326/500], Generated SMILES: C/C/1=C\\CC(C)(C)/C=C/C/C(=C\\CC1)/CCC\n",
            "Epoch[327/500], Generated SMILES: CN(CCCN1C(=CC(=C[C@@H](C1=O)C)C)C)CC\n",
            "Epoch[328/500], Generated SMILES: CN(CCCN1C(cCC(=C[C@@H](C1=O)C)C)C)C\\N\n",
            "Epoch[329/500], Generated SMILES: CN(CCCN1C(=CC(=C[C@@H](C1=O)C)C)C)CCN\n",
            "Epoch[330/500], Generated SMILES: CN(CCCN1C(=CC(=C[C@@H](C1=O)C)C)C)CCO\n",
            "Epoch[331/500], Generated SMILES: CN(CCCN1C(=CC(=C[C@@H](C1=O)C)C)C)C/N\n",
            "Epoch[332/500], Generated SMILES: CN(CCCN1C(=CC(=C[C@@H](C1=O)C)C)C)CC\n",
            "Epoch[333/500], Generated SMILES: CN(CCCN1C(=CC(=C[C@@H](C1=O)C)C)C)CC\n",
            "Epoch[334/500], Generated SMILES: CN(CCCN1C(=CC(=C[C@@H](C1=O)C)C)C)CN\n",
            "Epoch[335/500], Generated SMILES: CN(CCCN1C(=Cc(=C[C@@H](C1=O)C)C)C)CN\n",
            "Epoch[336/500], Generated SMILES: Cc1cc=C\\Cc(Cc1C)CC=C/C/C(=C\\CC1)/C/n1\n",
            "Epoch[337/500], Generated SMILES: CN(CCCN1C(=CC(=C[C@@H](C1=O)C)C)C)CC\n",
            "Epoch[338/500], Generated SMILES: CN(CCCN1C(=CC(=C[C@@H](C1=O)C)C)C)CC\n",
            "Epoch[339/500], Generated SMILES: CN(CCCN1C(=CC(=C[C@@H](C1=O)C)C)C)CN\n",
            "Epoch[340/500], Generated SMILES: C/C/1=C\\CC(C)(C)/C=C/C/C(=C\\CC1)/CC\n",
            "Epoch[341/500], Generated SMILES: C/C/1=C\\CC(C)(C)/C=C/C/C(=C\\CC1)/COC\\N\n",
            "Epoch[342/500], Generated SMILES: C/C/1=C\\CC(C)(C)/C=C/C/C(=C\\CC1)/CCOO\n",
            "Epoch[343/500], Generated SMILES: CCc1c=C\\Cc(Cc(C)CC=C/C/C(=C\\CC1)/CCN)\n",
            "Epoch[344/500], Generated SMILES: CN(CCCN1C(=CC(=C[C@@H](C1=O)C)C)C)CC\n",
            "Epoch[345/500], Generated SMILES: CN(CCCN1C(=CC(=C[C@@H](C1=O)C)C)C)CC\n",
            "Epoch[346/500], Generated SMILES: CN(CCCN1C(=CC(=C[C@@H](C1=O)C)C)C)CC\n",
            "Epoch[347/500], Generated SMILES: CN(CCCN1C(=CC(=C[C@@H](C1=O)C)C)C)CC\n",
            "Epoch[348/500], Generated SMILES: CN(CCCN1C(=CC(=C[C@@H](C1=O)C)C)C)C\n",
            "Epoch[349/500], Generated SMILES: C/C/1=C\\CC(C)(C)/C=C/C/C(=C\\CC1)/CCC\\C\n",
            "Epoch[350/500], Generated SMILES: CN(CCCN1C(=CC(=C[C@@H](C1=O)C)C)C)C\n",
            "Epoch[351/500], Generated SMILES: CN(CCCN1C(=CC(=C[C@@H](C1=O)C)C)C)CC\n",
            "Epoch[352/500], Generated SMILES: C/C/1=C\\CC(C)(C)/C=C/C/C(=C\\CC1)/CC\n",
            "Epoch[353/500], Generated SMILES: C/C/1=C\\CC(C)(C)/C=C/C/C(=C\\CC1)/CCCC\n",
            "Epoch[354/500], Generated SMILES: CN(CCCN1C(=CC(=C[C@@H](C1=O)C)C)C)CC\n",
            "Epoch[355/500], Generated SMILES: CN(CCCN1C(=CC(=C[C@@H](C1=O)C)C)C)CCN\n",
            "Epoch[356/500], Generated SMILES: Cc1cc2[nH]cnc2cc1C=C/C/C(=C\\CC1)/CCc1C\n",
            "Epoch[357/500], Generated SMILES: C/C/1=C\\CC(C)(C)/C=C/C/C(=C\\CC1)/CC\n",
            "Epoch[358/500], Generated SMILES: C/C/1=C\\CC(C)(C)/C=C/C/C(=C\\CC1)/CC\n",
            "Epoch[359/500], Generated SMILES: CN(CCCN1C(=CC(=C[C@@H](C1=O)C)C)C)CC\n",
            "Epoch[360/500], Generated SMILES: CN(CCCN1C(=CC(=C[C@@H](C1=O)C)C)C)CC\n",
            "Epoch[361/500], Generated SMILES: CN(CCCN1C(=CC(=C[C@@H](C1=O)C)C)C)CC\n",
            "Epoch[362/500], Generated SMILES: CN(CCCc1C(=CC(=C[C@@H](C1=O)C)C)C)CCNN\n",
            "Epoch[363/500], Generated SMILES: CN(CCCN1C(=CC(=C[C@@H](C1=O)C)C)C)CC\n",
            "Epoch[364/500], Generated SMILES: CN(CCCN1C(=CC(=C[C@@H](C1=O)C)C)C)CC\n",
            "Epoch[365/500], Generated SMILES: C/C/1=C\\CC(C)(C)/C=C/C/C(=C\\CC1)/CCO\n",
            "Epoch[366/500], Generated SMILES: CN(CCCN1C(=CC(=C[C@@H](C1=O)C)C)C)CC\n",
            "Epoch[367/500], Generated SMILES: CN(CCCN1C(=CC(=C[C@@H](C1=O)C)C)C)CC\n",
            "Epoch[368/500], Generated SMILES: CN(CCCN1C(=CC(=C[C@@H](C1=O)C)C)C)C\n",
            "Epoch[369/500], Generated SMILES: C/C/1=N\\CC(C)(C)/C=C/C/C(=C\\CC1)/CCC\\C\n",
            "Epoch[370/500], Generated SMILES: CN(CCCN1C(=CC(=C[C@@H](C1=O)C)C)C)CN\n",
            "Epoch[371/500], Generated SMILES: CN(CCCN1C(=CC(CC[C@@H](C1=O)C)C)C)CCN\n",
            "Epoch[372/500], Generated SMILES: CN(CCCN1C(=Cc(=C[C@@H](C1=O)C)C)C)CCOO\n",
            "Epoch[373/500], Generated SMILES: CN(CCCN1C(=CC(=C[C@@H](C1=O)C)C)C)CC\n",
            "Epoch[374/500], Generated SMILES: Cc1/c=C\\Cc(C)(C)/C=C/C/C(=C\\CC1)/CN\n",
            "Epoch[375/500], Generated SMILES: CN(CCCN1C(=CC(=C[C@@H](C1=O)C)C)C)CC\n",
            "Epoch[376/500], Generated SMILES: CN(CCCc1C(=CC(=C[C@@H](C1=O)C)C)C)CC\n",
            "Epoch[377/500], Generated SMILES: ON(CCCN1c(=CC(=C[C@@H](C1=O)C)C)C)CC\n",
            "Epoch[378/500], Generated SMILES: CN(c1CNcC(=CC(CC[C@@H](C1=O)C)C)C)CC\n",
            "Epoch[379/500], Generated SMILES: CN(CCCN1C(=CC(=C[C@@H](C1=O)C)C)C)C\\N\n",
            "Epoch[380/500], Generated SMILES: CN(CCCN1C(=CC(=C[C@@H](C1=O)C)C)C)CCO\n",
            "Epoch[381/500], Generated SMILES: CN(CCCN1C(=CC(=C[C@@H](C1=O)C)C)C)CO\n",
            "Epoch[382/500], Generated SMILES: CC1cc(N)cc(c1(C)OC=O)C/C(=C\\CC1)/CCCNNo1\n",
            "Epoch[383/500], Generated SMILES: CN(CCCN1CC(CC(=C[C@@H](C1=O)C)C)C)C\n",
            "Epoch[384/500], Generated SMILES: CN(CCCN1C(=Cc(=C[C@@H](C1=O)C)C)C)CC\n",
            "Epoch[385/500], Generated SMILES: CN(CCCN1C(=CC(=C[C@@H](C1=O)C)C)C)CC\n",
            "Epoch[386/500], Generated SMILES: CCc1occ(C(=O)c1)OC=C/C/C(=C\\CC1)/CC1C\n",
            "Epoch[387/500], Generated SMILES: C/C/1=C\\CC(C)(C)/C=C/C/C(=C\\CC1)/CCCN\n",
            "Epoch[388/500], Generated SMILES: CN(CCCN1C(=CC(=C[C@@H](C1=O)C)C)C)CC\n",
            "Epoch[389/500], Generated SMILES: C/C/1=C\\CC(C)(C)/C=C/C/C(=C\\CC1)/CC\n",
            "Epoch[390/500], Generated SMILES: C/C/1=C\\CC(C)(C)/C=C/C/C(=C\\CC1)/CC\n",
            "Epoch[391/500], Generated SMILES: C/C/1=C\\CC(C)(C)/C=C/C/C(=C\\CC1)/CC/N\n",
            "Epoch[392/500], Generated SMILES: CN(CCCN1C(=CC(=C[C@@H](C1=O)C)C)C)C\n",
            "Epoch[393/500], Generated SMILES: CN(CCCN1c(=CC(=C[C@@H](C1=O)C)C)C)CC\n",
            "Epoch[394/500], Generated SMILES: CN(CCCN1C(=CC(=C[C@@H](C1=O)C)C)C)CC\n",
            "Epoch[395/500], Generated SMILES: C/C/1=C\\CC(C)(C)/C=C/C/C(=C\\CC1)/CCC\n",
            "Epoch[396/500], Generated SMILES: C/C/1=C\\CC(C)(C)/C=C/C/C(=C\\CC1)/CC\n",
            "Epoch[397/500], Generated SMILES: CN(CCCN1C(=CC(=C[C@@H](C1=O)C)C)C)CC=C[N]\n",
            "Epoch[398/500], Generated SMILES: CN(CCCN1C(=CC(=C[C@@H](C1=O)C)C)C)CC\n",
            "Epoch[399/500], Generated SMILES: CN(CCCN1C(=CC(=C[C@@H](C1=O)C)C)C)CC\n",
            "Epoch[400/500], Generated SMILES: CN(CCCN1C(=CC(=C[C@@H](C1=O)C)C)C)CC\n",
            "Epoch[401/500], Generated SMILES: CN(CCCN1C(=CC(=C[C@@H](C1=O)C)C)C)CC\n",
            "Epoch[402/500], Generated SMILES: CN(CCCN1C(=CC(=C[C@@H](C1=O)C)C)C)CC\n",
            "Epoch[403/500], Generated SMILES: C/c1c=C\\CC(C)(C)/C=C/C/C(=C\\CC1)/C\n",
            "Epoch[404/500], Generated SMILES: CN(CCCN1C(=CC(=C[C@@H](C1=O)C)C)C)CO\n",
            "Epoch[405/500], Generated SMILES: CN(CCCN1C(=CC(=C[C@@H](C1=O)C)C)C)CC\n",
            "Epoch[406/500], Generated SMILES: CN(CCCN1C(=CC(=C[C@@H](C1=O)C)C)C)CO\n",
            "Epoch[407/500], Generated SMILES: CN(CCCN1C(=CC(=C[C@@H](C1=O)C)C)C)CC\n",
            "Epoch[408/500], Generated SMILES: CN(CCCN1C(=CC(=C[C@@H](C1=O)C)C)C)CC\n",
            "Epoch[409/500], Generated SMILES: CN(CCCN1C(=CC(=C[C@@H](C1=O)C)C)C)C\n",
            "Epoch[410/500], Generated SMILES: CN(CCCN1c(cCc(=C[C@@H](C1=O)C)C)C)CC\n",
            "Epoch[411/500], Generated SMILES: C/C/1=C\\CC(Cc(C)/C=C/C/C(=C\\CC1)/CC)\n",
            "Epoch[412/500], Generated SMILES: CN(CCCN1C(=CC(=C[C@@H](C1=O)C)C)C)CC\n",
            "Epoch[413/500], Generated SMILES: CN(CCCN1C(=CC(=C[C@@H](C1=O)C)C)C)CC\n",
            "Epoch[414/500], Generated SMILES: CN(CCCN1C(=CC(=C[C@@H](C1=O)C)C)C)CC\n",
            "Epoch[415/500], Generated SMILES: CN(CCCN1C(=CC(=C[C@@H](C1=O)C)C)C)C\n",
            "Epoch[416/500], Generated SMILES: CN(CCCN1C(=CC(=C[C@@H](C1=O)C)C)C)CCO\n",
            "Epoch[417/500], Generated SMILES: CN(CCCN1C(=CC(=C[C@@H](C1=O)C)C)C)C/N\n",
            "Epoch[418/500], Generated SMILES: C/C/1=C\\CC(C)(C)/C=C/C/C(=C\\CC1)/CC\\\\N\n",
            "Epoch[419/500], Generated SMILES: CN(CCCN1C(=CC(=C[C@@H](C1=O)C)C)C)CC\n",
            "Epoch[420/500], Generated SMILES: OCc1occ(c(=O)c1)OC=C/C/C(=C\\CC1)/C1\n",
            "Epoch[421/500], Generated SMILES: Cc1cc(N)cc(c1N(=O)=O)C/C(=C\\CC1)/CC/1\n",
            "Epoch[422/500], Generated SMILES: CN(CCCN1C(=CC(=C[C@@H](C1=O)C)C)C)CC\n",
            "Epoch[423/500], Generated SMILES: CN(CCCN1C(=CC(=C[C@@H](C1=O)C)C)C)CO\n",
            "Epoch[424/500], Generated SMILES: CN(CCCN1C(=CC(CC[C@@H](C1=O)C)C)C)CC\n",
            "Epoch[425/500], Generated SMILES: C/C/1=C\\CC(C)(C)/C=C/C/C(=C\\CC1)/CO\n",
            "Epoch[426/500], Generated SMILES: CN(CCCN1C(=CC(=C[C@@H](C1=O)C)C)C)CCOC\n",
            "Epoch[427/500], Generated SMILES: C/C/1=C\\CC(C)(C)/C=C/C/C(=C\\CC1)/CCCO\n",
            "Epoch[428/500], Generated SMILES: CN(CCCN1C(=CC(=C[C@@H](C1=O)C)C)C)CC\n",
            "Epoch[429/500], Generated SMILES: CN(CCCN1C(=CC(=C[C@@H](C1=O)C)C)C)C/NO\n",
            "Epoch[430/500], Generated SMILES: CN(CCCN1C(=CC(=C[C@@H](C1=O)C)C)C)CC\n",
            "Epoch[431/500], Generated SMILES: CN(CCCN1C(=CC(=C[C@@H](C1=O)C)C)C)CO\n",
            "Epoch[432/500], Generated SMILES: C/C/1=C\\cC(C)(C)/C=C/C/C(=C\\CC1)/CN\n",
            "Epoch[433/500], Generated SMILES: CN(CCCN1C(=CC(=C[C@@H](C1=O)C)C)C)CC\n",
            "Epoch[434/500], Generated SMILES: CCC/1cC\\CC(C)(C)/C=C/C/C(=C\\CC1)/CC\n",
            "Epoch[435/500], Generated SMILES: CN(CCCN1C(=CC(=C[C@@H](C1=O)C)C)C)CC\n",
            "Epoch[436/500], Generated SMILES: CN(CCCN1C(=CC(=C[C@@H](C1=O)C)C)C)CC\n",
            "Epoch[437/500], Generated SMILES: CN(CCCN1C(=CC(=C[C@@H](C1=O)C)C)C)CC\n",
            "Epoch[438/500], Generated SMILES: CN(CCCN1C(=CC(=C[C@@H](C1=O)C)C)C)CCN\n",
            "Epoch[439/500], Generated SMILES: CN(CCCc1C(=CC(=C[C@@H](C1=O)C)C)C)CC\n",
            "Epoch[440/500], Generated SMILES: C/C/1=C\\CC(C)(C)/C=C/C/C(=C\\CC1)/CCC\n",
            "Epoch[441/500], Generated SMILES: CN(CCCN1C(=CC(=C[C@@H](C1=O)C)C)C)C\n",
            "Epoch[442/500], Generated SMILES: CN(CCCN1C(=CC(=C[C@@H](C1=O)C)C)C)CC\n",
            "Epoch[443/500], Generated SMILES: C/C/1=C\\CC(C)(C)/C=C/C/C(=C\\CC1)/C=C\n",
            "Epoch[444/500], Generated SMILES: CN(CCCN1C(=CC(=C[C@@H](C1=O)C)C)C)C\n",
            "Epoch[445/500], Generated SMILES: CN(CCCN1C(=CC(=C[C@@H](C1=O)C)C)C)CC\n",
            "Epoch[446/500], Generated SMILES: CN(CCCN1C(=CC(=C[C@@H](C1=O)C)C)C)CC\n",
            "Epoch[447/500], Generated SMILES: CN(CCCN1C(=CC(=C[C@@H](C1=O)C)C)C)CC\n",
            "Epoch[448/500], Generated SMILES: CN(CCCN1C(=CC(=C[C@@H](C1=O)C)C)C)CO\n",
            "Epoch[449/500], Generated SMILES: CN(CCCN1C(=CC(=C[C@@H](C1=O)C)C)C)CC\n",
            "Epoch[450/500], Generated SMILES: CN(CCCN1C(=CC(=C[C@@H](C1=O)C)C)C)CC\n",
            "Epoch[451/500], Generated SMILES: C/C/1=C\\CC(C)(C)/C=C/C/C(=C\\CC1)/CC\n",
            "Epoch[452/500], Generated SMILES: CN(CCCN1C(=CC(=C[C@@H](C1=O)C)C)C)CC\n",
            "Epoch[453/500], Generated SMILES: CN(CCCN1C(=CC(=C[C@@H](C1=O)C)C)C)C\n",
            "Epoch[454/500], Generated SMILES: CN(CCCN1C(=CC(=C[C@@H](C1=O)C)C)C)CC\n",
            "Epoch[455/500], Generated SMILES: CN(CCCN1C(=Cc(=C[C@@H](C1=O)C)C)C)C/N\n",
            "Epoch[456/500], Generated SMILES: CN(CCCN1C(cCC(=C[C@@H](C1=O)C)C)C)C/N\n",
            "Epoch[457/500], Generated SMILES: CN(CCCN1C(=CC(=C[C@@H](C1=O)C)C)C)CC\n",
            "Epoch[458/500], Generated SMILES: CN(CCCN1C(=CC(=C[C@@H](C1=O)C)C)C)CC\n",
            "Epoch[459/500], Generated SMILES: CN(c1cccC(cCC(CC[C@@H](C1=O)C)C)C)CC\n",
            "Epoch[460/500], Generated SMILES: C/C/1=C\\CC(C)(C)/C=C/C/C(=C\\CC1)/CCCC\n",
            "Epoch[461/500], Generated SMILES: CN(CCCN1C(=CC(=C[C@@H](C1=O)C)C)C)CC\n",
            "Epoch[462/500], Generated SMILES: CN(CCCN1C(=CC(=C[C@@H](C1=O)C)C)C)C\n",
            "Epoch[463/500], Generated SMILES: C/C/1=C\\CC(C)(C)/C=C/C/C(=C\\CC1)/CC\n",
            "Epoch[464/500], Generated SMILES: CN(CCCN1C(=CC(=C[C@@H](C1=O)C)C)C)C\n",
            "Epoch[465/500], Generated SMILES: CN(CCCN1C(=CC(=C[C@@H](C1=O)C)C)C)CC\n",
            "Epoch[466/500], Generated SMILES: C/C/1(C)CC(C)(C)/C=C/C/C(=C\\CC1)/CC\n",
            "Epoch[467/500], Generated SMILES: C/C/1=C\\Cc(C)(C)/C=C/C/C(=C\\CC1)/CO[1O]\n",
            "Epoch[468/500], Generated SMILES: Cc1cc(N)cc(c1N(=O)=O)C/C(=C\\CC1)/CO1\n",
            "Epoch[469/500], Generated SMILES: C/C/1=N\\CC(C)(C)/C=C/C/C(=C\\CC1)/CC\n",
            "Epoch[470/500], Generated SMILES: CN(CCCN1C(cCC(=C[C@@H](C1=O)C)C)C)CCN\n",
            "Epoch[471/500], Generated SMILES: CN(CCCN1C(=CC(=C[C@@H](C1=O)C)C)C)CC\n",
            "Epoch[472/500], Generated SMILES: CN(CCCN1c(=CC(=C[C@@H](C1=O)C)C)C)CC\n",
            "Epoch[473/500], Generated SMILES: C/C/1=C\\CC(C)(C)/C=C/C/C(=C\\CC1)/CC\n",
            "Epoch[474/500], Generated SMILES: CN(CCCN1C(=CC(=C[C@@H](C1=O)C)C)C)CC\n",
            "Epoch[475/500], Generated SMILES: CN(CCCN1C(=CC(=C[C@@H](C1=O)C)C)C)CC\n",
            "Epoch[476/500], Generated SMILES: CN(CCCN1C(=CC(=C[C@@H](C1=O)C)C)C)C\\NC\n",
            "Epoch[477/500], Generated SMILES: ON(CCCN1C(=CC(=C[C@@H](C1=O)C)C)C)CC\n",
            "Epoch[478/500], Generated SMILES: CN(CCCN1C(=CC(=C[C@@H](C1=O)C)C)C)CC\n",
            "Epoch[479/500], Generated SMILES: C/C/1=C\\CC(C)(C)/C=C/C/C(=C\\CC1)/CC\n",
            "Epoch[480/500], Generated SMILES: CN(CCCN1C(=CC(=C[C@@H](C1=O)C)C)C)C\n",
            "Epoch[481/500], Generated SMILES: CN(CCCN1C(=CC(=C[C@@H](C1=O)C)C)C)COCC/N\n",
            "Epoch[482/500], Generated SMILES: CN(CCCN1C(=CC(=C[C@@H](C1=O)C)C)C)CCN\n",
            "Epoch[483/500], Generated SMILES: CN(CCCN1C(=CC(=C[C@@H](C1=O)C)C)C)CC\n",
            "Epoch[484/500], Generated SMILES: CN(CCCN1C(=CC(=C[C@@H](C1=O)C)C)C)CC\n",
            "Epoch[485/500], Generated SMILES: C/Cc1=c\\cC(C)(C)/C=C/C/C(=C\\CC1)/CNCN\n",
            "Epoch[486/500], Generated SMILES: CN(CCCN1C(=CC(=C[C@@H](C1=O)C)C)C)CC\n",
            "Epoch[487/500], Generated SMILES: C/C/1=C\\CC(C)(C)/C=C/C/C(=C\\CC1)/CNCN\n",
            "Epoch[488/500], Generated SMILES: ON(CCCN1C(=CC(=C[C@@H](C1=O)C)C)C)CC\n",
            "Epoch[489/500], Generated SMILES: CN(CCCN1C(=CC(=C[C@@H](C1=O)C)C)C)C\n",
            "Epoch[490/500], Generated SMILES: C/C/1=C\\CC(C)(C)/C=C/C/C(=C\\CC1)/CC\n",
            "Epoch[491/500], Generated SMILES: CN(CCCN1C(=CC(=C[C@@H](C1=O)C)C)C)CC\n",
            "Epoch[492/500], Generated SMILES: CN(CCCN1C(=CC(=C[C@@H](C1=O)C)C)C)CC\n",
            "Epoch[493/500], Generated SMILES: CN(CCCN1C(=CC(=C[C@@H](C1=O)C)C)C)CC\n",
            "Epoch[494/500], Generated SMILES: ON(CCCN1C(=CC(=C[C@@H](C1=O)C)C)C)CC\n",
            "Epoch[495/500], Generated SMILES: C/C/1=C\\CC(C)(C)/C=C/C/C(=C\\CC1)/CC\n",
            "Epoch[496/500], Generated SMILES: ON(CCCN1C(=CC(=C[C@@H](C1=O)C)C)C)CC\n",
            "Epoch[497/500], Generated SMILES: CN(CCCN1C(=CC(=C[C@@H](C1=O)C)C)C)CC=C\n",
            "Epoch[498/500], Generated SMILES: C/C/1=C\\CC(C)(C)/C=C/C/C(=C\\CC1)/CCO\n",
            "Epoch[499/500], Generated SMILES: CN(CCCN1C(=CC(=C[C@@H](C1=O)C)C)C)C\n",
            "Epoch[500/500], Generated SMILES: C/C/1=C\\CC(C)(C)/C=C/C/C(=C\\CC1)/CC\\C\n"
          ]
        }
      ]
    },
    {
      "cell_type": "code",
      "source": [
        "#学习的曲线\n",
        "fig, axes = plt.subplots(nrows=3, ncols=2, figsize=(8,8))\n",
        "plot_data = [losses, reconst_losses, kl_divs]\n",
        "legends = [\"Loss\", \"Reconst Loss\", \"KL div\"]\n",
        "for i in range(3):\n",
        "    axes[i][0].plot(plot_data[i], label=legends[i], alpha=0.8)\n",
        "    axes[i][0].grid()\n",
        "    axes[i][0].legend()\n",
        "    axes[i][1].plot(plot_data[i], label=legends[i], alpha=0.8)\n",
        "    axes[i][1].grid()\n",
        "    axes[i][1].legend()\n",
        "    axes[i][1].set_yscale('log')\n",
        "axes[2][0].set_xlabel(\"Steps\")\n",
        "axes[2][1].set_xlabel(\"Steps\")\n",
        "plt.show()"
      ],
      "metadata": {
        "colab": {
          "base_uri": "https://localhost:8080/",
          "height": 497
        },
        "id": "fp8DrunZc2y0",
        "outputId": "0a0d7e69-903f-44f2-b73e-f4c5a2d6efda"
      },
      "execution_count": 30,
      "outputs": [
        {
          "output_type": "display_data",
          "data": {
            "text/plain": [
              "<Figure size 576x576 with 6 Axes>"
            ],
            "image/png": "[encoded data removed]"
          },
          "metadata": {
            "needs_background": "light"
          }
        }
      ]
    }
  ]
}