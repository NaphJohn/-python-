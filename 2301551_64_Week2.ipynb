{
  "nbformat": 4,
  "nbformat_minor": 0,
  "metadata": {
    "colab": {
      "name": "2301551-64-Week2.ipynb",
      "provenance": [],
      "collapsed_sections": [
        "hzzUWXkPsNH3",
        "bW3EjVWnsYeH"
      ],
      "include_colab_link": true
    },
    "kernelspec": {
      "name": "python3",
      "display_name": "Python 3"
    }
  },
  "cells": [
    {
      "cell_type": "markdown",
      "metadata": {
        "id": "view-in-github",
        "colab_type": "text"
      },
      "source": [
        "<a href=\"https://colab.research.google.com/github/whkaikai/-python-/blob/main/2301551_64_Week2.ipynb\" target=\"_parent\"><img src=\"https://colab.research.google.com/assets/colab-badge.svg\" alt=\"Open In Colab\"/></a>"
      ]
    },
    {
      "cell_type": "markdown",
      "metadata": {
        "id": "6KPMc-dmKqOK"
      },
      "source": [
        "# Lists"
      ]
    },
    {
      "cell_type": "markdown",
      "metadata": {
        "id": "u2-d6QiklXd9"
      },
      "source": [
        "## Basic of Lists"
      ]
    },
    {
      "cell_type": "markdown",
      "metadata": {
        "id": "63xCiQ0vKt5P"
      },
      "source": [
        "A list is a collection of values of any types. \n",
        "\n",
        "`[23000, 45000, 36200]` is a list of income in the last 3 months.\n",
        "\n",
        "\n",
        "A list may contain different types of values.\n",
        "\n",
        "`[2301551, 'PROG PRIN']` is a list of course number and course name.\n",
        "\n",
        "A list can also contain lists.\n",
        "\n",
        "`[2301550, [2301551, 'PROG PRIN'], [2301552, 'PRIN DATA STR'] ]` is a list of courses in which some are only course numbers, and some are course number together with the name.\n",
        "\n",
        "A list with zero element is an empty list, which is `[]`."
      ]
    },
    {
      "cell_type": "markdown",
      "metadata": {
        "id": "RBNZ21_HrF-L"
      },
      "source": [
        "### Length of Lists"
      ]
    },
    {
      "cell_type": "markdown",
      "metadata": {
        "id": "81ylS7Xrf0OE"
      },
      "source": [
        "The length of a list is the number of elements in the list. The function `len` gives the length of a list.\n",
        "\n",
        "Examples:\n",
        "\n",
        "The length of `[]` is 0.\n",
        "\n",
        "The length of `[1, 'A', 3.5]` is 3.\n",
        "\n",
        "The length of `[1, ['A', 'C'], [], 'end']` is 4.\n",
        "\n",
        "The length of `[[]]` is 1.\n"
      ]
    },
    {
      "cell_type": "code",
      "metadata": {
        "id": "sx2FpiEog0QF",
        "colab": {
          "base_uri": "https://localhost:8080/",
          "height": 87
        },
        "outputId": "73436785-6520-4828-d83c-4a32347a708e"
      },
      "source": [
        "print(len([]))\n",
        "print(len([1, 'A', 3.5]))\n",
        "print(len([1, ['A', 'C'], [], 'end']))\n",
        "print(len([[]]))"
      ],
      "execution_count": null,
      "outputs": [
        {
          "output_type": "stream",
          "text": [
            "0\n",
            "3\n",
            "4\n",
            "1\n"
          ],
          "name": "stdout"
        }
      ]
    },
    {
      "cell_type": "markdown",
      "metadata": {
        "id": "M01NbrSirTPb"
      },
      "source": [
        "### Elements in a list"
      ]
    },
    {
      "cell_type": "markdown",
      "metadata": {
        "id": "BaEIX8ZzexUB"
      },
      "source": [
        "Each element in a list can refered to using the index of the element.  \n",
        "\n",
        "*   The index of the first element in a list is 0.\n",
        "*   The index of the second element in a list is 1.\n",
        "*   ...\n",
        "*   The index of the last element in a list is n-1 where n is the number of elements in the list.\n",
        "\n",
        "If `x` is a list, `x[i]` refers to the element with index `i` in the list `x`."
      ]
    },
    {
      "cell_type": "code",
      "metadata": {
        "id": "zZb3N7yChJqN",
        "colab": {
          "base_uri": "https://localhost:8080/"
        },
        "outputId": "b79d55d1-eb17-4254-8599-68b6a891ad10"
      },
      "source": [
        "lst = [1, ['A', 'C'], [], 'end']\n",
        "print(lst)\n",
        "print('First:\\t', lst[0])\n",
        "print('Second:\\t', lst[1])\n",
        "print('Third:\\t', lst[-1])"
      ],
      "execution_count": null,
      "outputs": [
        {
          "output_type": "stream",
          "name": "stdout",
          "text": [
            "[1, ['A', 'C'], [], 'end']\n",
            "First:\t 1\n",
            "Second:\t ['A', 'C']\n",
            "Third:\t end\n"
          ]
        }
      ]
    },
    {
      "cell_type": "markdown",
      "metadata": {
        "id": "uHAxSpIxrYXs"
      },
      "source": [
        "### Copying Lists"
      ]
    },
    {
      "cell_type": "markdown",
      "metadata": {
        "id": "5SS8w8Y5dfWs"
      },
      "source": [
        "When a variable, say `x`, stores a list, and that variable is assigned to another variable, say `y=x`, both `x` and `y` share the same memory space.  This is called *shallow copying*, and changing an element in `x` also makes `y` changed because they share the memory space."
      ]
    },
    {
      "cell_type": "code",
      "metadata": {
        "id": "0LUyrtAVIFwb",
        "colab": {
          "base_uri": "https://localhost:8080/"
        },
        "outputId": "f235561b-a89d-4487-cb79-9848b319680a"
      },
      "source": [
        "x=1\n",
        "y=x\n",
        "print(x,y)\n",
        "x=0\n",
        "print(x,y)"
      ],
      "execution_count": null,
      "outputs": [
        {
          "output_type": "stream",
          "name": "stdout",
          "text": [
            "1 1\n",
            "0 1\n"
          ]
        }
      ]
    },
    {
      "cell_type": "code",
      "metadata": {
        "id": "EPimVji7iOR8",
        "colab": {
          "base_uri": "https://localhost:8080/"
        },
        "outputId": "d976e1e1-744d-4f55-c539-4f3c83906a9c"
      },
      "source": [
        "lstA = [1, ['A', 'C'], [], 'end']\n",
        "lstB = lstA                       # shallow copying\n",
        "print('lstA:',lstA, id(lstA))\n",
        "print('lstB:',lstB, id(lstB))\n",
        "print('=========================')\n",
        "lstA[0] = 'Made change in lstA'\n",
        "print('lstA:',lstA)\n",
        "print('lstB:',lstB)\n",
        "print('=========================')\n",
        "lstB[3] = 'Made change in lstB'\n",
        "print('lstA:',lstA)\n",
        "print('lstB:',lstB)"
      ],
      "execution_count": null,
      "outputs": [
        {
          "output_type": "stream",
          "name": "stdout",
          "text": [
            "lstA: [1, ['A', 'C'], [], 'end'] 140145536953472\n",
            "lstB: [1, ['A', 'C'], [], 'end'] 140145536953472\n",
            "=========================\n",
            "lstA: ['Made change in lstA', ['A', 'C'], [], 'end']\n",
            "lstB: ['Made change in lstA', ['A', 'C'], [], 'end']\n",
            "=========================\n",
            "lstA: ['Made change in lstA', ['A', 'C'], [], 'Made change in lstB']\n",
            "lstB: ['Made change in lstA', ['A', 'C'], [], 'Made change in lstB']\n"
          ]
        }
      ]
    },
    {
      "cell_type": "markdown",
      "metadata": {
        "id": "DtHFNaiOjqNG"
      },
      "source": [
        "If we want to make another copy of a list `x`, which is called *deep copying*, we can use the function `list(x)` to create another copy and assign this new copy to another variable, e.g. `y = list(x)`."
      ]
    },
    {
      "cell_type": "code",
      "metadata": {
        "id": "3mitW12gkZ3M",
        "colab": {
          "base_uri": "https://localhost:8080/"
        },
        "outputId": "3c551b6e-bb63-4b26-aec4-f0261fa5cdac"
      },
      "source": [
        "lstA = [1, ['A', 'C'], [], 'end']\n",
        "lstB = list(lstA)                  # deep copying: lstB = lstA[0:len(lstA)]\n",
        "print('lstA:',lstA, id(lstA))\n",
        "print('lstB:',lstB, id(lstB))\n",
        "print('=========================')\n",
        "lstA[0] = 'Made change in lstA'\n",
        "print('lstA:',lstA)\n",
        "print('lstB:',lstB)\n",
        "print('=========================')\n",
        "lstB[3] = 'Made change in lstB'\n",
        "print('lstA:',lstA)\n",
        "print('lstB:',lstB)"
      ],
      "execution_count": null,
      "outputs": [
        {
          "output_type": "stream",
          "name": "stdout",
          "text": [
            "lstA: [1, ['A', 'C'], [], 'end'] 140145536950512\n",
            "lstB: [1, ['A', 'C'], [], 'end'] 140145484159408\n",
            "=========================\n",
            "lstA: ['Made change in lstA', ['A', 'C'], [], 'end']\n",
            "lstB: [1, ['A', 'C'], [], 'end']\n",
            "=========================\n",
            "lstA: ['Made change in lstA', ['A', 'C'], [], 'end']\n",
            "lstB: [1, ['A', 'C'], [], 'Made change in lstB']\n"
          ]
        }
      ]
    },
    {
      "cell_type": "markdown",
      "metadata": {
        "id": "KYqIRwladBuU"
      },
      "source": [
        "## List Operations"
      ]
    },
    {
      "cell_type": "markdown",
      "metadata": {
        "id": "-5xIm3fpro4f"
      },
      "source": [
        "### Adding Lists (+)"
      ]
    },
    {
      "cell_type": "markdown",
      "metadata": {
        "id": "1mTG3XYndiJF"
      },
      "source": [
        "`+` is addition operator.\n"
      ]
    },
    {
      "cell_type": "code",
      "metadata": {
        "id": "7XphrKZDKzG3",
        "colab": {
          "base_uri": "https://localhost:8080/"
        },
        "outputId": "bef88236-76e5-48eb-ddb7-2ba8ddd8d091"
      },
      "source": [
        "s1 = [3,7,3,9]\n",
        "s2 = [8,6,9,1]\n",
        "allSection = s1+s2\n",
        "print(s1, s2, allSection)"
      ],
      "execution_count": null,
      "outputs": [
        {
          "output_type": "stream",
          "name": "stdout",
          "text": [
            "[3, 7, 3, 9] [8, 6, 9, 1] [3, 7, 3, 9, 8, 6, 9, 1]\n"
          ]
        }
      ]
    },
    {
      "cell_type": "markdown",
      "metadata": {
        "id": "AVQqDc-Srweb"
      },
      "source": [
        "### Append an Element"
      ]
    },
    {
      "cell_type": "markdown",
      "metadata": {
        "id": "X9HA_ireKhy1"
      },
      "source": [
        "`append` is a function which adds another element at the end of a list.\n",
        "\n",
        "`cList.append(ele)` adds `ele` at the end of the list `clist`."
      ]
    },
    {
      "cell_type": "code",
      "metadata": {
        "id": "EraS-is8rpYo",
        "colab": {
          "base_uri": "https://localhost:8080/"
        },
        "outputId": "241c5ff6-f1ee-4531-9c32-7548020499e8"
      },
      "source": [
        "gradeList = ['A', 'B', 'C', 'D', 'F']\n",
        "gradeList.append('S')\n",
        "print(gradeList, ':', len(gradeList))\n",
        "# Same as using + ; Note the difference in usage\n",
        "# gradeList=gradeList+['S']\n",
        "# print(gradeList, ':', len(gradeList))\n"
      ],
      "execution_count": null,
      "outputs": [
        {
          "output_type": "stream",
          "name": "stdout",
          "text": [
            "['A', 'B', 'C', 'D', 'F', 'S'] : 6\n"
          ]
        }
      ]
    },
    {
      "cell_type": "markdown",
      "metadata": {
        "id": "JU1tFoZzsB-g"
      },
      "source": [
        "When we append an element to a list, the length of the list is increased by one.\n",
        "\n",
        "If a list is appended at the end of another list, only one element which is a list is added to the list and the length of the list is also increased by one."
      ]
    },
    {
      "cell_type": "code",
      "metadata": {
        "id": "uTd7GFfZsy-k",
        "colab": {
          "base_uri": "https://localhost:8080/"
        },
        "outputId": "c9233330-a7b0-43df-d6f6-b259d44a07fc"
      },
      "source": [
        "gradeList = ['A', 'B', 'C', 'D', 'F']\n",
        "gradeList.append(['S', 'U'])\n",
        "print(gradeList, ':', len(gradeList))"
      ],
      "execution_count": null,
      "outputs": [
        {
          "output_type": "stream",
          "name": "stdout",
          "text": [
            "['A', 'B', 'C', 'D', 'F', ['S', 'U']] : 6\n"
          ]
        }
      ]
    },
    {
      "cell_type": "markdown",
      "metadata": {
        "id": "5xWwBjKpS-Hl"
      },
      "source": [
        "Be careful when using methods for list. Many methods change the values of the variable that stores the list, and returns `None`.\n",
        "\n",
        "For example, in the example above, the method append changes the value in the variable gradeList from `['A', 'B', 'C', 'D', 'F']` to `['A', 'B', 'C', 'D', 'F', ['S', 'U']]`.  Thus, you should not write the program as shown below, which stores the value `None` that is returned from the method append in the variable `gradeList`. \n",
        "\n"
      ]
    },
    {
      "cell_type": "code",
      "metadata": {
        "colab": {
          "base_uri": "https://localhost:8080/"
        },
        "id": "1XG53XGUVHnO",
        "outputId": "42d6ff95-14f5-4ca3-ee6e-da52f0e5b55a"
      },
      "source": [
        "gradeList = ['A', 'B', 'C', 'D', 'F']\n",
        "gradeList = gradeList.append(['S', 'U'])\n",
        "print('Value in gradeList =',gradeList)"
      ],
      "execution_count": null,
      "outputs": [
        {
          "output_type": "stream",
          "name": "stdout",
          "text": [
            "Value in gradeList = None\n"
          ]
        }
      ]
    },
    {
      "cell_type": "markdown",
      "metadata": {
        "id": "H6cquRGor3cc"
      },
      "source": [
        "### Insert an Element"
      ]
    },
    {
      "cell_type": "markdown",
      "metadata": {
        "id": "rzFOoAGZtLPH"
      },
      "source": [
        "`insert` is a function that adds another element at the specified position.  \n",
        "\n",
        "`cList.insert(index, ele)` adds `ele` as `cList[index]`, and shifts all elements at the position `index` and higher to the right.  It increases the length of the list by one. "
      ]
    },
    {
      "cell_type": "code",
      "metadata": {
        "id": "Dr7xWZgTuwbO",
        "colab": {
          "base_uri": "https://localhost:8080/"
        },
        "outputId": "44199ca3-184b-48b6-c16d-99d4e625c4c2"
      },
      "source": [
        "gradeList = ['A', 'B', 'C', 'D', 'S', 'U']\n",
        "gradeList.insert(4, 'F')\n",
        "print(gradeList, ':', len(gradeList))"
      ],
      "execution_count": null,
      "outputs": [
        {
          "output_type": "stream",
          "name": "stdout",
          "text": [
            "['A', 'B', 'C', 'D', 'F', 'S', 'U'] : 7\n"
          ]
        }
      ]
    },
    {
      "cell_type": "code",
      "metadata": {
        "id": "5Q7o590CSE19"
      },
      "source": [
        "gradeList = ['A', 'B', 'C', 'D', 'S', 'U']\n",
        "gradeList = gradeList.insert(4, 'F')  # Do not do this\n",
        "print(gradeList, ':', len(gradeList)) # At this point, the value in gradeList is None."
      ],
      "execution_count": null,
      "outputs": []
    },
    {
      "cell_type": "markdown",
      "metadata": {
        "id": "5QjZWlwxvFyP"
      },
      "source": [
        "If an element is insert at the position p>= length of the list, the element is appended at the end of the list."
      ]
    },
    {
      "cell_type": "code",
      "metadata": {
        "id": "GtpmCaYcvaIE",
        "colab": {
          "base_uri": "https://localhost:8080/"
        },
        "outputId": "c8da29a1-23c5-435a-be97-0bb5d51d8bdb"
      },
      "source": [
        "gradeList = ['A', 'B', 'C', 'D', 'F']\n",
        "gradeList.insert(20,'S')\n",
        "gradeList.insert(30,'U')\n",
        "print(gradeList, ':', len(gradeList))"
      ],
      "execution_count": null,
      "outputs": [
        {
          "output_type": "stream",
          "name": "stdout",
          "text": [
            "['A', 'B', 'C', 'D', 'F', 'S', 'U'] : 7\n"
          ]
        }
      ]
    },
    {
      "cell_type": "markdown",
      "metadata": {
        "id": "1D6koF8lr8d7"
      },
      "source": [
        "### Delete an Element"
      ]
    },
    {
      "cell_type": "markdown",
      "metadata": {
        "id": "SzkFYsGpvq_P"
      },
      "source": [
        "The function `del` can be used to delete any variables. For example,\n",
        "\n"
      ]
    },
    {
      "cell_type": "code",
      "metadata": {
        "id": "KByj8I_lwgEF",
        "colab": {
          "base_uri": "https://localhost:8080/",
          "height": 202
        },
        "outputId": "e04bd766-1b30-498e-ff78-970931666d9b"
      },
      "source": [
        "x = 0\n",
        "name = 'Siri'\n",
        "del(name)\n",
        "print(x, name)  # Error here"
      ],
      "execution_count": null,
      "outputs": [
        {
          "output_type": "error",
          "ename": "NameError",
          "evalue": "ignored",
          "traceback": [
            "\u001b[0;31m---------------------------------------------------------------------------\u001b[0m",
            "\u001b[0;31mNameError\u001b[0m                                 Traceback (most recent call last)",
            "\u001b[0;32m<ipython-input-2-5d955e4796cb>\u001b[0m in \u001b[0;36m<module>\u001b[0;34m()\u001b[0m\n\u001b[1;32m      2\u001b[0m \u001b[0mname\u001b[0m \u001b[0;34m=\u001b[0m \u001b[0;34m'Siri'\u001b[0m\u001b[0;34m\u001b[0m\u001b[0;34m\u001b[0m\u001b[0m\n\u001b[1;32m      3\u001b[0m \u001b[0;32mdel\u001b[0m\u001b[0;34m(\u001b[0m\u001b[0mname\u001b[0m\u001b[0;34m)\u001b[0m\u001b[0;34m\u001b[0m\u001b[0;34m\u001b[0m\u001b[0m\n\u001b[0;32m----> 4\u001b[0;31m \u001b[0mprint\u001b[0m\u001b[0;34m(\u001b[0m\u001b[0mx\u001b[0m\u001b[0;34m,\u001b[0m \u001b[0mname\u001b[0m\u001b[0;34m)\u001b[0m  \u001b[0;31m# Error here\u001b[0m\u001b[0;34m\u001b[0m\u001b[0;34m\u001b[0m\u001b[0m\n\u001b[0m",
            "\u001b[0;31mNameError\u001b[0m: name 'name' is not defined"
          ]
        }
      ]
    },
    {
      "cell_type": "markdown",
      "metadata": {
        "id": "VZEN-PObwoO5"
      },
      "source": [
        "Error occurs in the statement `print(x, name)` because there is no variable `name` after `del(name)`.\n",
        "\n",
        "If we want to delete an element of a list, we can also use the function `del`, as shown below."
      ]
    },
    {
      "cell_type": "code",
      "metadata": {
        "id": "Z3lWEmvpxJkq",
        "colab": {
          "base_uri": "https://localhost:8080/"
        },
        "outputId": "940bc739-f651-482e-a596-629953e382f0"
      },
      "source": [
        "gradeList = ['A', 'B', 'C', 'D', 'F']\n",
        "del(gradeList[-2])\n",
        "print(gradeList, ':', len(gradeList))"
      ],
      "execution_count": null,
      "outputs": [
        {
          "output_type": "stream",
          "name": "stdout",
          "text": [
            "['A', 'B', 'C', 'F'] : 4\n"
          ]
        }
      ]
    },
    {
      "cell_type": "markdown",
      "metadata": {
        "id": "HRLaYSoNdsEF"
      },
      "source": [
        "If you want to remove elements from a list, based on some condition, you CANNOT use the following for loop. In this loop, each element in the list is assigned to the loop variable `i`, and the loop variable is deleted, but not an element in the list."
      ]
    },
    {
      "cell_type": "code",
      "metadata": {
        "colab": {
          "base_uri": "https://localhost:8080/"
        },
        "id": "I9gtiuXreC-r",
        "outputId": "af313b8e-cad0-4605-de15-d65fda5284c0"
      },
      "source": [
        "gradeList = ['A', '1', 'B', 'C', 'D', '3', 'F']\n",
        "for i in gradeList:\n",
        "    if '0'<=i<='9':\n",
        "        del(i)\n",
        "print(gradeList, ':', len(gradeList))"
      ],
      "execution_count": null,
      "outputs": [
        {
          "output_type": "stream",
          "name": "stdout",
          "text": [
            "['A', '1', 'B', 'C', 'D', '3', 'F'] : 7\n"
          ]
        }
      ]
    },
    {
      "cell_type": "markdown",
      "metadata": {
        "id": "AU8-5BSIV28e"
      },
      "source": [
        "When you delete an element from a list,  next elements in the list are shifted by one position. So, you need to be careful when you use the list after deleting elements in a list.\n",
        "\n",
        "The following program causes `IndexError: list index out of range`."
      ]
    },
    {
      "cell_type": "code",
      "metadata": {
        "id": "59HWKkGKWxaJ",
        "colab": {
          "base_uri": "https://localhost:8080/",
          "height": 343
        },
        "outputId": "456e3e2e-ed29-4110-f213-6a576755f7cb"
      },
      "source": [
        "gradeList = ['A', '1', 'B', 'C', 'D', '3', 'F']\n",
        "for i in range(len(gradeList)): # it loops for i=0,1,...,6.  But when an element is deleted, the length is decreased.\n",
        "    print('gradeList[',i,']=',gradeList[i])\n",
        "    if '0'<=gradeList[i]<='9':\n",
        "        del(gradeList[i])\n",
        "print(gradeList, ':', len(gradeList))"
      ],
      "execution_count": null,
      "outputs": [
        {
          "output_type": "stream",
          "name": "stdout",
          "text": [
            "gradeList[ 0 ]= A\n",
            "gradeList[ 1 ]= 1\n",
            "gradeList[ 2 ]= C\n",
            "gradeList[ 3 ]= D\n",
            "gradeList[ 4 ]= 3\n"
          ]
        },
        {
          "output_type": "error",
          "ename": "IndexError",
          "evalue": "ignored",
          "traceback": [
            "\u001b[0;31m---------------------------------------------------------------------------\u001b[0m",
            "\u001b[0;31mIndexError\u001b[0m                                Traceback (most recent call last)",
            "\u001b[0;32m<ipython-input-4-a6f66ee1636e>\u001b[0m in \u001b[0;36m<module>\u001b[0;34m()\u001b[0m\n\u001b[1;32m      1\u001b[0m \u001b[0mgradeList\u001b[0m \u001b[0;34m=\u001b[0m \u001b[0;34m[\u001b[0m\u001b[0;34m'A'\u001b[0m\u001b[0;34m,\u001b[0m \u001b[0;34m'1'\u001b[0m\u001b[0;34m,\u001b[0m \u001b[0;34m'B'\u001b[0m\u001b[0;34m,\u001b[0m \u001b[0;34m'C'\u001b[0m\u001b[0;34m,\u001b[0m \u001b[0;34m'D'\u001b[0m\u001b[0;34m,\u001b[0m \u001b[0;34m'3'\u001b[0m\u001b[0;34m,\u001b[0m \u001b[0;34m'F'\u001b[0m\u001b[0;34m]\u001b[0m\u001b[0;34m\u001b[0m\u001b[0;34m\u001b[0m\u001b[0m\n\u001b[1;32m      2\u001b[0m \u001b[0;32mfor\u001b[0m \u001b[0mi\u001b[0m \u001b[0;32min\u001b[0m \u001b[0mrange\u001b[0m\u001b[0;34m(\u001b[0m\u001b[0mlen\u001b[0m\u001b[0;34m(\u001b[0m\u001b[0mgradeList\u001b[0m\u001b[0;34m)\u001b[0m\u001b[0;34m)\u001b[0m\u001b[0;34m:\u001b[0m \u001b[0;31m# it loops for i=0,1,...,6.  But when an element is deleted, the length is decreased.\u001b[0m\u001b[0;34m\u001b[0m\u001b[0;34m\u001b[0m\u001b[0m\n\u001b[0;32m----> 3\u001b[0;31m     \u001b[0mprint\u001b[0m\u001b[0;34m(\u001b[0m\u001b[0;34m'gradeList['\u001b[0m\u001b[0;34m,\u001b[0m\u001b[0mi\u001b[0m\u001b[0;34m,\u001b[0m\u001b[0;34m']='\u001b[0m\u001b[0;34m,\u001b[0m\u001b[0mgradeList\u001b[0m\u001b[0;34m[\u001b[0m\u001b[0mi\u001b[0m\u001b[0;34m]\u001b[0m\u001b[0;34m)\u001b[0m\u001b[0;34m\u001b[0m\u001b[0;34m\u001b[0m\u001b[0m\n\u001b[0m\u001b[1;32m      4\u001b[0m     \u001b[0;32mif\u001b[0m \u001b[0;34m'0'\u001b[0m\u001b[0;34m<=\u001b[0m\u001b[0mgradeList\u001b[0m\u001b[0;34m[\u001b[0m\u001b[0mi\u001b[0m\u001b[0;34m]\u001b[0m\u001b[0;34m<=\u001b[0m\u001b[0;34m'9'\u001b[0m\u001b[0;34m:\u001b[0m\u001b[0;34m\u001b[0m\u001b[0;34m\u001b[0m\u001b[0m\n\u001b[1;32m      5\u001b[0m         \u001b[0;32mdel\u001b[0m\u001b[0;34m(\u001b[0m\u001b[0mgradeList\u001b[0m\u001b[0;34m[\u001b[0m\u001b[0mi\u001b[0m\u001b[0;34m]\u001b[0m\u001b[0;34m)\u001b[0m\u001b[0;34m\u001b[0m\u001b[0;34m\u001b[0m\u001b[0m\n",
            "\u001b[0;31mIndexError\u001b[0m: list index out of range"
          ]
        }
      ]
    },
    {
      "cell_type": "markdown",
      "metadata": {
        "id": "YET81icnY52R"
      },
      "source": [
        "**** Come back to this part after you read for in list ***\n",
        "\n",
        "If you really want to remove elements from a list, you can do it by going from the last element to the first, as shown below."
      ]
    },
    {
      "cell_type": "code",
      "metadata": {
        "colab": {
          "base_uri": "https://localhost:8080/"
        },
        "id": "zJURUFmmZgSm",
        "outputId": "1d040704-63ea-4df7-e9eb-e4beb2a9f81d"
      },
      "source": [
        "gradeList = ['A', '1', 'B', 'C', 'D', '8', 'F']\n",
        "for i in range(len(gradeList)-1, -1, -1): # range(-1, -len(gradeList), -1) also causes error\n",
        "    print('gradeList[',i,']=',gradeList[i])\n",
        "    if '0'<gradeList[i]<'9':\n",
        "        del(gradeList[i])\n",
        "print(gradeList, ':', len(gradeList))"
      ],
      "execution_count": null,
      "outputs": [
        {
          "output_type": "stream",
          "name": "stdout",
          "text": [
            "gradeList[ 6 ]= F\n",
            "gradeList[ 5 ]= 8\n",
            "gradeList[ 4 ]= D\n",
            "gradeList[ 3 ]= C\n",
            "gradeList[ 2 ]= B\n",
            "gradeList[ 1 ]= 1\n",
            "gradeList[ 0 ]= A\n",
            "['A', 'B', 'C', 'D', 'F'] : 5\n"
          ]
        }
      ]
    },
    {
      "cell_type": "markdown",
      "metadata": {
        "id": "0IxcU0ntbs2q"
      },
      "source": [
        "Another way to avoid this problem is to create another list, as shown below."
      ]
    },
    {
      "cell_type": "code",
      "metadata": {
        "colab": {
          "base_uri": "https://localhost:8080/"
        },
        "id": "CLmtS3a1b9Dh",
        "outputId": "37280a46-002a-4b15-b105-a7bf3fb9fbdf"
      },
      "source": [
        "gradeList = ['A', '1', 'B', 'C', 'D', '8', 'F']\n",
        "newGradeList = []\n",
        "for i in range(len(gradeList)):\n",
        "    if not('0'<gradeList[i]<'9'):\n",
        "        newGradeList.append(gradeList[i])\n",
        "print(newGradeList)"
      ],
      "execution_count": null,
      "outputs": [
        {
          "output_type": "stream",
          "name": "stdout",
          "text": [
            "['A', 'B', 'C', 'D', 'F']\n"
          ]
        }
      ]
    },
    {
      "cell_type": "markdown",
      "metadata": {
        "id": "hzzUWXkPsNH3"
      },
      "source": [
        "### Sort a List"
      ]
    },
    {
      "cell_type": "markdown",
      "metadata": {
        "id": "6Qgp2qcmxeXs"
      },
      "source": [
        "The function `sort` is used to sort a list. The function `sort` changes the value in the variable to the sorted list and returns `None`.\n"
      ]
    },
    {
      "cell_type": "code",
      "metadata": {
        "id": "xwTudmdYznXP",
        "colab": {
          "base_uri": "https://localhost:8080/"
        },
        "outputId": "0b13f8cf-bd4f-449a-c7a9-c7bb80c1095a"
      },
      "source": [
        "scoreList = [32.1, 45, 25, 42]\n",
        "scoreList.sort() \n",
        "# If you write scoreList = scoreList.sort(), the value stored in scoreList is None.\n",
        "print(scoreList)"
      ],
      "execution_count": null,
      "outputs": [
        {
          "output_type": "stream",
          "text": [
            "[25, 32.1, 42, 45]\n"
          ],
          "name": "stdout"
        }
      ]
    },
    {
      "cell_type": "markdown",
      "metadata": {
        "id": "E7nCmpK-z6dD"
      },
      "source": [
        "To sort in descending order, we must specify `reverse=True` as a parameter of the function `sort`."
      ]
    },
    {
      "cell_type": "code",
      "metadata": {
        "id": "g6z9bRIs0Nec",
        "colab": {
          "base_uri": "https://localhost:8080/"
        },
        "outputId": "47b5cc96-c23c-4228-9eac-d7b8f4e0a1ea"
      },
      "source": [
        "scoreList = [32.1, 45, 25, 42]\n",
        "scoreList.sort(reverse=True)\n",
        "print(scoreList)"
      ],
      "execution_count": null,
      "outputs": [
        {
          "output_type": "stream",
          "text": [
            "[45, 42, 32.1, 25]\n"
          ],
          "name": "stdout"
        }
      ]
    },
    {
      "cell_type": "markdown",
      "metadata": {
        "id": "LDGpgaqOzKbu"
      },
      "source": [
        "When we use the function `sort`, elements in the list are ordered by comparison with operators > or <.  Then, to use the function sort, we must be able to compare elements in a list with > or <. \n",
        "\n",
        "Then, we can sort a list of strings."
      ]
    },
    {
      "cell_type": "code",
      "metadata": {
        "id": "GUnBnxejzS6x",
        "colab": {
          "base_uri": "https://localhost:8080/"
        },
        "outputId": "433c22bc-d1ce-4d90-9c55-7040912cca3c"
      },
      "source": [
        "classList = [ 'Warin', 'Sunee', 'Umpol','Antika', 'Buri', 'Danai']\n",
        "classList.sort()\n",
        "print(classList)"
      ],
      "execution_count": null,
      "outputs": [
        {
          "output_type": "stream",
          "text": [
            "['Antika', 'Buri', 'Danai', 'Sunee', 'Umpol', 'Warin']\n"
          ],
          "name": "stdout"
        }
      ]
    },
    {
      "cell_type": "markdown",
      "metadata": {
        "id": "9wCz8KjL0i63"
      },
      "source": [
        "We can also compare two lists with > and <."
      ]
    },
    {
      "cell_type": "code",
      "metadata": {
        "id": "cWLjLLNo1Htm",
        "colab": {
          "base_uri": "https://localhost:8080/"
        },
        "outputId": "6470d066-2132-4dcc-81e8-8bc259b07947"
      },
      "source": [
        "print([1,'4','2']<[1,'3',7,'0'])\n",
        "print([1,4,'2']>[1,4])"
      ],
      "execution_count": null,
      "outputs": [
        {
          "output_type": "stream",
          "text": [
            "False\n",
            "True\n"
          ],
          "name": "stdout"
        }
      ]
    },
    {
      "cell_type": "markdown",
      "metadata": {
        "id": "VZjWUHOf1_Kv"
      },
      "source": [
        "Therefore, we can use the function sort to sort list of lists."
      ]
    },
    {
      "cell_type": "code",
      "metadata": {
        "id": "sG9ZTAtj2QZk",
        "colab": {
          "base_uri": "https://localhost:8080/"
        },
        "outputId": "ae754730-dd6e-4c49-eb53-097a2c43445b"
      },
      "source": [
        "classList = [['Warin','Siri'],['Sunee','Mala'],['Umpol','Surin'],['Sunee','Antika'], ['Warin', 'Danai']]\n",
        "classList.sort()\n",
        "print(classList)"
      ],
      "execution_count": null,
      "outputs": [
        {
          "output_type": "stream",
          "name": "stdout",
          "text": [
            "[['Sunee', 'Antika'], ['Sunee', 'Mala'], ['Umpol', 'Surin'], ['Warin', 'Danai'], ['Warin', 'Siri']]\n"
          ]
        }
      ]
    },
    {
      "cell_type": "markdown",
      "metadata": {
        "id": "43di_ib43RNE"
      },
      "source": [
        "The functions `append`, `insert`, and `sort` change the value of the list and returns `None`.  Thus, we must be careful not to use the return value of the functions."
      ]
    },
    {
      "cell_type": "code",
      "metadata": {
        "id": "6KaPOINS27fb",
        "colab": {
          "base_uri": "https://localhost:8080/"
        },
        "outputId": "0e0a9397-1bc5-4fd7-cd46-2bd8b4ff584e"
      },
      "source": [
        "classList = [['Warin','Siri'],['Sunee','Mala'],['Umpol','Surin'],['Sunee','Antika'], ['Warin', 'Danai']]\n",
        "print(classList.sort())   # get None here\n",
        "# don't do this : classList = classList.sort() "
      ],
      "execution_count": null,
      "outputs": [
        {
          "output_type": "stream",
          "name": "stdout",
          "text": [
            "None\n"
          ]
        }
      ]
    },
    {
      "cell_type": "markdown",
      "metadata": {
        "id": "as5l1DH-WgM4"
      },
      "source": [
        "Similar to lists, we can refer to each character in a string by its position.  \n",
        "\n",
        "```\n",
        "name = 'Siri Mali'\n",
        "print(name[0], name[5])\n",
        "```\n",
        "The output from this program is: `S M`\n",
        "\n",
        "However, strings are immutable objects.  We cannot change a character in a string.\n",
        "\n",
        "```\n",
        "name = 'Siri Mali'\n",
        "name[0] = 'M'\n",
        "```\n",
        "gives an error.\n",
        "\n",
        "\n",
        "We can also use\n",
        "\n",
        "```\n",
        "for i in range(len(name)):\n",
        "    print(name[i])\n",
        "```\n",
        "to print each character in the string `name` because the loop does not change any character in the string.\n",
        "\n",
        "Note that the following program does not cause any error.\n",
        "\n",
        "\n",
        "```\n",
        "name = 'Siri Mali'\n",
        "print(name)\n",
        "name = 'Mari Mali'\n",
        "print(name)\n",
        "```"
      ]
    },
    {
      "cell_type": "code",
      "metadata": {
        "id": "kuP-wkB-sj87",
        "colab": {
          "base_uri": "https://localhost:8080/"
        },
        "outputId": "6edd21cb-1143-4263-b5ca-adec5c1765b7"
      },
      "source": [
        "temp = [91.5, 87.2, 95.1, 91.9, 94.7]\n",
        "ctemp = []\n",
        "for f in temp:\n",
        "    f = (f-32)*5/9\n",
        "    ctemp.append(f)\n",
        "    print(ctemp)\n",
        "print('===============')\n",
        "print(temp, ctemp)    "
      ],
      "execution_count": null,
      "outputs": [
        {
          "output_type": "stream",
          "name": "stdout",
          "text": [
            "[33.05555555555556]\n",
            "[33.05555555555556, 30.666666666666668]\n",
            "[33.05555555555556, 30.666666666666668, 35.05555555555556]\n",
            "[33.05555555555556, 30.666666666666668, 35.05555555555556, 33.27777777777778]\n",
            "[33.05555555555556, 30.666666666666668, 35.05555555555556, 33.27777777777778, 34.833333333333336]\n",
            "===============\n",
            "[91.5, 87.2, 95.1, 91.9, 94.7] [33.05555555555556, 30.666666666666668, 35.05555555555556, 33.27777777777778, 34.833333333333336]\n"
          ]
        }
      ]
    },
    {
      "cell_type": "markdown",
      "metadata": {
        "id": "zcx8YLUEtE8y"
      },
      "source": [
        "Let `scList` be a list of student name together with the score. For example,\n",
        "```\n",
        "scList = [['Tam',34], ['Tim',45],['Tom', 41]]\n",
        "```\n",
        "The following program sorts this list by the score, from high to low. \n",
        "\n",
        "`key` is a parameter that specifies the key used for sorting. \n",
        "\n",
        "`lambda item: item[1]` is a definition of a function that takes a list `item` and return `item[1]`.\n",
        "\n",
        "\n"
      ]
    },
    {
      "cell_type": "code",
      "metadata": {
        "id": "0GEcvg4JgxwA",
        "colab": {
          "base_uri": "https://localhost:8080/"
        },
        "outputId": "8601f9ab-2d41-4a67-ac53-4cfd1d470639"
      },
      "source": [
        "scList = [['Tam',34], ['Tim',45],['Tom', 41]]\n",
        "scList.sort(key=lambda item: item[1], reverse=True)\n",
        "print(scList)\n"
      ],
      "execution_count": null,
      "outputs": [
        {
          "output_type": "stream",
          "text": [
            "[['Tim', 45], ['Tom', 41], ['Tam', 34]]\n"
          ],
          "name": "stdout"
        }
      ]
    },
    {
      "cell_type": "markdown",
      "metadata": {
        "id": "bW3EjVWnsYeH"
      },
      "source": [
        "### Split a String into a List of Strings"
      ]
    },
    {
      "cell_type": "markdown",
      "metadata": {
        "id": "mLMI3RkP-4O6"
      },
      "source": [
        "Another useful function is split, which is used to split a string into a list of strings.  It is often used when a string is read from a file or the input function.\n",
        "The parameter of the function split is a string that is used as the separator.  If no sparator is specified, whitespace is used as the spearator."
      ]
    },
    {
      "cell_type": "code",
      "metadata": {
        "id": "CQMVT8wfdSJX",
        "colab": {
          "base_uri": "https://localhost:8080/"
        },
        "outputId": "d2d0d0c9-03ae-4ae8-9adc-2792806d1bdf"
      },
      "source": [
        "nameList = input('Enter names:').split() #####\n",
        "print(nameList)\n",
        "print('1,2,3'.split(','))"
      ],
      "execution_count": null,
      "outputs": [
        {
          "output_type": "stream",
          "name": "stdout",
          "text": [
            "Enter names:jhjk lkjdf   lkjlfgk  5255\n",
            "['jhjk', 'lkjdf', 'lkjlfgk', '5255']\n",
            "['1', '2', '3']\n"
          ]
        }
      ]
    },
    {
      "cell_type": "markdown",
      "metadata": {
        "id": "2xFtYbAnKZ4v"
      },
      "source": [
        "## For-in-list"
      ]
    },
    {
      "cell_type": "markdown",
      "metadata": {
        "id": "DDozlynslrae"
      },
      "source": [
        "A list is an iterable object. This means we can use:\n",
        "\n",
        "\n",
        "```\n",
        "for var in a_list:\n",
        "    ....\n",
        "```\n",
        "In this for loop, each element in `a_list` is assigned to the variable `var` in each iteration of the loop. \n",
        "\n",
        "(This is similar to the way we use for with strings.)\n",
        "\n",
        "This is the same as accessing each element by index as shown below:\n",
        "\n",
        "\n",
        "```\n",
        "for i in range(len(a_list)):\n",
        "    var = a_list[i]\n",
        "    ...\n",
        "```"
      ]
    },
    {
      "cell_type": "markdown",
      "metadata": {
        "id": "qxyYssZAoQx5"
      },
      "source": [
        "The following example uses for-in-list to find the highest score from scores read from the user. "
      ]
    },
    {
      "cell_type": "code",
      "metadata": {
        "id": "HX9_s-FRpIq6",
        "colab": {
          "base_uri": "https://localhost:8080/"
        },
        "outputId": "c6d74fdc-5e56-4659-c2a9-5f28fc004141"
      },
      "source": [
        "scores = input('Enter scores:').split()  # scoreList is a list of strings\n",
        "scoreList = []\n",
        "for s in scores: \n",
        "    scoreList.append(float(s))\n",
        "    \n",
        "maxScore = scoreList[0]\n",
        "for s in scoreList:\n",
        "    if s>maxScore:\n",
        "        maxScore = s\n",
        "print('Highest score =',maxScore)"
      ],
      "execution_count": null,
      "outputs": [
        {
          "output_type": "stream",
          "name": "stdout",
          "text": [
            "Enter scores:3 8 47 9 25 4 7 56 7 9 4\n",
            "Highest score = 56.0\n"
          ]
        }
      ]
    },
    {
      "cell_type": "markdown",
      "metadata": {
        "id": "rtHrapww1BU7"
      },
      "source": [
        "You can also use the function max as shown below."
      ]
    },
    {
      "cell_type": "code",
      "metadata": {
        "colab": {
          "base_uri": "https://localhost:8080/"
        },
        "id": "x2UI9aUK1Pey",
        "outputId": "705747a6-b0c2-473b-d458-b83f8ee42a58"
      },
      "source": [
        "scores = input('Enter scores:').split()  # scoreList is a list of strings\n",
        "scoreList = []\n",
        "for s in scores: \n",
        "    scoreList.append(float(s))\n",
        "print(scoreList,'\\nHighest score =',max(scoreList))"
      ],
      "execution_count": null,
      "outputs": [
        {
          "output_type": "stream",
          "name": "stdout",
          "text": [
            "Enter scores:3 8 47 9 25 4 7 56 7 9 4\n",
            "[3.0, 8.0, 47.0, 9.0, 25.0, 4.0, 7.0, 56.0, 7.0, 9.0, 4.0] \n",
            "Highest score = 56.0\n"
          ]
        }
      ]
    },
    {
      "cell_type": "markdown",
      "metadata": {
        "id": "VbhrimCwqx0B"
      },
      "source": [
        "However, for-in-list cannot be used if you want to change the element in the list.  The following example, which is a program that converts the temperatures in a list from fahrenheit to celcius, uses index of the list to change the value in the list."
      ]
    },
    {
      "cell_type": "code",
      "metadata": {
        "id": "3JamBQoUrtes",
        "colab": {
          "base_uri": "https://localhost:8080/"
        },
        "outputId": "e2426f1b-0fd8-4a98-c554-1488bda108f7"
      },
      "source": [
        "temp = [91.5, 87.2, 95.1, 91.9, 94.7]\n",
        "for i in range(len(temp)):  # [0,1,2,3,4]\n",
        "    temp[i] = (temp[i]-32)*5/9\n",
        "    print(i, temp)\n",
        "print('===============')\n",
        "print('list temp =',temp)    "
      ],
      "execution_count": null,
      "outputs": [
        {
          "output_type": "stream",
          "name": "stdout",
          "text": [
            "0 [33.05555555555556, 87.2, 95.1, 91.9, 94.7]\n",
            "1 [33.05555555555556, 30.666666666666668, 95.1, 91.9, 94.7]\n",
            "2 [33.05555555555556, 30.666666666666668, 35.05555555555556, 91.9, 94.7]\n",
            "3 [33.05555555555556, 30.666666666666668, 35.05555555555556, 33.27777777777778, 94.7]\n",
            "4 [33.05555555555556, 30.666666666666668, 35.05555555555556, 33.27777777777778, 34.833333333333336]\n",
            "===============\n",
            "list temp = [33.05555555555556, 30.666666666666668, 35.05555555555556, 33.27777777777778, 34.833333333333336]\n"
          ]
        }
      ]
    },
    {
      "cell_type": "markdown",
      "metadata": {
        "id": "1Ui_T_oo3MKl"
      },
      "source": [
        "Try the code below to see what happened if you use for-in-list."
      ]
    },
    {
      "cell_type": "code",
      "metadata": {
        "id": "bZnQFurn3XMU",
        "colab": {
          "base_uri": "https://localhost:8080/"
        },
        "outputId": "2e5790a6-327e-43f3-c36a-d1815a16759c"
      },
      "source": [
        "temp = [91.5, 87.2, 95.1, 91.9, 94.7]\n",
        "for t in temp:  \n",
        "    t = (t-32)*5/9\n",
        "    print(t)\n",
        "print('===============')\n",
        "print('list temp =',temp)    "
      ],
      "execution_count": null,
      "outputs": [
        {
          "output_type": "stream",
          "name": "stdout",
          "text": [
            "33.05555555555556\n",
            "30.666666666666668\n",
            "35.05555555555556\n",
            "33.27777777777778\n",
            "34.833333333333336\n",
            "===============\n",
            "list temp = [91.5, 87.2, 95.1, 91.9, 94.7]\n"
          ]
        }
      ]
    },
    {
      "cell_type": "markdown",
      "metadata": {
        "id": "vlDgz-EpsMeR"
      },
      "source": [
        "If we use for-in-list, as shown below, the change is made on the loop variable `c`, but not in the list `temp`."
      ]
    },
    {
      "cell_type": "code",
      "metadata": {
        "id": "4i7kwNZQdm-y",
        "colab": {
          "base_uri": "https://localhost:8080/"
        },
        "outputId": "93687a5c-4acf-46e3-8ebe-9f2727d6ee8c"
      },
      "source": [
        "temp = [91.5, 87.2, 95.1, 91.9, 94.7]\n",
        "for c in temp:  \n",
        "    c = (c-32)*5/9 \n",
        "    print(c)\n",
        "print('===============')\n",
        "print('list temp =',temp)  "
      ],
      "execution_count": null,
      "outputs": [
        {
          "output_type": "stream",
          "text": [
            "33.05555555555556\n",
            "30.666666666666668\n",
            "35.05555555555556\n",
            "33.27777777777778\n",
            "34.833333333333336\n",
            "===============\n",
            "list temp = [91.5, 87.2, 95.1, 91.9, 94.7]\n"
          ],
          "name": "stdout"
        }
      ]
    },
    {
      "cell_type": "markdown",
      "metadata": {
        "id": "3AqHIkh4f8sA"
      },
      "source": [
        "The following program takes 2 lists as vectors, and finds the sum of 2 vectors."
      ]
    },
    {
      "cell_type": "code",
      "metadata": {
        "id": "t-PJH7AagQxw",
        "colab": {
          "base_uri": "https://localhost:8080/"
        },
        "outputId": "4cdca28d-afee-4511-824b-40b9abf0bbd2"
      },
      "source": [
        "x = [2,6,7,1,0,9]\n",
        "y = [7,2,0,5,2,1] # x+y=[9, 8,7,6,2,10]\n",
        "vsum = []\n",
        "for i in range(len(x)): # 0,1,2,3,4,5\n",
        "    vsum.append(x[i]+y[i])\n",
        "print('sum =', vsum)"
      ],
      "execution_count": null,
      "outputs": [
        {
          "output_type": "stream",
          "name": "stdout",
          "text": [
            "sum = [9, 8, 7, 6, 2, 10]\n"
          ]
        }
      ]
    },
    {
      "cell_type": "markdown",
      "metadata": {
        "id": "A2JwGtHDMgu4"
      },
      "source": [
        "### Exercises"
      ]
    },
    {
      "cell_type": "markdown",
      "metadata": {
        "id": "dzPUYqUaMnX-"
      },
      "source": [
        "\n",
        "Write a program that creates a list of prime numbers from 2 to 10,000.\n",
        "\n",
        "**Hint:** Grow the list of prime numbers from the first prime, which is 2.  Before adding the next integer, check if that integer is a prime by dividing that number by all preceeding primes."
      ]
    },
    {
      "cell_type": "code",
      "metadata": {
        "id": "njC-o8vkk5Lo",
        "colab": {
          "base_uri": "https://localhost:8080/"
        },
        "outputId": "49f9a556-b750-4a64-8c84-33c848ab5303"
      },
      "source": [
        "b = []\n",
        "for x in range(2,10000):\n",
        "    if all(x% y !=0 for y in range(2,x)):\n",
        "        b.append(x)\n",
        "print(b)"
      ],
      "execution_count": 6,
      "outputs": [
        {
          "output_type": "stream",
          "name": "stdout",
          "text": [
            "[2, 3, 5, 7, 11, 13, 17, 19, 23, 29, 31, 37, 41, 43, 47, 53, 59, 61, 67, 71, 73, 79, 83, 89, 97, 101, 103, 107, 109, 113, 127, 131, 137, 139, 149, 151, 157, 163, 167, 173, 179, 181, 191, 193, 197, 199, 211, 223, 227, 229, 233, 239, 241, 251, 257, 263, 269, 271, 277, 281, 283, 293, 307, 311, 313, 317, 331, 337, 347, 349, 353, 359, 367, 373, 379, 383, 389, 397, 401, 409, 419, 421, 431, 433, 439, 443, 449, 457, 461, 463, 467, 479, 487, 491, 499, 503, 509, 521, 523, 541, 547, 557, 563, 569, 571, 577, 587, 593, 599, 601, 607, 613, 617, 619, 631, 641, 643, 647, 653, 659, 661, 673, 677, 683, 691, 701, 709, 719, 727, 733, 739, 743, 751, 757, 761, 769, 773, 787, 797, 809, 811, 821, 823, 827, 829, 839, 853, 857, 859, 863, 877, 881, 883, 887, 907, 911, 919, 929, 937, 941, 947, 953, 967, 971, 977, 983, 991, 997, 1009, 1013, 1019, 1021, 1031, 1033, 1039, 1049, 1051, 1061, 1063, 1069, 1087, 1091, 1093, 1097, 1103, 1109, 1117, 1123, 1129, 1151, 1153, 1163, 1171, 1181, 1187, 1193, 1201, 1213, 1217, 1223, 1229, 1231, 1237, 1249, 1259, 1277, 1279, 1283, 1289, 1291, 1297, 1301, 1303, 1307, 1319, 1321, 1327, 1361, 1367, 1373, 1381, 1399, 1409, 1423, 1427, 1429, 1433, 1439, 1447, 1451, 1453, 1459, 1471, 1481, 1483, 1487, 1489, 1493, 1499, 1511, 1523, 1531, 1543, 1549, 1553, 1559, 1567, 1571, 1579, 1583, 1597, 1601, 1607, 1609, 1613, 1619, 1621, 1627, 1637, 1657, 1663, 1667, 1669, 1693, 1697, 1699, 1709, 1721, 1723, 1733, 1741, 1747, 1753, 1759, 1777, 1783, 1787, 1789, 1801, 1811, 1823, 1831, 1847, 1861, 1867, 1871, 1873, 1877, 1879, 1889, 1901, 1907, 1913, 1931, 1933, 1949, 1951, 1973, 1979, 1987, 1993, 1997, 1999, 2003, 2011, 2017, 2027, 2029, 2039, 2053, 2063, 2069, 2081, 2083, 2087, 2089, 2099, 2111, 2113, 2129, 2131, 2137, 2141, 2143, 2153, 2161, 2179, 2203, 2207, 2213, 2221, 2237, 2239, 2243, 2251, 2267, 2269, 2273, 2281, 2287, 2293, 2297, 2309, 2311, 2333, 2339, 2341, 2347, 2351, 2357, 2371, 2377, 2381, 2383, 2389, 2393, 2399, 2411, 2417, 2423, 2437, 2441, 2447, 2459, 2467, 2473, 2477, 2503, 2521, 2531, 2539, 2543, 2549, 2551, 2557, 2579, 2591, 2593, 2609, 2617, 2621, 2633, 2647, 2657, 2659, 2663, 2671, 2677, 2683, 2687, 2689, 2693, 2699, 2707, 2711, 2713, 2719, 2729, 2731, 2741, 2749, 2753, 2767, 2777, 2789, 2791, 2797, 2801, 2803, 2819, 2833, 2837, 2843, 2851, 2857, 2861, 2879, 2887, 2897, 2903, 2909, 2917, 2927, 2939, 2953, 2957, 2963, 2969, 2971, 2999, 3001, 3011, 3019, 3023, 3037, 3041, 3049, 3061, 3067, 3079, 3083, 3089, 3109, 3119, 3121, 3137, 3163, 3167, 3169, 3181, 3187, 3191, 3203, 3209, 3217, 3221, 3229, 3251, 3253, 3257, 3259, 3271, 3299, 3301, 3307, 3313, 3319, 3323, 3329, 3331, 3343, 3347, 3359, 3361, 3371, 3373, 3389, 3391, 3407, 3413, 3433, 3449, 3457, 3461, 3463, 3467, 3469, 3491, 3499, 3511, 3517, 3527, 3529, 3533, 3539, 3541, 3547, 3557, 3559, 3571, 3581, 3583, 3593, 3607, 3613, 3617, 3623, 3631, 3637, 3643, 3659, 3671, 3673, 3677, 3691, 3697, 3701, 3709, 3719, 3727, 3733, 3739, 3761, 3767, 3769, 3779, 3793, 3797, 3803, 3821, 3823, 3833, 3847, 3851, 3853, 3863, 3877, 3881, 3889, 3907, 3911, 3917, 3919, 3923, 3929, 3931, 3943, 3947, 3967, 3989, 4001, 4003, 4007, 4013, 4019, 4021, 4027, 4049, 4051, 4057, 4073, 4079, 4091, 4093, 4099, 4111, 4127, 4129, 4133, 4139, 4153, 4157, 4159, 4177, 4201, 4211, 4217, 4219, 4229, 4231, 4241, 4243, 4253, 4259, 4261, 4271, 4273, 4283, 4289, 4297, 4327, 4337, 4339, 4349, 4357, 4363, 4373, 4391, 4397, 4409, 4421, 4423, 4441, 4447, 4451, 4457, 4463, 4481, 4483, 4493, 4507, 4513, 4517, 4519, 4523, 4547, 4549, 4561, 4567, 4583, 4591, 4597, 4603, 4621, 4637, 4639, 4643, 4649, 4651, 4657, 4663, 4673, 4679, 4691, 4703, 4721, 4723, 4729, 4733, 4751, 4759, 4783, 4787, 4789, 4793, 4799, 4801, 4813, 4817, 4831, 4861, 4871, 4877, 4889, 4903, 4909, 4919, 4931, 4933, 4937, 4943, 4951, 4957, 4967, 4969, 4973, 4987, 4993, 4999, 5003, 5009, 5011, 5021, 5023, 5039, 5051, 5059, 5077, 5081, 5087, 5099, 5101, 5107, 5113, 5119, 5147, 5153, 5167, 5171, 5179, 5189, 5197, 5209, 5227, 5231, 5233, 5237, 5261, 5273, 5279, 5281, 5297, 5303, 5309, 5323, 5333, 5347, 5351, 5381, 5387, 5393, 5399, 5407, 5413, 5417, 5419, 5431, 5437, 5441, 5443, 5449, 5471, 5477, 5479, 5483, 5501, 5503, 5507, 5519, 5521, 5527, 5531, 5557, 5563, 5569, 5573, 5581, 5591, 5623, 5639, 5641, 5647, 5651, 5653, 5657, 5659, 5669, 5683, 5689, 5693, 5701, 5711, 5717, 5737, 5741, 5743, 5749, 5779, 5783, 5791, 5801, 5807, 5813, 5821, 5827, 5839, 5843, 5849, 5851, 5857, 5861, 5867, 5869, 5879, 5881, 5897, 5903, 5923, 5927, 5939, 5953, 5981, 5987, 6007, 6011, 6029, 6037, 6043, 6047, 6053, 6067, 6073, 6079, 6089, 6091, 6101, 6113, 6121, 6131, 6133, 6143, 6151, 6163, 6173, 6197, 6199, 6203, 6211, 6217, 6221, 6229, 6247, 6257, 6263, 6269, 6271, 6277, 6287, 6299, 6301, 6311, 6317, 6323, 6329, 6337, 6343, 6353, 6359, 6361, 6367, 6373, 6379, 6389, 6397, 6421, 6427, 6449, 6451, 6469, 6473, 6481, 6491, 6521, 6529, 6547, 6551, 6553, 6563, 6569, 6571, 6577, 6581, 6599, 6607, 6619, 6637, 6653, 6659, 6661, 6673, 6679, 6689, 6691, 6701, 6703, 6709, 6719, 6733, 6737, 6761, 6763, 6779, 6781, 6791, 6793, 6803, 6823, 6827, 6829, 6833, 6841, 6857, 6863, 6869, 6871, 6883, 6899, 6907, 6911, 6917, 6947, 6949, 6959, 6961, 6967, 6971, 6977, 6983, 6991, 6997, 7001, 7013, 7019, 7027, 7039, 7043, 7057, 7069, 7079, 7103, 7109, 7121, 7127, 7129, 7151, 7159, 7177, 7187, 7193, 7207, 7211, 7213, 7219, 7229, 7237, 7243, 7247, 7253, 7283, 7297, 7307, 7309, 7321, 7331, 7333, 7349, 7351, 7369, 7393, 7411, 7417, 7433, 7451, 7457, 7459, 7477, 7481, 7487, 7489, 7499, 7507, 7517, 7523, 7529, 7537, 7541, 7547, 7549, 7559, 7561, 7573, 7577, 7583, 7589, 7591, 7603, 7607, 7621, 7639, 7643, 7649, 7669, 7673, 7681, 7687, 7691, 7699, 7703, 7717, 7723, 7727, 7741, 7753, 7757, 7759, 7789, 7793, 7817, 7823, 7829, 7841, 7853, 7867, 7873, 7877, 7879, 7883, 7901, 7907, 7919, 7927, 7933, 7937, 7949, 7951, 7963, 7993, 8009, 8011, 8017, 8039, 8053, 8059, 8069, 8081, 8087, 8089, 8093, 8101, 8111, 8117, 8123, 8147, 8161, 8167, 8171, 8179, 8191, 8209, 8219, 8221, 8231, 8233, 8237, 8243, 8263, 8269, 8273, 8287, 8291, 8293, 8297, 8311, 8317, 8329, 8353, 8363, 8369, 8377, 8387, 8389, 8419, 8423, 8429, 8431, 8443, 8447, 8461, 8467, 8501, 8513, 8521, 8527, 8537, 8539, 8543, 8563, 8573, 8581, 8597, 8599, 8609, 8623, 8627, 8629, 8641, 8647, 8663, 8669, 8677, 8681, 8689, 8693, 8699, 8707, 8713, 8719, 8731, 8737, 8741, 8747, 8753, 8761, 8779, 8783, 8803, 8807, 8819, 8821, 8831, 8837, 8839, 8849, 8861, 8863, 8867, 8887, 8893, 8923, 8929, 8933, 8941, 8951, 8963, 8969, 8971, 8999, 9001, 9007, 9011, 9013, 9029, 9041, 9043, 9049, 9059, 9067, 9091, 9103, 9109, 9127, 9133, 9137, 9151, 9157, 9161, 9173, 9181, 9187, 9199, 9203, 9209, 9221, 9227, 9239, 9241, 9257, 9277, 9281, 9283, 9293, 9311, 9319, 9323, 9337, 9341, 9343, 9349, 9371, 9377, 9391, 9397, 9403, 9413, 9419, 9421, 9431, 9433, 9437, 9439, 9461, 9463, 9467, 9473, 9479, 9491, 9497, 9511, 9521, 9533, 9539, 9547, 9551, 9587, 9601, 9613, 9619, 9623, 9629, 9631, 9643, 9649, 9661, 9677, 9679, 9689, 9697, 9719, 9721, 9733, 9739, 9743, 9749, 9767, 9769, 9781, 9787, 9791, 9803, 9811, 9817, 9829, 9833, 9839, 9851, 9857, 9859, 9871, 9883, 9887, 9901, 9907, 9923, 9929, 9931, 9941, 9949, 9967, 9973]\n"
          ]
        }
      ]
    },
    {
      "cell_type": "markdown",
      "metadata": {
        "id": "EijdknlVhLHo"
      },
      "source": [
        "Write a program that finds the dot product of vectors `x` and `y`, which are stored as lists.\n",
        "\n",
        "Note: How to calculater the dot product : http://hyperphysics.phy-astr.gsu.edu/hbase/vsca.html"
      ]
    },
    {
      "cell_type": "code",
      "metadata": {
        "id": "UYxxf-LIk6kd",
        "colab": {
          "base_uri": "https://localhost:8080/"
        },
        "outputId": "c279265c-4298-42aa-9db6-6f16cb2fff2c"
      },
      "source": [
        "x = input().split(\" \")\n",
        "x = [int(x[i]) for i in range (len(x))]\n",
        "y = input().split(\" \")\n",
        "y = [int(y[i]) for i in range (len(y))]\n",
        "re = 0\n",
        "for i in x:\n",
        "  for j in y:\n",
        "    re += int(i) * int(j)\n",
        "print(\"The dot product of x.y =\", re)"
      ],
      "execution_count": 70,
      "outputs": [
        {
          "output_type": "stream",
          "name": "stdout",
          "text": [
            "3 5\n",
            "2 8\n",
            "The dot product of x.y = 80\n"
          ]
        }
      ]
    },
    {
      "cell_type": "markdown",
      "metadata": {
        "id": "NrLaSyfXMyNP"
      },
      "source": [
        "Write a program that reads course ID, course name and the number of credit from the user until the user types 'x'.  Create a list that contains lists of course ID, course name and the number of credit. e.g. `[ [2301551, 'PROG PRIN', 1], [2301552, 'DATA STR', 1], ... ]`. \n",
        "\n",
        "From this list, find:\n",
        "* all 4-credit courses,\n",
        "* the average number of credits of courses in this list, and\n",
        "* all courses with lower than average credits.\n",
        "\n",
        "Then, remove all 0-credit courses, and print out this updated list."
      ]
    },
    {
      "cell_type": "code",
      "metadata": {
        "id": "5v3yyP2vW8w2"
      },
      "source": [
        "s = 0\n",
        "data = input().split(\" \")\n",
        "data = [data[i] for i in range (len(data))]\n",
        "# data = [ [2301551, 'PROG PRIN', 1], [2301552, 'DATA STR', 5]]\n",
        "lower_average = []\n",
        "number = 0\n",
        "while True:\n",
        "    data = input()\n",
        "    if data == 'x':\n",
        "        break\n",
        "    else:\n",
        "        number += 1\n",
        "        course_ID, course_name, credit = data.split()\n",
        "        credit = int(credit)\n",
        "        # for i in data:\n",
        "        s += credit\n",
        "        if credit == \"4\":\n",
        "            print(data)\n",
        "        average = s / number\n",
        "        # for j in data:\n",
        "        #   if j[2] < average:\n",
        "        if credit < average:\n",
        "            lower_average.append(j)\n",
        "        \n",
        "        if credit  == 0:\n",
        "        # for i in data:\n",
        "        #   if i[2] == 0:\n",
        "            data.remove(i)\n",
        "        break\n",
        "\n",
        "print(lower_average)  \n",
        "print(data)"
      ],
      "execution_count": null,
      "outputs": []
    },
    {
      "cell_type": "code",
      "metadata": {
        "colab": {
          "base_uri": "https://localhost:8080/"
        },
        "id": "m9X11PkKeyEB",
        "outputId": "0b129c35-96ad-41c0-f607-8c6d303207f0"
      },
      "source": [
        "s = 0\n",
        "data = [ [2301551, 'PROG PRIN', 1], [2301552, 'DATA STR', 5], [2301553, 'DATA STR', 4], [2301553, 'DATA STR', 0]]\n",
        "lower_average = []\n",
        "number = 0\n",
        "\n",
        "while True:\n",
        "    # data = input()\n",
        "    if data == 'x':\n",
        "        break\n",
        "    else:\n",
        "        \n",
        "        for i in data:\n",
        "          s += int(i[2])\n",
        "          if i[2] == 4:\n",
        "            print(f\"4 credits courses: {i}\")\n",
        "\n",
        "        average = s / len(data)\n",
        "        print(f\"average: {average}\")\n",
        "\n",
        "        for j in data:\n",
        "          if j[2] < average:\n",
        "            lower_average.append(j)\n",
        "        for i in data:\n",
        "          if i[2] == 0:\n",
        "            data.remove(i)\n",
        "        break\n",
        "\n",
        "print(f\"all courses with lower than average credits: {lower_average}\")  \n",
        "print(data)"
      ],
      "execution_count": 73,
      "outputs": [
        {
          "output_type": "stream",
          "name": "stdout",
          "text": [
            "4 credits courses: [2301553, 'DATA STR', 4]\n",
            "average: 2.5\n",
            "all courses with lower than average credits: [[2301551, 'PROG PRIN', 1], [2301553, 'DATA STR', 0]]\n",
            "[[2301551, 'PROG PRIN', 1], [2301552, 'DATA STR', 5], [2301553, 'DATA STR', 4]]\n"
          ]
        }
      ]
    },
    {
      "cell_type": "markdown",
      "metadata": {
        "id": "koPoJxAkSsSv"
      },
      "source": [
        "Let `testSC` be a list that contains lists of 4 test scores, e.g. `[ [6,5,7,3], [8,9,10,0], [3,7,5,9], [7,5,9,2], ... ]`.\n",
        "\n",
        "\n",
        "Write a program that finds:\n",
        "\n",
        "*   highest score for each test, and\n",
        "*   highest total score\n"
      ]
    },
    {
      "cell_type": "code",
      "metadata": {
        "id": "YxTguLjkk27Y",
        "colab": {
          "base_uri": "https://localhost:8080/"
        },
        "outputId": "01df9cd3-3482-4a15-fdc4-da79abc24f8c"
      },
      "source": [
        "testSC, highest_score, highest_total_score = [[6,5,7,3], [8,9,10,0], [3,7,5,9], [7,5,9,2]], 0, 0\n",
        "for i in testSC:\n",
        "  print(max(i))\n",
        "  \n",
        "  highest_total_score = sum(i) if sum(i) > highest_total_score else highest_total_score\n",
        "print(highest_total_score)\n"
      ],
      "execution_count": 28,
      "outputs": [
        {
          "output_type": "stream",
          "name": "stdout",
          "text": [
            "7\n",
            "10\n",
            "9\n",
            "9\n",
            "27\n"
          ]
        }
      ]
    },
    {
      "cell_type": "markdown",
      "metadata": {
        "id": "kW0yZ0ZHlyze"
      },
      "source": [
        "## List comprehension"
      ]
    },
    {
      "cell_type": "markdown",
      "metadata": {
        "id": "eGriCTeFl3U9"
      },
      "source": [
        "Another way to create a list, called *list comprehension*, describes a list as follows:\n",
        "```\n",
        "[ <exp> for <var> in <iterable object> if <cond> ]\n",
        "```\n",
        "This creates a list in which each element is created by `<exp>` that uses `<var>` which is an element in `<iterable object>` that makes `<cond>` true.\n",
        "\n",
        "```\n",
        "x = []\n",
        "for <var> in <iterable object>:\n",
        "    if <cond>:\n",
        "        x.append(<exp>)\n",
        "```\n",
        "\n"
      ]
    },
    {
      "cell_type": "markdown",
      "metadata": {
        "id": "Sp2GqwuH4B0e"
      },
      "source": [
        "The following program creates a list of i**2 for i=1,2,...,10."
      ]
    },
    {
      "cell_type": "code",
      "metadata": {
        "id": "DNKdIMaO4DEa",
        "colab": {
          "base_uri": "https://localhost:8080/"
        },
        "outputId": "1f765522-37c9-459d-f13f-ca90fbfce187"
      },
      "source": [
        "sq = [ i**2 for i in range(1,11) ]\n",
        "print(sq)"
      ],
      "execution_count": null,
      "outputs": [
        {
          "output_type": "stream",
          "text": [
            "[1, 4, 9, 16, 25, 36, 49, 64, 81, 100]\n"
          ],
          "name": "stdout"
        }
      ]
    },
    {
      "cell_type": "code",
      "metadata": {
        "id": "XqThN25teys3",
        "colab": {
          "base_uri": "https://localhost:8080/"
        },
        "outputId": "b82c9dd1-b2b0-4ead-d678-49bc240735e7"
      },
      "source": [
        "sq = []\n",
        "for i in range(1,11):\n",
        "    sq.append(i**2)\n",
        "print(sq)"
      ],
      "execution_count": null,
      "outputs": [
        {
          "output_type": "stream",
          "text": [
            "[1, 4, 9, 16, 25, 36, 49, 64, 81, 100]\n"
          ],
          "name": "stdout"
        }
      ]
    },
    {
      "cell_type": "markdown",
      "metadata": {
        "id": "NzadtjsL4VFx"
      },
      "source": [
        "The following example crates a list of positive numbers from the list `num`."
      ]
    },
    {
      "cell_type": "code",
      "metadata": {
        "id": "7qUt6riX4VpE",
        "colab": {
          "base_uri": "https://localhost:8080/"
        },
        "outputId": "89997a59-6619-46d9-e216-7a2ca5df3cfc"
      },
      "source": [
        "num = [3, -5, 0, 4, 7, -4, 9]\n",
        "pos = [i for i in num if i>0]\n",
        "print(pos)"
      ],
      "execution_count": null,
      "outputs": [
        {
          "output_type": "stream",
          "text": [
            "[3, 4, 7, 9]\n"
          ],
          "name": "stdout"
        }
      ]
    },
    {
      "cell_type": "code",
      "metadata": {
        "id": "r9hH1YgNgH2v",
        "colab": {
          "base_uri": "https://localhost:8080/"
        },
        "outputId": "534539dc-555e-4a06-d830-4970e8e5f8a9"
      },
      "source": [
        "num = [3, -5, 0, 4, 7, -4, 9]\n",
        "pos = []\n",
        "for i in num: \n",
        "    if i>0: pos.append(i)\n",
        "print(pos)"
      ],
      "execution_count": null,
      "outputs": [
        {
          "output_type": "stream",
          "text": [
            "[3, 4, 7, 9]\n"
          ],
          "name": "stdout"
        }
      ]
    },
    {
      "cell_type": "markdown",
      "metadata": {
        "id": "fZk8DiiK4sgp"
      },
      "source": [
        "The following example creates a list of the first element and a list of the second element of the list that are in `xyList`."
      ]
    },
    {
      "cell_type": "code",
      "metadata": {
        "id": "Q32dbuLX4t6-",
        "colab": {
          "base_uri": "https://localhost:8080/"
        },
        "outputId": "b4b59f52-7161-4e1c-a696-a678a96b4271"
      },
      "source": [
        "xyList = [[1,'A'],[3,'B'], [4,'E']]\n",
        "xList = [item[0] for item in xyList]\n",
        "yList = [item[1] for item in xyList]\n",
        "print(xList)\n",
        "print(yList)"
      ],
      "execution_count": null,
      "outputs": [
        {
          "output_type": "stream",
          "text": [
            "[1, 3, 4]\n",
            "['A', 'B', 'E']\n"
          ],
          "name": "stdout"
        }
      ]
    },
    {
      "cell_type": "markdown",
      "metadata": {
        "id": "HeT2JEgP5ffw"
      },
      "source": [
        "The following example chooses student numbers of those who registered for 2301551 from `regList`."
      ]
    },
    {
      "cell_type": "code",
      "metadata": {
        "id": "cMjSfNXS5gFS",
        "colab": {
          "base_uri": "https://localhost:8080/",
          "height": 34
        },
        "outputId": "16c8327e-3460-4aa6-bcac-821b452c9918"
      },
      "source": [
        "regList = [['2301551','6274541223'],['2301170','6132456723']]\n",
        "s551 = [rec[1] for rec in regList if rec[0]=='2301551']\n",
        "print(s551)"
      ],
      "execution_count": null,
      "outputs": [
        {
          "output_type": "stream",
          "text": [
            "['6274541223']\n"
          ],
          "name": "stdout"
        }
      ]
    },
    {
      "cell_type": "markdown",
      "metadata": {
        "id": "hXJEGKmf5Hqi"
      },
      "source": [
        "You can use one-line code to read input from keyboard and save it as a list of integers.\n"
      ]
    },
    {
      "cell_type": "code",
      "metadata": {
        "id": "JZsiLvbA4rvE",
        "colab": {
          "base_uri": "https://localhost:8080/"
        },
        "outputId": "2bbdac86-8fd1-401f-b35d-966f4a89a5a0"
      },
      "source": [
        "intList = [int(x) for x in input('Enter numbers:').split()]\n",
        "print(intList)"
      ],
      "execution_count": null,
      "outputs": [
        {
          "output_type": "stream",
          "name": "stdout",
          "text": [
            "Enter numbers:65 44  21  87  -7 24 \n",
            "[65, 44, 21, 87, -7, 24]\n"
          ]
        }
      ]
    },
    {
      "cell_type": "markdown",
      "metadata": {
        "id": "dU3Vuy94JY4p"
      },
      "source": [
        "### Exercises"
      ]
    },
    {
      "cell_type": "markdown",
      "metadata": {
        "id": "jfXmOpGtbhEq"
      },
      "source": [
        "Let `crsData` be a list that contains lists of course ID, course name and the number of credit, e.g. `[[2301551, 'PROG PRIN', 1], [2301552, 'DATA STR', 1], ...]`\n",
        "\n",
        "Write a list comprehension that creates a list of 3-credit courses."
      ]
    },
    {
      "cell_type": "code",
      "metadata": {
        "id": "NIYBYTEykzCJ",
        "colab": {
          "base_uri": "https://localhost:8080/"
        },
        "outputId": "9ee98790-737e-42ce-8cdb-e273e7014109"
      },
      "source": [
        "#With a list comprehension\n",
        "crsData = [[2301551, 'PROG PRIN', 1], [2301552, 'DATA STR', 1], [2301553, 'DATA22 STR', 3], [2301554, 'D2ATA STR', 3]]\n",
        "l = [i[2] == 3 for i in crsData if True ]\n",
        "print(crsData[l.index(True)])"
      ],
      "execution_count": 17,
      "outputs": [
        {
          "output_type": "stream",
          "name": "stdout",
          "text": [
            "[2301553, 'DATA22 STR', 3]\n"
          ]
        }
      ]
    },
    {
      "cell_type": "code",
      "metadata": {
        "colab": {
          "base_uri": "https://localhost:8080/"
        },
        "id": "DMnVcLsLA_GI",
        "outputId": "d6d49a05-347d-4392-de3e-057f6c51b628"
      },
      "source": [
        "#Without a list comprehension\n",
        "crsData = [[2301551, 'PROG PRIN', 1], [2301552, 'DATA STR', 1], [2301553, 'DATA22 STR', 3], [2301554, 'D2ATA STR', 3]]\n",
        "l = [i[2] == 3 for i in crsData]\n",
        "[l for j in l if j != False]\n",
        "print(crsData[l.index(True)])"
      ],
      "execution_count": 3,
      "outputs": [
        {
          "output_type": "stream",
          "name": "stdout",
          "text": [
            "[2301553, 'DATA22 STR', 3]\n"
          ]
        }
      ]
    },
    {
      "cell_type": "markdown",
      "metadata": {
        "id": "XkmPq45QJd6G"
      },
      "source": [
        "Write a list comprehension that creates a list of prime numbers from 2 to 10,000."
      ]
    },
    {
      "cell_type": "code",
      "metadata": {
        "id": "ODHTFlHSkyl1",
        "colab": {
          "base_uri": "https://localhost:8080/"
        },
        "outputId": "61db8e27-0525-4471-e476-1167ae4b3d43"
      },
      "source": [
        "a = [x for x in range(2, 10000) if all(x % y != 0 for y in range(2, x))]\n",
        "print(a)"
      ],
      "execution_count": 5,
      "outputs": [
        {
          "output_type": "stream",
          "name": "stdout",
          "text": [
            "[2, 3, 5, 7, 11, 13, 17, 19, 23, 29, 31, 37, 41, 43, 47, 53, 59, 61, 67, 71, 73, 79, 83, 89, 97, 101, 103, 107, 109, 113, 127, 131, 137, 139, 149, 151, 157, 163, 167, 173, 179, 181, 191, 193, 197, 199, 211, 223, 227, 229, 233, 239, 241, 251, 257, 263, 269, 271, 277, 281, 283, 293, 307, 311, 313, 317, 331, 337, 347, 349, 353, 359, 367, 373, 379, 383, 389, 397, 401, 409, 419, 421, 431, 433, 439, 443, 449, 457, 461, 463, 467, 479, 487, 491, 499, 503, 509, 521, 523, 541, 547, 557, 563, 569, 571, 577, 587, 593, 599, 601, 607, 613, 617, 619, 631, 641, 643, 647, 653, 659, 661, 673, 677, 683, 691, 701, 709, 719, 727, 733, 739, 743, 751, 757, 761, 769, 773, 787, 797, 809, 811, 821, 823, 827, 829, 839, 853, 857, 859, 863, 877, 881, 883, 887, 907, 911, 919, 929, 937, 941, 947, 953, 967, 971, 977, 983, 991, 997, 1009, 1013, 1019, 1021, 1031, 1033, 1039, 1049, 1051, 1061, 1063, 1069, 1087, 1091, 1093, 1097, 1103, 1109, 1117, 1123, 1129, 1151, 1153, 1163, 1171, 1181, 1187, 1193, 1201, 1213, 1217, 1223, 1229, 1231, 1237, 1249, 1259, 1277, 1279, 1283, 1289, 1291, 1297, 1301, 1303, 1307, 1319, 1321, 1327, 1361, 1367, 1373, 1381, 1399, 1409, 1423, 1427, 1429, 1433, 1439, 1447, 1451, 1453, 1459, 1471, 1481, 1483, 1487, 1489, 1493, 1499, 1511, 1523, 1531, 1543, 1549, 1553, 1559, 1567, 1571, 1579, 1583, 1597, 1601, 1607, 1609, 1613, 1619, 1621, 1627, 1637, 1657, 1663, 1667, 1669, 1693, 1697, 1699, 1709, 1721, 1723, 1733, 1741, 1747, 1753, 1759, 1777, 1783, 1787, 1789, 1801, 1811, 1823, 1831, 1847, 1861, 1867, 1871, 1873, 1877, 1879, 1889, 1901, 1907, 1913, 1931, 1933, 1949, 1951, 1973, 1979, 1987, 1993, 1997, 1999, 2003, 2011, 2017, 2027, 2029, 2039, 2053, 2063, 2069, 2081, 2083, 2087, 2089, 2099, 2111, 2113, 2129, 2131, 2137, 2141, 2143, 2153, 2161, 2179, 2203, 2207, 2213, 2221, 2237, 2239, 2243, 2251, 2267, 2269, 2273, 2281, 2287, 2293, 2297, 2309, 2311, 2333, 2339, 2341, 2347, 2351, 2357, 2371, 2377, 2381, 2383, 2389, 2393, 2399, 2411, 2417, 2423, 2437, 2441, 2447, 2459, 2467, 2473, 2477, 2503, 2521, 2531, 2539, 2543, 2549, 2551, 2557, 2579, 2591, 2593, 2609, 2617, 2621, 2633, 2647, 2657, 2659, 2663, 2671, 2677, 2683, 2687, 2689, 2693, 2699, 2707, 2711, 2713, 2719, 2729, 2731, 2741, 2749, 2753, 2767, 2777, 2789, 2791, 2797, 2801, 2803, 2819, 2833, 2837, 2843, 2851, 2857, 2861, 2879, 2887, 2897, 2903, 2909, 2917, 2927, 2939, 2953, 2957, 2963, 2969, 2971, 2999, 3001, 3011, 3019, 3023, 3037, 3041, 3049, 3061, 3067, 3079, 3083, 3089, 3109, 3119, 3121, 3137, 3163, 3167, 3169, 3181, 3187, 3191, 3203, 3209, 3217, 3221, 3229, 3251, 3253, 3257, 3259, 3271, 3299, 3301, 3307, 3313, 3319, 3323, 3329, 3331, 3343, 3347, 3359, 3361, 3371, 3373, 3389, 3391, 3407, 3413, 3433, 3449, 3457, 3461, 3463, 3467, 3469, 3491, 3499, 3511, 3517, 3527, 3529, 3533, 3539, 3541, 3547, 3557, 3559, 3571, 3581, 3583, 3593, 3607, 3613, 3617, 3623, 3631, 3637, 3643, 3659, 3671, 3673, 3677, 3691, 3697, 3701, 3709, 3719, 3727, 3733, 3739, 3761, 3767, 3769, 3779, 3793, 3797, 3803, 3821, 3823, 3833, 3847, 3851, 3853, 3863, 3877, 3881, 3889, 3907, 3911, 3917, 3919, 3923, 3929, 3931, 3943, 3947, 3967, 3989, 4001, 4003, 4007, 4013, 4019, 4021, 4027, 4049, 4051, 4057, 4073, 4079, 4091, 4093, 4099, 4111, 4127, 4129, 4133, 4139, 4153, 4157, 4159, 4177, 4201, 4211, 4217, 4219, 4229, 4231, 4241, 4243, 4253, 4259, 4261, 4271, 4273, 4283, 4289, 4297, 4327, 4337, 4339, 4349, 4357, 4363, 4373, 4391, 4397, 4409, 4421, 4423, 4441, 4447, 4451, 4457, 4463, 4481, 4483, 4493, 4507, 4513, 4517, 4519, 4523, 4547, 4549, 4561, 4567, 4583, 4591, 4597, 4603, 4621, 4637, 4639, 4643, 4649, 4651, 4657, 4663, 4673, 4679, 4691, 4703, 4721, 4723, 4729, 4733, 4751, 4759, 4783, 4787, 4789, 4793, 4799, 4801, 4813, 4817, 4831, 4861, 4871, 4877, 4889, 4903, 4909, 4919, 4931, 4933, 4937, 4943, 4951, 4957, 4967, 4969, 4973, 4987, 4993, 4999, 5003, 5009, 5011, 5021, 5023, 5039, 5051, 5059, 5077, 5081, 5087, 5099, 5101, 5107, 5113, 5119, 5147, 5153, 5167, 5171, 5179, 5189, 5197, 5209, 5227, 5231, 5233, 5237, 5261, 5273, 5279, 5281, 5297, 5303, 5309, 5323, 5333, 5347, 5351, 5381, 5387, 5393, 5399, 5407, 5413, 5417, 5419, 5431, 5437, 5441, 5443, 5449, 5471, 5477, 5479, 5483, 5501, 5503, 5507, 5519, 5521, 5527, 5531, 5557, 5563, 5569, 5573, 5581, 5591, 5623, 5639, 5641, 5647, 5651, 5653, 5657, 5659, 5669, 5683, 5689, 5693, 5701, 5711, 5717, 5737, 5741, 5743, 5749, 5779, 5783, 5791, 5801, 5807, 5813, 5821, 5827, 5839, 5843, 5849, 5851, 5857, 5861, 5867, 5869, 5879, 5881, 5897, 5903, 5923, 5927, 5939, 5953, 5981, 5987, 6007, 6011, 6029, 6037, 6043, 6047, 6053, 6067, 6073, 6079, 6089, 6091, 6101, 6113, 6121, 6131, 6133, 6143, 6151, 6163, 6173, 6197, 6199, 6203, 6211, 6217, 6221, 6229, 6247, 6257, 6263, 6269, 6271, 6277, 6287, 6299, 6301, 6311, 6317, 6323, 6329, 6337, 6343, 6353, 6359, 6361, 6367, 6373, 6379, 6389, 6397, 6421, 6427, 6449, 6451, 6469, 6473, 6481, 6491, 6521, 6529, 6547, 6551, 6553, 6563, 6569, 6571, 6577, 6581, 6599, 6607, 6619, 6637, 6653, 6659, 6661, 6673, 6679, 6689, 6691, 6701, 6703, 6709, 6719, 6733, 6737, 6761, 6763, 6779, 6781, 6791, 6793, 6803, 6823, 6827, 6829, 6833, 6841, 6857, 6863, 6869, 6871, 6883, 6899, 6907, 6911, 6917, 6947, 6949, 6959, 6961, 6967, 6971, 6977, 6983, 6991, 6997, 7001, 7013, 7019, 7027, 7039, 7043, 7057, 7069, 7079, 7103, 7109, 7121, 7127, 7129, 7151, 7159, 7177, 7187, 7193, 7207, 7211, 7213, 7219, 7229, 7237, 7243, 7247, 7253, 7283, 7297, 7307, 7309, 7321, 7331, 7333, 7349, 7351, 7369, 7393, 7411, 7417, 7433, 7451, 7457, 7459, 7477, 7481, 7487, 7489, 7499, 7507, 7517, 7523, 7529, 7537, 7541, 7547, 7549, 7559, 7561, 7573, 7577, 7583, 7589, 7591, 7603, 7607, 7621, 7639, 7643, 7649, 7669, 7673, 7681, 7687, 7691, 7699, 7703, 7717, 7723, 7727, 7741, 7753, 7757, 7759, 7789, 7793, 7817, 7823, 7829, 7841, 7853, 7867, 7873, 7877, 7879, 7883, 7901, 7907, 7919, 7927, 7933, 7937, 7949, 7951, 7963, 7993, 8009, 8011, 8017, 8039, 8053, 8059, 8069, 8081, 8087, 8089, 8093, 8101, 8111, 8117, 8123, 8147, 8161, 8167, 8171, 8179, 8191, 8209, 8219, 8221, 8231, 8233, 8237, 8243, 8263, 8269, 8273, 8287, 8291, 8293, 8297, 8311, 8317, 8329, 8353, 8363, 8369, 8377, 8387, 8389, 8419, 8423, 8429, 8431, 8443, 8447, 8461, 8467, 8501, 8513, 8521, 8527, 8537, 8539, 8543, 8563, 8573, 8581, 8597, 8599, 8609, 8623, 8627, 8629, 8641, 8647, 8663, 8669, 8677, 8681, 8689, 8693, 8699, 8707, 8713, 8719, 8731, 8737, 8741, 8747, 8753, 8761, 8779, 8783, 8803, 8807, 8819, 8821, 8831, 8837, 8839, 8849, 8861, 8863, 8867, 8887, 8893, 8923, 8929, 8933, 8941, 8951, 8963, 8969, 8971, 8999, 9001, 9007, 9011, 9013, 9029, 9041, 9043, 9049, 9059, 9067, 9091, 9103, 9109, 9127, 9133, 9137, 9151, 9157, 9161, 9173, 9181, 9187, 9199, 9203, 9209, 9221, 9227, 9239, 9241, 9257, 9277, 9281, 9283, 9293, 9311, 9319, 9323, 9337, 9341, 9343, 9349, 9371, 9377, 9391, 9397, 9403, 9413, 9419, 9421, 9431, 9433, 9437, 9439, 9461, 9463, 9467, 9473, 9479, 9491, 9497, 9511, 9521, 9533, 9539, 9547, 9551, 9587, 9601, 9613, 9619, 9623, 9629, 9631, 9643, 9649, 9661, 9677, 9679, 9689, 9697, 9719, 9721, 9733, 9739, 9743, 9749, 9767, 9769, 9781, 9787, 9791, 9803, 9811, 9817, 9829, 9833, 9839, 9851, 9857, 9859, 9871, 9883, 9887, 9901, 9907, 9923, 9929, 9931, 9941, 9949, 9967, 9973]\n"
          ]
        }
      ]
    },
    {
      "cell_type": "markdown",
      "metadata": {
        "id": "3bTvuRHufV56"
      },
      "source": [
        "# Files"
      ]
    },
    {
      "cell_type": "markdown",
      "metadata": {
        "id": "Qblt6Qje4hxN"
      },
      "source": [
        "To use (i.e. read or write) a file in Python, we must first open the file.  The function `open(<filename>,<mode>)` returns a file object that will be used to refer to this file.  \n",
        "\n",
        "* If you want to read the file, it must be open in the mode `'r'`. \n",
        "\n",
        "* If you want to write to the file, it must be open in the mode `'w'`.  If the file does not exist, a new file is created. If the file already exists and it is open in the mode `'w'`, the existing file is erased.\n",
        "\n",
        "After finish reading/writing the file, we need to close the file using the function `<file_object>.close()`."
      ]
    },
    {
      "cell_type": "code",
      "metadata": {
        "id": "C0dX8Tputalx"
      },
      "source": [
        "f = open('test.txt','w')\n",
        "# do somthing with the file\n",
        "f.close()"
      ],
      "execution_count": null,
      "outputs": []
    },
    {
      "cell_type": "markdown",
      "metadata": {
        "id": "_rG_bndSuEFw"
      },
      "source": [
        "The function `readline` reads the next unread line from the file and returns that string. The variable `f` stores the file object of the file `'test.txt'`."
      ]
    },
    {
      "cell_type": "code",
      "metadata": {
        "id": "o2Nw4t4buF55",
        "colab": {
          "base_uri": "https://localhost:8080/"
        },
        "outputId": "cc5b03a4-5443-4711-972b-004e8e24ee1f"
      },
      "source": [
        "f = open('test.txt')\n",
        "line1 = f.readline()\n",
        "line2 = f.readline()\n",
        "f.close()\n",
        "print(line1, line2)"
      ],
      "execution_count": null,
      "outputs": [
        {
          "output_type": "stream",
          "name": "stdout",
          "text": [
            "line 1\n",
            " line 2\n",
            "\n"
          ]
        }
      ]
    },
    {
      "cell_type": "markdown",
      "metadata": {
        "id": "BnRiWT0guVNv"
      },
      "source": [
        "The function `readlines` reads the file and returns the list of strings, each of which is a line in the file."
      ]
    },
    {
      "cell_type": "code",
      "metadata": {
        "id": "IVw4QxsjuXNe",
        "colab": {
          "base_uri": "https://localhost:8080/"
        },
        "outputId": "ff60e299-15a4-4cdb-ce95-9ded8bdd3d10"
      },
      "source": [
        "f = open('test.txt','r')\n",
        "allLines = f.readlines() \n",
        "f.close()\n",
        "print(allLines)"
      ],
      "execution_count": null,
      "outputs": [
        {
          "output_type": "stream",
          "name": "stdout",
          "text": [
            "['line 1', 'line 2', 'line 3']\n"
          ]
        }
      ]
    },
    {
      "cell_type": "code",
      "metadata": {
        "id": "-lroa9fHkRR5",
        "colab": {
          "base_uri": "https://localhost:8080/"
        },
        "outputId": "59286711-6cd6-4d73-c2a4-d3ac01cc4c5c"
      },
      "source": [
        "f = open('test.txt','r')\n",
        "for line in f:\n",
        "    print(line)\n",
        "f.close()\n"
      ],
      "execution_count": null,
      "outputs": [
        {
          "output_type": "stream",
          "name": "stdout",
          "text": [
            "line 1\n",
            "\n",
            "line 2\n",
            "\n",
            "line 3\n",
            "\n",
            "['line 1', 'line 2', 'line 3']\n"
          ]
        }
      ]
    },
    {
      "cell_type": "markdown",
      "metadata": {
        "id": "xpK4WOSBtCLU"
      },
      "source": [
        "The function `write` writes the given string to the file.\n",
        "\n",
        "The following program opens the file `output.text` to to write strings in the list `lines` to the file."
      ]
    },
    {
      "cell_type": "code",
      "metadata": {
        "id": "_HpmWO_Ftt3r"
      },
      "source": [
        "lines = ['This is a test\\n','second line\\n','\\n','last']\n",
        "f = open('output.txt','w')\n",
        "for line in lines:\n",
        "    f.write(line)\n",
        "f.close()"
      ],
      "execution_count": null,
      "outputs": []
    },
    {
      "cell_type": "markdown",
      "metadata": {
        "id": "LGA0wDIdt4hX"
      },
      "source": [
        "The following program opens the file `test.text` to read into a list of strings, `allLines`, and writes them to the file `copy.txt`."
      ]
    },
    {
      "cell_type": "code",
      "metadata": {
        "id": "CUpwSs8n_Xs3"
      },
      "source": [
        "fR = open('test.txt','r')\n",
        "fW = open('copy.txt','w')\n",
        "for line in fR:\n",
        "    fW.write(line)\n",
        "fR.close()\n",
        "fW.close()"
      ],
      "execution_count": null,
      "outputs": []
    },
    {
      "cell_type": "markdown",
      "metadata": {
        "id": "mkOV9utnZeT6"
      },
      "source": [
        "We can use `with open('test.txt','r') as fR:` follows by a block of code, and `fR` can be used as file object within that block of code.  When the program exits the block, the file is automatically closed.\n",
        "\n",
        "The following program is the same as the one above."
      ]
    },
    {
      "cell_type": "code",
      "metadata": {
        "id": "74l2n3j_a7OA"
      },
      "source": [
        "with open('test.txt','r') as fR: # fR = open('test.txt','r')\n",
        "    allLines = fR.readlines()    # ....\n",
        "                                 # fR.close()\n",
        "\n",
        "with open('copy.txt','w') as fW:\n",
        "    for line in allLines:\n",
        "        fW.write(line)"
      ],
      "execution_count": null,
      "outputs": []
    },
    {
      "cell_type": "markdown",
      "metadata": {
        "id": "Hk-NYfz4dE9-"
      },
      "source": [
        "The following program counts the number of words in the file `test.txt`."
      ]
    },
    {
      "cell_type": "code",
      "metadata": {
        "id": "ZomNFUrudRP6",
        "colab": {
          "base_uri": "https://localhost:8080/"
        },
        "outputId": "d002e3f0-4f15-4e0a-8dc8-c4dd774d3b6e"
      },
      "source": [
        "with open('test.txt','r') as f:\n",
        "    allLines = f.readlines()\n",
        "\n",
        "words = 0\n",
        "for line in allLines:\n",
        "    words = words+len(line.split())\n",
        "print('There are',words,'words.')"
      ],
      "execution_count": null,
      "outputs": [
        {
          "output_type": "stream",
          "name": "stdout",
          "text": [
            "There are 6 words.\n"
          ]
        }
      ]
    },
    {
      "cell_type": "markdown",
      "metadata": {
        "id": "ooyfA1hvNA9t"
      },
      "source": [
        "The following program also counts the number of words in the file 'test.txt'.  In line 3, `[line.split() for line in fR]`, which is a list comprehension, reads each line from the file and splits a line into a list of words."
      ]
    },
    {
      "cell_type": "code",
      "metadata": {
        "id": "K6iByZZzMFj_",
        "colab": {
          "base_uri": "https://localhost:8080/"
        },
        "outputId": "b00b3d65-db0e-4289-fb1d-38acf3c30434"
      },
      "source": [
        "with open('test.txt','r') as fR:\n",
        "    lines = [line.split() for line in fR]    \n",
        "words = 0\n",
        "print(lines)\n",
        "for item in lines: \n",
        "    words = words+len(item)\n",
        "print('There are',words,'words.')"
      ],
      "execution_count": null,
      "outputs": [
        {
          "output_type": "stream",
          "name": "stdout",
          "text": [
            "[['line', '1'], ['line', '2'], ['line', '3']]\n",
            "There are 6 words.\n"
          ]
        }
      ]
    },
    {
      "cell_type": "markdown",
      "metadata": {
        "id": "4CLxFfv9Ll1-"
      },
      "source": [
        "A file object is also an iterable object, and it can be used in a list comprehension."
      ]
    },
    {
      "cell_type": "code",
      "metadata": {
        "colab": {
          "base_uri": "https://localhost:8080/"
        },
        "id": "ch0_1Ecu50Bs",
        "outputId": "2277ac49-be75-4e94-8543-4ac9f3f1b619"
      },
      "source": [
        "with open('data.txt', 'r') as f:\n",
        "    intList = [int(x) for x in f]\n",
        "print(intList)"
      ],
      "execution_count": null,
      "outputs": [
        {
          "output_type": "stream",
          "name": "stdout",
          "text": [
            "[1, 2, 3, 4, 5]\n"
          ]
        }
      ]
    },
    {
      "cell_type": "markdown",
      "metadata": {
        "id": "YqGkbetkkL8n"
      },
      "source": [
        "### Exercises"
      ]
    },
    {
      "cell_type": "markdown",
      "metadata": {
        "id": "lBWUJhf_qyRI"
      },
      "source": [
        "Write a program that reads a CSV file that each line conatins student ID and 4 test scores. Then, generate a class report, using list comprehension, which contains:\n",
        "\n",
        "*   total score for each student\n",
        "*   average score for all students\n",
        "*   the ID of the student with highest total score\n",
        "*   histogram, i.e. the number of students whose score are from `10*i to 10*(i+1)-1`, for i=0,1,2,...\n",
        "*   for each score `s`, the number of students who get score `s`"
      ]
    },
    {
      "cell_type": "code",
      "metadata": {
        "id": "_cfUWd8Ekt48"
      },
      "source": [
        "testSC, highest_score, highest_total_sco = [['6278015467', 6, 5, 7, 3], ['6278015343',8, 9, 10, 0], ['6278015344', 3, 7, 5, 9],\n",
        "      ['6378015344', 7, 5, 9, 2]], 0, 0\n",
        "for i in testSC:\n",
        "    print(max(i))\n",
        "    highest_total_score = sum(i) if sum(i) > highest_total_score else highest_total_score\n",
        "print(highest_total_score)"
      ],
      "execution_count": null,
      "outputs": []
    },
    {
      "cell_type": "markdown",
      "metadata": {
        "id": "JmUXs0rzq3dZ"
      },
      "source": [
        "Write a program that reads a CSV file that each line conatins student ID, course number and section number. For example,\n",
        "\n",
        "`6274565423 , 2301551, 1`\n",
        "\n",
        "Then, use list comprehension to generate a registration list in which each element is a list of students registered in each course, grouped by section, as shown below.  The following list contains 2 courses, 2301551 and 2301170. Each course has 2 sections.\n",
        "\n",
        "`[['2301551',[['1',['6274565423',...]],['2',['6134567823',...]]]], ['2301170',[['1',[...]],['2',[...]]]]]`"
      ]
    },
    {
      "cell_type": "code",
      "metadata": {
        "id": "pgSJ2vIhkuh1"
      },
      "source": [
        "with open('new.csv', 'r') as fR:\n",
        "    lines = [map(int, (line.split())) for line in fR]\n",
        "\n",
        "    old_list = []\n",
        "    course_number_list, section_number_list = [], []  # the sorted list\n",
        "\n",
        "    for i in lines:\n",
        "        i = list(i)\n",
        "        old_list.append(i)\n",
        "        course_number_list.append(i[1])\n",
        "        section_number_list.append(i[2])\n",
        "    old_list.sort(key=lambda item: item[1], reverse=True)\n",
        "    print(old_list)\n",
        "    \n",
        "    r = list(set(course_number_list))   # return list\n",
        "    r.sort(reverse=True)\n",
        "    # print(r)\n",
        "    l1 = []\n",
        "    for j in r:\n",
        "        l1.append(str(j))\n",
        "        for i in old_list:\n",
        "            if i[1] == j:\n",
        "                l1.append([[str(i[-1]), str(i[0])]])\n",
        "        # l2.append(l1)\n",
        "    print(l1)"
      ],
      "execution_count": null,
      "outputs": []
    },
    {
      "cell_type": "markdown",
      "metadata": {
        "id": "LldWlkduQUv8"
      },
      "source": [
        "# Tuples"
      ]
    },
    {
      "cell_type": "markdown",
      "metadata": {
        "id": "SboiRZR9QbSz"
      },
      "source": [
        "A tuple is similar to a list, i.e. it is a collection of data of any types in which each element can be refered to by the index or position.  "
      ]
    },
    {
      "cell_type": "code",
      "metadata": {
        "id": "JxO8pjtJRIFl",
        "colab": {
          "base_uri": "https://localhost:8080/"
        },
        "outputId": "617fcd46-a381-448a-c007-08c16cf43ecd"
      },
      "source": [
        "student = ('Siri', 6274567823)  # a tuple\n",
        "for i in student:\n",
        "    print(i)\n",
        "print(student[0])\n",
        "print(student[1])"
      ],
      "execution_count": null,
      "outputs": [
        {
          "output_type": "stream",
          "text": [
            "Siri\n",
            "6274567823\n",
            "Siri\n",
            "6274567823\n"
          ],
          "name": "stdout"
        }
      ]
    },
    {
      "cell_type": "markdown",
      "metadata": {
        "id": "5JvqUj2dRE1z"
      },
      "source": [
        "However, a tuple is immutable, i.e. we cannot change an element in a tuple."
      ]
    },
    {
      "cell_type": "code",
      "metadata": {
        "id": "wnpq0smMRf3U"
      },
      "source": [
        "student = ('Siri', 6274567823)\n",
        "student[0] = 'Sara'  # error here"
      ],
      "execution_count": null,
      "outputs": []
    },
    {
      "cell_type": "markdown",
      "metadata": {
        "id": "nwY_cw-eRtNW"
      },
      "source": [
        "Notice that there is no error in the program below beacuse  `student = ('Sara', 6274567823)` in line 2 **does not change the tuple**, but assigns a new tuple to the variable `student`."
      ]
    },
    {
      "cell_type": "code",
      "metadata": {
        "id": "NK3jUXuqR8rS"
      },
      "source": [
        "student = ('Siri', 6274567823)\n",
        "student = ('Sara', 6274567823)"
      ],
      "execution_count": null,
      "outputs": []
    },
    {
      "cell_type": "markdown",
      "metadata": {
        "id": "49iCcDfRnLmq"
      },
      "source": [
        "\n",
        "`tuple` is the function that converts an iterable object, such as lists and dictionaries, into a tuple.\n",
        "\n"
      ]
    },
    {
      "cell_type": "code",
      "metadata": {
        "id": "Ide09ylbmY5u",
        "colab": {
          "base_uri": "https://localhost:8080/",
          "height": 53
        },
        "outputId": "2331166b-2c37-45f1-9009-b6b317a990f5"
      },
      "source": [
        "sid_cid = [6212345623, 2301551]\n",
        "t_sid_cid = tuple(sid_cid)\n",
        "print(t_sid_cid, type(t_sid_cid))\n",
        "print(tuple(range(3)))"
      ],
      "execution_count": null,
      "outputs": [
        {
          "output_type": "stream",
          "text": [
            "(6212345623, 2301551) <class 'tuple'>\n",
            "(0, 1, 2)\n"
          ],
          "name": "stdout"
        }
      ]
    },
    {
      "cell_type": "markdown",
      "metadata": {
        "id": "iCx0Sezv8UXO"
      },
      "source": [
        "### Exercises"
      ]
    },
    {
      "cell_type": "markdown",
      "metadata": {
        "id": "Ae3iKcgv7Yhx"
      },
      "source": [
        "Write a program to create a list of tuple (x, y), where x and y are integers, 0<x<10, -10<y<10."
      ]
    },
    {
      "cell_type": "code",
      "metadata": {
        "id": "47rfFv7W8ZrT",
        "colab": {
          "base_uri": "https://localhost:8080/"
        },
        "outputId": "3ca7de7e-dd9f-4c1d-91d9-66cd1ee9e375"
      },
      "source": [
        "x = int(input(\"x:\"))\n",
        "y = int(input(\"y:\"))\n",
        "list = [x,y]\n",
        "tup = tuple(list)\n",
        "if 0<x<10 and -10<y<10:\n",
        "  print(tup)"
      ],
      "execution_count": 14,
      "outputs": [
        {
          "output_type": "stream",
          "name": "stdout",
          "text": [
            "x:5\n",
            "y:8\n",
            "(5, 8)\n"
          ]
        }
      ]
    },
    {
      "cell_type": "markdown",
      "metadata": {
        "id": "-OSAJWG88aMW"
      },
      "source": [
        "The Fibonacci number is the following sequence of numbers:\n",
        "\n",
        "> 0,1,1,2,3,5,8,13,...\n",
        "\n",
        "This sequence can be defined as follows:\n",
        "\n",
        "> fib(0) = 0, fib(1) = 1, fib(n) = fib(n-1)+fib(n-2) for n>1.\n",
        "\n",
        "\n",
        "Write a program that creates a list of tuple (x, fib(x)) for x = 0,1,2,...,9.\n",
        "\n",
        "The result is :\n",
        "\n",
        "`[(0, 0), (1, 1), (2, 1), (3, 2), (4, 3), (5, 5), (6, 8), (7, 13), (8, 21), (9, 34)] `"
      ]
    },
    {
      "cell_type": "code",
      "metadata": {
        "id": "FBJ0DgXE_rs0",
        "colab": {
          "base_uri": "https://localhost:8080/"
        },
        "outputId": "ef2dd6ed-0f8f-4fd7-b496-62d399e3c62f"
      },
      "source": [
        "#for loop\n",
        "n1, n2 = 0, 1\n",
        "count = 0\n",
        "r = []\n",
        "for count in range(10):\n",
        "    nth = n1 + n2\n",
        "    list = [count, n1]\n",
        "    c = tuple(list)\n",
        "    r.append(c)\n",
        "    # update values\n",
        "    n1 = n2\n",
        "    n2 = nth\n",
        "print(r)"
      ],
      "execution_count": 7,
      "outputs": [
        {
          "output_type": "stream",
          "name": "stdout",
          "text": [
            "[(0, 0), (1, 1), (2, 1), (3, 2), (4, 3), (5, 5), (6, 8), (7, 13), (8, 21), (9, 34)]\n"
          ]
        }
      ]
    },
    {
      "cell_type": "markdown",
      "metadata": {
        "id": "gwbLxwUtAYmm"
      },
      "source": [
        "Write a program that creates two lists from a list that contains tuples with 2 elements. \n",
        "\n",
        "For example, given a list \n",
        "\n",
        "> `[(1,'d'), (2,'a'), (3,'b'), (4,'b'), (5,'a'), (6,'c'), (7,'a'), (8,'a'), (9,'d'), (10,'c')]` ,\n",
        "\n",
        "the program creates :\n",
        "> `[1, 2, 3, 4, 5, 6, 7, 8, 9, 10]` and\n",
        "\n",
        "> `['d', 'a', 'b', 'b', 'a', 'c', 'a', 'a', 'd', 'c']`"
      ]
    },
    {
      "cell_type": "code",
      "metadata": {
        "id": "J-ziC4RhBlOH",
        "colab": {
          "base_uri": "https://localhost:8080/"
        },
        "outputId": "8fbf481c-b88d-4ba1-8443-4abc9b1cfbd3"
      },
      "source": [
        "def split_merge(merged_list):\n",
        "    list0 = [i[0] for i in merged_list]\n",
        "    list1 = [i[1] for i in merged_list]\n",
        "    return list0, list1      \n",
        "# Driver code\n",
        "print(split_merge([(1,'d'), (2,'a'), (3,'b'), (4,'b'), (5,'a'), (6,'c'), (7,'a'), (8,'a'), (9,'d'), (10,'c')]))"
      ],
      "execution_count": 12,
      "outputs": [
        {
          "output_type": "stream",
          "name": "stdout",
          "text": [
            "([1, 2, 3, 4, 5, 6, 7, 8, 9, 10], ['d', 'a', 'b', 'b', 'a', 'c', 'a', 'a', 'd', 'c'])\n"
          ]
        }
      ]
    }
  ]
}