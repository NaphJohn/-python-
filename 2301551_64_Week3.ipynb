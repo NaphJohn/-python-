{
  "nbformat": 4,
  "nbformat_minor": 0,
  "metadata": {
    "colab": {
      "name": "2301551-64-Week3.ipynb",
      "provenance": [],
      "collapsed_sections": [],
      "include_colab_link": true
    },
    "kernelspec": {
      "name": "python3",
      "display_name": "Python 3"
    }
  },
  "cells": [
    {
      "cell_type": "markdown",
      "metadata": {
        "id": "view-in-github",
        "colab_type": "text"
      },
      "source": [
        "<a href=\"https://colab.research.google.com/github/whkaikai/-python-/blob/main/2301551_64_Week3.ipynb\" target=\"_parent\"><img src=\"https://colab.research.google.com/assets/colab-badge.svg\" alt=\"Open In Colab\"/></a>"
      ]
    },
    {
      "cell_type": "markdown",
      "metadata": {
        "id": "31yLqXUTKjgc"
      },
      "source": [
        "# Dictionaries"
      ]
    },
    {
      "cell_type": "markdown",
      "metadata": {
        "id": "KVFG3bc_hPdW"
      },
      "source": [
        "## Basic of Dictionaries"
      ]
    },
    {
      "cell_type": "markdown",
      "metadata": {
        "id": "yTMLdvtZLISC"
      },
      "source": [
        "A dictionary is an unordered collection of pairs of key and value.\n",
        "\n",
        "`{2301170:'COMP PROG', 2301551:'PROG LANG'}` is a collection of two pairs of key and value:\n",
        "* the key `2301170` is associated with the value `'COMP PROG'`\n",
        "* the key `2301551` is associated with the value `'PROG LANG'`\n",
        "\n",
        "Given a key in a dictionary, we can get the value assocaited to the key, as shown below."
      ]
    },
    {
      "cell_type": "code",
      "metadata": {
        "id": "Hwr1fsQzPbOO",
        "colab": {
          "base_uri": "https://localhost:8080/"
        },
        "outputId": "3dc1632d-77b4-417b-c94b-9a5b37c2d82d"
      },
      "source": [
        "cName = {2301170:'COMP PROG', 2301172:'COMP PROG LAB', 2301380:'PROG LANG PRIN', 2301551:'PROG LANG'}\n",
        "print(cName[2301551])"
      ],
      "execution_count": null,
      "outputs": [
        {
          "output_type": "stream",
          "text": [
            "PROG LANG\n"
          ],
          "name": "stdout"
        }
      ]
    },
    {
      "cell_type": "markdown",
      "metadata": {
        "id": "XTqzb703gC9P"
      },
      "source": [
        "All keys in a dictionary must be unique, i.e. a key cannot be associated to more than one value. If two values are assigned to the same key, one value will replace the other."
      ]
    },
    {
      "cell_type": "code",
      "metadata": {
        "id": "P2n46JETgLHM",
        "colab": {
          "base_uri": "https://localhost:8080/"
        },
        "outputId": "0b155f22-684d-402a-f49e-5d82819b51f6"
      },
      "source": [
        "cName = {2301170:'COMP PROG', 2301170:'COMP PROG LAB', 2301551:'PROG LANG'}\n",
        "print(cName)"
      ],
      "execution_count": null,
      "outputs": [
        {
          "output_type": "stream",
          "text": [
            "{2301170: 'COMP PROG LAB', 2301551: 'PROG LANG'}\n"
          ],
          "name": "stdout"
        }
      ]
    },
    {
      "cell_type": "markdown",
      "metadata": {
        "id": "Hd7gSeCmP1cF"
      },
      "source": [
        "In dictionaries, keys must be of *immutable* types, i.e. integers, floats, strings, and tuples.  However, lists and dictionaries are mutable objects and cannot use used as keys.\n",
        "\n",
        "The following example uses student number and course number combined in a tuple as a key."
      ]
    },
    {
      "cell_type": "code",
      "metadata": {
        "id": "r5fx7AkEZM25",
        "colab": {
          "base_uri": "https://localhost:8080/",
          "height": 52
        },
        "outputId": "deddc5c5-a9b9-490e-ff69-07c796b8300d"
      },
      "source": [
        "grade = {(6212567823, 2301170):3.5, (6212567823, 2301172):4.0, (6120007823, 2301551):4.0}\n",
        "print(grade[(6212567823, 2301172)])\n",
        "print(grade[6212567823, 2301172])   # parentheses of the tuple can be omitted"
      ],
      "execution_count": null,
      "outputs": [
        {
          "output_type": "stream",
          "text": [
            "4.0\n",
            "4.0\n"
          ],
          "name": "stdout"
        }
      ]
    },
    {
      "cell_type": "markdown",
      "metadata": {
        "id": "RDM3wmWDxSz_"
      },
      "source": [
        "### Add a Key-value Pair into a Dictionary"
      ]
    },
    {
      "cell_type": "markdown",
      "metadata": {
        "id": "F9d1HBKxb3d7"
      },
      "source": [
        "A new key-value pair can be added in a dictionary using assignment statement as follows:"
      ]
    },
    {
      "cell_type": "code",
      "metadata": {
        "id": "PDoj6n4xdGvP",
        "colab": {
          "base_uri": "https://localhost:8080/"
        },
        "outputId": "8e4f5c2f-edd3-4af2-ac57-bf79b06f2ac4"
      },
      "source": [
        "cName = {2301170:'COMP PROG', 2301172:'COMP PROG LAB', 2301380:'PROG LANG PRIN', 2301551:'PROG LANG'}\n",
        "cName[2301552]='PRIN DATA STR'\n",
        "print(cName)"
      ],
      "execution_count": null,
      "outputs": [
        {
          "output_type": "stream",
          "text": [
            "{2301170: 'COMP PROG', 2301172: 'COMP PROG LAB', 2301380: 'PROG LANG PRIN', 2301551: 'PROG LANG', 2301552: 'PRIN DATA STR'}\n"
          ],
          "name": "stdout"
        }
      ]
    },
    {
      "cell_type": "markdown",
      "metadata": {
        "id": "HRW9kRt7fFdE"
      },
      "source": [
        "This can also be used to change the value associated to a key. If there is another value associated to the key in the dictionary, the new value will replace the old value for that key."
      ]
    },
    {
      "cell_type": "code",
      "metadata": {
        "id": "uIlniHBZfP_R",
        "colab": {
          "base_uri": "https://localhost:8080/",
          "height": 34
        },
        "outputId": "7a41a5da-2e08-45a7-b1d9-1b05317318b7"
      },
      "source": [
        "cName = {2301170:'COMP PROG', 2301172:'COMP PROG LAB', 2301380:'PROG LANG PRIN', 2301551:'PROG LANG'}\n",
        "cName[2301172]='LAB'\n",
        "print(cName)"
      ],
      "execution_count": null,
      "outputs": [
        {
          "output_type": "stream",
          "text": [
            "{2301170: 'COMP PROG', 2301172: 'LAB', 2301380: 'PROG LANG PRIN', 2301551: 'PROG LANG'}\n"
          ],
          "name": "stdout"
        }
      ]
    },
    {
      "cell_type": "markdown",
      "metadata": {
        "id": "xnvyCLqBxdhD"
      },
      "source": [
        "### Delete a Key-value Pair from a Dictionary"
      ]
    },
    {
      "cell_type": "markdown",
      "metadata": {
        "id": "lJp-xuFKeodR"
      },
      "source": [
        "`del` can also be used to delete a key-value pair in a dictionary."
      ]
    },
    {
      "cell_type": "code",
      "metadata": {
        "id": "-1ZQ0Fr1e2j1",
        "colab": {
          "base_uri": "https://localhost:8080/",
          "height": 34
        },
        "outputId": "d6c4b4a9-739c-40fa-8441-68756ade1af9"
      },
      "source": [
        "cName = {2301170:'COMP PROG', 2301172:'COMP PROG LAB', 2301380:'PROG LANG PRIN', 2301551:'PROG LANG'}\n",
        "del(cName[2301170])\n",
        "print(cName)"
      ],
      "execution_count": null,
      "outputs": [
        {
          "output_type": "stream",
          "text": [
            "{2301172: 'COMP PROG LAB', 2301380: 'PROG LANG PRIN', 2301551: 'PROG LANG'}\n"
          ],
          "name": "stdout"
        }
      ]
    },
    {
      "cell_type": "markdown",
      "metadata": {
        "id": "EnOweYcyxyjx"
      },
      "source": [
        "### Update a Dictionary with Another Dictionary"
      ]
    },
    {
      "cell_type": "markdown",
      "metadata": {
        "id": "LnSijE4jjtiF"
      },
      "source": [
        "We can add pairs of key-value in one dictionary into another, using the function `update`.  In the case that there are the same key in both dictionaries, the new one will replace the old one. "
      ]
    },
    {
      "cell_type": "code",
      "metadata": {
        "id": "mgkufYs6kD6D",
        "colab": {
          "base_uri": "https://localhost:8080/",
          "height": 52
        },
        "outputId": "d9e1ccda-18bd-485a-d446-9fba9f48154d"
      },
      "source": [
        "cName = {2301170:'COMP PROG', 2301172:'COMP PROG LAB', 2301551:'P'}\n",
        "gradcName = {2301551:'PROG LANG', 2301552:'PRIN DATA STR'}\n",
        "cName.update(gradcName)\n",
        "print(cName)\n",
        "print(gradcName)"
      ],
      "execution_count": null,
      "outputs": [
        {
          "output_type": "stream",
          "text": [
            "{2301170: 'COMP PROG', 2301172: 'COMP PROG LAB', 2301551: 'PROG LANG', 2301552: 'PRIN DATA STR'}\n",
            "{2301551: 'PROG LANG', 2301552: 'PRIN DATA STR'}\n"
          ],
          "name": "stdout"
        }
      ]
    },
    {
      "cell_type": "code",
      "metadata": {
        "id": "dsIYRHMyReb9",
        "colab": {
          "base_uri": "https://localhost:8080/"
        },
        "outputId": "0f658fa1-6b44-4c97-cd8d-7eedc9337628"
      },
      "source": [
        "student = {}\n",
        "for i in range(2):\n",
        "  text = input('Enter your ID and name : ').split(' ')\n",
        "  student[text[0]] = text[1]+\" \"+text[2]\n",
        "print(student)"
      ],
      "execution_count": null,
      "outputs": [
        {
          "output_type": "stream",
          "text": [
            "Enter your ID and name : 4 a b\n",
            "Enter your ID and name : 9 bbb mmm\n",
            "{'4': 'a b', '9': 'bbb mmm'}\n"
          ],
          "name": "stdout"
        }
      ]
    },
    {
      "cell_type": "markdown",
      "metadata": {
        "id": "fu01Qg7cgolK"
      },
      "source": [
        "## Use of Dictionaries"
      ]
    },
    {
      "cell_type": "markdown",
      "metadata": {
        "id": "N3whK8Bm3CKC"
      },
      "source": [
        "A dictionary can be used to to store the assocaition beween a key and a value, and then use the key to access the associated value.  The following example uses a dictionary to store course name and number of credits associated with the course number."
      ]
    },
    {
      "cell_type": "code",
      "metadata": {
        "id": "KNzqGA4h3-xK",
        "colab": {
          "base_uri": "https://localhost:8080/",
          "height": 70
        },
        "outputId": "a9e9f573-f673-45a0-9db5-e4fd3fab484f"
      },
      "source": [
        "courses = {2301551:['PROG LANG', 3], 2301552:['PRIN DATA STR', 3]}\n",
        "cID = int(input('Enter course number:'))\n",
        "print(courses[cID])\n",
        "print(cID,\"'s name is\",courses[cID][0],'. (',courses[cID][1],'credits)')"
      ],
      "execution_count": null,
      "outputs": [
        {
          "output_type": "stream",
          "text": [
            "Enter course number:2301552\n",
            "['PRIN DATA STR', 3]\n",
            "2301552 's name is PRIN DATA STR . ( 3 credits)\n"
          ],
          "name": "stdout"
        }
      ]
    },
    {
      "cell_type": "markdown",
      "metadata": {
        "id": "xmUHOX7uoY6W"
      },
      "source": [
        "Sometimes, we want to use a combination of values as the key of a dictionary.  For example, the key of a dictionary that stores the transcript of a student is the combination of course number, semester and year."
      ]
    },
    {
      "cell_type": "code",
      "metadata": {
        "id": "db9NgRUkpiWC",
        "colab": {
          "base_uri": "https://localhost:8080/",
          "height": 35
        },
        "outputId": "9f68760e-7895-4b65-be91-c8318cd79b63"
      },
      "source": [
        "transcript = {(2301551, 1, 2562):'S', (2301653, 2, 2561):'A'}\n",
        "print(transcript[2301653,2,2561])"
      ],
      "execution_count": null,
      "outputs": [
        {
          "output_type": "stream",
          "text": [
            "A\n"
          ],
          "name": "stdout"
        }
      ]
    },
    {
      "cell_type": "markdown",
      "metadata": {
        "id": "7QOGT_fFyn5l"
      },
      "source": [
        "We can also use a dictionary to group items with a common value.  The following example uses a dictionary to eliminate duplicate items in a list.  All items from the list are added into the dictionary as the key.  However, when a key that already exists in the dictionary is added, the old value is replaced by the new value.  As a result, there is no duplicate key value."
      ]
    },
    {
      "cell_type": "code",
      "metadata": {
        "id": "TK4eJn3R0W6W",
        "colab": {
          "base_uri": "https://localhost:8080/"
        },
        "outputId": "e6e01716-03a7-4e14-e360-e031fc7d7d6f"
      },
      "source": [
        "classList = [2301551, 2301552, 2301551, 2301678, 2301750]\n",
        "classes = {} # {courseID: number ,... }\n",
        "for c in classList:\n",
        "    if c in classes:\n",
        "        classes[c]=classes[c]+1\n",
        "    else:\n",
        "        classes[c]=1    \n",
        "for k in classes:\n",
        "    print(k, classes[k])"
      ],
      "execution_count": null,
      "outputs": [
        {
          "output_type": "stream",
          "text": [
            "2301551 2\n",
            "2301552 1\n",
            "2301678 1\n",
            "2301750 1\n"
          ],
          "name": "stdout"
        }
      ]
    },
    {
      "cell_type": "markdown",
      "metadata": {
        "id": "49a03tiwia2L"
      },
      "source": [
        "### Exercises"
      ]
    },
    {
      "cell_type": "markdown",
      "metadata": {
        "id": "NFxZz6m7iNnl"
      },
      "source": [
        "Write a program that reads a student number and semester number (1,2, or 3) as input and calculates the registration fee for the student.\n",
        "\n",
        "*In the student number:* YYLXXXXXFF\n",
        "\n",
        "\n",
        "YY is the year that the student gets into the university.\n",
        "\n",
        "L=1,2,3,4 means undergraduate student\n",
        "L=7 means graduate student\n",
        "\n",
        "FF is the faculty code.  \n",
        "\n",
        "Only consider 22 for Faculty of Arts, and 23 for Faculty of Science.\n",
        "\n",
        "Use the fee in www.chula.ac.th/admissions/tuition-and-fees/ and store this table in a **dictionary**.\n"
      ]
    },
    {
      "cell_type": "code",
      "metadata": {
        "colab": {
          "base_uri": "https://localhost:8080/"
        },
        "id": "z_BV_nCa7Bit",
        "outputId": "08f7e49d-5c5f-40e2-acdb-1f2aac5c63ba"
      },
      "source": [
        "fee = {(22, 48, 1, 1): 12000, (22, 48, 1, 2): 12000, (22, 48, 2, 1): 12000, (22, 48, 2, 2): 12000, (22, 48, 3, 1): 12000, (22, 48, 3, 2): 12000, (22, 48, 4, 1): 12000, (22, 48, 4, 2): 12000, (22, 49, 1, 1): 12000, (22, 49, 1, 2): 12000, (22, 49, 2, 1): 12000, (22, 49, 2, 2): 12000, (22, 49, 3, 1): 12000, (22, 49, 3, 2): 12000, (22, 49, 4, 1): 12000, (22, 49, 4, 2): 12000, (22, 48, 1, 3): 4000, (22, 48, 2, 3): 4000, (22, 48, 3, 3): 4000, (22, 48, 4, 3): 4000, (22, 49, 1, 3): 4000, (22, 49, 2, 3): 4000, (22, 49, 3, 3): 4000, (22, 49, 4, 3): 4000, (22, 48, 7, 1): 16500, (22, 48, 7, 2): 16500, (22, 49, 7, 1): 16500, (22, 49, 7, 2): 16500, (22, 48, 7, 3): 6000, (22, 49, 7, 3): 6000, (22, 50, 1, 1): 14500, (22, 50, 1, 2): 14500, (22, 50, 2, 1): 14500, (22, 50, 2, 2): 14500, (22, 50, 3, 1): 14500, (22, 50, 3, 2): 14500, (22, 50, 4, 1): 14500, (22, 50, 4, 2): 14500, (22, 51, 1, 1): 14500, (22, 51, 1, 2): 14500, (22, 51, 2, 1): 14500, (22, 51, 2, 2): 14500, (22, 51, 3, 1): 14500, (22, 51, 3, 2): 14500, (22, 51, 4, 1): 14500, (22, 51, 4, 2): 14500, (22, 52, 1, 1): 14500, (22, 52, 1, 2): 14500, (22, 52, 2, 1): 14500, (22, 52, 2, 2): 14500, (22, 52, 3, 1): 14500, (22, 52, 3, 2): 14500, (22, 52, 4, 1): 14500, (22, 52, 4, 2): 14500, (22, 53, 1, 1): 14500, (22, 53, 1, 2): 14500, (22, 53, 2, 1): 14500, (22, 53, 2, 2): 14500, (22, 53, 3, 1): 14500, (22, 53, 3, 2): 14500, (22, 53, 4, 1): 14500, (22, 53, 4, 2): 14500, (22, 54, 1, 1): 14500, (22, 54, 1, 2): 14500, (22, 54, 2, 1): 14500, (22, 54, 2, 2): 14500, (22, 54, 3, 1): 14500, (22, 54, 3, 2): 14500, (22, 54, 4, 1): 14500, (22, 54, 4, 2): 14500, (22, 55, 1, 1): 14500, (22, 55, 1, 2): 14500, (22, 55, 2, 1): 14500, (22, 55, 2, 2): 14500, (22, 55, 3, 1): 14500, (22, 55, 3, 2): 14500, (22, 55, 4, 1): 14500, (22, 55, 4, 2): 14500, (22, 50, 1, 3): 4500, (22, 50, 2, 3): 4500, (22, 50, 3, 3): 4500, (22, 50, 4, 3): 4500, (22, 51, 1, 3): 4500, (22, 51, 2, 3): 4500, (22, 51, 3, 3): 4500, (22, 51, 4, 3): 4500, (22, 52, 1, 3): 4500, (22, 52, 2, 3): 4500, (22, 52, 3, 3): 4500, (22, 52, 4, 3): 4500, (22, 53, 1, 3): 4500, (22, 53, 2, 3): 4500, (22, 53, 3, 3): 4500, (22, 53, 4, 3): 4500, (22, 54, 1, 3): 4500, (22, 54, 2, 3): 4500, (22, 54, 3, 3): 4500, (22, 54, 4, 3): 4500, (22, 55, 1, 3): 4500, (22, 55, 2, 3): 4500, (22, 55, 3, 3): 4500, (22, 55, 4, 3): 4500, (22, 50, 7, 1): 19000, (22, 50, 7, 2): 19000, (22, 51, 7, 1): 19000, (22, 51, 7, 2): 19000, (22, 52, 7, 1): 19000, (22, 52, 7, 2): 19000, (22, 53, 7, 1): 19000, (22, 53, 7, 2): 19000, (22, 54, 7, 1): 19000, (22, 54, 7, 2): 19000, (22, 55, 7, 1): 19000, (22, 55, 7, 2): 19000, (22, 50, 7, 3): 7000, (22, 51, 7, 3): 7000, (22, 52, 7, 3): 7000, (22, 53, 7, 3): 7000, (22, 54, 7, 3): 7000, (22, 55, 7, 3): 7000, (22, 56, 1, 1): 17000, (22, 56, 1, 2): 17000, (22, 56, 2, 1): 17000, (22, 56, 2, 2): 17000, (22, 56, 3, 1): 17000, (22, 56, 3, 2): 17000, (22, 56, 4, 1): 17000, (22, 56, 4, 2): 17000, (22, 57, 1, 1): 17000, (22, 57, 1, 2): 17000, (22, 57, 2, 1): 17000, (22, 57, 2, 2): 17000, (22, 57, 3, 1): 17000, (22, 57, 3, 2): 17000, (22, 57, 4, 1): 17000, (22, 57, 4, 2): 17000, (22, 58, 1, 1): 17000, (22, 58, 1, 2): 17000, (22, 58, 2, 1): 17000, (22, 58, 2, 2): 17000, (22, 58, 3, 1): 17000, (22, 58, 3, 2): 17000, (22, 58, 4, 1): 17000, (22, 58, 4, 2): 17000, (22, 59, 1, 1): 17000, (22, 59, 1, 2): 17000, (22, 59, 2, 1): 17000, (22, 59, 2, 2): 17000, (22, 59, 3, 1): 17000, (22, 59, 3, 2): 17000, (22, 59, 4, 1): 17000, (22, 59, 4, 2): 17000, (22, 60, 1, 1): 17000, (22, 60, 1, 2): 17000, (22, 60, 2, 1): 17000, (22, 60, 2, 2): 17000, (22, 60, 3, 1): 17000, (22, 60, 3, 2): 17000, (22, 60, 4, 1): 17000, (22, 60, 4, 2): 17000, (22, 61, 1, 1): 17000, (22, 61, 1, 2): 17000, (22, 61, 2, 1): 17000, (22, 61, 2, 2): 17000, (22, 61, 3, 1): 17000, (22, 61, 3, 2): 17000, (22, 61, 4, 1): 17000, (22, 61, 4, 2): 17000, (22, 62, 1, 1): 17000, (22, 62, 1, 2): 17000, (22, 62, 2, 1): 17000, (22, 62, 2, 2): 17000, (22, 62, 3, 1): 17000, (22, 62, 3, 2): 17000, (22, 62, 4, 1): 17000, (22, 62, 4, 2): 17000, (22, 63, 1, 1): 17000, (22, 63, 1, 2): 17000, (22, 63, 2, 1): 17000, (22, 63, 2, 2): 17000, (22, 63, 3, 1): 17000, (22, 63, 3, 2): 17000, (22, 63, 4, 1): 17000, (22, 63, 4, 2): 17000, (22, 56, 1, 3): 5250, (22, 56, 2, 3): 5250, (22, 56, 3, 3): 5250, (22, 56, 4, 3): 5250, (22, 57, 1, 3): 5250, (22, 57, 2, 3): 5250, (22, 57, 3, 3): 5250, (22, 57, 4, 3): 5250, (22, 58, 1, 3): 5250, (22, 58, 2, 3): 5250, (22, 58, 3, 3): 5250, (22, 58, 4, 3): 5250, (22, 59, 1, 3): 5250, (22, 59, 2, 3): 5250, (22, 59, 3, 3): 5250, (22, 59, 4, 3): 5250, (22, 60, 1, 3): 5250, (22, 60, 2, 3): 5250, (22, 60, 3, 3): 5250, (22, 60, 4, 3): 5250, (22, 61, 1, 3): 5250, (22, 61, 2, 3): 5250, (22, 61, 3, 3): 5250, (22, 61, 4, 3): 5250, (22, 62, 1, 3): 5250, (22, 62, 2, 3): 5250, (22, 62, 3, 3): 5250, (22, 62, 4, 3): 5250, (22, 63, 1, 3): 5250, (22, 63, 2, 3): 5250, (22, 63, 3, 3): 5250, (22, 63, 4, 3): 5250, (22, 56, 7, 1): 23000, (22, 56, 7, 2): 23000, (22, 57, 7, 1): 23000, (22, 57, 7, 2): 23000, (22, 58, 7, 1): 23000, (22, 58, 7, 2): 23000, (22, 59, 7, 1): 23000, (22, 59, 7, 2): 23000, (22, 60, 7, 1): 23000, (22, 60, 7, 2): 23000, (22, 61, 7, 1): 23000, (22, 61, 7, 2): 23000, (22, 62, 7, 1): 23000, (22, 62, 7, 2): 23000, (22, 63, 7, 1): 23000, (22, 63, 7, 2): 23000, (22, 56, 7, 3): 7750, (22, 57, 7, 3): 7750, (22, 58, 7, 3): 7750, (22, 59, 7, 3): 7750, (22, 60, 7, 3): 7750, (22, 61, 7, 3): 7750, (22, 62, 7, 3): 7750, (22, 63, 7, 3): 7750, (23, 48, 1, 1): 16000, (23, 48, 1, 2): 16000, (23, 48, 2, 1): 16000, (23, 48, 2, 2): 16000, (23, 48, 3, 1): 16000, (23, 48, 3, 2): 16000, (23, 48, 4, 1): 16000, (23, 48, 4, 2): 16000, (23, 49, 1, 1): 16000, (23, 49, 1, 2): 16000, (23, 49, 2, 1): 16000, (23, 49, 2, 2): 16000, (23, 49, 3, 1): 16000, (23, 49, 3, 2): 16000, (23, 49, 4, 1): 16000, (23, 49, 4, 2): 16000, (23, 48, 1, 3): 4000, (23, 48, 2, 3): 4000, (23, 48, 3, 3): 4000, (23, 48, 4, 3): 4000, (23, 49, 1, 3): 4000, (23, 49, 2, 3): 4000, (23, 49, 3, 3): 4000, (23, 49, 4, 3): 4000, (23, 48, 7, 1): 22500, (23, 48, 7, 2): 22500, (23, 49, 7, 1): 22500, (23, 49, 7, 2): 22500, (23, 48, 7, 3): 6000, (23, 49, 7, 3): 6000, (23, 50, 1, 1): 18000, (23, 50, 1, 2): 18000, (23, 50, 2, 1): 18000, (23, 50, 2, 2): 18000, (23, 50, 3, 1): 18000, (23, 50, 3, 2): 18000, (23, 50, 4, 1): 18000, (23, 50, 4, 2): 18000, (23, 51, 1, 1): 18000, (23, 51, 1, 2): 18000, (23, 51, 2, 1): 18000, (23, 51, 2, 2): 18000, (23, 51, 3, 1): 18000, (23, 51, 3, 2): 18000, (23, 51, 4, 1): 18000, (23, 51, 4, 2): 18000, (23, 52, 1, 1): 18000, (23, 52, 1, 2): 18000, (23, 52, 2, 1): 18000, (23, 52, 2, 2): 18000, (23, 52, 3, 1): 18000, (23, 52, 3, 2): 18000, (23, 52, 4, 1): 18000, (23, 52, 4, 2): 18000, (23, 53, 1, 1): 18000, (23, 53, 1, 2): 18000, (23, 53, 2, 1): 18000, (23, 53, 2, 2): 18000, (23, 53, 3, 1): 18000, (23, 53, 3, 2): 18000, (23, 53, 4, 1): 18000, (23, 53, 4, 2): 18000, (23, 54, 1, 1): 18000, (23, 54, 1, 2): 18000, (23, 54, 2, 1): 18000, (23, 54, 2, 2): 18000, (23, 54, 3, 1): 18000, (23, 54, 3, 2): 18000, (23, 54, 4, 1): 18000, (23, 54, 4, 2): 18000, (23, 55, 1, 1): 18000, (23, 55, 1, 2): 18000, (23, 55, 2, 1): 18000, (23, 55, 2, 2): 18000, (23, 55, 3, 1): 18000, (23, 55, 3, 2): 18000, (23, 55, 4, 1): 18000, (23, 55, 4, 2): 18000, (23, 50, 1, 3): 4500, (23, 50, 2, 3): 4500, (23, 50, 3, 3): 4500, (23, 50, 4, 3): 4500, (23, 51, 1, 3): 4500, (23, 51, 2, 3): 4500, (23, 51, 3, 3): 4500, (23, 51, 4, 3): 4500, (23, 52, 1, 3): 4500, (23, 52, 2, 3): 4500, (23, 52, 3, 3): 4500, (23, 52, 4, 3): 4500, (23, 53, 1, 3): 4500, (23, 53, 2, 3): 4500, (23, 53, 3, 3): 4500, (23, 53, 4, 3): 4500, (23, 54, 1, 3): 4500, (23, 54, 2, 3): 4500, (23, 54, 3, 3): 4500, (23, 54, 4, 3): 4500, (23, 55, 1, 3): 4500, (23, 55, 2, 3): 4500, (23, 55, 3, 3): 4500, (23, 55, 4, 3): 4500, (23, 50, 7, 1): 26000, (23, 50, 7, 2): 26000, (23, 51, 7, 1): 26000, (23, 51, 7, 2): 26000, (23, 52, 7, 1): 26000, (23, 52, 7, 2): 26000, (23, 53, 7, 1): 26000, (23, 53, 7, 2): 26000, (23, 54, 7, 1): 26000, (23, 54, 7, 2): 26000, (23, 55, 7, 1): 26000, (23, 55, 7, 2): 26000, (23, 50, 7, 3): 7000, (23, 51, 7, 3): 7000, (23, 52, 7, 3): 7000, (23, 53, 7, 3): 7000, (23, 54, 7, 3): 7000, (23, 55, 7, 3): 7000, (23, 56, 1, 1): 21000, (23, 56, 1, 2): 21000, (23, 56, 2, 1): 21000, (23, 56, 2, 2): 21000, (23, 56, 3, 1): 21000, (23, 56, 3, 2): 21000, (23, 56, 4, 1): 21000, (23, 56, 4, 2): 21000, (23, 57, 1, 1): 21000, (23, 57, 1, 2): 21000, (23, 57, 2, 1): 21000, (23, 57, 2, 2): 21000, (23, 57, 3, 1): 21000, (23, 57, 3, 2): 21000, (23, 57, 4, 1): 21000, (23, 57, 4, 2): 21000, (23, 58, 1, 1): 21000, (23, 58, 1, 2): 21000, (23, 58, 2, 1): 21000, (23, 58, 2, 2): 21000, (23, 58, 3, 1): 21000, (23, 58, 3, 2): 21000, (23, 58, 4, 1): 21000, (23, 58, 4, 2): 21000, (23, 59, 1, 1): 21000, (23, 59, 1, 2): 21000, (23, 59, 2, 1): 21000, (23, 59, 2, 2): 21000, (23, 59, 3, 1): 21000, (23, 59, 3, 2): 21000, (23, 59, 4, 1): 21000, (23, 59, 4, 2): 21000, (23, 60, 1, 1): 21000, (23, 60, 1, 2): 21000, (23, 60, 2, 1): 21000, (23, 60, 2, 2): 21000, (23, 60, 3, 1): 21000, (23, 60, 3, 2): 21000, (23, 60, 4, 1): 21000, (23, 60, 4, 2): 21000, (23, 61, 1, 1): 21000, (23, 61, 1, 2): 21000, (23, 61, 2, 1): 21000, (23, 61, 2, 2): 21000, (23, 61, 3, 1): 21000, (23, 61, 3, 2): 21000, (23, 61, 4, 1): 21000, (23, 61, 4, 2): 21000, (23, 62, 1, 1): 21000, (23, 62, 1, 2): 21000, (23, 62, 2, 1): 21000, (23, 62, 2, 2): 21000, (23, 62, 3, 1): 21000, (23, 62, 3, 2): 21000, (23, 62, 4, 1): 21000, (23, 62, 4, 2): 21000, (23, 63, 1, 1): 21000, (23, 63, 1, 2): 21000, (23, 63, 2, 1): 21000, (23, 63, 2, 2): 21000, (23, 63, 3, 1): 21000, (23, 63, 3, 2): 21000, (23, 63, 4, 1): 21000, (23, 63, 4, 2): 21000, (23, 56, 1, 3): 5250, (23, 56, 2, 3): 5250, (23, 56, 3, 3): 5250, (23, 56, 4, 3): 5250, (23, 57, 1, 3): 5250, (23, 57, 2, 3): 5250, (23, 57, 3, 3): 5250, (23, 57, 4, 3): 5250, (23, 58, 1, 3): 5250, (23, 58, 2, 3): 5250, (23, 58, 3, 3): 5250, (23, 58, 4, 3): 5250, (23, 59, 1, 3): 5250, (23, 59, 2, 3): 5250, (23, 59, 3, 3): 5250, (23, 59, 4, 3): 5250, (23, 60, 1, 3): 5250, (23, 60, 2, 3): 5250, (23, 60, 3, 3): 5250, (23, 60, 4, 3): 5250, (23, 61, 1, 3): 5250, (23, 61, 2, 3): 5250, (23, 61, 3, 3): 5250, (23, 61, 4, 3): 5250, (23, 62, 1, 3): 5250, (23, 62, 2, 3): 5250, (23, 62, 3, 3): 5250, (23, 62, 4, 3): 5250, (23, 63, 1, 3): 5250, (23, 63, 2, 3): 5250, (23, 63, 3, 3): 5250, (23, 63, 4, 3): 5250, (23, 56, 7, 1): 31000, (23, 56, 7, 2): 31000, (23, 57, 7, 1): 31000, (23, 57, 7, 2): 31000, (23, 58, 7, 1): 31000, (23, 58, 7, 2): 31000, (23, 59, 7, 1): 31000, (23, 59, 7, 2): 31000, (23, 60, 7, 1): 31000, (23, 60, 7, 2): 31000, (23, 61, 7, 1): 31000, (23, 61, 7, 2): 31000, (23, 62, 7, 1): 31000, (23, 62, 7, 2): 31000, (23, 63, 7, 1): 31000, (23, 63, 7, 2): 31000, (23, 56, 7, 3): 7750, (23, 57, 7, 3): 7750, (23, 58, 7, 3): 7750, (23, 59, 7, 3): 7750, (23, 60, 7, 3): 7750, (23, 61, 7, 3): 7750, (23, 62, 7, 3): 7750, (23, 63, 7, 3): 7750}\n",
        "Input = input(\"The student number and semester number:\")\n",
        "studentID, semester = [int(_) for _ in Input.split(' ')]\n",
        "YY = studentID // 10**8\n",
        "L = studentID // 10**7 % 10\n",
        "FF = studentID % 10**2\n",
        "print(f\"The registration fee for the student', {fee[(FF, YY, L, semester)]}\")"
      ],
      "execution_count": null,
      "outputs": [
        {
          "output_type": "stream",
          "name": "stdout",
          "text": [
            "The student number and semester number:6278015323 2\n",
            "The registration fee for the student', 31000\n"
          ]
        }
      ]
    },
    {
      "cell_type": "markdown",
      "metadata": {
        "id": "Zkp_ogOt0E-U"
      },
      "source": [
        "Write a program to read a text file and count the number of each word in the file, a using dictionary."
      ]
    },
    {
      "cell_type": "code",
      "metadata": {
        "id": "_N2xjfwsybIJ",
        "colab": {
          "base_uri": "https://localhost:8080/"
        },
        "outputId": "e7f5d4da-a53b-4223-b599-390b119c8ef2"
      },
      "source": [
        "from collections import defaultdict\n",
        "di = defaultdict(int)\n",
        "with open('test.txt') as f:\n",
        "   for line in f:\n",
        "       for w in line.strip().split():\n",
        "           di[w]+=1\n",
        "print(di)"
      ],
      "execution_count": null,
      "outputs": [
        {
          "output_type": "stream",
          "name": "stdout",
          "text": [
            "defaultdict(<class 'int'>, {'John': 3, 'is': 2, 'a': 3, 'nice': 2, 'person': 2, 'He': 1, 'would': 1, 'like': 1, 'to': 1, 'do': 1, 'anything': 1, 'for': 1, 'stranger': 1, 'If': 1, 'you': 2, 'want': 1, 'any': 1, 'hep': 1, 'from': 1, 'him': 1, ',': 1, 'could': 1, 'contact': 1})\n"
          ]
        }
      ]
    },
    {
      "cell_type": "code",
      "metadata": {
        "id": "PS_BCNZZpRlF"
      },
      "source": [
        "with open('test.txt', 'r') as f:\n",
        "  w = {}\n",
        "  for line in f:\n",
        "    for word in line.split():\n",
        "      if word in w:\n",
        "        w[word] += 1\n",
        "      else:\n",
        "        w[word] = 1\n",
        "print(w)"
      ],
      "execution_count": null,
      "outputs": []
    },
    {
      "cell_type": "markdown",
      "metadata": {
        "id": "ZFozhAz2kLM_"
      },
      "source": [
        "Write a program that reads a CSV file that each line contains student ID, course number and section number. For example,\n",
        "\n",
        "`6274565423 , 2301551, 1`\n",
        "\n",
        "Then, use a **dictionary** to generate a registration list in which each element is a list of students registered in each course, grouped by section, as shown below.  The following list contains 2 courses, 2301551 and 2301170. Each course has 2 sections.\n",
        "\n",
        "`[['2301551',[['1',['6274565423',...]],['2',['6134567823',...]]]], ['2301170',[['1',[...]],['2',[...]]]]]`"
      ]
    },
    {
      "cell_type": "code",
      "metadata": {
        "colab": {
          "base_uri": "https://localhost:8080/"
        },
        "id": "_UTzydIxrrdo",
        "outputId": "25d3ebf8-532d-4cf5-a228-4c9218115367"
      },
      "source": [
        "w = {}\n",
        "with open('new.csv', 'r') as f:\n",
        "  for line in f:\n",
        "    ID, course, section = [_.strip() for _ in line.split(',')]\n",
        "    if course in w:\n",
        "      if section in w[course]:\n",
        "        w[course][section].append(ID)\n",
        "      else:\n",
        "        w[course].update({section: [ID]})\n",
        "    else:\n",
        "        w.update({course: {section: [ID]}})\n",
        "\n",
        "print(w)"
      ],
      "execution_count": null,
      "outputs": [
        {
          "output_type": "stream",
          "name": "stdout",
          "text": [
            "{'2301551': {'1': ['6274565423'], '2': ['6134567823', '6278015323']}, '2301170': {'1': ['6389278323'], '2': ['6128368623', '6374565323']}}\n"
          ]
        }
      ]
    },
    {
      "cell_type": "markdown",
      "metadata": {
        "id": "eCCP0sQHfj_w"
      },
      "source": [
        "## Dictionary of Dictionaries"
      ]
    },
    {
      "cell_type": "markdown",
      "metadata": {
        "id": "W6UzXhb-nr1v"
      },
      "source": [
        "In a dictionary, a value can also be another dictionary. In the following dictionary,\n",
        "\n",
        "`{6235122623: {2301170:'B+', 2301172:'A'}, 6274522623: {2301551:'S'}}`\n",
        "\n",
        "* 6235122623 is associated to the dictionary  {2301170:'B+', 2301172:'A'} and\n",
        "\n",
        "* 6274522623 is associated to {2301551:'S'}"
      ]
    },
    {
      "cell_type": "code",
      "metadata": {
        "id": "MIz1ntt_LKIc",
        "colab": {
          "base_uri": "https://localhost:8080/",
          "height": 52
        },
        "outputId": "5ce82a86-ad4d-4e28-f6ac-159f6c97fb09"
      },
      "source": [
        "transcripts = {6235122623: {2301170:'B+', 2301172:'A'}, 6274522623: {2301551:'S', 2301552:'S'}, 6232548923: {2301170:'D', 2301172:'W'}}\n",
        "x=transcripts[6235122623]\n",
        "print(transcripts[6235122623][2301170])"
      ],
      "execution_count": null,
      "outputs": [
        {
          "output_type": "stream",
          "text": [
            "{2301170: 'B+', 2301172: 'A'}\n",
            "B+\n"
          ],
          "name": "stdout"
        }
      ]
    },
    {
      "cell_type": "markdown",
      "metadata": {
        "id": "HLBtH0rn6RVP"
      },
      "source": [
        "### Exercises"
      ]
    },
    {
      "cell_type": "markdown",
      "metadata": {
        "id": "zoC_U7ri6-Hu"
      },
      "source": [
        "Write a program that creates a dictionary that stores the student transcript from data read from an input file.\n",
        "\n",
        "Example of the input file:\n",
        "```\n",
        "6212345623 2301170 3.0\n",
        "6212222223 2301107 3.5\n",
        "6212345623 2301172 4.0\n",
        "6212345623 2301345 3.0\n",
        "```\n",
        "\n",
        "This dictionary must allow easy search for:\n",
        "\n",
        "*   all records of a given student, and\n",
        "*   the grade that a student got for a course."
      ]
    },
    {
      "cell_type": "code",
      "metadata": {
        "colab": {
          "base_uri": "https://localhost:8080/"
        },
        "id": "aeK4p7Pm0BX6",
        "outputId": "4c85c20f-57fa-4c70-c1fb-8001a33126e8"
      },
      "source": [
        "with open('test.csv', 'r') as f:\n",
        "  w = {}\n",
        "  types = [int, int, float]\n",
        "  for line in f:\n",
        "    studentID, course, grade = [f(x) for (f, x) in zip(types,line.split(' '))]\n",
        "    if studentID in w:\n",
        "      w[studentID][course] = grade\n",
        "    else:\n",
        "      w[studentID] = {course: grade}\n",
        "print(w)"
      ],
      "execution_count": null,
      "outputs": [
        {
          "output_type": "stream",
          "name": "stdout",
          "text": [
            "{6212345623: {2301170: 3.0, 2301172: 4.0, 2301345: 3.0}, 6212222223: {2301107: 3.5}}\n"
          ]
        }
      ]
    },
    {
      "cell_type": "markdown",
      "metadata": {
        "id": "zIhoqSdN6Uo4"
      },
      "source": [
        "Write a program to read a student transcript from a dictionary from the previous problem and the number of credits for all courses stored in another dictionary (You can make up this dictionary).  Then calculate GPAX for each student."
      ]
    },
    {
      "cell_type": "code",
      "metadata": {
        "id": "Zh2qARL4rhkd",
        "colab": {
          "base_uri": "https://localhost:8080/"
        },
        "outputId": "47efe694-2591-40de-9029-04d0b3dc230d"
      },
      "source": [
        "w = {6212345623: {2301170: 3.0, 2301172: 4.0, 2301345: 3.0}, 6212222223: {2301107: 3.5}}\n",
        "courses = {2301170: 1, 2301172: 3, 2301345: 2, 2301107: 2}\n",
        "GPAX = {}\n",
        "for ID in w:\n",
        "    total: int = 0\n",
        "    i = 0\n",
        "    for course, grade in w[ID].items():\n",
        "        total += grade * courses[course]\n",
        "        i += courses[course]\n",
        "    GPAX[ID] = total / i\n",
        "print(GPAX)   "
      ],
      "execution_count": null,
      "outputs": [
        {
          "output_type": "stream",
          "name": "stdout",
          "text": [
            "{6212345623: 3.5, 6212222223: 3.5}\n"
          ]
        }
      ]
    },
    {
      "cell_type": "markdown",
      "metadata": {
        "id": "17QpZAyZw_2n"
      },
      "source": [
        "Redo the previous exercise **Registration fee**, using dictionary of dictionaries."
      ]
    },
    {
      "cell_type": "code",
      "metadata": {
        "id": "Vb2_kOcxxR3m",
        "colab": {
          "base_uri": "https://localhost:8080/"
        },
        "outputId": "36c178b4-9d20-4a9c-fea9-57c6a5058c9d"
      },
      "source": [
        "Year = {year: 48 for year in range(48, 50)}\n",
        "Year.update({year:50 for year in range(50, 56)})\n",
        "Year.update({year:56 for year in range(56, 64)})\n",
        "\n",
        "level = {l:\"uundergrad\"  for l in range(1, 5)}\n",
        "level.update({7:'grad'})\n",
        "\n",
        "fee = {22: {48: {'undergrad':{1:12000, 2:12000, 3:4000}, 'grad': {1:16500, 2:16500, 3:6000}},\n",
        "            50: {'undergrad':{1:14500, 2:14500, 3:4500}, 'grad': {1:19000, 2:19000, 3:7000}},\n",
        "            56: {'undergrad':{1:17000, 2:17000, 3:5250}, 'grad': {1:23000, 2:23000, 3:7750}}},\n",
        "       23: {48: {'undergrad':{1:16000, 2:16000, 3:4000}, 'grad': {1:22500, 2:22500, 3:6000}},\n",
        "            50: {'undergrad':{1:18000, 2:18000, 3:4500}, 'grad': {1:26000, 2:26000, 3:7000}},\n",
        "            56: {'undergrad':{1:21000, 2:21000, 3:5250}, 'grad': {1:31000, 2:31000, 3:7750}}}}\n",
        "\n",
        "print(fee)\n",
        "\n",
        "Input = input('please enter <a student number, semester number>: ')\n",
        "studentID, semester = [int(_) for _ in Input.split(' ')]\n",
        "YY = studentID // 10**8\n",
        "L = studentID // 10**7 % 10\n",
        "FF = studentID % 10**2\n",
        "print(f\"Registration fee = {fee[FF][Year[YY]][level[L]][semester]}\")"
      ],
      "execution_count": null,
      "outputs": [
        {
          "output_type": "stream",
          "name": "stdout",
          "text": [
            "{22: {48: {'undergrad': {1: 12000, 2: 12000, 3: 4000}, 'grad': {1: 16500, 2: 16500, 3: 6000}}, 50: {'undergrad': {1: 14500, 2: 14500, 3: 4500}, 'grad': {1: 19000, 2: 19000, 3: 7000}}, 56: {'undergrad': {1: 17000, 2: 17000, 3: 5250}, 'grad': {1: 23000, 2: 23000, 3: 7750}}}, 23: {48: {'undergrad': {1: 16000, 2: 16000, 3: 4000}, 'grad': {1: 22500, 2: 22500, 3: 6000}}, 50: {'undergrad': {1: 18000, 2: 18000, 3: 4500}, 'grad': {1: 26000, 2: 26000, 3: 7000}}, 56: {'undergrad': {1: 21000, 2: 21000, 3: 5250}, 'grad': {1: 31000, 2: 31000, 3: 7750}}}}\n",
            "please enter <a student number, semester number>: 6278015323 2\n",
            "Registration fee = 31000\n"
          ]
        }
      ]
    },
    {
      "cell_type": "markdown",
      "metadata": {
        "id": "rFFKzPTppDFB"
      },
      "source": [
        "Dict Comprehensions\n"
      ]
    },
    {
      "cell_type": "code",
      "metadata": {
        "id": "5Qk5W14JpJll",
        "colab": {
          "base_uri": "https://localhost:8080/"
        },
        "outputId": "14b4b605-37b3-40c4-936e-a7795da93aed"
      },
      "source": [
        "dct = {k:k*k for k in range(8) if k!=k*k}\n",
        "print(dct)"
      ],
      "execution_count": null,
      "outputs": [
        {
          "output_type": "stream",
          "text": [
            "{2: 4, 3: 9, 4: 16, 5: 25, 6: 36, 7: 49}\n"
          ],
          "name": "stdout"
        }
      ]
    }
  ]
}