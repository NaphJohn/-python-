{
  "nbformat": 4,
  "nbformat_minor": 0,
  "metadata": {
    "colab": {
      "name": "tensorflow2-keras01.ipynb",
      "provenance": [],
      "authorship_tag": "ABX9TyOwudw/IxJDnJIpqnY+n9OC",
      "include_colab_link": true
    },
    "kernelspec": {
      "name": "python3",
      "display_name": "Python 3"
    },
    "language_info": {
      "name": "python"
    }
  },
  "cells": [
    {
      "cell_type": "markdown",
      "metadata": {
        "id": "view-in-github",
        "colab_type": "text"
      },
      "source": [
        "<a href=\"https://colab.research.google.com/github/whkaikai/-python-/blob/main/tensorflow2_keras01.ipynb\" target=\"_parent\"><img src=\"https://colab.research.google.com/assets/colab-badge.svg\" alt=\"Open In Colab\"/></a>"
      ]
    },
    {
      "cell_type": "code",
      "execution_count": 2,
      "metadata": {
        "colab": {
          "base_uri": "https://localhost:8080/"
        },
        "id": "LRwM4FzVcRNY",
        "outputId": "70923efd-b324-4c9c-fe82-347d08a151ba"
      },
      "outputs": [
        {
          "output_type": "stream",
          "name": "stdout",
          "text": [
            "2.8.0\n",
            "2.8.0\n"
          ]
        }
      ],
      "source": [
        "import tensorflow as tf\n",
        "from tensorflow.keras import layers\n",
        "print(tf.__version__)\n",
        "print(tf.keras.__version__)"
      ]
    },
    {
      "cell_type": "code",
      "source": [
        "#2.1 try to build a simple model\n",
        "# tf.keras.Sequential 模型\n",
        "model = tf.keras.Sequential()\n",
        "model.add(layers.Dense(32, activation='relu'))\n",
        "model.add(layers.Dense(32, activation='relu'))\n",
        "model.add(layers.Dense(10, activation='softmax'))"
      ],
      "metadata": {
        "id": "gCSmxkPR5RGh"
      },
      "execution_count": 3,
      "outputs": []
    },
    {
      "cell_type": "markdown",
      "source": [
        "**2.2tf.keras.layers中网络配置：**\n",
        "\n",
        "activation：设置层的激活函数。此参数由内置函数的名称指定，或指定为可调用对象。默认情况下，系统不会应用任何激活函数。\n",
        "\n",
        "kernel_initializer 和 bias_initializer：创建层权重（核和偏差）的初始化方案。此参数是一个名称或可调用对象，默认为 \"Glorot uniform\" 初始化器。\n",
        "\n",
        "kernel_regularizer 和 bias_regularizer：应用层权重（核和偏差）的正则化方案，例如 L1 或 L2 正则化。默认情况下，系统不会应用正则化函数。"
      ],
      "metadata": {
        "id": "6fXep1bv7Jy9"
      }
    },
    {
      "cell_type": "code",
      "source": [
        "layers.Dense(32, activation='sigmoid')\n",
        "layers.Dense(32, activation=tf.sigmoid)\n",
        "layers.Dense(32, kernel_initializer='orthogonal')\n",
        "layers.Dense(32, kernel_initializer=tf.keras.initializers.glorot_normal)\n",
        "layers.Dense(32, kernel_regularizer=tf.keras.regularizers.l2(0.01))\n",
        "layers.Dense(32, kernel_regularizer=tf.keras.regularizers.l1(0.01))"
      ],
      "metadata": {
        "colab": {
          "base_uri": "https://localhost:8080/"
        },
        "id": "d8248AEl7AHM",
        "outputId": "2385769a-c266-4922-aaf9-0355cbd056c3"
      },
      "execution_count": 4,
      "outputs": [
        {
          "output_type": "execute_result",
          "data": {
            "text/plain": [
              "<keras.layers.core.dense.Dense at 0x7f5192ab4550>"
            ]
          },
          "metadata": {},
          "execution_count": 4
        }
      ]
    },
    {
      "cell_type": "markdown",
      "source": [
        "**3.训练和评估**\n",
        "\n",
        "3.1设置训练流程\n",
        "构建好模型后，通过调用 compile 方法配置该模型的学习流程"
      ],
      "metadata": {
        "id": "eQjraquR7WiG"
      }
    },
    {
      "cell_type": "code",
      "source": [
        "model = tf.keras.Sequential()\n",
        "model.add(layers.Dense(32, activation='relu'))\n",
        "model.add(layers.Dense(32, activation='relu'))\n",
        "model.add(layers.Dense(10, activation='softmax'))\n",
        "model.compile(optimizer=tf.keras.optimizers.Adam(0.001),\n",
        "             loss=tf.keras.losses.categorical_crossentropy,\n",
        "             metrics=[tf.keras.metrics.categorical_accuracy])"
      ],
      "metadata": {
        "id": "aAjwk-NA7fIr"
      },
      "execution_count": 5,
      "outputs": []
    },
    {
      "cell_type": "code",
      "source": [
        "#3.2 输入Numpy数据\n",
        "import numpy as np\n",
        "\n",
        "train_x = np.random.random((1000, 72))\n",
        "train_y = np.random.random((1000, 10))\n",
        "\n",
        "val_x = np.random.random((200, 72))\n",
        "val_y = np.random.random((200, 10))\n",
        "\n",
        "model.fit(train_x, train_y, epochs=10, batch_size=100,\n",
        "          validation_data=(val_x, val_y))"
      ],
      "metadata": {
        "colab": {
          "base_uri": "https://localhost:8080/"
        },
        "id": "_pDWk8nl7oTB",
        "outputId": "d5743c31-4717-4acd-fbd5-e27da07be7a0"
      },
      "execution_count": 6,
      "outputs": [
        {
          "output_type": "stream",
          "name": "stdout",
          "text": [
            "Epoch 1/10\n",
            "10/10 [==============================] - 1s 25ms/step - loss: 11.8651 - categorical_accuracy: 0.1030 - val_loss: 11.8874 - val_categorical_accuracy: 0.0900\n",
            "Epoch 2/10\n",
            "10/10 [==============================] - 0s 5ms/step - loss: 12.0617 - categorical_accuracy: 0.1010 - val_loss: 12.3883 - val_categorical_accuracy: 0.0900\n",
            "Epoch 3/10\n",
            "10/10 [==============================] - 0s 6ms/step - loss: 12.9735 - categorical_accuracy: 0.1020 - val_loss: 14.0089 - val_categorical_accuracy: 0.0800\n",
            "Epoch 4/10\n",
            "10/10 [==============================] - 0s 5ms/step - loss: 15.3828 - categorical_accuracy: 0.1030 - val_loss: 17.4817 - val_categorical_accuracy: 0.0800\n",
            "Epoch 5/10\n",
            "10/10 [==============================] - 0s 5ms/step - loss: 19.1324 - categorical_accuracy: 0.1030 - val_loss: 21.1233 - val_categorical_accuracy: 0.0800\n",
            "Epoch 6/10\n",
            "10/10 [==============================] - 0s 6ms/step - loss: 23.2151 - categorical_accuracy: 0.1030 - val_loss: 26.2852 - val_categorical_accuracy: 0.0900\n",
            "Epoch 7/10\n",
            "10/10 [==============================] - 0s 6ms/step - loss: 29.6940 - categorical_accuracy: 0.1030 - val_loss: 34.0678 - val_categorical_accuracy: 0.0900\n",
            "Epoch 8/10\n",
            "10/10 [==============================] - 0s 5ms/step - loss: 38.6220 - categorical_accuracy: 0.1010 - val_loss: 44.2399 - val_categorical_accuracy: 0.1150\n",
            "Epoch 9/10\n",
            "10/10 [==============================] - 0s 7ms/step - loss: 50.1535 - categorical_accuracy: 0.1050 - val_loss: 57.1854 - val_categorical_accuracy: 0.1450\n",
            "Epoch 10/10\n",
            "10/10 [==============================] - 0s 5ms/step - loss: 64.3411 - categorical_accuracy: 0.1100 - val_loss: 72.4714 - val_categorical_accuracy: 0.1650\n"
          ]
        },
        {
          "output_type": "execute_result",
          "data": {
            "text/plain": [
              "<keras.callbacks.History at 0x7f51929b7c10>"
            ]
          },
          "metadata": {},
          "execution_count": 6
        }
      ]
    },
    {
      "cell_type": "code",
      "source": [
        "# 3.3tf.data输入数据\n",
        "dataset = tf.data.Dataset.from_tensor_slices((train_x, train_y))\n",
        "dataset = dataset.batch(32)\n",
        "dataset = dataset.repeat()\n",
        "val_dataset = tf.data.Dataset.from_tensor_slices((val_x, val_y))\n",
        "val_dataset = val_dataset.batch(32)\n",
        "val_dataset = val_dataset.repeat()\n",
        "\n",
        "model.fit(dataset, epochs=10, steps_per_epoch=30,\n",
        "          validation_data=val_dataset, validation_steps=3)"
      ],
      "metadata": {
        "colab": {
          "base_uri": "https://localhost:8080/"
        },
        "id": "bLbHeyQF72-u",
        "outputId": "5f6187a4-fb10-403f-fc5c-d6969569681d"
      },
      "execution_count": 7,
      "outputs": [
        {
          "output_type": "stream",
          "name": "stdout",
          "text": [
            "Epoch 1/10\n",
            "30/30 [==============================] - 1s 28ms/step - loss: 98.9545 - categorical_accuracy: 0.1073 - val_loss: 129.1226 - val_categorical_accuracy: 0.1979\n",
            "Epoch 2/10\n",
            "30/30 [==============================] - 0s 3ms/step - loss: 166.2434 - categorical_accuracy: 0.1100 - val_loss: 205.9946 - val_categorical_accuracy: 0.1667\n",
            "Epoch 3/10\n",
            "30/30 [==============================] - 0s 3ms/step - loss: 254.0731 - categorical_accuracy: 0.1111 - val_loss: 300.9383 - val_categorical_accuracy: 0.1875\n",
            "Epoch 4/10\n",
            "30/30 [==============================] - 0s 3ms/step - loss: 354.6494 - categorical_accuracy: 0.1250 - val_loss: 415.8101 - val_categorical_accuracy: 0.1979\n",
            "Epoch 5/10\n",
            "30/30 [==============================] - 0s 3ms/step - loss: 479.2445 - categorical_accuracy: 0.1068 - val_loss: 547.1169 - val_categorical_accuracy: 0.1979\n",
            "Epoch 6/10\n",
            "30/30 [==============================] - 0s 3ms/step - loss: 620.7672 - categorical_accuracy: 0.1068 - val_loss: 690.2825 - val_categorical_accuracy: 0.1042\n",
            "Epoch 7/10\n",
            "30/30 [==============================] - 0s 4ms/step - loss: 768.1620 - categorical_accuracy: 0.1036 - val_loss: 836.2095 - val_categorical_accuracy: 0.1250\n",
            "Epoch 8/10\n",
            "30/30 [==============================] - 0s 3ms/step - loss: 905.8696 - categorical_accuracy: 0.1047 - val_loss: 974.4974 - val_categorical_accuracy: 0.1979\n",
            "Epoch 9/10\n",
            "30/30 [==============================] - 0s 3ms/step - loss: 1048.6749 - categorical_accuracy: 0.1100 - val_loss: 1127.0393 - val_categorical_accuracy: 0.1667\n",
            "Epoch 10/10\n",
            "30/30 [==============================] - 0s 3ms/step - loss: 1202.0907 - categorical_accuracy: 0.0897 - val_loss: 1269.7688 - val_categorical_accuracy: 0.0938\n"
          ]
        },
        {
          "output_type": "execute_result",
          "data": {
            "text/plain": [
              "<keras.callbacks.History at 0x7f518e20c1d0>"
            ]
          },
          "metadata": {},
          "execution_count": 7
        }
      ]
    },
    {
      "cell_type": "code",
      "source": [
        "# 3.4评估与预测\n",
        "test_x = np.random.random((1000, 72))\n",
        "test_y = np.random.random((1000, 10))\n",
        "model.evaluate(test_x, test_y, batch_size=32)\n",
        "test_data = tf.data.Dataset.from_tensor_slices((test_x, test_y))\n",
        "test_data = test_data.batch(32).repeat()\n",
        "model.evaluate(test_data, steps=30)\n",
        "# predict\n",
        "result = model.predict(test_x, batch_size=32)\n",
        "print(result)"
      ],
      "metadata": {
        "colab": {
          "base_uri": "https://localhost:8080/"
        },
        "id": "paBJTP7f7_yr",
        "outputId": "f019a57f-7ab8-4721-f5f3-88f563089728"
      },
      "execution_count": 8,
      "outputs": [
        {
          "output_type": "stream",
          "name": "stdout",
          "text": [
            "32/32 [==============================] - 0s 2ms/step - loss: 1266.4373 - categorical_accuracy: 0.0960\n",
            "30/30 [==============================] - 0s 2ms/step - loss: 1264.9464 - categorical_accuracy: 0.0958\n",
            "[[0.44638377 0.11932408 0.18809013 ... 0.         0.0254801  0.        ]\n",
            " [0.3749033  0.16571374 0.16314459 ... 0.         0.03536874 0.        ]\n",
            " [0.410455   0.15894143 0.09649704 ... 0.         0.02464974 0.        ]\n",
            " ...\n",
            " [0.40394497 0.11836103 0.19533502 ... 0.         0.03485105 0.        ]\n",
            " [0.37808505 0.15328318 0.13990709 ... 0.         0.01652291 0.        ]\n",
            " [0.27459133 0.13895243 0.2808287  ... 0.         0.03860454 0.        ]]\n"
          ]
        }
      ]
    },
    {
      "cell_type": "markdown",
      "source": [
        "**4.构建高级模型**\n",
        "\n",
        "4.1函数式api\n",
        "\n",
        "tf.keras.Sequential 模型是层的简单堆叠，无法表示任意模型。使用 Keras 函数式 API 可以构建复杂的模型拓扑，例如：\n",
        "\n",
        "多输入模型，\n",
        "\n",
        "具有共享层的模型（同一层被调用多次），\n",
        "\n",
        "具有非序列数据流的模型（例如，残差连接）。\n",
        "\n",
        "使用函数式 API 构建的模型具有以下特征：\n",
        "\n",
        "层实例可调用并返回张量。 *斜体文本* 输入张量和输出张量用于定义 tf.keras.Model 实例。 此模型的训练方式和 Sequential 模型一样。"
      ],
      "metadata": {
        "id": "-tey6AhQ8vvB"
      }
    },
    {
      "cell_type": "code",
      "source": [
        "input_x = tf.keras.Input(shape=(72,))\n",
        "hidden1 = layers.Dense(32, activation='relu')(input_x)\n",
        "hidden2 = layers.Dense(16, activation='relu')(hidden1)\n",
        "pred = layers.Dense(10, activation='softmax')(hidden2)\n",
        "\n",
        "model = tf.keras.Model(inputs=input_x, outputs=pred)\n",
        "model.compile(optimizer=tf.keras.optimizers.Adam(0.001),\n",
        "             loss=tf.keras.losses.categorical_crossentropy,\n",
        "             metrics=['accuracy'])\n",
        "model.fit(train_x, train_y, batch_size=32, epochs=5)"
      ],
      "metadata": {
        "colab": {
          "base_uri": "https://localhost:8080/"
        },
        "id": "IW3XcrFA8rdy",
        "outputId": "36b37429-406e-432f-ec12-e74f41881f55"
      },
      "execution_count": 9,
      "outputs": [
        {
          "output_type": "stream",
          "name": "stdout",
          "text": [
            "Epoch 1/5\n",
            "32/32 [==============================] - 1s 3ms/step - loss: 12.4888 - accuracy: 0.0920\n",
            "Epoch 2/5\n",
            "32/32 [==============================] - 0s 2ms/step - loss: 17.3217 - accuracy: 0.1020\n",
            "Epoch 3/5\n",
            "32/32 [==============================] - 0s 2ms/step - loss: 28.4521 - accuracy: 0.1070\n",
            "Epoch 4/5\n",
            "32/32 [==============================] - 0s 3ms/step - loss: 43.3287 - accuracy: 0.1000\n",
            "Epoch 5/5\n",
            "32/32 [==============================] - 0s 2ms/step - loss: 66.4654 - accuracy: 0.1130\n"
          ]
        },
        {
          "output_type": "execute_result",
          "data": {
            "text/plain": [
              "<keras.callbacks.History at 0x7f519289c210>"
            ]
          },
          "metadata": {},
          "execution_count": 9
        }
      ]
    },
    {
      "cell_type": "code",
      "source": [
        "# 4.2模型子类化\n",
        "# 通过对 tf.keras.Model 进行子类化并定义您自己的前向传播来构建完全可自定义的模型。\n",
        "# 在 init 方法中创建层并将它们设置为类实例的属性。在 call 方法中定义前向传播\n",
        "class MyModel(tf.keras.Model):\n",
        "    def __init__(self, num_classes=10):\n",
        "        super(MyModel, self).__init__(name='my_model')\n",
        "        self.num_classes = num_classes\n",
        "        self.layer1 = layers.Dense(32, activation='relu')\n",
        "        self.layer2 = layers.Dense(num_classes, activation='softmax')\n",
        "    def call(self, inputs):\n",
        "        h1 = self.layer1(inputs)\n",
        "        out = self.layer2(h1)\n",
        "        return out\n",
        "\n",
        "    def compute_output_shape(self, input_shape):\n",
        "        shape = tf.TensorShape(input_shape).as_list()\n",
        "        shape[-1] = self.num_classes\n",
        "        return tf.TensorShape(shape)\n",
        "\n",
        "model = MyModel(num_classes=10)\n",
        "model.compile(optimizer=tf.keras.optimizers.RMSprop(0.001),\n",
        "             loss=tf.keras.losses.categorical_crossentropy,\n",
        "             metrics=['accuracy'])\n",
        "\n",
        "model.fit(train_x, train_y, batch_size=16, epochs=5)"
      ],
      "metadata": {
        "colab": {
          "base_uri": "https://localhost:8080/"
        },
        "id": "JsidTiZz9STL",
        "outputId": "fa0c138e-cc3c-4e66-fd30-66233a6e8ac1"
      },
      "execution_count": 10,
      "outputs": [
        {
          "output_type": "stream",
          "name": "stdout",
          "text": [
            "Epoch 1/5\n",
            "63/63 [==============================] - 1s 2ms/step - loss: 13.5158 - accuracy: 0.1080\n",
            "Epoch 2/5\n",
            "63/63 [==============================] - 0s 2ms/step - loss: 17.4503 - accuracy: 0.1040\n",
            "Epoch 3/5\n",
            "63/63 [==============================] - 0s 2ms/step - loss: 21.2747 - accuracy: 0.1220\n",
            "Epoch 4/5\n",
            "63/63 [==============================] - 0s 2ms/step - loss: 25.8902 - accuracy: 0.1240\n",
            "Epoch 5/5\n",
            "63/63 [==============================] - 0s 2ms/step - loss: 29.8652 - accuracy: 0.1200\n"
          ]
        },
        {
          "output_type": "execute_result",
          "data": {
            "text/plain": [
              "<keras.callbacks.History at 0x7f5191f5f690>"
            ]
          },
          "metadata": {},
          "execution_count": 10
        }
      ]
    },
    {
      "cell_type": "markdown",
      "source": [
        "4.3**自定义层**\n",
        "\n",
        "通过对 tf.keras.layers.Layer 进行子类化并实现以下方法来创建自定义层：\n",
        "\n",
        "build：创建层的权重。使用 add_weight 方法添加权重。\n",
        "\n",
        "call：定义前向传播。\n",
        "\n",
        "compute_output_shape：指定在给定输入形状的情况下如何计算层的输出形状。 或者，可以通过实现 get_config 方法和 from_config 类方法序列化层。"
      ],
      "metadata": {
        "id": "-FwHZA3c9w79"
      }
    },
    {
      "cell_type": "code",
      "source": [
        "class MyLayer(layers.Layer):\n",
        "    def __init__(self, output_dim, **kwargs):\n",
        "        self.output_dim = output_dim\n",
        "        super(MyLayer, self).__init__(**kwargs)\n",
        "\n",
        "    def build(self, input_shape):\n",
        "        shape = tf.TensorShape((input_shape[1], self.output_dim))\n",
        "        self.kernel = self.add_weight(name='kernel1', shape=shape,\n",
        "                                   initializer='uniform', trainable=True)\n",
        "        super(MyLayer, self).build(input_shape)\n",
        "\n",
        "    def call(self, inputs):\n",
        "        return tf.matmul(inputs, self.kernel)\n",
        "\n",
        "    def compute_output_shape(self, input_shape):\n",
        "        shape = tf.TensorShape(input_shape).as_list()\n",
        "        shape[-1] = self.output_dim\n",
        "        return tf.TensorShape(shape)\n",
        "\n",
        "    def get_config(self):\n",
        "        base_config = super(MyLayer, self).get_config()\n",
        "        base_config['output_dim'] = self.output_dim\n",
        "        return base_config\n",
        "\n",
        "    @classmethod\n",
        "    def from_config(cls, config):\n",
        "        return cls(**config)\n",
        "\n",
        "model = tf.keras.Sequential(\n",
        "[\n",
        "    MyLayer(10),\n",
        "    layers.Activation('softmax')\n",
        "])\n",
        "\n",
        "\n",
        "model.compile(optimizer=tf.keras.optimizers.RMSprop(0.001),\n",
        "             loss=tf.keras.losses.categorical_crossentropy,\n",
        "             metrics=['accuracy'])\n",
        "\n",
        "model.fit(train_x, train_y, batch_size=16, epochs=5)"
      ],
      "metadata": {
        "colab": {
          "base_uri": "https://localhost:8080/"
        },
        "id": "yPfGGC4g9vsr",
        "outputId": "d02d12c7-b42b-4231-f2d7-147e38c84c96"
      },
      "execution_count": 11,
      "outputs": [
        {
          "output_type": "stream",
          "name": "stdout",
          "text": [
            "Epoch 1/5\n",
            "63/63 [==============================] - 0s 2ms/step - loss: 11.5487 - accuracy: 0.1190\n",
            "Epoch 2/5\n",
            "63/63 [==============================] - 0s 1ms/step - loss: 11.5502 - accuracy: 0.1190\n",
            "Epoch 3/5\n",
            "63/63 [==============================] - 0s 2ms/step - loss: 11.5506 - accuracy: 0.1190\n",
            "Epoch 4/5\n",
            "63/63 [==============================] - 0s 1ms/step - loss: 11.5494 - accuracy: 0.1250\n",
            "Epoch 5/5\n",
            "63/63 [==============================] - 0s 2ms/step - loss: 11.5465 - accuracy: 0.1170\n"
          ]
        },
        {
          "output_type": "execute_result",
          "data": {
            "text/plain": [
              "<keras.callbacks.History at 0x7f5191f11650>"
            ]
          },
          "metadata": {},
          "execution_count": 11
        }
      ]
    },
    {
      "cell_type": "code",
      "source": [
        "# 4.3回调\n",
        "callbacks = [\n",
        "    tf.keras.callbacks.EarlyStopping(patience=2, monitor='val_loss'),\n",
        "    tf.keras.callbacks.TensorBoard(log_dir='./logs')\n",
        "]\n",
        "model.fit(train_x, train_y, batch_size=16, epochs=5,\n",
        "         callbacks=callbacks, validation_data=(val_x, val_y))"
      ],
      "metadata": {
        "colab": {
          "base_uri": "https://localhost:8080/"
        },
        "id": "9Uy28ITB926d",
        "outputId": "d7bf4901-1393-4438-827e-fb3ef5b07f8c"
      },
      "execution_count": 12,
      "outputs": [
        {
          "output_type": "stream",
          "name": "stdout",
          "text": [
            "Epoch 1/5\n",
            "63/63 [==============================] - 0s 5ms/step - loss: 11.5459 - accuracy: 0.1150 - val_loss: 11.5306 - val_accuracy: 0.0950\n",
            "Epoch 2/5\n",
            "63/63 [==============================] - 0s 3ms/step - loss: 11.5432 - accuracy: 0.1150 - val_loss: 11.5301 - val_accuracy: 0.0950\n",
            "Epoch 3/5\n",
            "63/63 [==============================] - 0s 3ms/step - loss: 11.5425 - accuracy: 0.1200 - val_loss: 11.5315 - val_accuracy: 0.1050\n",
            "Epoch 4/5\n",
            "63/63 [==============================] - 0s 3ms/step - loss: 11.5415 - accuracy: 0.1120 - val_loss: 11.5336 - val_accuracy: 0.1000\n"
          ]
        },
        {
          "output_type": "execute_result",
          "data": {
            "text/plain": [
              "<keras.callbacks.History at 0x7f5191eff410>"
            ]
          },
          "metadata": {},
          "execution_count": 12
        }
      ]
    },
    {
      "cell_type": "code",
      "source": [
        "# 5.1权重保存\n",
        "model = tf.keras.Sequential([\n",
        "layers.Dense(64, activation='relu'),\n",
        "layers.Dense(10, activation='softmax')])\n",
        "\n",
        "model.compile(optimizer=tf.keras.optimizers.Adam(0.001),\n",
        "              loss='categorical_crossentropy',\n",
        "              metrics=['accuracy'])\n",
        "\n",
        "model.save_weights('./weights/model')\n",
        "model.load_weights('./weights/model')\n",
        "model.save_weights('./model.h5')\n",
        "model.load_weights('./model.h5')"
      ],
      "metadata": {
        "id": "Zn8XjzWE98DN"
      },
      "execution_count": null,
      "outputs": []
    },
    {
      "cell_type": "code",
      "source": [
        "# 5.2保存网络结构\n",
        "# 序列化成json\n",
        "import json\n",
        "import pprint\n",
        "json_str = model.to_json()\n",
        "pprint.pprint(json.loads(json_str))\n",
        "fresh_model = tf.keras.models.model_from_json(json_str)\n",
        "# 保持为yaml格式  #需要提前安装pyyaml\n",
        "\n",
        "yaml_str = model.to_yaml()\n",
        "print(yaml_str)\n",
        "fresh_model = tf.keras.models.model_from_yaml(yaml_str)"
      ],
      "metadata": {
        "id": "koqQCaJl99xB"
      },
      "execution_count": null,
      "outputs": []
    },
    {
      "cell_type": "code",
      "source": [
        "# 5.3保存整个模型\n",
        "model = tf.keras.Sequential([\n",
        "  layers.Dense(10, activation='softmax', input_shape=(72,)),\n",
        "  layers.Dense(10, activation='softmax')\n",
        "])\n",
        "model.compile(optimizer='rmsprop',\n",
        "              loss='categorical_crossentropy',\n",
        "              metrics=['accuracy'])\n",
        "model.fit(train_x, train_y, batch_size=32, epochs=5)\n",
        "model.save('all_model.h5')\n",
        "model = tf.keras.models.load_model('all_model.h5')"
      ],
      "metadata": {
        "colab": {
          "base_uri": "https://localhost:8080/"
        },
        "id": "3iuhLtsv-CA8",
        "outputId": "8bcb1fac-ba7a-4176-9083-73e775adb287"
      },
      "execution_count": 18,
      "outputs": [
        {
          "output_type": "stream",
          "name": "stdout",
          "text": [
            "Epoch 1/5\n",
            "32/32 [==============================] - 1s 2ms/step - loss: 11.5453 - accuracy: 0.1100\n",
            "Epoch 2/5\n",
            "32/32 [==============================] - 0s 2ms/step - loss: 11.5887 - accuracy: 0.1150\n",
            "Epoch 3/5\n",
            "32/32 [==============================] - 0s 2ms/step - loss: 11.6104 - accuracy: 0.1150\n",
            "Epoch 4/5\n",
            "32/32 [==============================] - 0s 2ms/step - loss: 11.6163 - accuracy: 0.1150\n",
            "Epoch 5/5\n",
            "32/32 [==============================] - 0s 2ms/step - loss: 11.6180 - accuracy: 0.1150\n"
          ]
        }
      ]
    },
    {
      "cell_type": "markdown",
      "source": [
        "6.**将keras用于Estimator**\n",
        "\n",
        "Estimator API 用于针对分布式环境训练模型。它适用于一些行业使用场景，例如用大型数据集进行分布式训练并导出模型以用于生产"
      ],
      "metadata": {
        "id": "dNwa1s58-Lqd"
      }
    },
    {
      "cell_type": "code",
      "source": [
        "model = tf.keras.Sequential([layers.Dense(10,activation='softmax'),\n",
        "                          layers.Dense(10,activation='softmax')])\n",
        "\n",
        "model.compile(optimizer=tf.keras.optimizers.RMSprop(0.001),\n",
        "              loss='categorical_crossentropy',\n",
        "              metrics=['accuracy'])\n",
        "\n",
        "estimator = tf.keras.estimator.model_to_estimator(model)"
      ],
      "metadata": {
        "colab": {
          "base_uri": "https://localhost:8080/"
        },
        "id": "UjsyJth5-MUh",
        "outputId": "35a522c9-4662-4fb3-ccf1-776c75527af2"
      },
      "execution_count": 17,
      "outputs": [
        {
          "output_type": "stream",
          "name": "stdout",
          "text": [
            "INFO:tensorflow:Using default config.\n",
            "WARNING:tensorflow:Using temporary folder as model directory: /tmp/tmpl1mlmgvh\n",
            "INFO:tensorflow:Using the Keras model provided.\n",
            "INFO:tensorflow:Using config: {'_model_dir': '/tmp/tmpl1mlmgvh', '_tf_random_seed': None, '_save_summary_steps': 100, '_save_checkpoints_steps': None, '_save_checkpoints_secs': 600, '_session_config': allow_soft_placement: true\n",
            "graph_options {\n",
            "  rewrite_options {\n",
            "    meta_optimizer_iterations: ONE\n",
            "  }\n",
            "}\n",
            ", '_keep_checkpoint_max': 5, '_keep_checkpoint_every_n_hours': 10000, '_log_step_count_steps': 100, '_train_distribute': None, '_device_fn': None, '_protocol': None, '_eval_distribute': None, '_experimental_distribute': None, '_experimental_max_worker_delay_secs': None, '_session_creation_timeout_secs': 7200, '_checkpoint_save_graph_def': True, '_service': None, '_cluster_spec': ClusterSpec({}), '_task_type': 'worker', '_task_id': 0, '_global_id_in_cluster': 0, '_master': '', '_evaluation_master': '', '_is_chief': True, '_num_ps_replicas': 0, '_num_worker_replicas': 1}\n"
          ]
        }
      ]
    }
  ]
}