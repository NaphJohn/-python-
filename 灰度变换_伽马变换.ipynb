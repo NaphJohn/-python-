{
  "nbformat": 4,
  "nbformat_minor": 0,
  "metadata": {
    "colab": {
      "name": "灰度变换--伽马变换.ipynb",
      "provenance": [],
      "authorship_tag": "ABX9TyO9iN8/UHPjOkqxBsiXqSEl",
      "include_colab_link": true
    },
    "kernelspec": {
      "name": "python3",
      "display_name": "Python 3"
    },
    "language_info": {
      "name": "python"
    }
  },
  "cells": [
    {
      "cell_type": "markdown",
      "metadata": {
        "id": "view-in-github",
        "colab_type": "text"
      },
      "source": [
        "<a href=\"https://colab.research.google.com/github/whkaikai/-python-/blob/main/%E7%81%B0%E5%BA%A6%E5%8F%98%E6%8D%A2_%E4%BC%BD%E9%A9%AC%E5%8F%98%E6%8D%A2.ipynb\" target=\"_parent\"><img src=\"https://colab.research.google.com/assets/colab-badge.svg\" alt=\"Open In Colab\"/></a>"
      ]
    },
    {
      "cell_type": "code",
      "execution_count": 3,
      "metadata": {
        "colab": {
          "base_uri": "https://localhost:8080/",
          "height": 465
        },
        "id": "TFhdV8v9-iV7",
        "outputId": "3568d1e6-e421-44a9-dc91-429a24b73706"
      },
      "outputs": [
        {
          "output_type": "stream",
          "name": "stdout",
          "text": [
            "[INFO] matplotlib版本为：3.2.2\n",
            "--------\n",
            " [[  0.5  50.5 100.5 150.5]\n",
            " [  0.5  50.5 100.5 150.5]\n",
            " [  0.5  50.5 100.5 150.5]\n",
            " [  0.5  50.5 100.5 150.5]]\n"
          ]
        },
        {
          "output_type": "stream",
          "name": "stderr",
          "text": [
            "/usr/local/lib/python3.7/dist-packages/matplotlib/backends/backend_agg.py:214: RuntimeWarning: Glyph 65292 missing from current font.\n",
            "  font.set_text(s, 0.0, flags=flags)\n",
            "/usr/local/lib/python3.7/dist-packages/matplotlib/backends/backend_agg.py:183: RuntimeWarning: Glyph 65292 missing from current font.\n",
            "  font.set_text(s, 0, flags=flags)\n"
          ]
        },
        {
          "output_type": "display_data",
          "data": {
            "text/plain": [
              "<Figure size 432x288 with 3 Axes>"
            ],
            "image/png": "[encoded data removed]"
          },
          "metadata": {
            "needs_background": "light"
          }
        }
      ],
      "source": [
        "from PIL import Image\n",
        "import numpy as np\n",
        "import matplotlib.pyplot as plt\n",
        "from matplotlib.widgets import Slider, Button, RadioButtons\n",
        "\n",
        "def set_chinese():   # 中文显示工具函数\n",
        "\timport matplotlib\n",
        "\tprint(\"[INFO] matplotlib版本为：%s\" % matplotlib.__version__)\n",
        "\tmatplotlib.rcParams['font.sans-serif'] = ['FangSong']\n",
        "\tmatplotlib.rcParams['axes.unicode_minus'] = False\n",
        "\n",
        "def gamma_trans(input, gamma=2, eps=0 ):\n",
        "    return 255. * (((input + eps)/255.) ** gamma)\n",
        "\n",
        "\n",
        "def update_gamma(val):\n",
        "    gamma = slider1.val\n",
        "    output = gamma_trans(input_arr, gamma=gamma, eps=0.5)\n",
        "    print(\"--------\\n\", output)\n",
        "    ax1.set_title(\"After change,gamma = \" + str(gamma))\n",
        "    ax1.imshow(output, cmap='gray', vmin=0, vmax=255)\n",
        "\n",
        "\n",
        "if __name__ == '__main__':\n",
        "\n",
        "    set_chinese()\n",
        "\n",
        "    input_arr = np.array( [ [0,  50,  100, 150],\n",
        "                            [0,  50,  100, 150],\n",
        "                            [0,  50,  100, 150],\n",
        "                            [0,  50,  100, 150]] )\n",
        "\n",
        "    fig = plt.figure()\n",
        "    ax0 = fig.add_subplot(121)\n",
        "    ax0.set_title(\"input matrix\")\n",
        "    ax0.imshow(input_arr, cmap='gray',vmin=0,vmax=255)\n",
        "    ax1 = fig.add_subplot(122)\n",
        "    plt.subplots_adjust(bottom=0.3)\n",
        "    s1 = plt.axes([0.25, 0.1, 0.55, 0.03], facecolor='lightgoldenrodyellow')\n",
        "    slider1 = Slider(s1, 'Parameter_gamma', 0.0, 2.0,\n",
        "                     valfmt='%.f', valinit=1.0, valstep=0.1)\n",
        "    slider1.on_changed(update_gamma)\n",
        "    slider1.reset()\n",
        "    slider1.set_val(1)\n",
        "\n",
        "    plt.show()\n"
      ]
    },
    {
      "cell_type": "code",
      "source": [
        "# 较正crt失真值\n",
        "\n",
        "from PIL import Image\n",
        "import numpy as np\n",
        "import matplotlib.pyplot as plt\n",
        "from matplotlib.widgets import Slider, Button, RadioButtons\n",
        "\n",
        "\n",
        "def set_chinese():   # 中文显示工具函数\n",
        "\timport matplotlib\n",
        "\tprint(\"[INFO] matplotlib版本为：%s\" % matplotlib.__version__)\n",
        "\tmatplotlib.rcParams['font.sans-serif'] = ['FangSong']\n",
        "\tmatplotlib.rcParams['axes.unicode_minus'] = False\n",
        "\n",
        "def gamma_trans(input, gamma=2, eps=0 ):\n",
        "    return 255. * (((input + eps)/255.) ** gamma)\n",
        "\n",
        "def crt_distortion(input, gamma=2):  # 模拟CRT失真（做了归一化）\n",
        "    return 255. * ((input/255.) ** gamma)\n",
        "\n",
        "\n",
        "def update_gamma(val):\n",
        "\n",
        "    gamma = slider1.val  # 获取\"失真γ\"\n",
        "\n",
        "\n",
        "    # 图像送入CRT前，先做伽马变换预处理\n",
        "    gamma_ = 1 / gamma   #  \"矫正γ\" 为 \"失真γ\" 的倒数\n",
        "    correct_img = gamma_trans(gray_img, gamma_, 0)  #\n",
        "    ax1.set_title(\"伽马矫正，矫正γ = 1/\" + str(round(gamma,2)))\n",
        "    ax1.imshow(correct_img, cmap='gray',vmin=0,vmax=255)\n",
        "\n",
        "    # 简易模拟CRT输出\n",
        "    output = crt_distortion(correct_img, gamma)\n",
        "    print(output)\n",
        "    ax2.set_title(\"模拟CRT输出，失真γ = \" + str(round(gamma,2)))\n",
        "    ax2.imshow(output, cmap='gray',vmin=0,vmax=255)\n",
        "\n",
        "\n",
        "if __name__ == '__main__':\n",
        "    set_chinese()\n",
        "\n",
        "    gray_img = np.asarray(Image.open('/content/intensity_ramp.tif').convert('L'))\n",
        "\n",
        "    fig = plt.figure()\n",
        "    ax0 = fig.add_subplot(131)\n",
        "    ax1 = fig.add_subplot(132)\n",
        "    ax2 = fig.add_subplot(133)\n",
        "\n",
        "\n",
        "    ax0.set_title(\"原始图片\")\n",
        "    ax0.imshow(gray_img, cmap='gray',vmin=0,vmax=255)\n",
        "\n",
        "\n",
        "    plt.subplots_adjust(bottom=0.3)\n",
        "    s1 = plt.axes([0.25, 0.1, 0.55, 0.03], facecolor='lightgoldenrodyellow')\n",
        "    slider1 = Slider(s1, 'CRT失真γ： ', 0.0, 4.0,\n",
        "                      valfmt='%.f', valinit=1.0, valstep=0.1)\n",
        "    slider1.on_changed(update_gamma)\n",
        "    slider1.reset()\n",
        "    slider1.set_val(2)\n",
        "\n",
        "    plt.show()"
      ],
      "metadata": {
        "colab": {
          "base_uri": "https://localhost:8080/",
          "height": 1000
        },
        "id": "ICuIMsUrCL2r",
        "outputId": "07d97c99-f2b6-47b4-e8a2-a1f8953324d7"
      },
      "execution_count": 5,
      "outputs": [
        {
          "output_type": "stream",
          "name": "stdout",
          "text": [
            "[INFO] matplotlib版本为：3.2.2\n"
          ]
        },
        {
          "output_type": "stream",
          "name": "stderr",
          "text": [
            "/usr/local/lib/python3.7/dist-packages/matplotlib/backends/backend_agg.py:214: RuntimeWarning: Glyph 21407 missing from current font.\n",
            "  font.set_text(s, 0.0, flags=flags)\n",
            "/usr/local/lib/python3.7/dist-packages/matplotlib/backends/backend_agg.py:214: RuntimeWarning: Glyph 22987 missing from current font.\n",
            "  font.set_text(s, 0.0, flags=flags)\n",
            "/usr/local/lib/python3.7/dist-packages/matplotlib/backends/backend_agg.py:214: RuntimeWarning: Glyph 22270 missing from current font.\n",
            "  font.set_text(s, 0.0, flags=flags)\n",
            "/usr/local/lib/python3.7/dist-packages/matplotlib/backends/backend_agg.py:214: RuntimeWarning: Glyph 29255 missing from current font.\n",
            "  font.set_text(s, 0.0, flags=flags)\n",
            "/usr/local/lib/python3.7/dist-packages/matplotlib/backends/backend_agg.py:183: RuntimeWarning: Glyph 21407 missing from current font.\n",
            "  font.set_text(s, 0, flags=flags)\n",
            "/usr/local/lib/python3.7/dist-packages/matplotlib/backends/backend_agg.py:183: RuntimeWarning: Glyph 22987 missing from current font.\n",
            "  font.set_text(s, 0, flags=flags)\n",
            "/usr/local/lib/python3.7/dist-packages/matplotlib/backends/backend_agg.py:183: RuntimeWarning: Glyph 22270 missing from current font.\n",
            "  font.set_text(s, 0, flags=flags)\n",
            "/usr/local/lib/python3.7/dist-packages/matplotlib/backends/backend_agg.py:183: RuntimeWarning: Glyph 29255 missing from current font.\n",
            "  font.set_text(s, 0, flags=flags)\n",
            "/usr/local/lib/python3.7/dist-packages/matplotlib/backends/backend_agg.py:214: RuntimeWarning: Glyph 22833 missing from current font.\n",
            "  font.set_text(s, 0.0, flags=flags)\n",
            "/usr/local/lib/python3.7/dist-packages/matplotlib/backends/backend_agg.py:214: RuntimeWarning: Glyph 30495 missing from current font.\n",
            "  font.set_text(s, 0.0, flags=flags)\n",
            "/usr/local/lib/python3.7/dist-packages/matplotlib/backends/backend_agg.py:214: RuntimeWarning: Glyph 65306 missing from current font.\n",
            "  font.set_text(s, 0.0, flags=flags)\n",
            "/usr/local/lib/python3.7/dist-packages/matplotlib/backends/backend_agg.py:183: RuntimeWarning: Glyph 22833 missing from current font.\n",
            "  font.set_text(s, 0, flags=flags)\n",
            "/usr/local/lib/python3.7/dist-packages/matplotlib/backends/backend_agg.py:183: RuntimeWarning: Glyph 30495 missing from current font.\n",
            "  font.set_text(s, 0, flags=flags)\n",
            "/usr/local/lib/python3.7/dist-packages/matplotlib/backends/backend_agg.py:183: RuntimeWarning: Glyph 65306 missing from current font.\n",
            "  font.set_text(s, 0, flags=flags)\n"
          ]
        },
        {
          "output_type": "stream",
          "name": "stdout",
          "text": [
            "[[  0.   0.   1. ... 254. 255. 255.]\n",
            " [  0.   0.   1. ... 254. 255. 255.]\n",
            " [  0.   0.   1. ... 254. 255. 255.]\n",
            " ...\n",
            " [  0.   0.   1. ... 254. 255. 255.]\n",
            " [  0.   0.   1. ... 254. 255. 255.]\n",
            " [  0.   0.   1. ... 254. 255. 255.]]\n"
          ]
        },
        {
          "output_type": "stream",
          "name": "stderr",
          "text": [
            "/usr/local/lib/python3.7/dist-packages/matplotlib/backends/backend_agg.py:214: RuntimeWarning: Glyph 20285 missing from current font.\n",
            "  font.set_text(s, 0.0, flags=flags)\n",
            "/usr/local/lib/python3.7/dist-packages/matplotlib/backends/backend_agg.py:214: RuntimeWarning: Glyph 39532 missing from current font.\n",
            "  font.set_text(s, 0.0, flags=flags)\n",
            "/usr/local/lib/python3.7/dist-packages/matplotlib/backends/backend_agg.py:214: RuntimeWarning: Glyph 30699 missing from current font.\n",
            "  font.set_text(s, 0.0, flags=flags)\n",
            "/usr/local/lib/python3.7/dist-packages/matplotlib/backends/backend_agg.py:214: RuntimeWarning: Glyph 27491 missing from current font.\n",
            "  font.set_text(s, 0.0, flags=flags)\n",
            "/usr/local/lib/python3.7/dist-packages/matplotlib/backends/backend_agg.py:214: RuntimeWarning: Glyph 65292 missing from current font.\n",
            "  font.set_text(s, 0.0, flags=flags)\n",
            "/usr/local/lib/python3.7/dist-packages/matplotlib/backends/backend_agg.py:214: RuntimeWarning: Glyph 27169 missing from current font.\n",
            "  font.set_text(s, 0.0, flags=flags)\n",
            "/usr/local/lib/python3.7/dist-packages/matplotlib/backends/backend_agg.py:214: RuntimeWarning: Glyph 25311 missing from current font.\n",
            "  font.set_text(s, 0.0, flags=flags)\n",
            "/usr/local/lib/python3.7/dist-packages/matplotlib/backends/backend_agg.py:214: RuntimeWarning: Glyph 36755 missing from current font.\n",
            "  font.set_text(s, 0.0, flags=flags)\n",
            "/usr/local/lib/python3.7/dist-packages/matplotlib/backends/backend_agg.py:214: RuntimeWarning: Glyph 20986 missing from current font.\n",
            "  font.set_text(s, 0.0, flags=flags)\n",
            "/usr/local/lib/python3.7/dist-packages/matplotlib/backends/backend_agg.py:183: RuntimeWarning: Glyph 20285 missing from current font.\n",
            "  font.set_text(s, 0, flags=flags)\n",
            "/usr/local/lib/python3.7/dist-packages/matplotlib/backends/backend_agg.py:183: RuntimeWarning: Glyph 39532 missing from current font.\n",
            "  font.set_text(s, 0, flags=flags)\n",
            "/usr/local/lib/python3.7/dist-packages/matplotlib/backends/backend_agg.py:183: RuntimeWarning: Glyph 30699 missing from current font.\n",
            "  font.set_text(s, 0, flags=flags)\n",
            "/usr/local/lib/python3.7/dist-packages/matplotlib/backends/backend_agg.py:183: RuntimeWarning: Glyph 27491 missing from current font.\n",
            "  font.set_text(s, 0, flags=flags)\n",
            "/usr/local/lib/python3.7/dist-packages/matplotlib/backends/backend_agg.py:183: RuntimeWarning: Glyph 65292 missing from current font.\n",
            "  font.set_text(s, 0, flags=flags)\n",
            "/usr/local/lib/python3.7/dist-packages/matplotlib/backends/backend_agg.py:183: RuntimeWarning: Glyph 27169 missing from current font.\n",
            "  font.set_text(s, 0, flags=flags)\n",
            "/usr/local/lib/python3.7/dist-packages/matplotlib/backends/backend_agg.py:183: RuntimeWarning: Glyph 25311 missing from current font.\n",
            "  font.set_text(s, 0, flags=flags)\n",
            "/usr/local/lib/python3.7/dist-packages/matplotlib/backends/backend_agg.py:183: RuntimeWarning: Glyph 36755 missing from current font.\n",
            "  font.set_text(s, 0, flags=flags)\n",
            "/usr/local/lib/python3.7/dist-packages/matplotlib/backends/backend_agg.py:183: RuntimeWarning: Glyph 20986 missing from current font.\n",
            "  font.set_text(s, 0, flags=flags)\n"
          ]
        },
        {
          "output_type": "display_data",
          "data": {
            "text/plain": [
              "<Figure size 432x288 with 4 Axes>"
            ],
            "image/png": "[encoded data removed]"
          },
          "metadata": {
            "needs_background": "light"
          }
        }
      ]
    },
    {
      "cell_type": "code",
      "source": [
        "# 提高对比度\n",
        "from PIL import Image\n",
        "import numpy as np\n",
        "import matplotlib.pyplot as plt\n",
        "from matplotlib.widgets import Slider, Button, RadioButtons\n",
        "\n",
        "def set_chinese():   # 中文显示工具函数\n",
        "\timport matplotlib\n",
        "\tprint(\"[INFO] matplotlib版本为：%s\" % matplotlib.__version__)\n",
        "\tmatplotlib.rcParams['font.sans-serif'] = ['FangSong']\n",
        "\tmatplotlib.rcParams['axes.unicode_minus'] = False\n",
        "\n",
        "def gamma_trans(input, gamma=2, eps=0 ):\n",
        "    return 255. * (((input + eps)/255.) ** gamma)\n",
        "\n",
        "\n",
        "def update_gamma(val):\n",
        "\n",
        "    # 获取滑块数值，作为γ\n",
        "    gamma_ = slider1.val\n",
        "\n",
        "    # 对原图执行γ变换\n",
        "    output = gamma_trans(gray_img, gamma_, 0.2)\n",
        "\n",
        "    # 显示γ变换结果图像\n",
        "    ax3.clear()\n",
        "    ax3.set_title(\"伽马变换结果，gamma = \" + str(round(gamma_,2)))\n",
        "    ax3.imshow(output, cmap='gray',vmin=0,vmax=255)\n",
        "    # 显示γ变换结果图像的灰度分布直方图\n",
        "    ax4.clear()\n",
        "    ax4.set_xlim(0, 255)  # 设置x轴分布范围\n",
        "    ax4.set_ylim(0, 0.15)  # 设置y轴分布范围\n",
        "    ax4.grid(True, linestyle=':', linewidth=1)\n",
        "    ax4.set_title('伽马变换后，灰度分布直方图', fontsize=12)\n",
        "    ax4.hist(output.flatten(),bins=50,density=True,color='r',edgecolor='k')\n",
        "\n",
        "\n",
        "if __name__ == '__main__':\n",
        "\n",
        "    set_chinese()\n",
        "\n",
        "    # 读入原图\n",
        "    gray_img = np.asarray(Image.open('/content/washed_out.tif').convert('L'))\n",
        "\n",
        "    # 创建一个显示主体，并分成四个显示区域\n",
        "    fig = plt.figure()\n",
        "    ax1 = fig.add_subplot(221)\n",
        "    ax2 = fig.add_subplot(222)\n",
        "    ax3 = fig.add_subplot(223)\n",
        "    ax4 = fig.add_subplot(224)\n",
        "\n",
        "    # 显示原图\n",
        "    ax1.set_title(\"原始图片\")\n",
        "    ax1.imshow(gray_img, cmap='gray', vmin=0, vmax=255)\n",
        "\n",
        "    # 显示原图的灰度分布直方图\n",
        "    ax2.grid(True, linestyle=':', linewidth=1)\n",
        "    ax2.set_title('原图灰度分布直方图', fontsize=12)\n",
        "    ax2.set_xlim(0, 255)  # 设置x轴分布范围\n",
        "    ax2.set_ylim(0, 0.15)  # 设置y轴分布范围\n",
        "    ax2.hist(gray_img.flatten(), bins=50,density=True,color='r',edgecolor='k')\n",
        "\n",
        "    # 在显示主体下方创建滑动条，用于交互控制γ值\n",
        "    plt.subplots_adjust(bottom=0.3)\n",
        "    s1 = plt.axes([0.25, 0.1, 0.55, 0.03], facecolor='lightgoldenrodyellow')\n",
        "    slider1 = Slider(s1, '参数gamma', 0.0, 2.0,\n",
        "                      valfmt='%.f', valinit=1.0, valstep=0.1)\n",
        "    slider1.on_changed(update_gamma)\n",
        "    slider1.reset()\n",
        "    slider1.set_val(1.0)\n",
        "\n",
        "\n",
        "\n",
        "    plt.show()"
      ],
      "metadata": {
        "colab": {
          "base_uri": "https://localhost:8080/",
          "height": 1000
        },
        "id": "zmBcD3qXDTeQ",
        "outputId": "9ec0d9fd-02b5-4466-fdc9-a4b8046eb47b"
      },
      "execution_count": 8,
      "outputs": [
        {
          "output_type": "stream",
          "name": "stdout",
          "text": [
            "[INFO] matplotlib版本为：3.2.2\n"
          ]
        },
        {
          "output_type": "stream",
          "name": "stderr",
          "text": [
            "/usr/local/lib/python3.7/dist-packages/matplotlib/backends/backend_agg.py:214: RuntimeWarning: Glyph 21407 missing from current font.\n",
            "  font.set_text(s, 0.0, flags=flags)\n",
            "/usr/local/lib/python3.7/dist-packages/matplotlib/backends/backend_agg.py:214: RuntimeWarning: Glyph 22987 missing from current font.\n",
            "  font.set_text(s, 0.0, flags=flags)\n",
            "/usr/local/lib/python3.7/dist-packages/matplotlib/backends/backend_agg.py:214: RuntimeWarning: Glyph 22270 missing from current font.\n",
            "  font.set_text(s, 0.0, flags=flags)\n",
            "/usr/local/lib/python3.7/dist-packages/matplotlib/backends/backend_agg.py:214: RuntimeWarning: Glyph 29255 missing from current font.\n",
            "  font.set_text(s, 0.0, flags=flags)\n",
            "/usr/local/lib/python3.7/dist-packages/matplotlib/backends/backend_agg.py:183: RuntimeWarning: Glyph 21407 missing from current font.\n",
            "  font.set_text(s, 0, flags=flags)\n",
            "/usr/local/lib/python3.7/dist-packages/matplotlib/backends/backend_agg.py:183: RuntimeWarning: Glyph 22987 missing from current font.\n",
            "  font.set_text(s, 0, flags=flags)\n",
            "/usr/local/lib/python3.7/dist-packages/matplotlib/backends/backend_agg.py:183: RuntimeWarning: Glyph 22270 missing from current font.\n",
            "  font.set_text(s, 0, flags=flags)\n",
            "/usr/local/lib/python3.7/dist-packages/matplotlib/backends/backend_agg.py:183: RuntimeWarning: Glyph 29255 missing from current font.\n",
            "  font.set_text(s, 0, flags=flags)\n",
            "/usr/local/lib/python3.7/dist-packages/matplotlib/backends/backend_agg.py:214: RuntimeWarning: Glyph 28784 missing from current font.\n",
            "  font.set_text(s, 0.0, flags=flags)\n",
            "/usr/local/lib/python3.7/dist-packages/matplotlib/backends/backend_agg.py:214: RuntimeWarning: Glyph 24230 missing from current font.\n",
            "  font.set_text(s, 0.0, flags=flags)\n",
            "/usr/local/lib/python3.7/dist-packages/matplotlib/backends/backend_agg.py:214: RuntimeWarning: Glyph 20998 missing from current font.\n",
            "  font.set_text(s, 0.0, flags=flags)\n",
            "/usr/local/lib/python3.7/dist-packages/matplotlib/backends/backend_agg.py:214: RuntimeWarning: Glyph 24067 missing from current font.\n",
            "  font.set_text(s, 0.0, flags=flags)\n",
            "/usr/local/lib/python3.7/dist-packages/matplotlib/backends/backend_agg.py:214: RuntimeWarning: Glyph 30452 missing from current font.\n",
            "  font.set_text(s, 0.0, flags=flags)\n",
            "/usr/local/lib/python3.7/dist-packages/matplotlib/backends/backend_agg.py:214: RuntimeWarning: Glyph 26041 missing from current font.\n",
            "  font.set_text(s, 0.0, flags=flags)\n",
            "/usr/local/lib/python3.7/dist-packages/matplotlib/backends/backend_agg.py:183: RuntimeWarning: Glyph 28784 missing from current font.\n",
            "  font.set_text(s, 0, flags=flags)\n",
            "/usr/local/lib/python3.7/dist-packages/matplotlib/backends/backend_agg.py:183: RuntimeWarning: Glyph 24230 missing from current font.\n",
            "  font.set_text(s, 0, flags=flags)\n",
            "/usr/local/lib/python3.7/dist-packages/matplotlib/backends/backend_agg.py:183: RuntimeWarning: Glyph 20998 missing from current font.\n",
            "  font.set_text(s, 0, flags=flags)\n",
            "/usr/local/lib/python3.7/dist-packages/matplotlib/backends/backend_agg.py:183: RuntimeWarning: Glyph 24067 missing from current font.\n",
            "  font.set_text(s, 0, flags=flags)\n",
            "/usr/local/lib/python3.7/dist-packages/matplotlib/backends/backend_agg.py:183: RuntimeWarning: Glyph 30452 missing from current font.\n",
            "  font.set_text(s, 0, flags=flags)\n",
            "/usr/local/lib/python3.7/dist-packages/matplotlib/backends/backend_agg.py:183: RuntimeWarning: Glyph 26041 missing from current font.\n",
            "  font.set_text(s, 0, flags=flags)\n",
            "/usr/local/lib/python3.7/dist-packages/matplotlib/backends/backend_agg.py:214: RuntimeWarning: Glyph 21442 missing from current font.\n",
            "  font.set_text(s, 0.0, flags=flags)\n",
            "/usr/local/lib/python3.7/dist-packages/matplotlib/backends/backend_agg.py:214: RuntimeWarning: Glyph 25968 missing from current font.\n",
            "  font.set_text(s, 0.0, flags=flags)\n",
            "/usr/local/lib/python3.7/dist-packages/matplotlib/backends/backend_agg.py:183: RuntimeWarning: Glyph 21442 missing from current font.\n",
            "  font.set_text(s, 0, flags=flags)\n",
            "/usr/local/lib/python3.7/dist-packages/matplotlib/backends/backend_agg.py:183: RuntimeWarning: Glyph 25968 missing from current font.\n",
            "  font.set_text(s, 0, flags=flags)\n",
            "/usr/local/lib/python3.7/dist-packages/matplotlib/backends/backend_agg.py:214: RuntimeWarning: Glyph 20285 missing from current font.\n",
            "  font.set_text(s, 0.0, flags=flags)\n",
            "/usr/local/lib/python3.7/dist-packages/matplotlib/backends/backend_agg.py:214: RuntimeWarning: Glyph 39532 missing from current font.\n",
            "  font.set_text(s, 0.0, flags=flags)\n",
            "/usr/local/lib/python3.7/dist-packages/matplotlib/backends/backend_agg.py:214: RuntimeWarning: Glyph 21464 missing from current font.\n",
            "  font.set_text(s, 0.0, flags=flags)\n",
            "/usr/local/lib/python3.7/dist-packages/matplotlib/backends/backend_agg.py:214: RuntimeWarning: Glyph 25442 missing from current font.\n",
            "  font.set_text(s, 0.0, flags=flags)\n",
            "/usr/local/lib/python3.7/dist-packages/matplotlib/backends/backend_agg.py:214: RuntimeWarning: Glyph 32467 missing from current font.\n",
            "  font.set_text(s, 0.0, flags=flags)\n",
            "/usr/local/lib/python3.7/dist-packages/matplotlib/backends/backend_agg.py:214: RuntimeWarning: Glyph 26524 missing from current font.\n",
            "  font.set_text(s, 0.0, flags=flags)\n",
            "/usr/local/lib/python3.7/dist-packages/matplotlib/backends/backend_agg.py:214: RuntimeWarning: Glyph 65292 missing from current font.\n",
            "  font.set_text(s, 0.0, flags=flags)\n",
            "/usr/local/lib/python3.7/dist-packages/matplotlib/backends/backend_agg.py:214: RuntimeWarning: Glyph 21518 missing from current font.\n",
            "  font.set_text(s, 0.0, flags=flags)\n",
            "/usr/local/lib/python3.7/dist-packages/matplotlib/backends/backend_agg.py:183: RuntimeWarning: Glyph 20285 missing from current font.\n",
            "  font.set_text(s, 0, flags=flags)\n",
            "/usr/local/lib/python3.7/dist-packages/matplotlib/backends/backend_agg.py:183: RuntimeWarning: Glyph 39532 missing from current font.\n",
            "  font.set_text(s, 0, flags=flags)\n",
            "/usr/local/lib/python3.7/dist-packages/matplotlib/backends/backend_agg.py:183: RuntimeWarning: Glyph 21464 missing from current font.\n",
            "  font.set_text(s, 0, flags=flags)\n",
            "/usr/local/lib/python3.7/dist-packages/matplotlib/backends/backend_agg.py:183: RuntimeWarning: Glyph 25442 missing from current font.\n",
            "  font.set_text(s, 0, flags=flags)\n",
            "/usr/local/lib/python3.7/dist-packages/matplotlib/backends/backend_agg.py:183: RuntimeWarning: Glyph 32467 missing from current font.\n",
            "  font.set_text(s, 0, flags=flags)\n",
            "/usr/local/lib/python3.7/dist-packages/matplotlib/backends/backend_agg.py:183: RuntimeWarning: Glyph 26524 missing from current font.\n",
            "  font.set_text(s, 0, flags=flags)\n",
            "/usr/local/lib/python3.7/dist-packages/matplotlib/backends/backend_agg.py:183: RuntimeWarning: Glyph 65292 missing from current font.\n",
            "  font.set_text(s, 0, flags=flags)\n",
            "/usr/local/lib/python3.7/dist-packages/matplotlib/backends/backend_agg.py:183: RuntimeWarning: Glyph 21518 missing from current font.\n",
            "  font.set_text(s, 0, flags=flags)\n"
          ]
        },
        {
          "output_type": "display_data",
          "data": {
            "text/plain": [
              "<Figure size 432x288 with 5 Axes>"
            ],
            "image/png": "[encoded data removed]"
          },
          "metadata": {
            "needs_background": "light"
          }
        }
      ]
    }
  ]
}